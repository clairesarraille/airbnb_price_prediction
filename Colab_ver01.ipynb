{
  "cells": [
    {
      "cell_type": "markdown",
      "metadata": {
        "colab_type": "text",
        "id": "view-in-github"
      },
      "source": [
        "<a href=\"https://colab.research.google.com/github/clairesarraille/airbnb_price_prediction/blob/main/data_cleaning_ver04.ipynb\" target=\"_parent\"><img src=\"https://colab.research.google.com/assets/colab-badge.svg\" alt=\"Open In Colab\"/></a>"
      ]
    },
    {
      "cell_type": "code",
      "execution_count": null,
      "metadata": {
        "colab": {
          "base_uri": "https://localhost:8080/"
        },
        "id": "WJ9-VkbksIpH",
        "outputId": "68190132-59e7-4cf0-b1ba-20502c451cbc"
      },
      "outputs": [
        {
          "data": {
            "text/plain": [
              "\"\\n# Mount Drive:\\nfrom google.colab import drive\\ndrive.mount('/content/drive')\\n#\""
            ]
          },
          "execution_count": 1,
          "metadata": {},
          "output_type": "execute_result"
        }
      ],
      "source": [
        "# Core Packages:\n",
        "import pandas as pd\n",
        "import pickle\n",
        "import numpy as np\n",
        "\n",
        "\"\"\"\n",
        "# Google Colab:\n",
        "### Print Dataframe like Spreadsheet!\n",
        "from google.colab import data_table\n",
        "data_table.enable_dataframe_formatter()\n",
        "#\"\"\"\n",
        "\n",
        "\"\"\"\n",
        "# Mount Drive:\n",
        "from google.colab import drive\n",
        "drive.mount('/content/drive')\n",
        "#\"\"\"\n",
        "\n"
      ]
    },
    {
      "cell_type": "markdown",
      "metadata": {
        "id": "X89XE1nsr-Vv"
      },
      "source": [
        "## Import CSV stored in GitHub to Google Colab\n",
        "- The remaining code must be executed in Google Colab and may require a professional subscription to run.\n",
        "- Code for importing csvs from GitHub to Google Colab:"
      ]
    },
    {
      "cell_type": "code",
      "execution_count": null,
      "metadata": {
        "id": "KpvuuZORuHvb"
      },
      "outputs": [],
      "source": [
        "# To get this URL, so to the csv file on GitHub, choose \"Blame\", and then click on the \"raw\" link\n",
        "url = 'https://media.githubusercontent.com/media/clairesarraille/airbnb_price_prediction/main/airbnb_data.csv?token=ARCBHGLTVY3OAQ27BXQQBRDFJPI4K'\n",
        "df = pd.read_csv(url)"
      ]
    },
    {
      "cell_type": "code",
      "execution_count": null,
      "metadata": {
        "id": "MIqi_ZswzzwT"
      },
      "outputs": [],
      "source": [
        "df[['price', 'id', 'host_location', 'room_type', 'neighbourhood_cleansed', 'city', 'state']][0:1000]\n"
      ]
    },
    {
      "cell_type": "code",
      "execution_count": null,
      "metadata": {
        "id": "cQz9Hdsqz_FH"
      },
      "outputs": [],
      "source": [
        "df.loc[df['city'] == 'Los-Angeles'].sort_values(by = 'id',ascending=False).head(3)"
      ]
    },
    {
      "cell_type": "code",
      "execution_count": null,
      "metadata": {
        "id": "Z5b0ojCt9z2T"
      },
      "outputs": [],
      "source": [
        "len(df)"
      ]
    },
    {
      "cell_type": "code",
      "execution_count": null,
      "metadata": {
        "id": "jW9IVrIh-AFr"
      },
      "outputs": [],
      "source": [
        "len(df[['id']].nunique())"
      ]
    },
    {
      "cell_type": "code",
      "execution_count": null,
      "metadata": {
        "id": "RFgxx1Vi-IHW"
      },
      "outputs": [],
      "source": [
        "df[['id']].nunique()"
      ]
    },
    {
      "cell_type": "code",
      "execution_count": null,
      "metadata": {
        "id": "GukBrIfl-LJt"
      },
      "outputs": [],
      "source": [
        "df[df.duplicated(['id'], keep=False)]"
      ]
    }
  ],
  "metadata": {
    "colab": {
      "include_colab_link": true,
      "provenance": []
    },
    "kernelspec": {
      "display_name": "Python 3",
      "name": "python3"
    },
    "language_info": {
      "codemirror_mode": {
        "name": "ipython",
        "version": 3
      },
      "file_extension": ".py",
      "mimetype": "text/x-python",
      "name": "python",
      "nbconvert_exporter": "python",
      "pygments_lexer": "ipython3",
      "version": "3.8.5"
    }
  },
  "nbformat": 4,
  "nbformat_minor": 0
}
