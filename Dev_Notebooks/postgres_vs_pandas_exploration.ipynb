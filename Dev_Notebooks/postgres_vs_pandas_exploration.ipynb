{
  "cells": [
    {
      "cell_type": "markdown",
      "metadata": {
        "colab_type": "text",
        "id": "view-in-github"
      },
      "source": [
        "<a href=\"https://colab.research.google.com/github/clairesarraille/airbnb_price_prediction/blob/main/dev_01.ipynb\" target=\"_parent\"><img src=\"https://colab.research.google.com/assets/colab-badge.svg\" alt=\"Open In Colab\"/></a>"
      ]
    },
    {
      "cell_type": "code",
      "execution_count": null,
      "metadata": {
        "id": "WJ9-VkbksIpH"
      },
      "outputs": [],
      "source": [
        "\n",
        "\n",
        "# Core Packages:\n",
        "import pandas as pd\n",
        "\n",
        "\"\"\"\n",
        "\n",
        "# Google Colab:\n",
        "from google.colab import data_table\n",
        "data_table.enable_dataframe_formatter()\n",
        "\n",
        "\"\"\"\n"
      ]
    },
    {
      "cell_type": "markdown",
      "metadata": {},
      "source": [
        "### Code for importing csvs from GitHub to Google Colab:\n",
        "- Alternative to importing straight from local drive"
      ]
    },
    {
      "cell_type": "code",
      "execution_count": null,
      "metadata": {
        "id": "8vToDcaksK3e"
      },
      "outputs": [],
      "source": [
        "# url = 'https://raw.githubusercontent.com/clairesarraille/airbnb_price_prediction/main/twin_cities_msa.csv'"
      ]
    },
    {
      "cell_type": "code",
      "execution_count": null,
      "metadata": {
        "id": "z2O1eUvTsSs_"
      },
      "outputs": [],
      "source": [
        "# df = pd.read_csv(url)\n"
      ]
    },
    {
      "cell_type": "markdown",
      "metadata": {},
      "source": [
        "## Use Google Colab's .DataTable to display Pandas dataframe:"
      ]
    },
    {
      "cell_type": "code",
      "execution_count": null,
      "metadata": {
        "colab": {
          "base_uri": "https://localhost:8080/",
          "height": 2033
        },
        "id": "_iKrS382sUow",
        "outputId": "ab9605e4-bd8c-4a3a-8733-369484a3a2f6"
      },
      "outputs": [],
      "source": [
        "#data_table.DataTable(df[['amenities', 'description']], include_index=False, num_rows_per_page=10)"
      ]
    },
    {
      "cell_type": "markdown",
      "metadata": {},
      "source": [
        "## Data Understanding:\n",
        "### City List:\n",
        "- Twin cities, Minnesota, Rhode Island, Newark, New York, New Orleans, Nashville, Jersey City, Hawaii, Fort Worth, Denver, Dallas, Columbus, Clark County NV, Chicago, Cambridge, Broward County FL, Bozeman Montana, Boston, Austin, Asheville, Washington DC, Seattle, Salem, Portland, Santa Cruz, Santa Clara, San Mateo, San Francisco, San Diego, Pacific Grove, Oakland, Los Angeles\n",
        "\n",
        "### CSV download and insertion of city/state columns:\n",
        "- Downloaded all city \"listing\" files from above\n",
        "- inserted city and state columns from meta-data for each csv\n",
        "- created list of column names formatted correctly with Vim text editing"
      ]
    },
    {
      "cell_type": "code",
      "execution_count": null,
      "metadata": {},
      "outputs": [],
      "source": []
    },
    {
      "cell_type": "code",
      "execution_count": null,
      "metadata": {},
      "outputs": [],
      "source": [
        "## Code Bank:\n",
        "\"\"\"\n",
        "col_list_dt = [col + ' text' for col in col_list]\n",
        "col_string = ''.join(str(col) + ', ' for col in col_list_dt)\n",
        "\n",
        "\"\"\"\n"
      ]
    },
    {
      "cell_type": "markdown",
      "metadata": {},
      "source": [
        "# Create Single .csv for import to PostgreSQL:"
      ]
    },
    {
      "cell_type": "code",
      "execution_count": null,
      "metadata": {},
      "outputs": [],
      "source": [
        "# Import CSVs:\n",
        "import os\n",
        "import glob\n",
        "os.chdir('/Users/claire/git/flatiron/capstone/airbnb_price_prediction/data')\n",
        "\n",
        "# Define file extension name for concatenating to string defined by '*.' in regular expression below\n",
        "file_ext = 'csv'\n",
        "\n",
        "# Create list of files names in directory defined with os.chdir() argument above\n",
        "filenames = [i for i in glob.glob('*.{}'.format(file_ext))]"
      ]
    },
    {
      "cell_type": "code",
      "execution_count": null,
      "metadata": {},
      "outputs": [],
      "source": [
        "# Read in all csvs using pd.read_csv() by iterating through list of file names\n",
        "airbnb_data = pd.concat([pd.read_csv(name) for name in filenames ])"
      ]
    },
    {
      "cell_type": "code",
      "execution_count": null,
      "metadata": {},
      "outputs": [],
      "source": [
        "airbnb_data.describe()"
      ]
    },
    {
      "cell_type": "code",
      "execution_count": null,
      "metadata": {},
      "outputs": [],
      "source": [
        "#inspect_la_id = airbnb_data[['id', 'city', 'state']]"
      ]
    },
    {
      "cell_type": "code",
      "execution_count": null,
      "metadata": {},
      "outputs": [],
      "source": [
        "#airbnb_data[['city']].nunique()"
      ]
    },
    {
      "cell_type": "code",
      "execution_count": null,
      "metadata": {},
      "outputs": [],
      "source": [
        "#inspect_la_id.loc[inspect_la_id['city'] == 'San Francisco'].head(20)"
      ]
    },
    {
      "cell_type": "code",
      "execution_count": null,
      "metadata": {},
      "outputs": [],
      "source": [
        "airbnb_data.sort_values(by = 'id',ascending=False).head()"
      ]
    },
    {
      "cell_type": "code",
      "execution_count": null,
      "metadata": {},
      "outputs": [],
      "source": [
        "print(f\"Unique number of citites in this dataset: {len(airbnb_data['city'].unique())}\")\n",
        "print()\n",
        "for city in airbnb_data['city'].unique():\n",
        "    print(city)\n"
      ]
    },
    {
      "cell_type": "code",
      "execution_count": null,
      "metadata": {},
      "outputs": [],
      "source": [
        "# Export \n",
        "airbnb_data.to_csv('airbnb_data.csv', index=False, encoding='utf-8-sig')"
      ]
    },
    {
      "cell_type": "code",
      "execution_count": null,
      "metadata": {},
      "outputs": [],
      "source": [
        "airbnb_data"
      ]
    },
    {
      "cell_type": "markdown",
      "metadata": {},
      "source": [
        "# Import Data into PostgreSQL:"
      ]
    },
    {
      "cell_type": "markdown",
      "metadata": {},
      "source": [
        "### Generate \"Create Table\" statement for PostgreSQL using columns in list:"
      ]
    },
    {
      "cell_type": "code",
      "execution_count": null,
      "metadata": {},
      "outputs": [],
      "source": [
        "# Create list of columns:\n",
        "cols = airbnb_data.columns\n",
        "col_list = cols.to_list()"
      ]
    },
    {
      "cell_type": "markdown",
      "metadata": {},
      "source": [
        "### Extract Column names and munge into `CREATE TABLE` statement:"
      ]
    },
    {
      "cell_type": "code",
      "execution_count": null,
      "metadata": {},
      "outputs": [],
      "source": [
        "# Generate list of columns suffixed with \" text, \"\n",
        "# We will import each column into postgres as text datatype for simplicity\n",
        "index = 0\n",
        "col_string = ''\n",
        "\n",
        "# Append each item in list to empty string \"col_string\" EXCEPT the last item in list\n",
        "while index < len(col_list) - 1:\n",
        "    #col_string.join(col_string + str(col_list_dt[index]) + ' text,')\n",
        "    col_string += str(col_list[index]) + ' text,'\n",
        "    index += 1\n",
        "    \n",
        "# Append last item in list but without the \", \"\n",
        "col_string = 'CREATE TABLE raw_data (' + col_string + str(col_list[-1]) + ' text)'\n",
        "\n",
        "\n",
        "col_string"
      ]
    }
  ],
  "metadata": {
    "colab": {
      "include_colab_link": true,
      "provenance": []
    },
    "kernelspec": {
      "display_name": "Python 3",
      "name": "python3"
    },
    "language_info": {
      "codemirror_mode": {
        "name": "ipython",
        "version": 3
      },
      "file_extension": ".py",
      "mimetype": "text/x-python",
      "name": "python",
      "nbconvert_exporter": "python",
      "pygments_lexer": "ipython3",
      "version": "3.8.5"
    }
  },
  "nbformat": 4,
  "nbformat_minor": 0
}
