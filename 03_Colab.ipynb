{
  "cells": [
    {
      "cell_type": "markdown",
      "metadata": {
        "id": "view-in-github",
        "colab_type": "text"
      },
      "source": [
        "<a href=\"https://colab.research.google.com/github/clairesarraille/airbnb_price_prediction/blob/main/03_Colab.ipynb\" target=\"_parent\"><img src=\"https://colab.research.google.com/assets/colab-badge.svg\" alt=\"Open In Colab\"/></a>"
      ]
    },
    {
      "cell_type": "markdown",
      "source": [
        "# Code Bank"
      ],
      "metadata": {
        "id": "XC4y5pV-Acxe"
      }
    },
    {
      "cell_type": "code",
      "source": [
        "# Code Bank:\n",
        "\"\"\"\n",
        "drop_for_pipeline = ['desc_polarity', 'desc_subjectivity']\n",
        "df.drop(drop_for_pipeline, axis=1, inplace=True)\n",
        "\n",
        "\n",
        "\"\"\""
      ],
      "metadata": {
        "id": "SDdmxkVu-vP3",
        "outputId": "2f2066a2-feaa-49b8-de24-6d0b28d78911",
        "colab": {
          "base_uri": "https://localhost:8080/",
          "height": 35
        }
      },
      "execution_count": 152,
      "outputs": [
        {
          "output_type": "execute_result",
          "data": {
            "text/plain": [
              "\"\\ndrop_for_pipeline = ['desc_polarity', 'desc_subjectivity']\\ndf.drop(drop_for_pipeline, axis=1, inplace=True)\\n\\n\\n\""
            ],
            "application/vnd.google.colaboratory.intrinsic+json": {
              "type": "string"
            }
          },
          "metadata": {},
          "execution_count": 152
        }
      ]
    },
    {
      "cell_type": "markdown",
      "metadata": {
        "id": "oE1uOKesNit9"
      },
      "source": [
        "# Import Packages"
      ]
    },
    {
      "cell_type": "code",
      "execution_count": 43,
      "metadata": {
        "colab": {
          "base_uri": "https://localhost:8080/"
        },
        "id": "C4pmVLjFNit_",
        "outputId": "1f049461-7e7e-41bc-9aab-d9d21516b0cc"
      },
      "outputs": [
        {
          "output_type": "stream",
          "name": "stdout",
          "text": [
            "Drive already mounted at /content/drive; to attempt to forcibly remount, call drive.mount(\"/content/drive\", force_remount=True).\n"
          ]
        }
      ],
      "source": [
        "# Core Packages:\n",
        "import pandas as pd\n",
        "from pandas import DataFrame\n",
        "import pickle\n",
        "import numpy as np\n",
        "from numpy import unique\n",
        "from numpy import arange\n",
        "from matplotlib import pyplot\n",
        "import re\n",
        "import os\n",
        "import warnings\n",
        "warnings.filterwarnings('ignore')\n",
        "\n",
        "#\"\"\"\n",
        "# Google Colab:\n",
        "### Print Dataframe like Spreadsheet!\n",
        "from google.colab import data_table\n",
        "data_table.enable_dataframe_formatter()\n",
        "#\"\"\"\n",
        "\n",
        "#\"\"\"\n",
        "# Mount Drive:\n",
        "from google.colab import drive\n",
        "drive.mount('/content/drive')\n",
        "#\"\"\"\n",
        "\n",
        "## Visualization Libraries\n",
        "import matplotlib.pyplot as plt\n",
        "import seaborn as sns\n",
        "%matplotlib inline\n",
        "\n",
        "## Pre-processing Libraries:\n",
        "from sklearn.preprocessing import OneHotEncoder, StandardScaler\n",
        "from sklearn.impute import SimpleImputer\n",
        "from sklearn.dummy import DummyRegressor\n",
        "from sklearn.pipeline import Pipeline\n",
        "from sklearn.compose import ColumnTransformer, make_column_selector as selector\n",
        "from imblearn.over_sampling import SMOTE\n",
        "from imblearn.pipeline import Pipeline as ImPipeline\n",
        "\n",
        "## Modeling Libraries:\n",
        "from pandas.plotting import scatter_matrix\n",
        "from sklearn.preprocessing import StandardScaler\n",
        "from sklearn.model_selection import train_test_split\n",
        "from sklearn.model_selection import KFold\n",
        "from sklearn.model_selection import cross_val_score\n",
        "from sklearn.model_selection import GridSearchCV\n",
        "from sklearn.linear_model import LinearRegression\n",
        "from sklearn.linear_model import Lasso\n",
        "from sklearn.linear_model import ElasticNet\n",
        "from sklearn.tree import DecisionTreeRegressor\n",
        "from sklearn.neighbors import KNeighborsRegressor\n",
        "from sklearn.svm import SVR\n",
        "from sklearn.pipeline import Pipeline\n",
        "from sklearn.ensemble import RandomForestRegressor\n",
        "from sklearn.ensemble import GradientBoostingRegressor\n",
        "from sklearn.ensemble import ExtraTreesRegressor\n",
        "from sklearn.ensemble import AdaBoostRegressor\n",
        "from sklearn.metrics import mean_squared_error\n",
        "from sklearn import linear_model\n",
        "import textblob\n",
        "from textblob import TextBlob\n",
        "\n",
        "## Validation Libraries\n",
        "from sklearn.model_selection import train_test_split, GridSearchCV, cross_val_score\n",
        "from sklearn.model_selection import train_test_split, cross_val_score, cross_validate, GridSearchCV\n",
        "#from sklearn.metrics import plot_confusion_matrix\n",
        "from sklearn.metrics import log_loss\n",
        "\n",
        "## Warning Libraries\n",
        "# Hides warnings\n",
        "#import warnings\n",
        "#from pandas.core.common import SettingWithCopyWarning\n",
        "#warnings.simplefilter(action='ignore', category=SettingWithCopyWarning)\n",
        "#warnings.filterwarnings(action='ignore',module='sklearn')"
      ]
    },
    {
      "cell_type": "code",
      "execution_count": 2,
      "metadata": {
        "id": "DWbfOcWDNiuB"
      },
      "outputs": [],
      "source": [
        "#df_pristine = pd.read_pickle(\"/content/drive/MyDrive/capstone_data/ready_for_modeling.pkl\")\n",
        "#df = df_pristine.copy()"
      ]
    },
    {
      "cell_type": "markdown",
      "source": [
        "# NLP Pre-Processing: Polarity and Subjectivity on `description`, `neighborhood_overview` and `host_about` columns"
      ],
      "metadata": {
        "id": "F_kfQrCrW_X4"
      }
    },
    {
      "cell_type": "markdown",
      "source": [
        "## Description"
      ],
      "metadata": {
        "id": "gKyXGge8X1NU"
      }
    },
    {
      "cell_type": "code",
      "source": [
        "\"\"\"\n",
        "df['description'] = df['description'].fillna('')\n",
        "df['desc_polarity'] = df['description'].apply(lambda text: TextBlob(text).polarity)\n",
        "df['desc_subjectivity'] = df['description'].apply(lambda text: TextBlob(text).subjectivity)\n",
        "\"\"\""
      ],
      "metadata": {
        "id": "RsdE4-lVU5_H"
      },
      "execution_count": 3,
      "outputs": []
    },
    {
      "cell_type": "markdown",
      "source": [
        "## Neighborhood Overview"
      ],
      "metadata": {
        "id": "cQApsyp2hkyq"
      }
    },
    {
      "cell_type": "code",
      "source": [
        "\"\"\"\n",
        "df['neighborhood_overview'] = df['neighborhood_overview'].fillna('')\n",
        "df['neigh_over_polarity'] = df['neighborhood_overview'].apply(lambda text: TextBlob(text).polarity)\n",
        "df['neigh_over_subjectivity'] = df['neighborhood_overview'].apply(lambda text: TextBlob(text).subjectivity)\n",
        "\"\"\""
      ],
      "metadata": {
        "id": "0mKbrJgJ5Rei"
      },
      "execution_count": 5,
      "outputs": []
    },
    {
      "cell_type": "markdown",
      "source": [
        "## Host About"
      ],
      "metadata": {
        "id": "SrlE7FyJiSox"
      }
    },
    {
      "cell_type": "code",
      "source": [
        "\"\"\"\n",
        "df['host_about'] = df['host_about'].fillna('')\n",
        "df['host_about_polarity'] = df['host_about'].apply(lambda text: TextBlob(text).polarity)\n",
        "df['host_about_subjectivity'] = df['host_about'].apply(lambda text: TextBlob(text).subjectivity)\n",
        "\"\"\""
      ],
      "metadata": {
        "id": "7hibPF72iWpI"
      },
      "execution_count": 6,
      "outputs": []
    },
    {
      "cell_type": "markdown",
      "source": [
        "## Pickled df having desc. polarity and subjectivity"
      ],
      "metadata": {
        "id": "94xJN_4D1Wxd"
      }
    },
    {
      "cell_type": "code",
      "source": [
        "#df.to_pickle('desc_nlp_done.pkl')"
      ],
      "metadata": {
        "id": "KLVucar01Shi"
      },
      "execution_count": 7,
      "outputs": []
    },
    {
      "cell_type": "markdown",
      "source": [
        "## Read in pickled dataframe that has NLP columns for description:"
      ],
      "metadata": {
        "id": "ve9rHsb65Dr8"
      }
    },
    {
      "cell_type": "code",
      "source": [
        "# Read in dataframe with NLP column for description:\n",
        "df_nlp_done = pd.read_pickle(\"/content/drive/MyDrive/capstone_data/desc_nlp_done.pkl\")"
      ],
      "metadata": {
        "id": "C_X2zdIJ4oTV"
      },
      "execution_count": 11,
      "outputs": []
    },
    {
      "cell_type": "code",
      "source": [
        "df = df_nlp_done.copy()"
      ],
      "metadata": {
        "id": "KNjXtWzew1Jg"
      },
      "execution_count": 12,
      "outputs": []
    },
    {
      "cell_type": "code",
      "source": [
        "df.info()"
      ],
      "metadata": {
        "colab": {
          "base_uri": "https://localhost:8080/"
        },
        "id": "kVvyKg5rN06e",
        "outputId": "dfae2a7f-ca9d-4309-d527-a7de527fa15d"
      },
      "execution_count": 13,
      "outputs": [
        {
          "output_type": "stream",
          "name": "stdout",
          "text": [
            "<class 'pandas.core.frame.DataFrame'>\n",
            "RangeIndex: 274958 entries, 0 to 274957\n",
            "Data columns (total 34 columns):\n",
            " #   Column                   Non-Null Count   Dtype  \n",
            "---  ------                   --------------   -----  \n",
            " 0   description              274958 non-null  object \n",
            " 1   neighborhood_overview    274958 non-null  object \n",
            " 2   host_about               274958 non-null  object \n",
            " 3   host_has_profile_pic     274958 non-null  int64  \n",
            " 4   host_identity_verified   274958 non-null  int64  \n",
            " 5   latitude                 274958 non-null  float64\n",
            " 6   longitude                274958 non-null  float64\n",
            " 7   property_type            274958 non-null  object \n",
            " 8   room_type                274958 non-null  object \n",
            " 9   accommodates             274958 non-null  int64  \n",
            " 10  bedrooms                 205357 non-null  float64\n",
            " 11  beds                     272084 non-null  float64\n",
            " 12  price                    274958 non-null  float64\n",
            " 13  minimum_nights           274958 non-null  int64  \n",
            " 14  maximum_nights           274958 non-null  int64  \n",
            " 15  instant_bookable         274958 non-null  int64  \n",
            " 16  city                     274958 non-null  object \n",
            " 17  state                    274958 non-null  object \n",
            " 18  license_bool             274958 non-null  int64  \n",
            " 19  bathrooms                274616 non-null  float64\n",
            " 20  is_shared_bathroom       274958 non-null  int64  \n",
            " 21  amenities_keep           274594 non-null  object \n",
            " 22  air_conditioning         274958 non-null  int64  \n",
            " 23  kitchen                  274958 non-null  int64  \n",
            " 24  wifi                     274958 non-null  int64  \n",
            " 25  free_park_prem           274958 non-null  int64  \n",
            " 26  pets_allowed             274958 non-null  int64  \n",
            " 27  pool                     274958 non-null  int64  \n",
            " 28  desc_polarity            274958 non-null  float64\n",
            " 29  desc_subjectivity        274958 non-null  float64\n",
            " 30  neigh_over_polarity      274958 non-null  float64\n",
            " 31  neigh_over_subjectivity  274958 non-null  float64\n",
            " 32  host_about_polarity      274958 non-null  float64\n",
            " 33  host_about_subjectivity  274958 non-null  float64\n",
            "dtypes: float64(12), int64(14), object(8)\n",
            "memory usage: 71.3+ MB\n"
          ]
        }
      ]
    },
    {
      "cell_type": "markdown",
      "source": [
        "# Create df for pipeline:\n",
        "- Drop:\n",
        "  - Free text columns we already converted to polarity and subjectivity:\n",
        "    - `'description', 'neighborhood_overview', 'host_about'`\n",
        "  - `amenities_keep` (the list of amenities we already transformed to boolean columns"
      ],
      "metadata": {
        "id": "s25wzuhReEvF"
      }
    },
    {
      "cell_type": "code",
      "source": [
        "df = df.drop(['description', 'neighborhood_overview', 'host_about', 'amenities_keep'], axis=1)"
      ],
      "metadata": {
        "id": "fnCqqoB9Alpm"
      },
      "execution_count": 14,
      "outputs": []
    },
    {
      "cell_type": "code",
      "source": [
        "df.info()"
      ],
      "metadata": {
        "id": "5cTbrwGqx2eL",
        "outputId": "1aad649c-927d-49b3-9df1-f4904ba39cda",
        "colab": {
          "base_uri": "https://localhost:8080/"
        }
      },
      "execution_count": 17,
      "outputs": [
        {
          "output_type": "stream",
          "name": "stdout",
          "text": [
            "<class 'pandas.core.frame.DataFrame'>\n",
            "RangeIndex: 274958 entries, 0 to 274957\n",
            "Data columns (total 30 columns):\n",
            " #   Column                   Non-Null Count   Dtype  \n",
            "---  ------                   --------------   -----  \n",
            " 0   host_has_profile_pic     274958 non-null  int64  \n",
            " 1   host_identity_verified   274958 non-null  int64  \n",
            " 2   latitude                 274958 non-null  float64\n",
            " 3   longitude                274958 non-null  float64\n",
            " 4   property_type            274958 non-null  object \n",
            " 5   room_type                274958 non-null  object \n",
            " 6   accommodates             274958 non-null  int64  \n",
            " 7   bedrooms                 205357 non-null  float64\n",
            " 8   beds                     272084 non-null  float64\n",
            " 9   price                    274958 non-null  float64\n",
            " 10  minimum_nights           274958 non-null  int64  \n",
            " 11  maximum_nights           274958 non-null  int64  \n",
            " 12  instant_bookable         274958 non-null  int64  \n",
            " 13  city                     274958 non-null  object \n",
            " 14  state                    274958 non-null  object \n",
            " 15  license_bool             274958 non-null  int64  \n",
            " 16  bathrooms                274616 non-null  float64\n",
            " 17  is_shared_bathroom       274958 non-null  int64  \n",
            " 18  air_conditioning         274958 non-null  int64  \n",
            " 19  kitchen                  274958 non-null  int64  \n",
            " 20  wifi                     274958 non-null  int64  \n",
            " 21  free_park_prem           274958 non-null  int64  \n",
            " 22  pets_allowed             274958 non-null  int64  \n",
            " 23  pool                     274958 non-null  int64  \n",
            " 24  desc_polarity            274958 non-null  float64\n",
            " 25  desc_subjectivity        274958 non-null  float64\n",
            " 26  neigh_over_polarity      274958 non-null  float64\n",
            " 27  neigh_over_subjectivity  274958 non-null  float64\n",
            " 28  host_about_polarity      274958 non-null  float64\n",
            " 29  host_about_subjectivity  274958 non-null  float64\n",
            "dtypes: float64(12), int64(14), object(4)\n",
            "memory usage: 62.9+ MB\n"
          ]
        }
      ]
    },
    {
      "cell_type": "markdown",
      "source": [
        "# Inspect Columns to OHE"
      ],
      "metadata": {
        "id": "pc2H5YbRfbMt"
      }
    },
    {
      "cell_type": "markdown",
      "source": [
        "## Categorical Columns:"
      ],
      "metadata": {
        "id": "p7EbaBdrxsQU"
      }
    },
    {
      "cell_type": "code",
      "source": [
        "data_table.enable_dataframe_formatter()\n",
        "cat_cols = []\n",
        "for col in range(df.shape[1]):\n",
        "  if df[df.columns[col]].dtypes == 'object':\n",
        "    cat_cols.append(df.columns[col])\n",
        "print(\"Categorical Columns\")\n",
        "print()\n",
        "for col in cat_cols:\n",
        "  print(col)\n",
        "cat_df = df[cat_cols]\n",
        "print()\n",
        "cat_df.apply(lambda cat_df: cat_df.sample(5, random_state=0))"
      ],
      "metadata": {
        "id": "2Q1pEf6OeyPB"
      },
      "execution_count": null,
      "outputs": []
    },
    {
      "cell_type": "code",
      "source": [
        "# There are no nulls in the categorical columns\n",
        "df[cat_cols].info()"
      ],
      "metadata": {
        "id": "rPLbF_iA3yc_",
        "outputId": "688d4e13-dd38-4604-f5c7-634d90fdb42b",
        "colab": {
          "base_uri": "https://localhost:8080/"
        }
      },
      "execution_count": 39,
      "outputs": [
        {
          "output_type": "stream",
          "name": "stdout",
          "text": [
            "<class 'pandas.core.frame.DataFrame'>\n",
            "RangeIndex: 274958 entries, 0 to 274957\n",
            "Data columns (total 4 columns):\n",
            " #   Column         Non-Null Count   Dtype \n",
            "---  ------         --------------   ----- \n",
            " 0   property_type  274958 non-null  object\n",
            " 1   room_type      274958 non-null  object\n",
            " 2   city           274958 non-null  object\n",
            " 3   state          274958 non-null  object\n",
            "dtypes: object(4)\n",
            "memory usage: 8.4+ MB\n"
          ]
        }
      ]
    },
    {
      "cell_type": "code",
      "source": [
        "DataFrame(df['property_type'].value_counts())"
      ],
      "metadata": {
        "id": "-6J8n7jWBANv"
      },
      "execution_count": null,
      "outputs": []
    },
    {
      "cell_type": "code",
      "source": [
        "DataFrame(df['room_type'].value_counts())"
      ],
      "metadata": {
        "id": "O_6qM0vtf-RE"
      },
      "execution_count": null,
      "outputs": []
    },
    {
      "cell_type": "code",
      "source": [
        "DataFrame(df['city'].value_counts())"
      ],
      "metadata": {
        "id": "Smot7qvP0C5v"
      },
      "execution_count": null,
      "outputs": []
    },
    {
      "cell_type": "code",
      "source": [
        "DataFrame(df['state'].value_counts())"
      ],
      "metadata": {
        "id": "k1Vxmj520EvW"
      },
      "execution_count": null,
      "outputs": []
    },
    {
      "cell_type": "markdown",
      "source": [
        "## Boolean Columns:"
      ],
      "metadata": {
        "id": "8veucAaw0eRq"
      }
    },
    {
      "cell_type": "code",
      "source": [
        "bool_cols = []\n",
        "for col in range(df.shape[1]):\n",
        "  nunique_vals = df.iloc[:,col].nunique()\n",
        "  if nunique_vals == 2:\n",
        "    bool_cols.append(df.columns[col])\n",
        "print(\"Boolean Columns\")\n",
        "print()\n",
        "for col in bool_cols:\n",
        "  print(col)\n",
        "bool_df = df[bool_cols]\n",
        "print()\n",
        "bool_df.apply(lambda bool_df: bool_df.sample(5, random_state=0))"
      ],
      "metadata": {
        "colab": {
          "base_uri": "https://localhost:8080/",
          "height": 472
        },
        "id": "FdpXmBm-zt2w",
        "outputId": "7525b015-1dea-4abb-dba6-0b4cc6eef0fe"
      },
      "execution_count": 37,
      "outputs": [
        {
          "output_type": "stream",
          "name": "stdout",
          "text": [
            "Boolean Columns\n",
            "\n",
            "host_has_profile_pic\n",
            "host_identity_verified\n",
            "instant_bookable\n",
            "license_bool\n",
            "is_shared_bathroom\n",
            "air_conditioning\n",
            "kitchen\n",
            "wifi\n",
            "free_park_prem\n",
            "pets_allowed\n",
            "pool\n",
            "\n"
          ]
        },
        {
          "output_type": "execute_result",
          "data": {
            "text/plain": [
              "        host_has_profile_pic  host_identity_verified  instant_bookable  \\\n",
              "114282                     1                       1                 1   \n",
              "119428                     1                       1                 0   \n",
              "269296                     1                       1                 1   \n",
              "196869                     1                       1                 0   \n",
              "215411                     1                       1                 1   \n",
              "\n",
              "        license_bool  is_shared_bathroom  air_conditioning  kitchen  wifi  \\\n",
              "114282             0                   0                 1        1     1   \n",
              "119428             0                   0                 1        1     1   \n",
              "269296             0                   0                 1        0     1   \n",
              "196869             0                   0                 1        1     1   \n",
              "215411             1                   0                 1        1     1   \n",
              "\n",
              "        free_park_prem  pets_allowed  pool  \n",
              "114282               1             0     1  \n",
              "119428               0             0     0  \n",
              "269296               0             0     1  \n",
              "196869               1             0     0  \n",
              "215411               1             1     0  "
            ],
            "text/html": [
              "\n",
              "  <div id=\"df-081e7f86-68ab-4530-b8f0-9d80ff5de1ca\" class=\"colab-df-container\">\n",
              "    <div>\n",
              "<style scoped>\n",
              "    .dataframe tbody tr th:only-of-type {\n",
              "        vertical-align: middle;\n",
              "    }\n",
              "\n",
              "    .dataframe tbody tr th {\n",
              "        vertical-align: top;\n",
              "    }\n",
              "\n",
              "    .dataframe thead th {\n",
              "        text-align: right;\n",
              "    }\n",
              "</style>\n",
              "<table border=\"1\" class=\"dataframe\">\n",
              "  <thead>\n",
              "    <tr style=\"text-align: right;\">\n",
              "      <th></th>\n",
              "      <th>host_has_profile_pic</th>\n",
              "      <th>host_identity_verified</th>\n",
              "      <th>instant_bookable</th>\n",
              "      <th>license_bool</th>\n",
              "      <th>is_shared_bathroom</th>\n",
              "      <th>air_conditioning</th>\n",
              "      <th>kitchen</th>\n",
              "      <th>wifi</th>\n",
              "      <th>free_park_prem</th>\n",
              "      <th>pets_allowed</th>\n",
              "      <th>pool</th>\n",
              "    </tr>\n",
              "  </thead>\n",
              "  <tbody>\n",
              "    <tr>\n",
              "      <th>114282</th>\n",
              "      <td>1</td>\n",
              "      <td>1</td>\n",
              "      <td>1</td>\n",
              "      <td>0</td>\n",
              "      <td>0</td>\n",
              "      <td>1</td>\n",
              "      <td>1</td>\n",
              "      <td>1</td>\n",
              "      <td>1</td>\n",
              "      <td>0</td>\n",
              "      <td>1</td>\n",
              "    </tr>\n",
              "    <tr>\n",
              "      <th>119428</th>\n",
              "      <td>1</td>\n",
              "      <td>1</td>\n",
              "      <td>0</td>\n",
              "      <td>0</td>\n",
              "      <td>0</td>\n",
              "      <td>1</td>\n",
              "      <td>1</td>\n",
              "      <td>1</td>\n",
              "      <td>0</td>\n",
              "      <td>0</td>\n",
              "      <td>0</td>\n",
              "    </tr>\n",
              "    <tr>\n",
              "      <th>269296</th>\n",
              "      <td>1</td>\n",
              "      <td>1</td>\n",
              "      <td>1</td>\n",
              "      <td>0</td>\n",
              "      <td>0</td>\n",
              "      <td>1</td>\n",
              "      <td>0</td>\n",
              "      <td>1</td>\n",
              "      <td>0</td>\n",
              "      <td>0</td>\n",
              "      <td>1</td>\n",
              "    </tr>\n",
              "    <tr>\n",
              "      <th>196869</th>\n",
              "      <td>1</td>\n",
              "      <td>1</td>\n",
              "      <td>0</td>\n",
              "      <td>0</td>\n",
              "      <td>0</td>\n",
              "      <td>1</td>\n",
              "      <td>1</td>\n",
              "      <td>1</td>\n",
              "      <td>1</td>\n",
              "      <td>0</td>\n",
              "      <td>0</td>\n",
              "    </tr>\n",
              "    <tr>\n",
              "      <th>215411</th>\n",
              "      <td>1</td>\n",
              "      <td>1</td>\n",
              "      <td>1</td>\n",
              "      <td>1</td>\n",
              "      <td>0</td>\n",
              "      <td>1</td>\n",
              "      <td>1</td>\n",
              "      <td>1</td>\n",
              "      <td>1</td>\n",
              "      <td>1</td>\n",
              "      <td>0</td>\n",
              "    </tr>\n",
              "  </tbody>\n",
              "</table>\n",
              "</div>\n",
              "    <div class=\"colab-df-buttons\">\n",
              "\n",
              "  <div class=\"colab-df-container\">\n",
              "    <button class=\"colab-df-convert\" onclick=\"convertToInteractive('df-081e7f86-68ab-4530-b8f0-9d80ff5de1ca')\"\n",
              "            title=\"Convert this dataframe to an interactive table.\"\n",
              "            style=\"display:none;\">\n",
              "\n",
              "  <svg xmlns=\"http://www.w3.org/2000/svg\" height=\"24px\" viewBox=\"0 -960 960 960\">\n",
              "    <path d=\"M120-120v-720h720v720H120Zm60-500h600v-160H180v160Zm220 220h160v-160H400v160Zm0 220h160v-160H400v160ZM180-400h160v-160H180v160Zm440 0h160v-160H620v160ZM180-180h160v-160H180v160Zm440 0h160v-160H620v160Z\"/>\n",
              "  </svg>\n",
              "    </button>\n",
              "\n",
              "  <style>\n",
              "    .colab-df-container {\n",
              "      display:flex;\n",
              "      gap: 12px;\n",
              "    }\n",
              "\n",
              "    .colab-df-convert {\n",
              "      background-color: #E8F0FE;\n",
              "      border: none;\n",
              "      border-radius: 50%;\n",
              "      cursor: pointer;\n",
              "      display: none;\n",
              "      fill: #1967D2;\n",
              "      height: 32px;\n",
              "      padding: 0 0 0 0;\n",
              "      width: 32px;\n",
              "    }\n",
              "\n",
              "    .colab-df-convert:hover {\n",
              "      background-color: #E2EBFA;\n",
              "      box-shadow: 0px 1px 2px rgba(60, 64, 67, 0.3), 0px 1px 3px 1px rgba(60, 64, 67, 0.15);\n",
              "      fill: #174EA6;\n",
              "    }\n",
              "\n",
              "    .colab-df-buttons div {\n",
              "      margin-bottom: 4px;\n",
              "    }\n",
              "\n",
              "    [theme=dark] .colab-df-convert {\n",
              "      background-color: #3B4455;\n",
              "      fill: #D2E3FC;\n",
              "    }\n",
              "\n",
              "    [theme=dark] .colab-df-convert:hover {\n",
              "      background-color: #434B5C;\n",
              "      box-shadow: 0px 1px 3px 1px rgba(0, 0, 0, 0.15);\n",
              "      filter: drop-shadow(0px 1px 2px rgba(0, 0, 0, 0.3));\n",
              "      fill: #FFFFFF;\n",
              "    }\n",
              "  </style>\n",
              "\n",
              "    <script>\n",
              "      const buttonEl =\n",
              "        document.querySelector('#df-081e7f86-68ab-4530-b8f0-9d80ff5de1ca button.colab-df-convert');\n",
              "      buttonEl.style.display =\n",
              "        google.colab.kernel.accessAllowed ? 'block' : 'none';\n",
              "\n",
              "      async function convertToInteractive(key) {\n",
              "        const element = document.querySelector('#df-081e7f86-68ab-4530-b8f0-9d80ff5de1ca');\n",
              "        const dataTable =\n",
              "          await google.colab.kernel.invokeFunction('convertToInteractive',\n",
              "                                                    [key], {});\n",
              "        if (!dataTable) return;\n",
              "\n",
              "        const docLinkHtml = 'Like what you see? Visit the ' +\n",
              "          '<a target=\"_blank\" href=https://colab.research.google.com/notebooks/data_table.ipynb>data table notebook</a>'\n",
              "          + ' to learn more about interactive tables.';\n",
              "        element.innerHTML = '';\n",
              "        dataTable['output_type'] = 'display_data';\n",
              "        await google.colab.output.renderOutput(dataTable, element);\n",
              "        const docLink = document.createElement('div');\n",
              "        docLink.innerHTML = docLinkHtml;\n",
              "        element.appendChild(docLink);\n",
              "      }\n",
              "    </script>\n",
              "  </div>\n",
              "\n",
              "\n",
              "<div id=\"df-505e39a0-680b-46f4-ade5-fa37a9becd1b\">\n",
              "  <button class=\"colab-df-quickchart\" onclick=\"quickchart('df-505e39a0-680b-46f4-ade5-fa37a9becd1b')\"\n",
              "            title=\"Suggest charts\"\n",
              "            style=\"display:none;\">\n",
              "\n",
              "<svg xmlns=\"http://www.w3.org/2000/svg\" height=\"24px\"viewBox=\"0 0 24 24\"\n",
              "     width=\"24px\">\n",
              "    <g>\n",
              "        <path d=\"M19 3H5c-1.1 0-2 .9-2 2v14c0 1.1.9 2 2 2h14c1.1 0 2-.9 2-2V5c0-1.1-.9-2-2-2zM9 17H7v-7h2v7zm4 0h-2V7h2v10zm4 0h-2v-4h2v4z\"/>\n",
              "    </g>\n",
              "</svg>\n",
              "  </button>\n",
              "\n",
              "<style>\n",
              "  .colab-df-quickchart {\n",
              "      --bg-color: #E8F0FE;\n",
              "      --fill-color: #1967D2;\n",
              "      --hover-bg-color: #E2EBFA;\n",
              "      --hover-fill-color: #174EA6;\n",
              "      --disabled-fill-color: #AAA;\n",
              "      --disabled-bg-color: #DDD;\n",
              "  }\n",
              "\n",
              "  [theme=dark] .colab-df-quickchart {\n",
              "      --bg-color: #3B4455;\n",
              "      --fill-color: #D2E3FC;\n",
              "      --hover-bg-color: #434B5C;\n",
              "      --hover-fill-color: #FFFFFF;\n",
              "      --disabled-bg-color: #3B4455;\n",
              "      --disabled-fill-color: #666;\n",
              "  }\n",
              "\n",
              "  .colab-df-quickchart {\n",
              "    background-color: var(--bg-color);\n",
              "    border: none;\n",
              "    border-radius: 50%;\n",
              "    cursor: pointer;\n",
              "    display: none;\n",
              "    fill: var(--fill-color);\n",
              "    height: 32px;\n",
              "    padding: 0;\n",
              "    width: 32px;\n",
              "  }\n",
              "\n",
              "  .colab-df-quickchart:hover {\n",
              "    background-color: var(--hover-bg-color);\n",
              "    box-shadow: 0 1px 2px rgba(60, 64, 67, 0.3), 0 1px 3px 1px rgba(60, 64, 67, 0.15);\n",
              "    fill: var(--button-hover-fill-color);\n",
              "  }\n",
              "\n",
              "  .colab-df-quickchart-complete:disabled,\n",
              "  .colab-df-quickchart-complete:disabled:hover {\n",
              "    background-color: var(--disabled-bg-color);\n",
              "    fill: var(--disabled-fill-color);\n",
              "    box-shadow: none;\n",
              "  }\n",
              "\n",
              "  .colab-df-spinner {\n",
              "    border: 2px solid var(--fill-color);\n",
              "    border-color: transparent;\n",
              "    border-bottom-color: var(--fill-color);\n",
              "    animation:\n",
              "      spin 1s steps(1) infinite;\n",
              "  }\n",
              "\n",
              "  @keyframes spin {\n",
              "    0% {\n",
              "      border-color: transparent;\n",
              "      border-bottom-color: var(--fill-color);\n",
              "      border-left-color: var(--fill-color);\n",
              "    }\n",
              "    20% {\n",
              "      border-color: transparent;\n",
              "      border-left-color: var(--fill-color);\n",
              "      border-top-color: var(--fill-color);\n",
              "    }\n",
              "    30% {\n",
              "      border-color: transparent;\n",
              "      border-left-color: var(--fill-color);\n",
              "      border-top-color: var(--fill-color);\n",
              "      border-right-color: var(--fill-color);\n",
              "    }\n",
              "    40% {\n",
              "      border-color: transparent;\n",
              "      border-right-color: var(--fill-color);\n",
              "      border-top-color: var(--fill-color);\n",
              "    }\n",
              "    60% {\n",
              "      border-color: transparent;\n",
              "      border-right-color: var(--fill-color);\n",
              "    }\n",
              "    80% {\n",
              "      border-color: transparent;\n",
              "      border-right-color: var(--fill-color);\n",
              "      border-bottom-color: var(--fill-color);\n",
              "    }\n",
              "    90% {\n",
              "      border-color: transparent;\n",
              "      border-bottom-color: var(--fill-color);\n",
              "    }\n",
              "  }\n",
              "</style>\n",
              "\n",
              "  <script>\n",
              "    async function quickchart(key) {\n",
              "      const quickchartButtonEl =\n",
              "        document.querySelector('#' + key + ' button');\n",
              "      quickchartButtonEl.disabled = true;  // To prevent multiple clicks.\n",
              "      quickchartButtonEl.classList.add('colab-df-spinner');\n",
              "      try {\n",
              "        const charts = await google.colab.kernel.invokeFunction(\n",
              "            'suggestCharts', [key], {});\n",
              "      } catch (error) {\n",
              "        console.error('Error during call to suggestCharts:', error);\n",
              "      }\n",
              "      quickchartButtonEl.classList.remove('colab-df-spinner');\n",
              "      quickchartButtonEl.classList.add('colab-df-quickchart-complete');\n",
              "    }\n",
              "    (() => {\n",
              "      let quickchartButtonEl =\n",
              "        document.querySelector('#df-505e39a0-680b-46f4-ade5-fa37a9becd1b button');\n",
              "      quickchartButtonEl.style.display =\n",
              "        google.colab.kernel.accessAllowed ? 'block' : 'none';\n",
              "    })();\n",
              "  </script>\n",
              "</div>\n",
              "\n",
              "    </div>\n",
              "  </div>\n"
            ],
            "application/vnd.google.colaboratory.module+javascript": "\n      import \"https://ssl.gstatic.com/colaboratory/data_table/881c4a0d49046431/data_table.js\";\n\n      const table = window.createDataTable({\n        data: [[{\n            'v': 114282,\n            'f': \"114282\",\n        },\n{\n            'v': 1,\n            'f': \"1\",\n        },\n{\n            'v': 1,\n            'f': \"1\",\n        },\n{\n            'v': 1,\n            'f': \"1\",\n        },\n{\n            'v': 0,\n            'f': \"0\",\n        },\n{\n            'v': 0,\n            'f': \"0\",\n        },\n{\n            'v': 1,\n            'f': \"1\",\n        },\n{\n            'v': 1,\n            'f': \"1\",\n        },\n{\n            'v': 1,\n            'f': \"1\",\n        },\n{\n            'v': 1,\n            'f': \"1\",\n        },\n{\n            'v': 0,\n            'f': \"0\",\n        },\n{\n            'v': 1,\n            'f': \"1\",\n        }],\n [{\n            'v': 119428,\n            'f': \"119428\",\n        },\n{\n            'v': 1,\n            'f': \"1\",\n        },\n{\n            'v': 1,\n            'f': \"1\",\n        },\n{\n            'v': 0,\n            'f': \"0\",\n        },\n{\n            'v': 0,\n            'f': \"0\",\n        },\n{\n            'v': 0,\n            'f': \"0\",\n        },\n{\n            'v': 1,\n            'f': \"1\",\n        },\n{\n            'v': 1,\n            'f': \"1\",\n        },\n{\n            'v': 1,\n            'f': \"1\",\n        },\n{\n            'v': 0,\n            'f': \"0\",\n        },\n{\n            'v': 0,\n            'f': \"0\",\n        },\n{\n            'v': 0,\n            'f': \"0\",\n        }],\n [{\n            'v': 269296,\n            'f': \"269296\",\n        },\n{\n            'v': 1,\n            'f': \"1\",\n        },\n{\n            'v': 1,\n            'f': \"1\",\n        },\n{\n            'v': 1,\n            'f': \"1\",\n        },\n{\n            'v': 0,\n            'f': \"0\",\n        },\n{\n            'v': 0,\n            'f': \"0\",\n        },\n{\n            'v': 1,\n            'f': \"1\",\n        },\n{\n            'v': 0,\n            'f': \"0\",\n        },\n{\n            'v': 1,\n            'f': \"1\",\n        },\n{\n            'v': 0,\n            'f': \"0\",\n        },\n{\n            'v': 0,\n            'f': \"0\",\n        },\n{\n            'v': 1,\n            'f': \"1\",\n        }],\n [{\n            'v': 196869,\n            'f': \"196869\",\n        },\n{\n            'v': 1,\n            'f': \"1\",\n        },\n{\n            'v': 1,\n            'f': \"1\",\n        },\n{\n            'v': 0,\n            'f': \"0\",\n        },\n{\n            'v': 0,\n            'f': \"0\",\n        },\n{\n            'v': 0,\n            'f': \"0\",\n        },\n{\n            'v': 1,\n            'f': \"1\",\n        },\n{\n            'v': 1,\n            'f': \"1\",\n        },\n{\n            'v': 1,\n            'f': \"1\",\n        },\n{\n            'v': 1,\n            'f': \"1\",\n        },\n{\n            'v': 0,\n            'f': \"0\",\n        },\n{\n            'v': 0,\n            'f': \"0\",\n        }],\n [{\n            'v': 215411,\n            'f': \"215411\",\n        },\n{\n            'v': 1,\n            'f': \"1\",\n        },\n{\n            'v': 1,\n            'f': \"1\",\n        },\n{\n            'v': 1,\n            'f': \"1\",\n        },\n{\n            'v': 1,\n            'f': \"1\",\n        },\n{\n            'v': 0,\n            'f': \"0\",\n        },\n{\n            'v': 1,\n            'f': \"1\",\n        },\n{\n            'v': 1,\n            'f': \"1\",\n        },\n{\n            'v': 1,\n            'f': \"1\",\n        },\n{\n            'v': 1,\n            'f': \"1\",\n        },\n{\n            'v': 1,\n            'f': \"1\",\n        },\n{\n            'v': 0,\n            'f': \"0\",\n        }]],\n        columns: [[\"number\", \"index\"], [\"number\", \"host_has_profile_pic\"], [\"number\", \"host_identity_verified\"], [\"number\", \"instant_bookable\"], [\"number\", \"license_bool\"], [\"number\", \"is_shared_bathroom\"], [\"number\", \"air_conditioning\"], [\"number\", \"kitchen\"], [\"number\", \"wifi\"], [\"number\", \"free_park_prem\"], [\"number\", \"pets_allowed\"], [\"number\", \"pool\"]],\n        columnOptions: [{\"width\": \"1px\", \"className\": \"index_column\"}],\n        rowsPerPage: 25,\n        helpUrl: \"https://colab.research.google.com/notebooks/data_table.ipynb\",\n        suppressOutputScrolling: true,\n        minimumWidth: undefined,\n      });\n\n      function appendQuickchartButton(parentElement) {\n        let quickchartButtonContainerElement = document.createElement('div');\n        quickchartButtonContainerElement.innerHTML = `\n<div id=\"df-9c1f70aa-fe55-457d-8ac8-3d8b2fbeab8c\">\n  <button class=\"colab-df-quickchart\" onclick=\"quickchart('df-9c1f70aa-fe55-457d-8ac8-3d8b2fbeab8c')\"\n            title=\"Suggest charts\"\n            style=\"display:none;\">\n    \n<svg xmlns=\"http://www.w3.org/2000/svg\" height=\"24px\"viewBox=\"0 0 24 24\"\n     width=\"24px\">\n    <g>\n        <path d=\"M19 3H5c-1.1 0-2 .9-2 2v14c0 1.1.9 2 2 2h14c1.1 0 2-.9 2-2V5c0-1.1-.9-2-2-2zM9 17H7v-7h2v7zm4 0h-2V7h2v10zm4 0h-2v-4h2v4z\"/>\n    </g>\n</svg>\n  </button>\n  \n<style>\n  .colab-df-quickchart {\n      --bg-color: #E8F0FE;\n      --fill-color: #1967D2;\n      --hover-bg-color: #E2EBFA;\n      --hover-fill-color: #174EA6;\n      --disabled-fill-color: #AAA;\n      --disabled-bg-color: #DDD;\n  }\n\n  [theme=dark] .colab-df-quickchart {\n      --bg-color: #3B4455;\n      --fill-color: #D2E3FC;\n      --hover-bg-color: #434B5C;\n      --hover-fill-color: #FFFFFF;\n      --disabled-bg-color: #3B4455;\n      --disabled-fill-color: #666;\n  }\n\n  .colab-df-quickchart {\n    background-color: var(--bg-color);\n    border: none;\n    border-radius: 50%;\n    cursor: pointer;\n    display: none;\n    fill: var(--fill-color);\n    height: 32px;\n    padding: 0;\n    width: 32px;\n  }\n\n  .colab-df-quickchart:hover {\n    background-color: var(--hover-bg-color);\n    box-shadow: 0 1px 2px rgba(60, 64, 67, 0.3), 0 1px 3px 1px rgba(60, 64, 67, 0.15);\n    fill: var(--button-hover-fill-color);\n  }\n\n  .colab-df-quickchart-complete:disabled,\n  .colab-df-quickchart-complete:disabled:hover {\n    background-color: var(--disabled-bg-color);\n    fill: var(--disabled-fill-color);\n    box-shadow: none;\n  }\n\n  .colab-df-spinner {\n    border: 2px solid var(--fill-color);\n    border-color: transparent;\n    border-bottom-color: var(--fill-color);\n    animation:\n      spin 1s steps(1) infinite;\n  }\n\n  @keyframes spin {\n    0% {\n      border-color: transparent;\n      border-bottom-color: var(--fill-color);\n      border-left-color: var(--fill-color);\n    }\n    20% {\n      border-color: transparent;\n      border-left-color: var(--fill-color);\n      border-top-color: var(--fill-color);\n    }\n    30% {\n      border-color: transparent;\n      border-left-color: var(--fill-color);\n      border-top-color: var(--fill-color);\n      border-right-color: var(--fill-color);\n    }\n    40% {\n      border-color: transparent;\n      border-right-color: var(--fill-color);\n      border-top-color: var(--fill-color);\n    }\n    60% {\n      border-color: transparent;\n      border-right-color: var(--fill-color);\n    }\n    80% {\n      border-color: transparent;\n      border-right-color: var(--fill-color);\n      border-bottom-color: var(--fill-color);\n    }\n    90% {\n      border-color: transparent;\n      border-bottom-color: var(--fill-color);\n    }\n  }\n</style>\n\n  <script>\n    async function quickchart(key) {\n      const quickchartButtonEl =\n        document.querySelector('#' + key + ' button');\n      quickchartButtonEl.disabled = true;  // To prevent multiple clicks.\n      quickchartButtonEl.classList.add('colab-df-spinner');\n      try {\n        const charts = await google.colab.kernel.invokeFunction(\n            'suggestCharts', [key], {});\n      } catch (error) {\n        console.error('Error during call to suggestCharts:', error);\n      }\n      quickchartButtonEl.classList.remove('colab-df-spinner');\n      quickchartButtonEl.classList.add('colab-df-quickchart-complete');\n    }\n    (() => {\n      let quickchartButtonEl =\n        document.querySelector('#df-9c1f70aa-fe55-457d-8ac8-3d8b2fbeab8c button');\n      quickchartButtonEl.style.display =\n        google.colab.kernel.accessAllowed ? 'block' : 'none';\n    })();\n  </script>\n</div>`;\n        parentElement.appendChild(quickchartButtonContainerElement);\n      }\n\n      appendQuickchartButton(table);\n    "
          },
          "metadata": {},
          "execution_count": 37
        }
      ]
    },
    {
      "cell_type": "code",
      "source": [
        "# There are no nulls in the boolean columns:\n",
        "df[bool_cols].info()"
      ],
      "metadata": {
        "id": "6m4gdX363n8U",
        "outputId": "919d3da7-0ec5-4e23-8f77-f3ccd5c871bd",
        "colab": {
          "base_uri": "https://localhost:8080/"
        }
      },
      "execution_count": 38,
      "outputs": [
        {
          "output_type": "stream",
          "name": "stdout",
          "text": [
            "<class 'pandas.core.frame.DataFrame'>\n",
            "RangeIndex: 274958 entries, 0 to 274957\n",
            "Data columns (total 11 columns):\n",
            " #   Column                  Non-Null Count   Dtype\n",
            "---  ------                  --------------   -----\n",
            " 0   host_has_profile_pic    274958 non-null  int64\n",
            " 1   host_identity_verified  274958 non-null  int64\n",
            " 2   instant_bookable        274958 non-null  int64\n",
            " 3   license_bool            274958 non-null  int64\n",
            " 4   is_shared_bathroom      274958 non-null  int64\n",
            " 5   air_conditioning        274958 non-null  int64\n",
            " 6   kitchen                 274958 non-null  int64\n",
            " 7   wifi                    274958 non-null  int64\n",
            " 8   free_park_prem          274958 non-null  int64\n",
            " 9   pets_allowed            274958 non-null  int64\n",
            " 10  pool                    274958 non-null  int64\n",
            "dtypes: int64(11)\n",
            "memory usage: 23.1 MB\n"
          ]
        }
      ]
    },
    {
      "cell_type": "markdown",
      "source": [
        "## Numeric Columns (Excluding `price` and `bool_cols`)"
      ],
      "metadata": {
        "id": "WuVAn_DO0Ud9"
      }
    },
    {
      "cell_type": "code",
      "source": [
        "num_cols = []\n",
        "for col in range(df.shape[1]):\n",
        "  if df[df.columns[col]].dtypes != 'object' and df.columns[col] not in bool_cols:\n",
        "    num_cols.append(df.columns[col])\n",
        "num_cols.remove('price')\n",
        "print(\"Numeric Columns\")\n",
        "print()\n",
        "for col in num_cols:\n",
        "  print(col)\n",
        "num_df = df[num_cols]\n",
        "print()\n",
        "num_df.apply(lambda num_df: num_df.sample(5, random_state=0))"
      ],
      "metadata": {
        "colab": {
          "base_uri": "https://localhost:8080/",
          "height": 540
        },
        "id": "1NZiFT-oywh1",
        "outputId": "9de2dd46-8a72-4045-8a64-187c37480585"
      },
      "execution_count": 28,
      "outputs": [
        {
          "output_type": "stream",
          "name": "stdout",
          "text": [
            "Numeric Columns\n",
            "\n",
            "latitude\n",
            "longitude\n",
            "accommodates\n",
            "bedrooms\n",
            "beds\n",
            "minimum_nights\n",
            "maximum_nights\n",
            "bathrooms\n",
            "desc_polarity\n",
            "desc_subjectivity\n",
            "neigh_over_polarity\n",
            "neigh_over_subjectivity\n",
            "host_about_polarity\n",
            "host_about_subjectivity\n",
            "\n"
          ]
        },
        {
          "output_type": "execute_result",
          "data": {
            "text/plain": [
              "         latitude   longitude  accommodates  bedrooms  beds  minimum_nights  \\\n",
              "114282  43.155015  -77.589279             2       1.0   1.0               1   \n",
              "119428  40.680720  -73.982490             2       1.0   1.0              30   \n",
              "269296  36.110140 -115.171743             2       1.0   1.0               1   \n",
              "196869  30.261490  -97.717400             5       NaN   1.0               1   \n",
              "215411  44.905330  -93.327470             8       3.0   3.0               2   \n",
              "\n",
              "        maximum_nights  bathrooms  desc_polarity  desc_subjectivity  \\\n",
              "114282             365        1.0       0.220714           0.416429   \n",
              "119428            1125        1.0       0.111588           0.312163   \n",
              "269296              28        1.0       0.334091           0.521970   \n",
              "196869            1125        1.0       0.155073           0.474403   \n",
              "215411            1125        2.0       0.405000           0.632500   \n",
              "\n",
              "        neigh_over_polarity  neigh_over_subjectivity  host_about_polarity  \\\n",
              "114282             0.000000                 0.000000             0.000000   \n",
              "119428             0.395623                 0.477273             0.000000   \n",
              "269296             0.000000                 0.000000             0.000000   \n",
              "196869             0.234127                 0.573016             0.566667   \n",
              "215411             0.500000                 0.666667             0.318182   \n",
              "\n",
              "        host_about_subjectivity  \n",
              "114282                 0.000000  \n",
              "119428                 0.000000  \n",
              "269296                 0.000000  \n",
              "196869                 0.466667  \n",
              "215411                 0.527273  "
            ],
            "text/html": [
              "\n",
              "  <div id=\"df-a5a2e53e-d551-44c1-a45f-4c138aabd720\" class=\"colab-df-container\">\n",
              "    <div>\n",
              "<style scoped>\n",
              "    .dataframe tbody tr th:only-of-type {\n",
              "        vertical-align: middle;\n",
              "    }\n",
              "\n",
              "    .dataframe tbody tr th {\n",
              "        vertical-align: top;\n",
              "    }\n",
              "\n",
              "    .dataframe thead th {\n",
              "        text-align: right;\n",
              "    }\n",
              "</style>\n",
              "<table border=\"1\" class=\"dataframe\">\n",
              "  <thead>\n",
              "    <tr style=\"text-align: right;\">\n",
              "      <th></th>\n",
              "      <th>latitude</th>\n",
              "      <th>longitude</th>\n",
              "      <th>accommodates</th>\n",
              "      <th>bedrooms</th>\n",
              "      <th>beds</th>\n",
              "      <th>minimum_nights</th>\n",
              "      <th>maximum_nights</th>\n",
              "      <th>bathrooms</th>\n",
              "      <th>desc_polarity</th>\n",
              "      <th>desc_subjectivity</th>\n",
              "      <th>neigh_over_polarity</th>\n",
              "      <th>neigh_over_subjectivity</th>\n",
              "      <th>host_about_polarity</th>\n",
              "      <th>host_about_subjectivity</th>\n",
              "    </tr>\n",
              "  </thead>\n",
              "  <tbody>\n",
              "    <tr>\n",
              "      <th>114282</th>\n",
              "      <td>43.155015</td>\n",
              "      <td>-77.589279</td>\n",
              "      <td>2</td>\n",
              "      <td>1.0</td>\n",
              "      <td>1.0</td>\n",
              "      <td>1</td>\n",
              "      <td>365</td>\n",
              "      <td>1.0</td>\n",
              "      <td>0.220714</td>\n",
              "      <td>0.416429</td>\n",
              "      <td>0.000000</td>\n",
              "      <td>0.000000</td>\n",
              "      <td>0.000000</td>\n",
              "      <td>0.000000</td>\n",
              "    </tr>\n",
              "    <tr>\n",
              "      <th>119428</th>\n",
              "      <td>40.680720</td>\n",
              "      <td>-73.982490</td>\n",
              "      <td>2</td>\n",
              "      <td>1.0</td>\n",
              "      <td>1.0</td>\n",
              "      <td>30</td>\n",
              "      <td>1125</td>\n",
              "      <td>1.0</td>\n",
              "      <td>0.111588</td>\n",
              "      <td>0.312163</td>\n",
              "      <td>0.395623</td>\n",
              "      <td>0.477273</td>\n",
              "      <td>0.000000</td>\n",
              "      <td>0.000000</td>\n",
              "    </tr>\n",
              "    <tr>\n",
              "      <th>269296</th>\n",
              "      <td>36.110140</td>\n",
              "      <td>-115.171743</td>\n",
              "      <td>2</td>\n",
              "      <td>1.0</td>\n",
              "      <td>1.0</td>\n",
              "      <td>1</td>\n",
              "      <td>28</td>\n",
              "      <td>1.0</td>\n",
              "      <td>0.334091</td>\n",
              "      <td>0.521970</td>\n",
              "      <td>0.000000</td>\n",
              "      <td>0.000000</td>\n",
              "      <td>0.000000</td>\n",
              "      <td>0.000000</td>\n",
              "    </tr>\n",
              "    <tr>\n",
              "      <th>196869</th>\n",
              "      <td>30.261490</td>\n",
              "      <td>-97.717400</td>\n",
              "      <td>5</td>\n",
              "      <td>NaN</td>\n",
              "      <td>1.0</td>\n",
              "      <td>1</td>\n",
              "      <td>1125</td>\n",
              "      <td>1.0</td>\n",
              "      <td>0.155073</td>\n",
              "      <td>0.474403</td>\n",
              "      <td>0.234127</td>\n",
              "      <td>0.573016</td>\n",
              "      <td>0.566667</td>\n",
              "      <td>0.466667</td>\n",
              "    </tr>\n",
              "    <tr>\n",
              "      <th>215411</th>\n",
              "      <td>44.905330</td>\n",
              "      <td>-93.327470</td>\n",
              "      <td>8</td>\n",
              "      <td>3.0</td>\n",
              "      <td>3.0</td>\n",
              "      <td>2</td>\n",
              "      <td>1125</td>\n",
              "      <td>2.0</td>\n",
              "      <td>0.405000</td>\n",
              "      <td>0.632500</td>\n",
              "      <td>0.500000</td>\n",
              "      <td>0.666667</td>\n",
              "      <td>0.318182</td>\n",
              "      <td>0.527273</td>\n",
              "    </tr>\n",
              "  </tbody>\n",
              "</table>\n",
              "</div>\n",
              "    <div class=\"colab-df-buttons\">\n",
              "\n",
              "  <div class=\"colab-df-container\">\n",
              "    <button class=\"colab-df-convert\" onclick=\"convertToInteractive('df-a5a2e53e-d551-44c1-a45f-4c138aabd720')\"\n",
              "            title=\"Convert this dataframe to an interactive table.\"\n",
              "            style=\"display:none;\">\n",
              "\n",
              "  <svg xmlns=\"http://www.w3.org/2000/svg\" height=\"24px\" viewBox=\"0 -960 960 960\">\n",
              "    <path d=\"M120-120v-720h720v720H120Zm60-500h600v-160H180v160Zm220 220h160v-160H400v160Zm0 220h160v-160H400v160ZM180-400h160v-160H180v160Zm440 0h160v-160H620v160ZM180-180h160v-160H180v160Zm440 0h160v-160H620v160Z\"/>\n",
              "  </svg>\n",
              "    </button>\n",
              "\n",
              "  <style>\n",
              "    .colab-df-container {\n",
              "      display:flex;\n",
              "      gap: 12px;\n",
              "    }\n",
              "\n",
              "    .colab-df-convert {\n",
              "      background-color: #E8F0FE;\n",
              "      border: none;\n",
              "      border-radius: 50%;\n",
              "      cursor: pointer;\n",
              "      display: none;\n",
              "      fill: #1967D2;\n",
              "      height: 32px;\n",
              "      padding: 0 0 0 0;\n",
              "      width: 32px;\n",
              "    }\n",
              "\n",
              "    .colab-df-convert:hover {\n",
              "      background-color: #E2EBFA;\n",
              "      box-shadow: 0px 1px 2px rgba(60, 64, 67, 0.3), 0px 1px 3px 1px rgba(60, 64, 67, 0.15);\n",
              "      fill: #174EA6;\n",
              "    }\n",
              "\n",
              "    .colab-df-buttons div {\n",
              "      margin-bottom: 4px;\n",
              "    }\n",
              "\n",
              "    [theme=dark] .colab-df-convert {\n",
              "      background-color: #3B4455;\n",
              "      fill: #D2E3FC;\n",
              "    }\n",
              "\n",
              "    [theme=dark] .colab-df-convert:hover {\n",
              "      background-color: #434B5C;\n",
              "      box-shadow: 0px 1px 3px 1px rgba(0, 0, 0, 0.15);\n",
              "      filter: drop-shadow(0px 1px 2px rgba(0, 0, 0, 0.3));\n",
              "      fill: #FFFFFF;\n",
              "    }\n",
              "  </style>\n",
              "\n",
              "    <script>\n",
              "      const buttonEl =\n",
              "        document.querySelector('#df-a5a2e53e-d551-44c1-a45f-4c138aabd720 button.colab-df-convert');\n",
              "      buttonEl.style.display =\n",
              "        google.colab.kernel.accessAllowed ? 'block' : 'none';\n",
              "\n",
              "      async function convertToInteractive(key) {\n",
              "        const element = document.querySelector('#df-a5a2e53e-d551-44c1-a45f-4c138aabd720');\n",
              "        const dataTable =\n",
              "          await google.colab.kernel.invokeFunction('convertToInteractive',\n",
              "                                                    [key], {});\n",
              "        if (!dataTable) return;\n",
              "\n",
              "        const docLinkHtml = 'Like what you see? Visit the ' +\n",
              "          '<a target=\"_blank\" href=https://colab.research.google.com/notebooks/data_table.ipynb>data table notebook</a>'\n",
              "          + ' to learn more about interactive tables.';\n",
              "        element.innerHTML = '';\n",
              "        dataTable['output_type'] = 'display_data';\n",
              "        await google.colab.output.renderOutput(dataTable, element);\n",
              "        const docLink = document.createElement('div');\n",
              "        docLink.innerHTML = docLinkHtml;\n",
              "        element.appendChild(docLink);\n",
              "      }\n",
              "    </script>\n",
              "  </div>\n",
              "\n",
              "\n",
              "<div id=\"df-3e79cf86-6c86-4bf5-ab66-81cab9d56375\">\n",
              "  <button class=\"colab-df-quickchart\" onclick=\"quickchart('df-3e79cf86-6c86-4bf5-ab66-81cab9d56375')\"\n",
              "            title=\"Suggest charts\"\n",
              "            style=\"display:none;\">\n",
              "\n",
              "<svg xmlns=\"http://www.w3.org/2000/svg\" height=\"24px\"viewBox=\"0 0 24 24\"\n",
              "     width=\"24px\">\n",
              "    <g>\n",
              "        <path d=\"M19 3H5c-1.1 0-2 .9-2 2v14c0 1.1.9 2 2 2h14c1.1 0 2-.9 2-2V5c0-1.1-.9-2-2-2zM9 17H7v-7h2v7zm4 0h-2V7h2v10zm4 0h-2v-4h2v4z\"/>\n",
              "    </g>\n",
              "</svg>\n",
              "  </button>\n",
              "\n",
              "<style>\n",
              "  .colab-df-quickchart {\n",
              "      --bg-color: #E8F0FE;\n",
              "      --fill-color: #1967D2;\n",
              "      --hover-bg-color: #E2EBFA;\n",
              "      --hover-fill-color: #174EA6;\n",
              "      --disabled-fill-color: #AAA;\n",
              "      --disabled-bg-color: #DDD;\n",
              "  }\n",
              "\n",
              "  [theme=dark] .colab-df-quickchart {\n",
              "      --bg-color: #3B4455;\n",
              "      --fill-color: #D2E3FC;\n",
              "      --hover-bg-color: #434B5C;\n",
              "      --hover-fill-color: #FFFFFF;\n",
              "      --disabled-bg-color: #3B4455;\n",
              "      --disabled-fill-color: #666;\n",
              "  }\n",
              "\n",
              "  .colab-df-quickchart {\n",
              "    background-color: var(--bg-color);\n",
              "    border: none;\n",
              "    border-radius: 50%;\n",
              "    cursor: pointer;\n",
              "    display: none;\n",
              "    fill: var(--fill-color);\n",
              "    height: 32px;\n",
              "    padding: 0;\n",
              "    width: 32px;\n",
              "  }\n",
              "\n",
              "  .colab-df-quickchart:hover {\n",
              "    background-color: var(--hover-bg-color);\n",
              "    box-shadow: 0 1px 2px rgba(60, 64, 67, 0.3), 0 1px 3px 1px rgba(60, 64, 67, 0.15);\n",
              "    fill: var(--button-hover-fill-color);\n",
              "  }\n",
              "\n",
              "  .colab-df-quickchart-complete:disabled,\n",
              "  .colab-df-quickchart-complete:disabled:hover {\n",
              "    background-color: var(--disabled-bg-color);\n",
              "    fill: var(--disabled-fill-color);\n",
              "    box-shadow: none;\n",
              "  }\n",
              "\n",
              "  .colab-df-spinner {\n",
              "    border: 2px solid var(--fill-color);\n",
              "    border-color: transparent;\n",
              "    border-bottom-color: var(--fill-color);\n",
              "    animation:\n",
              "      spin 1s steps(1) infinite;\n",
              "  }\n",
              "\n",
              "  @keyframes spin {\n",
              "    0% {\n",
              "      border-color: transparent;\n",
              "      border-bottom-color: var(--fill-color);\n",
              "      border-left-color: var(--fill-color);\n",
              "    }\n",
              "    20% {\n",
              "      border-color: transparent;\n",
              "      border-left-color: var(--fill-color);\n",
              "      border-top-color: var(--fill-color);\n",
              "    }\n",
              "    30% {\n",
              "      border-color: transparent;\n",
              "      border-left-color: var(--fill-color);\n",
              "      border-top-color: var(--fill-color);\n",
              "      border-right-color: var(--fill-color);\n",
              "    }\n",
              "    40% {\n",
              "      border-color: transparent;\n",
              "      border-right-color: var(--fill-color);\n",
              "      border-top-color: var(--fill-color);\n",
              "    }\n",
              "    60% {\n",
              "      border-color: transparent;\n",
              "      border-right-color: var(--fill-color);\n",
              "    }\n",
              "    80% {\n",
              "      border-color: transparent;\n",
              "      border-right-color: var(--fill-color);\n",
              "      border-bottom-color: var(--fill-color);\n",
              "    }\n",
              "    90% {\n",
              "      border-color: transparent;\n",
              "      border-bottom-color: var(--fill-color);\n",
              "    }\n",
              "  }\n",
              "</style>\n",
              "\n",
              "  <script>\n",
              "    async function quickchart(key) {\n",
              "      const quickchartButtonEl =\n",
              "        document.querySelector('#' + key + ' button');\n",
              "      quickchartButtonEl.disabled = true;  // To prevent multiple clicks.\n",
              "      quickchartButtonEl.classList.add('colab-df-spinner');\n",
              "      try {\n",
              "        const charts = await google.colab.kernel.invokeFunction(\n",
              "            'suggestCharts', [key], {});\n",
              "      } catch (error) {\n",
              "        console.error('Error during call to suggestCharts:', error);\n",
              "      }\n",
              "      quickchartButtonEl.classList.remove('colab-df-spinner');\n",
              "      quickchartButtonEl.classList.add('colab-df-quickchart-complete');\n",
              "    }\n",
              "    (() => {\n",
              "      let quickchartButtonEl =\n",
              "        document.querySelector('#df-3e79cf86-6c86-4bf5-ab66-81cab9d56375 button');\n",
              "      quickchartButtonEl.style.display =\n",
              "        google.colab.kernel.accessAllowed ? 'block' : 'none';\n",
              "    })();\n",
              "  </script>\n",
              "</div>\n",
              "\n",
              "    </div>\n",
              "  </div>\n"
            ],
            "application/vnd.google.colaboratory.module+javascript": "\n      import \"https://ssl.gstatic.com/colaboratory/data_table/881c4a0d49046431/data_table.js\";\n\n      const table = window.createDataTable({\n        data: [[{\n            'v': 114282,\n            'f': \"114282\",\n        },\n{\n            'v': 43.1550154,\n            'f': \"43.1550154\",\n        },\n{\n            'v': -77.58927899999998,\n            'f': \"-77.58927899999998\",\n        },\n{\n            'v': 2,\n            'f': \"2\",\n        },\n{\n            'v': 1.0,\n            'f': \"1.0\",\n        },\n{\n            'v': 1.0,\n            'f': \"1.0\",\n        },\n{\n            'v': 1,\n            'f': \"1\",\n        },\n{\n            'v': 365,\n            'f': \"365\",\n        },\n{\n            'v': 1.0,\n            'f': \"1.0\",\n        },\n{\n            'v': 0.2207142857142857,\n            'f': \"0.2207142857142857\",\n        },\n{\n            'v': 0.4164285714285715,\n            'f': \"0.4164285714285715\",\n        },\n{\n            'v': 0.0,\n            'f': \"0.0\",\n        },\n{\n            'v': 0.0,\n            'f': \"0.0\",\n        },\n{\n            'v': 0.0,\n            'f': \"0.0\",\n        },\n{\n            'v': 0.0,\n            'f': \"0.0\",\n        }],\n [{\n            'v': 119428,\n            'f': \"119428\",\n        },\n{\n            'v': 40.68072,\n            'f': \"40.68072\",\n        },\n{\n            'v': -73.98249,\n            'f': \"-73.98249\",\n        },\n{\n            'v': 2,\n            'f': \"2\",\n        },\n{\n            'v': 1.0,\n            'f': \"1.0\",\n        },\n{\n            'v': 1.0,\n            'f': \"1.0\",\n        },\n{\n            'v': 30,\n            'f': \"30\",\n        },\n{\n            'v': 1125,\n            'f': \"1125\",\n        },\n{\n            'v': 1.0,\n            'f': \"1.0\",\n        },\n{\n            'v': 0.11158841158841158,\n            'f': \"0.11158841158841158\",\n        },\n{\n            'v': 0.31216283716283716,\n            'f': \"0.31216283716283716\",\n        },\n{\n            'v': 0.3956228956228956,\n            'f': \"0.3956228956228956\",\n        },\n{\n            'v': 0.4772727272727273,\n            'f': \"0.4772727272727273\",\n        },\n{\n            'v': 0.0,\n            'f': \"0.0\",\n        },\n{\n            'v': 0.0,\n            'f': \"0.0\",\n        }],\n [{\n            'v': 269296,\n            'f': \"269296\",\n        },\n{\n            'v': 36.1101404,\n            'f': \"36.1101404\",\n        },\n{\n            'v': -115.1717429,\n            'f': \"-115.1717429\",\n        },\n{\n            'v': 2,\n            'f': \"2\",\n        },\n{\n            'v': 1.0,\n            'f': \"1.0\",\n        },\n{\n            'v': 1.0,\n            'f': \"1.0\",\n        },\n{\n            'v': 1,\n            'f': \"1\",\n        },\n{\n            'v': 28,\n            'f': \"28\",\n        },\n{\n            'v': 1.0,\n            'f': \"1.0\",\n        },\n{\n            'v': 0.33409090909090905,\n            'f': \"0.33409090909090905\",\n        },\n{\n            'v': 0.521969696969697,\n            'f': \"0.521969696969697\",\n        },\n{\n            'v': 0.0,\n            'f': \"0.0\",\n        },\n{\n            'v': 0.0,\n            'f': \"0.0\",\n        },\n{\n            'v': 0.0,\n            'f': \"0.0\",\n        },\n{\n            'v': 0.0,\n            'f': \"0.0\",\n        }],\n [{\n            'v': 196869,\n            'f': \"196869\",\n        },\n{\n            'v': 30.26149,\n            'f': \"30.26149\",\n        },\n{\n            'v': -97.7174,\n            'f': \"-97.7174\",\n        },\n{\n            'v': 5,\n            'f': \"5\",\n        },\n{\n            'v': NaN,\n            'f': \"NaN\",\n        },\n{\n            'v': 1.0,\n            'f': \"1.0\",\n        },\n{\n            'v': 1,\n            'f': \"1\",\n        },\n{\n            'v': 1125,\n            'f': \"1125\",\n        },\n{\n            'v': 1.0,\n            'f': \"1.0\",\n        },\n{\n            'v': 0.15507346189164367,\n            'f': \"0.15507346189164367\",\n        },\n{\n            'v': 0.47440312213039487,\n            'f': \"0.47440312213039487\",\n        },\n{\n            'v': 0.2341269841269841,\n            'f': \"0.2341269841269841\",\n        },\n{\n            'v': 0.573015873015873,\n            'f': \"0.573015873015873\",\n        },\n{\n            'v': 0.5666666666666667,\n            'f': \"0.5666666666666667\",\n        },\n{\n            'v': 0.4666666666666667,\n            'f': \"0.4666666666666667\",\n        }],\n [{\n            'v': 215411,\n            'f': \"215411\",\n        },\n{\n            'v': 44.90533,\n            'f': \"44.90533\",\n        },\n{\n            'v': -93.32747,\n            'f': \"-93.32747\",\n        },\n{\n            'v': 8,\n            'f': \"8\",\n        },\n{\n            'v': 3.0,\n            'f': \"3.0\",\n        },\n{\n            'v': 3.0,\n            'f': \"3.0\",\n        },\n{\n            'v': 2,\n            'f': \"2\",\n        },\n{\n            'v': 1125,\n            'f': \"1125\",\n        },\n{\n            'v': 2.0,\n            'f': \"2.0\",\n        },\n{\n            'v': 0.4049999999999999,\n            'f': \"0.4049999999999999\",\n        },\n{\n            'v': 0.6325,\n            'f': \"0.6325\",\n        },\n{\n            'v': 0.5,\n            'f': \"0.5\",\n        },\n{\n            'v': 0.6666666666666666,\n            'f': \"0.6666666666666666\",\n        },\n{\n            'v': 0.3181818181818182,\n            'f': \"0.3181818181818182\",\n        },\n{\n            'v': 0.5272727272727272,\n            'f': \"0.5272727272727272\",\n        }]],\n        columns: [[\"number\", \"index\"], [\"number\", \"latitude\"], [\"number\", \"longitude\"], [\"number\", \"accommodates\"], [\"number\", \"bedrooms\"], [\"number\", \"beds\"], [\"number\", \"minimum_nights\"], [\"number\", \"maximum_nights\"], [\"number\", \"bathrooms\"], [\"number\", \"desc_polarity\"], [\"number\", \"desc_subjectivity\"], [\"number\", \"neigh_over_polarity\"], [\"number\", \"neigh_over_subjectivity\"], [\"number\", \"host_about_polarity\"], [\"number\", \"host_about_subjectivity\"]],\n        columnOptions: [{\"width\": \"1px\", \"className\": \"index_column\"}],\n        rowsPerPage: 25,\n        helpUrl: \"https://colab.research.google.com/notebooks/data_table.ipynb\",\n        suppressOutputScrolling: true,\n        minimumWidth: undefined,\n      });\n\n      function appendQuickchartButton(parentElement) {\n        let quickchartButtonContainerElement = document.createElement('div');\n        quickchartButtonContainerElement.innerHTML = `\n<div id=\"df-d7deb20c-3cd2-4b1e-aefb-585598298432\">\n  <button class=\"colab-df-quickchart\" onclick=\"quickchart('df-d7deb20c-3cd2-4b1e-aefb-585598298432')\"\n            title=\"Suggest charts\"\n            style=\"display:none;\">\n    \n<svg xmlns=\"http://www.w3.org/2000/svg\" height=\"24px\"viewBox=\"0 0 24 24\"\n     width=\"24px\">\n    <g>\n        <path d=\"M19 3H5c-1.1 0-2 .9-2 2v14c0 1.1.9 2 2 2h14c1.1 0 2-.9 2-2V5c0-1.1-.9-2-2-2zM9 17H7v-7h2v7zm4 0h-2V7h2v10zm4 0h-2v-4h2v4z\"/>\n    </g>\n</svg>\n  </button>\n  \n<style>\n  .colab-df-quickchart {\n      --bg-color: #E8F0FE;\n      --fill-color: #1967D2;\n      --hover-bg-color: #E2EBFA;\n      --hover-fill-color: #174EA6;\n      --disabled-fill-color: #AAA;\n      --disabled-bg-color: #DDD;\n  }\n\n  [theme=dark] .colab-df-quickchart {\n      --bg-color: #3B4455;\n      --fill-color: #D2E3FC;\n      --hover-bg-color: #434B5C;\n      --hover-fill-color: #FFFFFF;\n      --disabled-bg-color: #3B4455;\n      --disabled-fill-color: #666;\n  }\n\n  .colab-df-quickchart {\n    background-color: var(--bg-color);\n    border: none;\n    border-radius: 50%;\n    cursor: pointer;\n    display: none;\n    fill: var(--fill-color);\n    height: 32px;\n    padding: 0;\n    width: 32px;\n  }\n\n  .colab-df-quickchart:hover {\n    background-color: var(--hover-bg-color);\n    box-shadow: 0 1px 2px rgba(60, 64, 67, 0.3), 0 1px 3px 1px rgba(60, 64, 67, 0.15);\n    fill: var(--button-hover-fill-color);\n  }\n\n  .colab-df-quickchart-complete:disabled,\n  .colab-df-quickchart-complete:disabled:hover {\n    background-color: var(--disabled-bg-color);\n    fill: var(--disabled-fill-color);\n    box-shadow: none;\n  }\n\n  .colab-df-spinner {\n    border: 2px solid var(--fill-color);\n    border-color: transparent;\n    border-bottom-color: var(--fill-color);\n    animation:\n      spin 1s steps(1) infinite;\n  }\n\n  @keyframes spin {\n    0% {\n      border-color: transparent;\n      border-bottom-color: var(--fill-color);\n      border-left-color: var(--fill-color);\n    }\n    20% {\n      border-color: transparent;\n      border-left-color: var(--fill-color);\n      border-top-color: var(--fill-color);\n    }\n    30% {\n      border-color: transparent;\n      border-left-color: var(--fill-color);\n      border-top-color: var(--fill-color);\n      border-right-color: var(--fill-color);\n    }\n    40% {\n      border-color: transparent;\n      border-right-color: var(--fill-color);\n      border-top-color: var(--fill-color);\n    }\n    60% {\n      border-color: transparent;\n      border-right-color: var(--fill-color);\n    }\n    80% {\n      border-color: transparent;\n      border-right-color: var(--fill-color);\n      border-bottom-color: var(--fill-color);\n    }\n    90% {\n      border-color: transparent;\n      border-bottom-color: var(--fill-color);\n    }\n  }\n</style>\n\n  <script>\n    async function quickchart(key) {\n      const quickchartButtonEl =\n        document.querySelector('#' + key + ' button');\n      quickchartButtonEl.disabled = true;  // To prevent multiple clicks.\n      quickchartButtonEl.classList.add('colab-df-spinner');\n      try {\n        const charts = await google.colab.kernel.invokeFunction(\n            'suggestCharts', [key], {});\n      } catch (error) {\n        console.error('Error during call to suggestCharts:', error);\n      }\n      quickchartButtonEl.classList.remove('colab-df-spinner');\n      quickchartButtonEl.classList.add('colab-df-quickchart-complete');\n    }\n    (() => {\n      let quickchartButtonEl =\n        document.querySelector('#df-d7deb20c-3cd2-4b1e-aefb-585598298432 button');\n      quickchartButtonEl.style.display =\n        google.colab.kernel.accessAllowed ? 'block' : 'none';\n    })();\n  </script>\n</div>`;\n        parentElement.appendChild(quickchartButtonContainerElement);\n      }\n\n      appendQuickchartButton(table);\n    "
          },
          "metadata": {},
          "execution_count": 28
        }
      ]
    },
    {
      "cell_type": "code",
      "source": [
        "# There are nulls in bedrooms, beds, bathrooms, but relatively few\n",
        "# We'll use a simple imputer for the numeric col nulls\n",
        "df[num_cols].info()"
      ],
      "metadata": {
        "id": "SUwm0VeP4CJQ",
        "outputId": "6c14cc5d-345c-4e74-a8de-5d08f86171ea",
        "colab": {
          "base_uri": "https://localhost:8080/"
        }
      },
      "execution_count": 42,
      "outputs": [
        {
          "output_type": "stream",
          "name": "stdout",
          "text": [
            "<class 'pandas.core.frame.DataFrame'>\n",
            "RangeIndex: 274958 entries, 0 to 274957\n",
            "Data columns (total 14 columns):\n",
            " #   Column                   Non-Null Count   Dtype  \n",
            "---  ------                   --------------   -----  \n",
            " 0   latitude                 274958 non-null  float64\n",
            " 1   longitude                274958 non-null  float64\n",
            " 2   accommodates             274958 non-null  int64  \n",
            " 3   bedrooms                 205357 non-null  float64\n",
            " 4   beds                     272084 non-null  float64\n",
            " 5   minimum_nights           274958 non-null  int64  \n",
            " 6   maximum_nights           274958 non-null  int64  \n",
            " 7   bathrooms                274616 non-null  float64\n",
            " 8   desc_polarity            274958 non-null  float64\n",
            " 9   desc_subjectivity        274958 non-null  float64\n",
            " 10  neigh_over_polarity      274958 non-null  float64\n",
            " 11  neigh_over_subjectivity  274958 non-null  float64\n",
            " 12  host_about_polarity      274958 non-null  float64\n",
            " 13  host_about_subjectivity  274958 non-null  float64\n",
            "dtypes: float64(11), int64(3)\n",
            "memory usage: 29.4 MB\n"
          ]
        }
      ]
    },
    {
      "cell_type": "markdown",
      "source": [
        "# Add Intercept to Data:\n",
        "- We can avoid biased residuals if we add an intercept\n",
        "- https://medium.com/datascienceray/why-add-an-intercept-column-into-datasets-a2385cdb33bc"
      ],
      "metadata": {
        "id": "o2_hfh_pXKNC"
      }
    },
    {
      "cell_type": "code",
      "source": [
        "df['intercept'] = 1"
      ],
      "metadata": {
        "id": "aBVwdijlX6QU"
      },
      "execution_count": 81,
      "outputs": []
    },
    {
      "cell_type": "code",
      "source": [
        "df['intercept'].value_counts()"
      ],
      "metadata": {
        "id": "YKlLlXcsYDBE",
        "outputId": "de3ddfdb-76b5-49c5-d2da-adb70bad340d",
        "colab": {
          "base_uri": "https://localhost:8080/"
        }
      },
      "execution_count": 82,
      "outputs": [
        {
          "output_type": "execute_result",
          "data": {
            "text/plain": [
              "1    274958\n",
              "Name: intercept, dtype: int64"
            ]
          },
          "metadata": {},
          "execution_count": 82
        }
      ]
    },
    {
      "cell_type": "markdown",
      "source": [
        "# Define Modeling Class ModelWithCV()"
      ],
      "metadata": {
        "id": "auOK_XKFq8s5"
      }
    },
    {
      "cell_type": "code",
      "source": [
        "class ModelWithCV():\n",
        "    '''Structure to save the model and more easily see its crossvalidation'''\n",
        "\n",
        "    def __init__(self, model, model_name, X, y, cv_now=True):\n",
        "        self.model = model\n",
        "        self.name = model_name\n",
        "        self.X = X\n",
        "        self.y = y\n",
        "        # For CV results\n",
        "        self.cv_results = None\n",
        "        self.cv_mean = None\n",
        "        self.cv_median = None\n",
        "        self.cv_std = None\n",
        "        #\n",
        "        if cv_now:\n",
        "            self.cross_validate()\n",
        "\n",
        "    def cross_validate(self, X=None, y=None, kfolds=5):\n",
        "        '''\n",
        "        Perform cross-validation and return results.\n",
        "\n",
        "        Args:\n",
        "          X:\n",
        "            Optional; Training data to perform CV on. Otherwise use X from object\n",
        "          y:\n",
        "            Optional; Training data to perform CV on. Otherwise use y from object\n",
        "          kfolds:\n",
        "            Optional; Number of folds for CV (default is 10)\n",
        "        '''\n",
        "\n",
        "        cv_X = X if X else self.X\n",
        "        cv_y = y if y else self.y\n",
        "\n",
        "        # MSE Results:\n",
        "        self.cv_mse_results = cross_val_score(self.model, cv_X, cv_y, cv=kfolds, scoring ='neg_mean_squared_error')\n",
        "        self.cv_mse_mean = np.mean(self.cv_mse_results)\n",
        "        self.cv_mse_median = np.median(self.cv_mse_results)\n",
        "        self.cv_mse_std = np.std(self.cv_mse_results)\n",
        "\n",
        "        # MAE Results:\n",
        "        self.cv_mae_results = cross_val_score(self.model, cv_X, cv_y, cv=kfolds, scoring ='neg_mean_absolute_error')\n",
        "        self.cv_mae_mean = np.mean(self.cv_mae_results)\n",
        "        self.cv_mae_median = np.median(self.cv_mae_results)\n",
        "        self.cv_mae_std = np.std(self.cv_mae_results)\n",
        "\n",
        "        # RMSE Results:\n",
        "        self.cv_rmse_results = cross_val_score(self.model, cv_X, cv_y, cv=kfolds, scoring ='neg_root_mean_squared_error')\n",
        "        self.cv_rmse_mean = np.mean(self.cv_rmse_results)\n",
        "        self.cv_rmse_median = np.median(self.cv_rmse_results)\n",
        "        self.cv_rmse_std = np.std(self.cv_rmse_results)\n",
        "\n",
        "        # R2 Results:\n",
        "        self.cv_r2_results = cross_val_score(self.model, cv_X, cv_y, cv=kfolds)\n",
        "        self.cv_r2_mean = np.mean(self.cv_r2_results)\n",
        "        self.cv_r2_median = np.median(self.cv_r2_results)\n",
        "        self.cv_r2_std = np.std(self.cv_r2_results)\n",
        "\n",
        "    def print_cv_summary(self):\n",
        "        cv_summary = (\n",
        "        f'''CV Results for `{self.name}` model:\n",
        "            R-Squared: {self.cv_r2_mean:.5f} ± {self.cv_r2_std:.5f}\n",
        "            Root Mean Squared Error: {self.cv_rmse_mean} ± {self.cv_rmse_std:.5f}\n",
        "            Mean Absolute Error: {self.cv_mae_mean} ± {self.cv_mae_std:.5f}\n",
        "            Mean Squared Error: {self.cv_mse_mean} ± {self.cv_mse_std:.5f}\n",
        "            10-fold Cross Validation Scores: {self.cv_r2_results}\n",
        "        ''')\n",
        "        print(cv_summary)"
      ],
      "metadata": {
        "id": "ad0NqevarCh3"
      },
      "execution_count": 83,
      "outputs": []
    },
    {
      "cell_type": "markdown",
      "source": [
        "# Train Test Split"
      ],
      "metadata": {
        "id": "xhy_fjqWxjQo"
      }
    },
    {
      "cell_type": "markdown",
      "source": [
        "## First Split"
      ],
      "metadata": {
        "id": "VTFQTNCF1eod"
      }
    },
    {
      "cell_type": "code",
      "source": [
        "# Create X (predictors) and y (target) variables:\n",
        "X_1 = df.drop('price', axis=1)\n",
        "y_1 = df['price']\n",
        "\n",
        "# Split Data into train and test:\n",
        "X_1_train, X_1_test, y_1_train, y_1_test = train_test_split(X_1, y_1, random_state=666)"
      ],
      "metadata": {
        "id": "2pnTcu6VxkZq"
      },
      "execution_count": 84,
      "outputs": []
    },
    {
      "cell_type": "markdown",
      "source": [
        "## Second Split"
      ],
      "metadata": {
        "id": "oQqljRjw2TId"
      }
    },
    {
      "cell_type": "code",
      "source": [
        "# Split Data into train and test:\n",
        "X_2_train, X_2_test, y_2_train, y_2_test = train_test_split(X_1_train, y_1_train, random_state=666)\n"
      ],
      "metadata": {
        "id": "d9nb2tTBeMJn"
      },
      "execution_count": 85,
      "outputs": []
    },
    {
      "cell_type": "markdown",
      "source": [
        "# Pipeline Set-up"
      ],
      "metadata": {
        "id": "qpvyCFg2ykMS"
      }
    },
    {
      "cell_type": "markdown",
      "source": [
        "### Boolean features don't need to be scaled\n",
        "- so we will use 'remainder='passthrough'' To indicate to compiler to let them through pipeline without transformations."
      ],
      "metadata": {
        "id": "b646XAcS0jfK"
      }
    },
    {
      "cell_type": "code",
      "source": [
        "print(cat_cols)"
      ],
      "metadata": {
        "colab": {
          "base_uri": "https://localhost:8080/"
        },
        "id": "wyhMuXhlzLc0",
        "outputId": "e9c9435d-52c0-4217-e50f-7670453cf49f"
      },
      "execution_count": 86,
      "outputs": [
        {
          "output_type": "stream",
          "name": "stdout",
          "text": [
            "['property_type', 'room_type', 'city', 'state']\n"
          ]
        }
      ]
    },
    {
      "cell_type": "code",
      "source": [
        "print(bool_cols)"
      ],
      "metadata": {
        "colab": {
          "base_uri": "https://localhost:8080/"
        },
        "id": "XPBC67rlzxnu",
        "outputId": "0f3120db-e5cf-4658-e27c-6f53812bd029"
      },
      "execution_count": 87,
      "outputs": [
        {
          "output_type": "stream",
          "name": "stdout",
          "text": [
            "['host_has_profile_pic', 'host_identity_verified', 'instant_bookable', 'license_bool', 'is_shared_bathroom', 'air_conditioning', 'kitchen', 'wifi', 'free_park_prem', 'pets_allowed', 'pool']\n"
          ]
        }
      ]
    },
    {
      "cell_type": "code",
      "source": [
        "print(num_cols)"
      ],
      "metadata": {
        "colab": {
          "base_uri": "https://localhost:8080/"
        },
        "id": "xIx7kHvFzO43",
        "outputId": "8cc1be66-bf90-4d5c-ac1f-45c3f3110786"
      },
      "execution_count": 88,
      "outputs": [
        {
          "output_type": "stream",
          "name": "stdout",
          "text": [
            "['latitude', 'longitude', 'accommodates', 'bedrooms', 'beds', 'minimum_nights', 'maximum_nights', 'bathrooms', 'desc_polarity', 'desc_subjectivity', 'neigh_over_polarity', 'neigh_over_subjectivity', 'host_about_polarity', 'host_about_subjectivity']\n"
          ]
        }
      ]
    },
    {
      "cell_type": "markdown",
      "source": [
        "## Pipeline for numerics:"
      ],
      "metadata": {
        "id": "s4G42nqg1ivo"
      }
    },
    {
      "cell_type": "code",
      "source": [
        "# Pipeline for numerics (SCALE data):\n",
        "\n",
        "numpipe = Pipeline([\n",
        "    ('stan_scale', StandardScaler()),\n",
        "    ('num_impute', SimpleImputer(strategy='median'))\n",
        "])\n"
      ],
      "metadata": {
        "id": "EoGcpmdT1F71"
      },
      "execution_count": 89,
      "outputs": []
    },
    {
      "cell_type": "markdown",
      "source": [
        "## Pipeline for Categoricals:"
      ],
      "metadata": {
        "id": "defsn2tE1lD-"
      }
    },
    {
      "cell_type": "code",
      "source": [
        "# Pipeline for categorical feature (One-Hot-Encode):\n",
        "\n",
        "catpipe = Pipeline([\n",
        "    ('ohe', OneHotEncoder(sparse=False, handle_unknown='ignore')) # Using handle_unknown param en lieu of stratify during train-test-split\n",
        "])"
      ],
      "metadata": {
        "id": "vEpCsb2W1hq3"
      },
      "execution_count": 90,
      "outputs": []
    },
    {
      "cell_type": "markdown",
      "source": [
        "## We now have our numeric and categorical pipelines.\n",
        "- Since we don't have any nulls, and binary features don't need to be transformed or one-hot-encoded,\n",
        "- Our binary features don't need any transformations, so we will use `remainder='passthrough'` to let them through.\n",
        "- Next step is to handle columns holistically with `ColumnTransformer`"
      ],
      "metadata": {
        "id": "A8WFaTg42Jvx"
      }
    },
    {
      "cell_type": "code",
      "source": [
        "# We will use our pipeline objects as transformer argument for ColumnTransformer\n",
        "# our transformer is a tuple and includes a columns argument\n",
        "\n",
        "ColTrans = ColumnTransformer(transformers=[\n",
        "    ('numerics', numpipe, num_cols),\n",
        "    ('categoricals', catpipe, cat_cols)\n",
        "], remainder='passthrough')"
      ],
      "metadata": {
        "id": "CXLoNvCs2A-7"
      },
      "execution_count": 91,
      "outputs": []
    },
    {
      "cell_type": "markdown",
      "source": [
        "# Model #1: Baseline Dummy"
      ],
      "metadata": {
        "id": "chKHfpBq2jOC"
      }
    },
    {
      "cell_type": "code",
      "source": [
        "# Create Dummy Model Pipeline\n",
        "\n",
        "dumpipe = Pipeline([\n",
        "    ('ct', ColTrans),\n",
        "    ('dummy', DummyRegressor(strategy='mean'))\n",
        "])"
      ],
      "metadata": {
        "id": "7OfSG_4c2m-N"
      },
      "execution_count": 92,
      "outputs": []
    },
    {
      "cell_type": "code",
      "source": [
        "# Fit the dummy regressor to the training data:\n",
        "\n",
        "dumpipe.fit(X_2_train, y_2_train)"
      ],
      "metadata": {
        "colab": {
          "base_uri": "https://localhost:8080/",
          "height": 227
        },
        "id": "_iz4ufqa2-TZ",
        "outputId": "552df1d9-fe4c-4186-9157-2c26be0c3d91"
      },
      "execution_count": 93,
      "outputs": [
        {
          "output_type": "execute_result",
          "data": {
            "text/plain": [
              "Pipeline(steps=[('ct',\n",
              "                 ColumnTransformer(remainder='passthrough',\n",
              "                                   transformers=[('numerics',\n",
              "                                                  Pipeline(steps=[('stan_scale',\n",
              "                                                                   StandardScaler()),\n",
              "                                                                  ('num_impute',\n",
              "                                                                   SimpleImputer(strategy='median'))]),\n",
              "                                                  ['latitude', 'longitude',\n",
              "                                                   'accommodates', 'bedrooms',\n",
              "                                                   'beds', 'minimum_nights',\n",
              "                                                   'maximum_nights',\n",
              "                                                   'bathrooms', 'desc_polarity',\n",
              "                                                   'desc_subjectivity',\n",
              "                                                   'neigh_over_polarity',\n",
              "                                                   'neigh_over_subjectivity',\n",
              "                                                   'host_about_polarity',\n",
              "                                                   'host_about_subjectivity']),\n",
              "                                                 ('categoricals',\n",
              "                                                  Pipeline(steps=[('ohe',\n",
              "                                                                   OneHotEncoder(handle_unknown='ignore',\n",
              "                                                                                 sparse=False))]),\n",
              "                                                  ['property_type', 'room_type',\n",
              "                                                   'city', 'state'])])),\n",
              "                ('dummy', DummyRegressor())])"
            ],
            "text/html": [
              "<style>#sk-container-id-2 {color: black;background-color: white;}#sk-container-id-2 pre{padding: 0;}#sk-container-id-2 div.sk-toggleable {background-color: white;}#sk-container-id-2 label.sk-toggleable__label {cursor: pointer;display: block;width: 100%;margin-bottom: 0;padding: 0.3em;box-sizing: border-box;text-align: center;}#sk-container-id-2 label.sk-toggleable__label-arrow:before {content: \"▸\";float: left;margin-right: 0.25em;color: #696969;}#sk-container-id-2 label.sk-toggleable__label-arrow:hover:before {color: black;}#sk-container-id-2 div.sk-estimator:hover label.sk-toggleable__label-arrow:before {color: black;}#sk-container-id-2 div.sk-toggleable__content {max-height: 0;max-width: 0;overflow: hidden;text-align: left;background-color: #f0f8ff;}#sk-container-id-2 div.sk-toggleable__content pre {margin: 0.2em;color: black;border-radius: 0.25em;background-color: #f0f8ff;}#sk-container-id-2 input.sk-toggleable__control:checked~div.sk-toggleable__content {max-height: 200px;max-width: 100%;overflow: auto;}#sk-container-id-2 input.sk-toggleable__control:checked~label.sk-toggleable__label-arrow:before {content: \"▾\";}#sk-container-id-2 div.sk-estimator input.sk-toggleable__control:checked~label.sk-toggleable__label {background-color: #d4ebff;}#sk-container-id-2 div.sk-label input.sk-toggleable__control:checked~label.sk-toggleable__label {background-color: #d4ebff;}#sk-container-id-2 input.sk-hidden--visually {border: 0;clip: rect(1px 1px 1px 1px);clip: rect(1px, 1px, 1px, 1px);height: 1px;margin: -1px;overflow: hidden;padding: 0;position: absolute;width: 1px;}#sk-container-id-2 div.sk-estimator {font-family: monospace;background-color: #f0f8ff;border: 1px dotted black;border-radius: 0.25em;box-sizing: border-box;margin-bottom: 0.5em;}#sk-container-id-2 div.sk-estimator:hover {background-color: #d4ebff;}#sk-container-id-2 div.sk-parallel-item::after {content: \"\";width: 100%;border-bottom: 1px solid gray;flex-grow: 1;}#sk-container-id-2 div.sk-label:hover label.sk-toggleable__label {background-color: #d4ebff;}#sk-container-id-2 div.sk-serial::before {content: \"\";position: absolute;border-left: 1px solid gray;box-sizing: border-box;top: 0;bottom: 0;left: 50%;z-index: 0;}#sk-container-id-2 div.sk-serial {display: flex;flex-direction: column;align-items: center;background-color: white;padding-right: 0.2em;padding-left: 0.2em;position: relative;}#sk-container-id-2 div.sk-item {position: relative;z-index: 1;}#sk-container-id-2 div.sk-parallel {display: flex;align-items: stretch;justify-content: center;background-color: white;position: relative;}#sk-container-id-2 div.sk-item::before, #sk-container-id-2 div.sk-parallel-item::before {content: \"\";position: absolute;border-left: 1px solid gray;box-sizing: border-box;top: 0;bottom: 0;left: 50%;z-index: -1;}#sk-container-id-2 div.sk-parallel-item {display: flex;flex-direction: column;z-index: 1;position: relative;background-color: white;}#sk-container-id-2 div.sk-parallel-item:first-child::after {align-self: flex-end;width: 50%;}#sk-container-id-2 div.sk-parallel-item:last-child::after {align-self: flex-start;width: 50%;}#sk-container-id-2 div.sk-parallel-item:only-child::after {width: 0;}#sk-container-id-2 div.sk-dashed-wrapped {border: 1px dashed gray;margin: 0 0.4em 0.5em 0.4em;box-sizing: border-box;padding-bottom: 0.4em;background-color: white;}#sk-container-id-2 div.sk-label label {font-family: monospace;font-weight: bold;display: inline-block;line-height: 1.2em;}#sk-container-id-2 div.sk-label-container {text-align: center;}#sk-container-id-2 div.sk-container {/* jupyter's `normalize.less` sets `[hidden] { display: none; }` but bootstrap.min.css set `[hidden] { display: none !important; }` so we also need the `!important` here to be able to override the default hidden behavior on the sphinx rendered scikit-learn.org. See: https://github.com/scikit-learn/scikit-learn/issues/21755 */display: inline-block !important;position: relative;}#sk-container-id-2 div.sk-text-repr-fallback {display: none;}</style><div id=\"sk-container-id-2\" class=\"sk-top-container\"><div class=\"sk-text-repr-fallback\"><pre>Pipeline(steps=[(&#x27;ct&#x27;,\n",
              "                 ColumnTransformer(remainder=&#x27;passthrough&#x27;,\n",
              "                                   transformers=[(&#x27;numerics&#x27;,\n",
              "                                                  Pipeline(steps=[(&#x27;stan_scale&#x27;,\n",
              "                                                                   StandardScaler()),\n",
              "                                                                  (&#x27;num_impute&#x27;,\n",
              "                                                                   SimpleImputer(strategy=&#x27;median&#x27;))]),\n",
              "                                                  [&#x27;latitude&#x27;, &#x27;longitude&#x27;,\n",
              "                                                   &#x27;accommodates&#x27;, &#x27;bedrooms&#x27;,\n",
              "                                                   &#x27;beds&#x27;, &#x27;minimum_nights&#x27;,\n",
              "                                                   &#x27;maximum_nights&#x27;,\n",
              "                                                   &#x27;bathrooms&#x27;, &#x27;desc_polarity&#x27;,\n",
              "                                                   &#x27;desc_subjectivity&#x27;,\n",
              "                                                   &#x27;neigh_over_polarity&#x27;,\n",
              "                                                   &#x27;neigh_over_subjectivity&#x27;,\n",
              "                                                   &#x27;host_about_polarity&#x27;,\n",
              "                                                   &#x27;host_about_subjectivity&#x27;]),\n",
              "                                                 (&#x27;categoricals&#x27;,\n",
              "                                                  Pipeline(steps=[(&#x27;ohe&#x27;,\n",
              "                                                                   OneHotEncoder(handle_unknown=&#x27;ignore&#x27;,\n",
              "                                                                                 sparse=False))]),\n",
              "                                                  [&#x27;property_type&#x27;, &#x27;room_type&#x27;,\n",
              "                                                   &#x27;city&#x27;, &#x27;state&#x27;])])),\n",
              "                (&#x27;dummy&#x27;, DummyRegressor())])</pre><b>In a Jupyter environment, please rerun this cell to show the HTML representation or trust the notebook. <br />On GitHub, the HTML representation is unable to render, please try loading this page with nbviewer.org.</b></div><div class=\"sk-container\" hidden><div class=\"sk-item sk-dashed-wrapped\"><div class=\"sk-label-container\"><div class=\"sk-label sk-toggleable\"><input class=\"sk-toggleable__control sk-hidden--visually\" id=\"sk-estimator-id-11\" type=\"checkbox\" ><label for=\"sk-estimator-id-11\" class=\"sk-toggleable__label sk-toggleable__label-arrow\">Pipeline</label><div class=\"sk-toggleable__content\"><pre>Pipeline(steps=[(&#x27;ct&#x27;,\n",
              "                 ColumnTransformer(remainder=&#x27;passthrough&#x27;,\n",
              "                                   transformers=[(&#x27;numerics&#x27;,\n",
              "                                                  Pipeline(steps=[(&#x27;stan_scale&#x27;,\n",
              "                                                                   StandardScaler()),\n",
              "                                                                  (&#x27;num_impute&#x27;,\n",
              "                                                                   SimpleImputer(strategy=&#x27;median&#x27;))]),\n",
              "                                                  [&#x27;latitude&#x27;, &#x27;longitude&#x27;,\n",
              "                                                   &#x27;accommodates&#x27;, &#x27;bedrooms&#x27;,\n",
              "                                                   &#x27;beds&#x27;, &#x27;minimum_nights&#x27;,\n",
              "                                                   &#x27;maximum_nights&#x27;,\n",
              "                                                   &#x27;bathrooms&#x27;, &#x27;desc_polarity&#x27;,\n",
              "                                                   &#x27;desc_subjectivity&#x27;,\n",
              "                                                   &#x27;neigh_over_polarity&#x27;,\n",
              "                                                   &#x27;neigh_over_subjectivity&#x27;,\n",
              "                                                   &#x27;host_about_polarity&#x27;,\n",
              "                                                   &#x27;host_about_subjectivity&#x27;]),\n",
              "                                                 (&#x27;categoricals&#x27;,\n",
              "                                                  Pipeline(steps=[(&#x27;ohe&#x27;,\n",
              "                                                                   OneHotEncoder(handle_unknown=&#x27;ignore&#x27;,\n",
              "                                                                                 sparse=False))]),\n",
              "                                                  [&#x27;property_type&#x27;, &#x27;room_type&#x27;,\n",
              "                                                   &#x27;city&#x27;, &#x27;state&#x27;])])),\n",
              "                (&#x27;dummy&#x27;, DummyRegressor())])</pre></div></div></div><div class=\"sk-serial\"><div class=\"sk-item sk-dashed-wrapped\"><div class=\"sk-label-container\"><div class=\"sk-label sk-toggleable\"><input class=\"sk-toggleable__control sk-hidden--visually\" id=\"sk-estimator-id-12\" type=\"checkbox\" ><label for=\"sk-estimator-id-12\" class=\"sk-toggleable__label sk-toggleable__label-arrow\">ct: ColumnTransformer</label><div class=\"sk-toggleable__content\"><pre>ColumnTransformer(remainder=&#x27;passthrough&#x27;,\n",
              "                  transformers=[(&#x27;numerics&#x27;,\n",
              "                                 Pipeline(steps=[(&#x27;stan_scale&#x27;,\n",
              "                                                  StandardScaler()),\n",
              "                                                 (&#x27;num_impute&#x27;,\n",
              "                                                  SimpleImputer(strategy=&#x27;median&#x27;))]),\n",
              "                                 [&#x27;latitude&#x27;, &#x27;longitude&#x27;, &#x27;accommodates&#x27;,\n",
              "                                  &#x27;bedrooms&#x27;, &#x27;beds&#x27;, &#x27;minimum_nights&#x27;,\n",
              "                                  &#x27;maximum_nights&#x27;, &#x27;bathrooms&#x27;,\n",
              "                                  &#x27;desc_polarity&#x27;, &#x27;desc_subjectivity&#x27;,\n",
              "                                  &#x27;neigh_over_polarity&#x27;,\n",
              "                                  &#x27;neigh_over_subjectivity&#x27;,\n",
              "                                  &#x27;host_about_polarity&#x27;,\n",
              "                                  &#x27;host_about_subjectivity&#x27;]),\n",
              "                                (&#x27;categoricals&#x27;,\n",
              "                                 Pipeline(steps=[(&#x27;ohe&#x27;,\n",
              "                                                  OneHotEncoder(handle_unknown=&#x27;ignore&#x27;,\n",
              "                                                                sparse=False))]),\n",
              "                                 [&#x27;property_type&#x27;, &#x27;room_type&#x27;, &#x27;city&#x27;,\n",
              "                                  &#x27;state&#x27;])])</pre></div></div></div><div class=\"sk-parallel\"><div class=\"sk-parallel-item\"><div class=\"sk-item\"><div class=\"sk-label-container\"><div class=\"sk-label sk-toggleable\"><input class=\"sk-toggleable__control sk-hidden--visually\" id=\"sk-estimator-id-13\" type=\"checkbox\" ><label for=\"sk-estimator-id-13\" class=\"sk-toggleable__label sk-toggleable__label-arrow\">numerics</label><div class=\"sk-toggleable__content\"><pre>[&#x27;latitude&#x27;, &#x27;longitude&#x27;, &#x27;accommodates&#x27;, &#x27;bedrooms&#x27;, &#x27;beds&#x27;, &#x27;minimum_nights&#x27;, &#x27;maximum_nights&#x27;, &#x27;bathrooms&#x27;, &#x27;desc_polarity&#x27;, &#x27;desc_subjectivity&#x27;, &#x27;neigh_over_polarity&#x27;, &#x27;neigh_over_subjectivity&#x27;, &#x27;host_about_polarity&#x27;, &#x27;host_about_subjectivity&#x27;]</pre></div></div></div><div class=\"sk-serial\"><div class=\"sk-item\"><div class=\"sk-serial\"><div class=\"sk-item\"><div class=\"sk-estimator sk-toggleable\"><input class=\"sk-toggleable__control sk-hidden--visually\" id=\"sk-estimator-id-14\" type=\"checkbox\" ><label for=\"sk-estimator-id-14\" class=\"sk-toggleable__label sk-toggleable__label-arrow\">StandardScaler</label><div class=\"sk-toggleable__content\"><pre>StandardScaler()</pre></div></div></div><div class=\"sk-item\"><div class=\"sk-estimator sk-toggleable\"><input class=\"sk-toggleable__control sk-hidden--visually\" id=\"sk-estimator-id-15\" type=\"checkbox\" ><label for=\"sk-estimator-id-15\" class=\"sk-toggleable__label sk-toggleable__label-arrow\">SimpleImputer</label><div class=\"sk-toggleable__content\"><pre>SimpleImputer(strategy=&#x27;median&#x27;)</pre></div></div></div></div></div></div></div></div><div class=\"sk-parallel-item\"><div class=\"sk-item\"><div class=\"sk-label-container\"><div class=\"sk-label sk-toggleable\"><input class=\"sk-toggleable__control sk-hidden--visually\" id=\"sk-estimator-id-16\" type=\"checkbox\" ><label for=\"sk-estimator-id-16\" class=\"sk-toggleable__label sk-toggleable__label-arrow\">categoricals</label><div class=\"sk-toggleable__content\"><pre>[&#x27;property_type&#x27;, &#x27;room_type&#x27;, &#x27;city&#x27;, &#x27;state&#x27;]</pre></div></div></div><div class=\"sk-serial\"><div class=\"sk-item\"><div class=\"sk-serial\"><div class=\"sk-item\"><div class=\"sk-estimator sk-toggleable\"><input class=\"sk-toggleable__control sk-hidden--visually\" id=\"sk-estimator-id-17\" type=\"checkbox\" ><label for=\"sk-estimator-id-17\" class=\"sk-toggleable__label sk-toggleable__label-arrow\">OneHotEncoder</label><div class=\"sk-toggleable__content\"><pre>OneHotEncoder(handle_unknown=&#x27;ignore&#x27;, sparse=False)</pre></div></div></div></div></div></div></div></div><div class=\"sk-parallel-item\"><div class=\"sk-item\"><div class=\"sk-label-container\"><div class=\"sk-label sk-toggleable\"><input class=\"sk-toggleable__control sk-hidden--visually\" id=\"sk-estimator-id-18\" type=\"checkbox\" ><label for=\"sk-estimator-id-18\" class=\"sk-toggleable__label sk-toggleable__label-arrow\">remainder</label><div class=\"sk-toggleable__content\"><pre>[&#x27;host_has_profile_pic&#x27;, &#x27;host_identity_verified&#x27;, &#x27;instant_bookable&#x27;, &#x27;license_bool&#x27;, &#x27;is_shared_bathroom&#x27;, &#x27;air_conditioning&#x27;, &#x27;kitchen&#x27;, &#x27;wifi&#x27;, &#x27;free_park_prem&#x27;, &#x27;pets_allowed&#x27;, &#x27;pool&#x27;, &#x27;intercept&#x27;]</pre></div></div></div><div class=\"sk-serial\"><div class=\"sk-item\"><div class=\"sk-estimator sk-toggleable\"><input class=\"sk-toggleable__control sk-hidden--visually\" id=\"sk-estimator-id-19\" type=\"checkbox\" ><label for=\"sk-estimator-id-19\" class=\"sk-toggleable__label sk-toggleable__label-arrow\">passthrough</label><div class=\"sk-toggleable__content\"><pre>passthrough</pre></div></div></div></div></div></div></div></div><div class=\"sk-item\"><div class=\"sk-estimator sk-toggleable\"><input class=\"sk-toggleable__control sk-hidden--visually\" id=\"sk-estimator-id-20\" type=\"checkbox\" ><label for=\"sk-estimator-id-20\" class=\"sk-toggleable__label sk-toggleable__label-arrow\">DummyRegressor</label><div class=\"sk-toggleable__content\"><pre>DummyRegressor()</pre></div></div></div></div></div></div></div>"
            ]
          },
          "metadata": {},
          "execution_count": 93
        }
      ]
    },
    {
      "cell_type": "markdown",
      "source": [
        "## Dummy Regressor Cross validation on Training Data:"
      ],
      "metadata": {
        "id": "7ZV1PStl7_Wt"
      }
    },
    {
      "cell_type": "code",
      "source": [
        "\n",
        "# Now let's instantiate a dummy pipeline model and fit via inheritance from the ModelWithCV class:\n",
        "dum_pipe_cv = ModelWithCV(\n",
        "    dumpipe,\n",
        "    model_name='dummy',\n",
        "    X=X_2_train,\n",
        "    y=y_2_train,\n",
        ")"
      ],
      "metadata": {
        "id": "_Pdk9wCn52OI"
      },
      "execution_count": 94,
      "outputs": []
    },
    {
      "cell_type": "code",
      "source": [
        "dum_pipe_cv.print_cv_summary()"
      ],
      "metadata": {
        "colab": {
          "base_uri": "https://localhost:8080/"
        },
        "id": "sjWMnJuc8K_N",
        "outputId": "f540e2b7-99ab-4f06-f274-19221ecc0e42"
      },
      "execution_count": 95,
      "outputs": [
        {
          "output_type": "stream",
          "name": "stdout",
          "text": [
            "CV Results for `dummy` model:\n",
            "            R-Squared: -0.00004 ± 0.00004\n",
            "            Root Mean Squared Error: -951.4114265294854 ± 137.36254\n",
            "            Mean Absolute Error: -219.10723721594718 ± 4.37318\n",
            "            Mean Squared Error: -924052.1695826652 ± 257613.42217\n",
            "            10-fold Cross Validation Scores: [-9.71921643e-07 -1.29942088e-05 -1.19020139e-04 -8.16565079e-06\n",
            " -3.91309529e-05]\n",
            "        \n"
          ]
        }
      ]
    },
    {
      "cell_type": "markdown",
      "source": [
        "## Dummy Regressor Results on Test Data:"
      ],
      "metadata": {
        "id": "MbR6L8DiL6Y6"
      }
    },
    {
      "cell_type": "code",
      "source": [
        "#X_1_train, X_1_test, y_1_train, y_1_test\n",
        "print(f'Dummy model TEST Mean Accuracy score: {dumpipe.score(X_1_test, y_1_test):.8f}')"
      ],
      "metadata": {
        "id": "YMKO0PxWMFnY",
        "outputId": "7803bd27-74b8-43e1-d9d1-87f7967f9d76",
        "colab": {
          "base_uri": "https://localhost:8080/"
        }
      },
      "execution_count": 63,
      "outputs": [
        {
          "output_type": "stream",
          "name": "stdout",
          "text": [
            "Dummy model TEST Mean Accuracy score: -0.00000207\n"
          ]
        }
      ]
    },
    {
      "cell_type": "code",
      "source": [],
      "metadata": {
        "id": "LLVuNJjfMKKr"
      },
      "execution_count": null,
      "outputs": []
    }
  ],
  "metadata": {
    "language_info": {
      "name": "python"
    },
    "colab": {
      "provenance": [],
      "machine_shape": "hm",
      "gpuType": "T4",
      "include_colab_link": true
    },
    "kernelspec": {
      "name": "python3",
      "display_name": "Python 3"
    },
    "accelerator": "GPU"
  },
  "nbformat": 4,
  "nbformat_minor": 0
}