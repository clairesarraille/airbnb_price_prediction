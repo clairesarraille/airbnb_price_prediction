{
  "cells": [
    {
      "cell_type": "markdown",
      "metadata": {},
      "source": [
        "**Table of contents**<a id='toc0_'></a>    \n",
        "- [Import Raw CSV Files, Concatenate into one Dataframe:]    \n",
        "    - [Within same loop that reads in csvs, append `city` and `state` columns based on file name:]\n",
        "- [Clean `city` and `state` Columns:]    \n",
        "    - [Remove `.csv` from end of `state` column:]    \n",
        "    - [Replace dashes with spaces in `city` and `state` columns:]    \n",
        "  - [Check Los Angeles `id` Col for Sci Notation:]\n",
        "  - [Check that all city names came in:]\n",
        "  - [Check that all state names came in:]\n",
        "- [Remove Line Breaks and other special characters]\n",
        "    - [Success! There are no line breaks in the text above.]\n",
        "- [Explore Duplicates:]\n",
        "  - [Duplicates on `ID`]\n",
        "    - [Drop the above duplicate Columns:]\n",
        "  - [Check Again after Dropping:]\n",
        "  - [Duplicates on All Rows except `id`?]\n",
        "  - [Duplicates on `description`]\n",
        "    - [Duplicate Descriptions - Findings:]\n",
        "- [Duplicates on listing_url]\n",
        "  - [Check for overall Duplicates:]\n",
        "  - [There are 0 Duplicate rows to drop:]\n",
        "- [Remove irrelevant columns and those that do not add predictive value]\n",
        "- [Reset Index before exporting to Git:]\n",
        "- [Export data with dropped columns to Git Repo:]\n",
        "  - [Import CSV stored in GitHub to Google Colab]\n",
        "\n",
        "<!-- vscode-jupyter-toc-config\n",
        "\tnumbering=false\n",
        "\tanchor=true\n",
        "\tflat=false\n",
        "\tminLevel=1\n",
        "\tmaxLevel=6\n",
        "\t/vscode-jupyter-toc-config -->\n",
        "<!-- THIS CELL WILL BE REPLACED ON TOC UPDATE. DO NOT WRITE YOUR TEXT IN THIS CELL -->"
      ]
    },
    {
      "cell_type": "markdown",
      "metadata": {
        "colab_type": "text",
        "id": "view-in-github"
      },
      "source": [
        "<a href=\"https://colab.research.google.com/github/clairesarraille/airbnb_price_prediction/blob/main/data_cleaning_ver04.ipynb\" target=\"_parent\"><img src=\"https://colab.research.google.com/assets/colab-badge.svg\" alt=\"Open In Colab\"/></a>"
      ]
    },
    {
      "cell_type": "code",
      "execution_count": 36,
      "metadata": {
        "colab": {
          "base_uri": "https://localhost:8080/"
        },
        "id": "WJ9-VkbksIpH",
        "outputId": "68190132-59e7-4cf0-b1ba-20502c451cbc"
      },
      "outputs": [
        {
          "data": {
            "text/plain": [
              "\"\\n# Mount Drive:\\nfrom google.colab import drive\\ndrive.mount('/content/drive')\\n#\""
            ]
          },
          "execution_count": 36,
          "metadata": {},
          "output_type": "execute_result"
        }
      ],
      "source": [
        "# Core Packages:\n",
        "import pandas as pd\n",
        "import pickle\n",
        "import numpy as np\n",
        "\n",
        "\"\"\"\n",
        "# Google Colab:\n",
        "### Print Dataframe like Spreadsheet!\n",
        "from google.colab import data_table\n",
        "data_table.enable_dataframe_formatter()\n",
        "#\"\"\"\n",
        "\n",
        "\"\"\"\n",
        "# Mount Drive:\n",
        "from google.colab import drive\n",
        "drive.mount('/content/drive')\n",
        "#\"\"\"\n",
        "\n"
      ]
    },
    {
      "cell_type": "markdown",
      "metadata": {},
      "source": [
        "# <a id='toc1_'></a>[Import Raw CSV Files, Concatenate into one Dataframe:](#toc0_)\n",
        "- Raw CSV filenames follow the convention `CITY_STATE.csv`\n",
        "- Use `glob` to read all `.csv` filenames from folder `listing_raw_data`\n",
        "- Append `city` and `state` columns to each dataframe and append into one called `df`"
      ]
    },
    {
      "cell_type": "code",
      "execution_count": 37,
      "metadata": {
        "id": "Y8WaUp6y99Rq"
      },
      "outputs": [],
      "source": [
        "import pandas as pd\n",
        "import glob\n",
        "import os\n",
        "os.chdir(\"/Users/claire/git/flatiron/capstone/Data/listing_raw_data\")\n",
        "#os.chdir(\"/Users/claire/git/flatiron/capstone/Data/data_no_la\")\n",
        "\n",
        "filenames = [i for i in glob.glob('*.csv')]"
      ]
    },
    {
      "cell_type": "markdown",
      "metadata": {},
      "source": [
        "### <a id='toc1_1_1_'></a>[Within same loop that reads in csvs, append `city` and `state` columns based on file name:](#toc0_)"
      ]
    },
    {
      "cell_type": "code",
      "execution_count": 38,
      "metadata": {
        "id": "pIU-tOo999Rr"
      },
      "outputs": [],
      "source": [
        "# Read in each csv by iterating through filenames,\n",
        "# appending city and state columns based on csv name (delmited with underscore)\n",
        "df = pd.concat((pd.read_csv(name).assign(city = name.split('_')[0], state = name.split('_')[1]) for name in filenames))"
      ]
    },
    {
      "cell_type": "markdown",
      "metadata": {},
      "source": [
        "### <a id='toc1_1_2_'></a>[Preview Columns:](#toc0_)"
      ]
    },
    {
      "cell_type": "code",
      "execution_count": 39,
      "metadata": {
        "id": "80LrjxYx99Rr",
        "outputId": "7b286557-f574-4755-821c-c959570992c6"
      },
      "outputs": [
        {
          "data": {
            "text/html": [
              "<div>\n",
              "<style scoped>\n",
              "    .dataframe tbody tr th:only-of-type {\n",
              "        vertical-align: middle;\n",
              "    }\n",
              "\n",
              "    .dataframe tbody tr th {\n",
              "        vertical-align: top;\n",
              "    }\n",
              "\n",
              "    .dataframe thead th {\n",
              "        text-align: right;\n",
              "    }\n",
              "</style>\n",
              "<table border=\"1\" class=\"dataframe\">\n",
              "  <thead>\n",
              "    <tr style=\"text-align: right;\">\n",
              "      <th></th>\n",
              "      <th>id</th>\n",
              "      <th>listing_url</th>\n",
              "      <th>scrape_id</th>\n",
              "      <th>last_scraped</th>\n",
              "      <th>source</th>\n",
              "      <th>name</th>\n",
              "      <th>description</th>\n",
              "      <th>neighborhood_overview</th>\n",
              "      <th>picture_url</th>\n",
              "      <th>host_id</th>\n",
              "      <th>...</th>\n",
              "      <th>review_scores_value</th>\n",
              "      <th>license</th>\n",
              "      <th>instant_bookable</th>\n",
              "      <th>calculated_host_listings_count</th>\n",
              "      <th>calculated_host_listings_count_entire_homes</th>\n",
              "      <th>calculated_host_listings_count_private_rooms</th>\n",
              "      <th>calculated_host_listings_count_shared_rooms</th>\n",
              "      <th>reviews_per_month</th>\n",
              "      <th>city</th>\n",
              "      <th>state</th>\n",
              "    </tr>\n",
              "  </thead>\n",
              "  <tbody>\n",
              "    <tr>\n",
              "      <th>0</th>\n",
              "      <td>3314819</td>\n",
              "      <td>https://www.airbnb.com/rooms/3314819</td>\n",
              "      <td>20230913045235</td>\n",
              "      <td>2023-09-13</td>\n",
              "      <td>city scrape</td>\n",
              "      <td>Home in Asheville · ★4.75 · 1 bedroom · 1 bed · 1 private bath</td>\n",
              "      <td>Don’t pay ridiculously high cleaning fees elsewhere! We keep fees ...</td>\n",
              "      <td>South slope of Brown Mountain overlooking south Asheville toward M...</td>\n",
              "      <td>https://a0.muscache.com/pictures/42052824/3b0cc939_original.jpg</td>\n",
              "      <td>16296123</td>\n",
              "      <td>...</td>\n",
              "      <td>4.88</td>\n",
              "      <td>NaN</td>\n",
              "      <td>f</td>\n",
              "      <td>3</td>\n",
              "      <td>0</td>\n",
              "      <td>3</td>\n",
              "      <td>0</td>\n",
              "      <td>10.99</td>\n",
              "      <td>Asheville</td>\n",
              "      <td>North-Carolina.csv</td>\n",
              "    </tr>\n",
              "    <tr>\n",
              "      <th>1</th>\n",
              "      <td>108061</td>\n",
              "      <td>https://www.airbnb.com/rooms/108061</td>\n",
              "      <td>20230913045235</td>\n",
              "      <td>2023-09-13</td>\n",
              "      <td>city scrape</td>\n",
              "      <td>Rental unit in Asheville · ★4.51 · 1 bedroom · 1 bed · 1 bath</td>\n",
              "      <td>Walk to town in ten minutes! Monthly rental includes all utilities...</td>\n",
              "      <td>I love my neighborhood! Its friendly, easy-going, quiet and the cl...</td>\n",
              "      <td>https://a0.muscache.com/pictures/miso/Hosting-108061/original/9f3e...</td>\n",
              "      <td>320564</td>\n",
              "      <td>...</td>\n",
              "      <td>4.49</td>\n",
              "      <td>NaN</td>\n",
              "      <td>f</td>\n",
              "      <td>2</td>\n",
              "      <td>2</td>\n",
              "      <td>0</td>\n",
              "      <td>0</td>\n",
              "      <td>0.63</td>\n",
              "      <td>Asheville</td>\n",
              "      <td>North-Carolina.csv</td>\n",
              "    </tr>\n",
              "    <tr>\n",
              "      <th>2</th>\n",
              "      <td>155305</td>\n",
              "      <td>https://www.airbnb.com/rooms/155305</td>\n",
              "      <td>20230913045235</td>\n",
              "      <td>2023-09-13</td>\n",
              "      <td>city scrape</td>\n",
              "      <td>Guesthouse in Asheville · ★4.59 · 1 bedroom · 1 bed · 1 bath</td>\n",
              "      <td>&lt;b&gt;The space&lt;/b&gt;&lt;br /&gt;Pet friendly private cottage located behind ...</td>\n",
              "      <td>We are within easy walk of pubs, breweries, music, thrift shops, g...</td>\n",
              "      <td>https://a0.muscache.com/pictures/8880711/cf38d21c_original.jpg</td>\n",
              "      <td>746673</td>\n",
              "      <td>...</td>\n",
              "      <td>4.54</td>\n",
              "      <td>NaN</td>\n",
              "      <td>f</td>\n",
              "      <td>7</td>\n",
              "      <td>1</td>\n",
              "      <td>2</td>\n",
              "      <td>4</td>\n",
              "      <td>2.71</td>\n",
              "      <td>Asheville</td>\n",
              "      <td>North-Carolina.csv</td>\n",
              "    </tr>\n",
              "  </tbody>\n",
              "</table>\n",
              "<p>3 rows × 77 columns</p>\n",
              "</div>"
            ],
            "text/plain": [
              "        id                           listing_url       scrape_id last_scraped  \\\n",
              "0  3314819  https://www.airbnb.com/rooms/3314819  20230913045235   2023-09-13   \n",
              "1   108061   https://www.airbnb.com/rooms/108061  20230913045235   2023-09-13   \n",
              "2   155305   https://www.airbnb.com/rooms/155305  20230913045235   2023-09-13   \n",
              "\n",
              "        source  \\\n",
              "0  city scrape   \n",
              "1  city scrape   \n",
              "2  city scrape   \n",
              "\n",
              "                                                             name  \\\n",
              "0  Home in Asheville · ★4.75 · 1 bedroom · 1 bed · 1 private bath   \n",
              "1   Rental unit in Asheville · ★4.51 · 1 bedroom · 1 bed · 1 bath   \n",
              "2    Guesthouse in Asheville · ★4.59 · 1 bedroom · 1 bed · 1 bath   \n",
              "\n",
              "                                                             description  \\\n",
              "0  Don’t pay ridiculously high cleaning fees elsewhere! We keep fees ...   \n",
              "1  Walk to town in ten minutes! Monthly rental includes all utilities...   \n",
              "2  <b>The space</b><br />Pet friendly private cottage located behind ...   \n",
              "\n",
              "                                                   neighborhood_overview  \\\n",
              "0  South slope of Brown Mountain overlooking south Asheville toward M...   \n",
              "1  I love my neighborhood! Its friendly, easy-going, quiet and the cl...   \n",
              "2  We are within easy walk of pubs, breweries, music, thrift shops, g...   \n",
              "\n",
              "                                                             picture_url  \\\n",
              "0        https://a0.muscache.com/pictures/42052824/3b0cc939_original.jpg   \n",
              "1  https://a0.muscache.com/pictures/miso/Hosting-108061/original/9f3e...   \n",
              "2         https://a0.muscache.com/pictures/8880711/cf38d21c_original.jpg   \n",
              "\n",
              "    host_id  ... review_scores_value license instant_bookable  \\\n",
              "0  16296123  ...                4.88     NaN                f   \n",
              "1    320564  ...                4.49     NaN                f   \n",
              "2    746673  ...                4.54     NaN                f   \n",
              "\n",
              "  calculated_host_listings_count calculated_host_listings_count_entire_homes  \\\n",
              "0                              3                                           0   \n",
              "1                              2                                           2   \n",
              "2                              7                                           1   \n",
              "\n",
              "  calculated_host_listings_count_private_rooms  \\\n",
              "0                                            3   \n",
              "1                                            0   \n",
              "2                                            2   \n",
              "\n",
              "  calculated_host_listings_count_shared_rooms reviews_per_month       city  \\\n",
              "0                                           0             10.99  Asheville   \n",
              "1                                           0              0.63  Asheville   \n",
              "2                                           4              2.71  Asheville   \n",
              "\n",
              "                state  \n",
              "0  North-Carolina.csv  \n",
              "1  North-Carolina.csv  \n",
              "2  North-Carolina.csv  \n",
              "\n",
              "[3 rows x 77 columns]"
            ]
          },
          "execution_count": 39,
          "metadata": {},
          "output_type": "execute_result"
        }
      ],
      "source": [
        "pd.set_option('display.max_colwidth', 70)\n",
        "df.head(3)"
      ]
    },
    {
      "cell_type": "markdown",
      "metadata": {},
      "source": [
        "### <a id='toc1_1_3_'></a>[Comments on Column Preview:](#toc0_)\n",
        "- Cols appear to have imported correctly\n",
        "- City and State Columns have been imported -- need to remove the \".csv\" from state and replace dashes with spaces"
      ]
    },
    {
      "cell_type": "markdown",
      "metadata": {},
      "source": [
        "# <a id='toc2_'></a>[Clean `city` and `state` Columns:](#toc0_)"
      ]
    },
    {
      "cell_type": "markdown",
      "metadata": {},
      "source": [
        "### <a id='toc2_1_1_'></a>[Remove `.csv` from end of `state` column:](#toc0_)"
      ]
    },
    {
      "cell_type": "code",
      "execution_count": 40,
      "metadata": {
        "id": "ZtlRPs1d99Rr"
      },
      "outputs": [],
      "source": [
        "df['state'] = df['state'].replace('.csv','', regex=True)"
      ]
    },
    {
      "cell_type": "markdown",
      "metadata": {},
      "source": [
        "### <a id='toc2_1_2_'></a>[Replace dashes with spaces in `city` and `state` columns:](#toc0_)\n"
      ]
    },
    {
      "cell_type": "code",
      "execution_count": 41,
      "metadata": {
        "id": "fwew2sSM99Rs",
        "outputId": "119751c2-c303-41a1-e55a-69277f099101"
      },
      "outputs": [
        {
          "data": {
            "text/html": [
              "<div>\n",
              "<style scoped>\n",
              "    .dataframe tbody tr th:only-of-type {\n",
              "        vertical-align: middle;\n",
              "    }\n",
              "\n",
              "    .dataframe tbody tr th {\n",
              "        vertical-align: top;\n",
              "    }\n",
              "\n",
              "    .dataframe thead th {\n",
              "        text-align: right;\n",
              "    }\n",
              "</style>\n",
              "<table border=\"1\" class=\"dataframe\">\n",
              "  <thead>\n",
              "    <tr style=\"text-align: right;\">\n",
              "      <th></th>\n",
              "      <th>city</th>\n",
              "      <th>state</th>\n",
              "    </tr>\n",
              "  </thead>\n",
              "  <tbody>\n",
              "    <tr>\n",
              "      <th>0</th>\n",
              "      <td>Los-Angeles</td>\n",
              "      <td>California</td>\n",
              "    </tr>\n",
              "    <tr>\n",
              "      <th>1</th>\n",
              "      <td>Los-Angeles</td>\n",
              "      <td>California</td>\n",
              "    </tr>\n",
              "    <tr>\n",
              "      <th>2</th>\n",
              "      <td>Los-Angeles</td>\n",
              "      <td>California</td>\n",
              "    </tr>\n",
              "  </tbody>\n",
              "</table>\n",
              "</div>"
            ],
            "text/plain": [
              "          city       state\n",
              "0  Los-Angeles  California\n",
              "1  Los-Angeles  California\n",
              "2  Los-Angeles  California"
            ]
          },
          "execution_count": 41,
          "metadata": {},
          "output_type": "execute_result"
        }
      ],
      "source": [
        "df[['city', 'state']].loc[df['city'] == 'Los-Angeles'].head(3)"
      ]
    },
    {
      "cell_type": "code",
      "execution_count": 42,
      "metadata": {
        "id": "iVHSgUfd99Rs",
        "outputId": "aabd7a3a-2680-4552-c77b-b2cb1129576a"
      },
      "outputs": [
        {
          "data": {
            "text/html": [
              "<div>\n",
              "<style scoped>\n",
              "    .dataframe tbody tr th:only-of-type {\n",
              "        vertical-align: middle;\n",
              "    }\n",
              "\n",
              "    .dataframe tbody tr th {\n",
              "        vertical-align: top;\n",
              "    }\n",
              "\n",
              "    .dataframe thead th {\n",
              "        text-align: right;\n",
              "    }\n",
              "</style>\n",
              "<table border=\"1\" class=\"dataframe\">\n",
              "  <thead>\n",
              "    <tr style=\"text-align: right;\">\n",
              "      <th></th>\n",
              "      <th>city</th>\n",
              "      <th>state</th>\n",
              "    </tr>\n",
              "  </thead>\n",
              "  <tbody>\n",
              "    <tr>\n",
              "      <th>0</th>\n",
              "      <td>Asheville</td>\n",
              "      <td>North-Carolina</td>\n",
              "    </tr>\n",
              "    <tr>\n",
              "      <th>1</th>\n",
              "      <td>Asheville</td>\n",
              "      <td>North-Carolina</td>\n",
              "    </tr>\n",
              "    <tr>\n",
              "      <th>2</th>\n",
              "      <td>Asheville</td>\n",
              "      <td>North-Carolina</td>\n",
              "    </tr>\n",
              "  </tbody>\n",
              "</table>\n",
              "</div>"
            ],
            "text/plain": [
              "        city           state\n",
              "0  Asheville  North-Carolina\n",
              "1  Asheville  North-Carolina\n",
              "2  Asheville  North-Carolina"
            ]
          },
          "execution_count": 42,
          "metadata": {},
          "output_type": "execute_result"
        }
      ],
      "source": [
        "df[['city', 'state']].loc[df['city'] == 'Asheville'].head(3)"
      ]
    },
    {
      "cell_type": "code",
      "execution_count": 43,
      "metadata": {
        "id": "jVY5efGj99Rs"
      },
      "outputs": [],
      "source": [
        "df['state'] = df['state'].replace('-',' ', regex=True)\n",
        "df['city'] = df['city'].replace('-',' ', regex=True)"
      ]
    },
    {
      "cell_type": "code",
      "execution_count": 44,
      "metadata": {
        "id": "6W3G0Aj299Rs",
        "outputId": "369f7f33-37b4-4f71-c39c-6ff34321e937"
      },
      "outputs": [
        {
          "data": {
            "text/html": [
              "<div>\n",
              "<style scoped>\n",
              "    .dataframe tbody tr th:only-of-type {\n",
              "        vertical-align: middle;\n",
              "    }\n",
              "\n",
              "    .dataframe tbody tr th {\n",
              "        vertical-align: top;\n",
              "    }\n",
              "\n",
              "    .dataframe thead th {\n",
              "        text-align: right;\n",
              "    }\n",
              "</style>\n",
              "<table border=\"1\" class=\"dataframe\">\n",
              "  <thead>\n",
              "    <tr style=\"text-align: right;\">\n",
              "      <th></th>\n",
              "      <th>city</th>\n",
              "      <th>state</th>\n",
              "    </tr>\n",
              "  </thead>\n",
              "  <tbody>\n",
              "    <tr>\n",
              "      <th>0</th>\n",
              "      <td>Los Angeles</td>\n",
              "      <td>California</td>\n",
              "    </tr>\n",
              "    <tr>\n",
              "      <th>1</th>\n",
              "      <td>Los Angeles</td>\n",
              "      <td>California</td>\n",
              "    </tr>\n",
              "    <tr>\n",
              "      <th>2</th>\n",
              "      <td>Los Angeles</td>\n",
              "      <td>California</td>\n",
              "    </tr>\n",
              "  </tbody>\n",
              "</table>\n",
              "</div>"
            ],
            "text/plain": [
              "          city       state\n",
              "0  Los Angeles  California\n",
              "1  Los Angeles  California\n",
              "2  Los Angeles  California"
            ]
          },
          "execution_count": 44,
          "metadata": {},
          "output_type": "execute_result"
        }
      ],
      "source": [
        "df[['city', 'state']].loc[df['city'] == 'Los Angeles'].head(3)"
      ]
    },
    {
      "cell_type": "code",
      "execution_count": 45,
      "metadata": {
        "id": "NnOFLMGO99Rs",
        "outputId": "a1d4cc8e-f1bb-460e-b907-c91af3380508"
      },
      "outputs": [
        {
          "data": {
            "text/html": [
              "<div>\n",
              "<style scoped>\n",
              "    .dataframe tbody tr th:only-of-type {\n",
              "        vertical-align: middle;\n",
              "    }\n",
              "\n",
              "    .dataframe tbody tr th {\n",
              "        vertical-align: top;\n",
              "    }\n",
              "\n",
              "    .dataframe thead th {\n",
              "        text-align: right;\n",
              "    }\n",
              "</style>\n",
              "<table border=\"1\" class=\"dataframe\">\n",
              "  <thead>\n",
              "    <tr style=\"text-align: right;\">\n",
              "      <th></th>\n",
              "      <th>city</th>\n",
              "      <th>state</th>\n",
              "    </tr>\n",
              "  </thead>\n",
              "  <tbody>\n",
              "    <tr>\n",
              "      <th>0</th>\n",
              "      <td>Asheville</td>\n",
              "      <td>North Carolina</td>\n",
              "    </tr>\n",
              "    <tr>\n",
              "      <th>1</th>\n",
              "      <td>Asheville</td>\n",
              "      <td>North Carolina</td>\n",
              "    </tr>\n",
              "    <tr>\n",
              "      <th>2</th>\n",
              "      <td>Asheville</td>\n",
              "      <td>North Carolina</td>\n",
              "    </tr>\n",
              "  </tbody>\n",
              "</table>\n",
              "</div>"
            ],
            "text/plain": [
              "        city           state\n",
              "0  Asheville  North Carolina\n",
              "1  Asheville  North Carolina\n",
              "2  Asheville  North Carolina"
            ]
          },
          "execution_count": 45,
          "metadata": {},
          "output_type": "execute_result"
        }
      ],
      "source": [
        "df[['city', 'state']].loc[df['city'] == 'Asheville'].head(3)"
      ]
    },
    {
      "cell_type": "markdown",
      "metadata": {},
      "source": [
        "## <a id='toc2_2_'></a>[Check Los Angeles `id` Col for Sci Notation:](#toc0_)"
      ]
    },
    {
      "cell_type": "code",
      "execution_count": 46,
      "metadata": {
        "id": "nsevu3GJ_3hb",
        "outputId": "6449946e-e7da-4acf-c6e8-67a92210f336"
      },
      "outputs": [
        {
          "data": {
            "text/html": [
              "<div>\n",
              "<style scoped>\n",
              "    .dataframe tbody tr th:only-of-type {\n",
              "        vertical-align: middle;\n",
              "    }\n",
              "\n",
              "    .dataframe tbody tr th {\n",
              "        vertical-align: top;\n",
              "    }\n",
              "\n",
              "    .dataframe thead th {\n",
              "        text-align: right;\n",
              "    }\n",
              "</style>\n",
              "<table border=\"1\" class=\"dataframe\">\n",
              "  <thead>\n",
              "    <tr style=\"text-align: right;\">\n",
              "      <th></th>\n",
              "      <th>id</th>\n",
              "    </tr>\n",
              "  </thead>\n",
              "  <tbody>\n",
              "    <tr>\n",
              "      <th>33827</th>\n",
              "      <td>972398639579333846</td>\n",
              "    </tr>\n",
              "    <tr>\n",
              "      <th>44177</th>\n",
              "      <td>971820943924237257</td>\n",
              "    </tr>\n",
              "    <tr>\n",
              "      <th>24095</th>\n",
              "      <td>971811914654853933</td>\n",
              "    </tr>\n",
              "    <tr>\n",
              "      <th>13467</th>\n",
              "      <td>971788297972650723</td>\n",
              "    </tr>\n",
              "    <tr>\n",
              "      <th>28010</th>\n",
              "      <td>971677504036551235</td>\n",
              "    </tr>\n",
              "    <tr>\n",
              "      <th>12316</th>\n",
              "      <td>971642544313353359</td>\n",
              "    </tr>\n",
              "    <tr>\n",
              "      <th>6878</th>\n",
              "      <td>971629449015511902</td>\n",
              "    </tr>\n",
              "    <tr>\n",
              "      <th>36359</th>\n",
              "      <td>971624556820195385</td>\n",
              "    </tr>\n",
              "    <tr>\n",
              "      <th>5510</th>\n",
              "      <td>971580325208006627</td>\n",
              "    </tr>\n",
              "    <tr>\n",
              "      <th>39010</th>\n",
              "      <td>971497265580348153</td>\n",
              "    </tr>\n",
              "  </tbody>\n",
              "</table>\n",
              "</div>"
            ],
            "text/plain": [
              "                       id\n",
              "33827  972398639579333846\n",
              "44177  971820943924237257\n",
              "24095  971811914654853933\n",
              "13467  971788297972650723\n",
              "28010  971677504036551235\n",
              "12316  971642544313353359\n",
              "6878   971629449015511902\n",
              "36359  971624556820195385\n",
              "5510   971580325208006627\n",
              "39010  971497265580348153"
            ]
          },
          "execution_count": 46,
          "metadata": {},
          "output_type": "execute_result"
        }
      ],
      "source": [
        "# Make sure id column didn't revert to scientific notation for Los Angeles (this was a concern b/c file had macros)\n",
        "df[['id']].loc[df['city'] == 'Los Angeles'].sort_values(by = 'id',ascending=False).head(10)"
      ]
    },
    {
      "cell_type": "markdown",
      "metadata": {},
      "source": [
        "## <a id='toc2_3_'></a>[Check that all city names came in:](#toc0_)"
      ]
    },
    {
      "cell_type": "code",
      "execution_count": 47,
      "metadata": {
        "id": "2D-WEdsd_3hc",
        "outputId": "65b0a6e9-b2cf-4858-fd13-27b0d9cbbbd3"
      },
      "outputs": [
        {
          "name": "stdout",
          "output_type": "stream",
          "text": [
            "Unique number of citites in this dataset: 32\n",
            "\n",
            "Asheville\n",
            "Hawaii\n",
            "Dallas\n",
            "San Mateo County\n",
            "Portland\n",
            "Oakland\n",
            "Chicago\n",
            "New Orleans\n",
            "Bozeman\n",
            "Los Angeles\n",
            "Rochester\n",
            "Newark\n",
            "New York City\n",
            "Boston\n",
            "Washington D.C.\n",
            "Fort Worth\n",
            "Rhode Island\n",
            "Santa Clara County\n",
            "Cambridge\n",
            "Pacific Grove\n",
            "Santa Cruz County\n",
            "Salem\n",
            "Columbus\n",
            "Nashville\n",
            "Austin\n",
            "Denver\n",
            "Twin Cities\n",
            "San Diego\n",
            "Broward County\n",
            "Seattle\n",
            "Clark County\n",
            "Jersey City\n"
          ]
        }
      ],
      "source": [
        "print(f\"Unique number of citites in this dataset: {len(df['city'].unique())}\")\n",
        "print()\n",
        "for city in df['city'].unique():\n",
        "    print(city)"
      ]
    },
    {
      "cell_type": "markdown",
      "metadata": {},
      "source": [
        "## <a id='toc2_4_'></a>[Check that all state names came in:](#toc0_)"
      ]
    },
    {
      "cell_type": "code",
      "execution_count": 48,
      "metadata": {
        "id": "jmlOAQLf99Rs",
        "outputId": "e32d4091-442d-4534-c480-e60368819b15"
      },
      "outputs": [
        {
          "name": "stdout",
          "output_type": "stream",
          "text": [
            "Unique number of states in this dataset: 32\n",
            "\n",
            "North Carolina\n",
            "Hawaii\n",
            "Texas\n",
            "California\n",
            "Oregon\n",
            "Illinois\n",
            "Louisiana\n",
            "Montana\n",
            "New York\n",
            "New Jersey\n",
            "Massachusetts\n",
            "District of Columbia\n",
            "Rhode Island\n",
            "Ohio\n",
            "Tennessee\n",
            "Colorado\n",
            "Minnesota\n",
            "Florida\n",
            "Washington\n",
            "Nevada\n"
          ]
        }
      ],
      "source": [
        "print(f\"Unique number of states in this dataset: {len(df['city'].unique())}\")\n",
        "print()\n",
        "for state in df['state'].unique():\n",
        "    print(state)"
      ]
    },
    {
      "cell_type": "markdown",
      "metadata": {},
      "source": [
        "# <a id='toc3_'></a>[Remove Line Breaks and other special characters](#toc0_)\n",
        "- There were many different special characters that were causing column off-setting in exported csv\n",
        "- When I inspected the csv I exported to make available in Google Colab, I found that after text columns such as \"host_about\"...\n",
        "- A bunch of columns would be blank, which off-set the values of future columns\n",
        "- I removed ALL special characters from all fields except whitespace and `-_,.` (dash, underscore, comma, period)"
      ]
    },
    {
      "cell_type": "code",
      "execution_count": 49,
      "metadata": {
        "id": "OsHkNX2s99Rs"
      },
      "outputs": [],
      "source": [
        "# Python \"object\" dtype is tricky - make sure to include it for .replace\n",
        "# I can avoid converting all text columns to dtype \"string\" first ny using \"include='object'\"\n",
        "for i in df.select_dtypes(include='object').columns:\n",
        "    df[i]=df[i].str.replace('[ ](?=[ ])|[^-_,.A-Za-z0-9 ]+','', regex=True)"
      ]
    },
    {
      "cell_type": "code",
      "execution_count": 50,
      "metadata": {
        "id": "99_F83_v99Rt",
        "outputId": "a11409d7-d0cd-48f6-d2e9-dfef65571d2d"
      },
      "outputs": [
        {
          "data": {
            "text/plain": [
              "0       Hello My husband and I are looking forward to hosting guests in our home as well as being a guest of others during our travels. We became AirBnB hosts in 2014 and have since hosted more than 2,000 bookings. In 2018, we became AirBnB superhostsWe live in Asheville in the beautiful mountains of western North Carolina.Allison works as a fourth grade teacher at Mills River Elementary School. Peter works as the Trails Coordinator at a regional land trust, Conserving Carolina. Both of us work to keep this region we love as wonderful as it is today, and make it even better for future generations.We love to take road trips throughout the year. We have appreciated the kindness of many over the years who have let us stay in their home or camp in their yard, or have rented a room to us for a reasonable rate. We are guests who are focused on our travels and we most often are seeking simply a room to hang our hat for the night before our travels resume the following morning. For that reason, most hosts barely know that we are there. In appreciation for the kindness shown to us over the years, we pay it forward by being clean and courteous when we are guests in the homes of others, and we are seeking to host guests who are similarly self-sufficient and simply seeking a basic place for the night.We look forward to you staying in our home\n",
              "73      Hello My husband and I are looking forward to hosting guests in our home as well as being a guest of others during our travels. We became AirBnB hosts in 2014 and have since hosted more than 2,000 bookings. In 2018, we became AirBnB superhostsWe live in Asheville in the beautiful mountains of western North Carolina.Allison works as a fourth grade teacher at Mills River Elementary School. Peter works as the Trails Coordinator at a regional land trust, Conserving Carolina. Both of us work to keep this region we love as wonderful as it is today, and make it even better for future generations.We love to take road trips throughout the year. We have appreciated the kindness of many over the years who have let us stay in their home or camp in their yard, or have rented a room to us for a reasonable rate. We are guests who are focused on our travels and we most often are seeking simply a room to hang our hat for the night before our travels resume the following morning. For that reason, most hosts barely know that we are there. In appreciation for the kindness shown to us over the years, we pay it forward by being clean and courteous when we are guests in the homes of others, and we are seeking to host guests who are similarly self-sufficient and simply seeking a basic place for the night.We look forward to you staying in our home\n",
              "1276    Hello My husband and I are looking forward to hosting guests in our home as well as being a guest of others during our travels. We became AirBnB hosts in 2014 and have since hosted more than 2,000 bookings. In 2018, we became AirBnB superhostsWe live in Asheville in the beautiful mountains of western North Carolina.Allison works as a fourth grade teacher at Mills River Elementary School. Peter works as the Trails Coordinator at a regional land trust, Conserving Carolina. Both of us work to keep this region we love as wonderful as it is today, and make it even better for future generations.We love to take road trips throughout the year. We have appreciated the kindness of many over the years who have let us stay in their home or camp in their yard, or have rented a room to us for a reasonable rate. We are guests who are focused on our travels and we most often are seeking simply a room to hang our hat for the night before our travels resume the following morning. For that reason, most hosts barely know that we are there. In appreciation for the kindness shown to us over the years, we pay it forward by being clean and courteous when we are guests in the homes of others, and we are seeking to host guests who are similarly self-sufficient and simply seeking a basic place for the night.We look forward to you staying in our home\n",
              "Name: host_about, dtype: object"
            ]
          },
          "execution_count": 50,
          "metadata": {},
          "output_type": "execute_result"
        }
      ],
      "source": [
        "# Check a sample row that I found broke the exported csv because it contained newline characters\n",
        "# (including hidden chars not visible in pandas)\n",
        "pd.set_option('display.max_colwidth', 3000)\n",
        "df['host_about'].loc[df['host_about'].str.contains('We live in Asheville in the beautiful mountains of western North Carolina', na=False)].head(20)"
      ]
    },
    {
      "cell_type": "markdown",
      "metadata": {},
      "source": [
        "### <a id='toc3_1_1_'></a>[Success! There are no line breaks in the text above.](#toc0_)"
      ]
    },
    {
      "cell_type": "markdown",
      "metadata": {},
      "source": [
        "# <a id='toc4_'></a>[Explore Duplicates:](#toc0_)"
      ]
    },
    {
      "cell_type": "markdown",
      "metadata": {},
      "source": [
        "## <a id='toc4_1_'></a>[Duplicates on `ID`](#toc0_)"
      ]
    },
    {
      "cell_type": "code",
      "execution_count": 51,
      "metadata": {
        "id": "Klxl11yK99Rt",
        "outputId": "e7e5fffd-35d3-4d95-de37-b9025301b283"
      },
      "outputs": [
        {
          "data": {
            "text/html": [
              "<div>\n",
              "<style scoped>\n",
              "    .dataframe tbody tr th:only-of-type {\n",
              "        vertical-align: middle;\n",
              "    }\n",
              "\n",
              "    .dataframe tbody tr th {\n",
              "        vertical-align: top;\n",
              "    }\n",
              "\n",
              "    .dataframe thead th {\n",
              "        text-align: right;\n",
              "    }\n",
              "</style>\n",
              "<table border=\"1\" class=\"dataframe\">\n",
              "  <thead>\n",
              "    <tr style=\"text-align: right;\">\n",
              "      <th></th>\n",
              "      <th>id</th>\n",
              "      <th>listing_url</th>\n",
              "      <th>scrape_id</th>\n",
              "      <th>last_scraped</th>\n",
              "      <th>source</th>\n",
              "      <th>name</th>\n",
              "      <th>description</th>\n",
              "      <th>neighborhood_overview</th>\n",
              "      <th>picture_url</th>\n",
              "      <th>host_id</th>\n",
              "      <th>...</th>\n",
              "      <th>review_scores_value</th>\n",
              "      <th>license</th>\n",
              "      <th>instant_bookable</th>\n",
              "      <th>calculated_host_listings_count</th>\n",
              "      <th>calculated_host_listings_count_entire_homes</th>\n",
              "      <th>calculated_host_listings_count_private_rooms</th>\n",
              "      <th>calculated_host_listings_count_shared_rooms</th>\n",
              "      <th>reviews_per_month</th>\n",
              "      <th>city</th>\n",
              "      <th>state</th>\n",
              "    </tr>\n",
              "  </thead>\n",
              "  <tbody>\n",
              "    <tr>\n",
              "      <th>47</th>\n",
              "      <td>1398981</td>\n",
              "      <td>httpswww.airbnb.comrooms1398981</td>\n",
              "      <td>20230918050432</td>\n",
              "      <td>2023-09-18</td>\n",
              "      <td>city scrape</td>\n",
              "      <td>Bungalow in Palo Alto  4.81  1 bedroom  2 beds  1 bath</td>\n",
              "      <td>2 bedroom, 1 bathroom, cozy kitchen and access to laundry room. br Youll love my place because o...</td>\n",
              "      <td>Please note my home is located on the Westside of Palo Alto, I am on the border of Menlo park an...</td>\n",
              "      <td>httpsa0.muscache.compicturesf2d6bbfd-dac5-4379-a86a-10ecbb28c982.jpg</td>\n",
              "      <td>52835</td>\n",
              "      <td>...</td>\n",
              "      <td>4.73</td>\n",
              "      <td>NaN</td>\n",
              "      <td>f</td>\n",
              "      <td>1</td>\n",
              "      <td>1</td>\n",
              "      <td>0</td>\n",
              "      <td>0</td>\n",
              "      <td>0.3</td>\n",
              "      <td>San Mateo County</td>\n",
              "      <td>California</td>\n",
              "    </tr>\n",
              "    <tr>\n",
              "      <th>79</th>\n",
              "      <td>1398981</td>\n",
              "      <td>httpswww.airbnb.comrooms1398981</td>\n",
              "      <td>20230918144140</td>\n",
              "      <td>2023-09-18</td>\n",
              "      <td>city scrape</td>\n",
              "      <td>Bungalow in Palo Alto  4.81  1 bedroom  2 beds  1 bath</td>\n",
              "      <td>2 bedroom, 1 bathroom, cozy kitchen and access to laundry room. br Youll love my place because o...</td>\n",
              "      <td>Please note my home is located on the Westside of Palo Alto, I am on the border of Menlo park an...</td>\n",
              "      <td>httpsa0.muscache.compicturesf2d6bbfd-dac5-4379-a86a-10ecbb28c982.jpg</td>\n",
              "      <td>52835</td>\n",
              "      <td>...</td>\n",
              "      <td>4.73</td>\n",
              "      <td>NaN</td>\n",
              "      <td>f</td>\n",
              "      <td>1</td>\n",
              "      <td>1</td>\n",
              "      <td>0</td>\n",
              "      <td>0</td>\n",
              "      <td>0.3</td>\n",
              "      <td>Santa Clara County</td>\n",
              "      <td>California</td>\n",
              "    </tr>\n",
              "  </tbody>\n",
              "</table>\n",
              "<p>2 rows × 77 columns</p>\n",
              "</div>"
            ],
            "text/plain": [
              "         id                      listing_url       scrape_id last_scraped  \\\n",
              "47  1398981  httpswww.airbnb.comrooms1398981  20230918050432   2023-09-18   \n",
              "79  1398981  httpswww.airbnb.comrooms1398981  20230918144140   2023-09-18   \n",
              "\n",
              "         source                                                    name  \\\n",
              "47  city scrape  Bungalow in Palo Alto  4.81  1 bedroom  2 beds  1 bath   \n",
              "79  city scrape  Bungalow in Palo Alto  4.81  1 bedroom  2 beds  1 bath   \n",
              "\n",
              "                                                                                            description  \\\n",
              "47  2 bedroom, 1 bathroom, cozy kitchen and access to laundry room. br Youll love my place because o...   \n",
              "79  2 bedroom, 1 bathroom, cozy kitchen and access to laundry room. br Youll love my place because o...   \n",
              "\n",
              "                                                                                  neighborhood_overview  \\\n",
              "47  Please note my home is located on the Westside of Palo Alto, I am on the border of Menlo park an...   \n",
              "79  Please note my home is located on the Westside of Palo Alto, I am on the border of Menlo park an...   \n",
              "\n",
              "                                                             picture_url  \\\n",
              "47  httpsa0.muscache.compicturesf2d6bbfd-dac5-4379-a86a-10ecbb28c982.jpg   \n",
              "79  httpsa0.muscache.compicturesf2d6bbfd-dac5-4379-a86a-10ecbb28c982.jpg   \n",
              "\n",
              "    host_id  ... review_scores_value license instant_bookable  \\\n",
              "47    52835  ...                4.73     NaN                f   \n",
              "79    52835  ...                4.73     NaN                f   \n",
              "\n",
              "   calculated_host_listings_count calculated_host_listings_count_entire_homes  \\\n",
              "47                              1                                           1   \n",
              "79                              1                                           1   \n",
              "\n",
              "   calculated_host_listings_count_private_rooms  \\\n",
              "47                                            0   \n",
              "79                                            0   \n",
              "\n",
              "   calculated_host_listings_count_shared_rooms reviews_per_month  \\\n",
              "47                                           0               0.3   \n",
              "79                                           0               0.3   \n",
              "\n",
              "                  city       state  \n",
              "47    San Mateo County  California  \n",
              "79  Santa Clara County  California  \n",
              "\n",
              "[2 rows x 77 columns]"
            ]
          },
          "execution_count": 51,
          "metadata": {},
          "output_type": "execute_result"
        }
      ],
      "source": [
        "# There is one listing that's duplicated on 'id' and it also has the same URL, so we can safely remove this\n",
        "pd.set_option('display.max_colwidth', 100)\n",
        "df[df.duplicated(['id'], keep=False)]\n"
      ]
    },
    {
      "cell_type": "markdown",
      "metadata": {},
      "source": [
        "### <a id='toc4_1_1_'></a>[Drop the above duplicate Columns:](#toc0_)"
      ]
    },
    {
      "cell_type": "code",
      "execution_count": 52,
      "metadata": {
        "id": "P7mhl4Vu99Rt"
      },
      "outputs": [],
      "source": [
        "df = df.drop_duplicates(subset=['id'])"
      ]
    },
    {
      "cell_type": "markdown",
      "metadata": {},
      "source": [
        "## <a id='toc4_2_'></a>[Check Again after Dropping:](#toc0_)"
      ]
    },
    {
      "cell_type": "code",
      "execution_count": 53,
      "metadata": {
        "id": "tghYMGxP99Rt",
        "outputId": "60d2b675-00a5-4023-f3ac-552e23caec2c"
      },
      "outputs": [
        {
          "data": {
            "text/html": [
              "<div>\n",
              "<style scoped>\n",
              "    .dataframe tbody tr th:only-of-type {\n",
              "        vertical-align: middle;\n",
              "    }\n",
              "\n",
              "    .dataframe tbody tr th {\n",
              "        vertical-align: top;\n",
              "    }\n",
              "\n",
              "    .dataframe thead th {\n",
              "        text-align: right;\n",
              "    }\n",
              "</style>\n",
              "<table border=\"1\" class=\"dataframe\">\n",
              "  <thead>\n",
              "    <tr style=\"text-align: right;\">\n",
              "      <th></th>\n",
              "      <th>id</th>\n",
              "      <th>listing_url</th>\n",
              "      <th>scrape_id</th>\n",
              "      <th>last_scraped</th>\n",
              "      <th>source</th>\n",
              "      <th>name</th>\n",
              "      <th>description</th>\n",
              "      <th>neighborhood_overview</th>\n",
              "      <th>picture_url</th>\n",
              "      <th>host_id</th>\n",
              "      <th>...</th>\n",
              "      <th>review_scores_value</th>\n",
              "      <th>license</th>\n",
              "      <th>instant_bookable</th>\n",
              "      <th>calculated_host_listings_count</th>\n",
              "      <th>calculated_host_listings_count_entire_homes</th>\n",
              "      <th>calculated_host_listings_count_private_rooms</th>\n",
              "      <th>calculated_host_listings_count_shared_rooms</th>\n",
              "      <th>reviews_per_month</th>\n",
              "      <th>city</th>\n",
              "      <th>state</th>\n",
              "    </tr>\n",
              "  </thead>\n",
              "  <tbody>\n",
              "  </tbody>\n",
              "</table>\n",
              "<p>0 rows × 77 columns</p>\n",
              "</div>"
            ],
            "text/plain": [
              "Empty DataFrame\n",
              "Columns: [id, listing_url, scrape_id, last_scraped, source, name, description, neighborhood_overview, picture_url, host_id, host_url, host_name, host_since, host_location, host_about, host_response_time, host_response_rate, host_acceptance_rate, host_is_superhost, host_thumbnail_url, host_picture_url, host_neighbourhood, host_listings_count, host_total_listings_count, host_verifications, host_has_profile_pic, host_identity_verified, neighbourhood, neighbourhood_cleansed, neighbourhood_group_cleansed, latitude, longitude, property_type, room_type, accommodates, bathrooms, bathrooms_text, bedrooms, beds, amenities, price, minimum_nights, maximum_nights, minimum_minimum_nights, maximum_minimum_nights, minimum_maximum_nights, maximum_maximum_nights, minimum_nights_avg_ntm, maximum_nights_avg_ntm, calendar_updated, has_availability, availability_30, availability_60, availability_90, availability_365, calendar_last_scraped, number_of_reviews, number_of_reviews_ltm, number_of_reviews_l30d, first_review, last_review, review_scores_rating, review_scores_accuracy, review_scores_cleanliness, review_scores_checkin, review_scores_communication, review_scores_location, review_scores_value, license, instant_bookable, calculated_host_listings_count, calculated_host_listings_count_entire_homes, calculated_host_listings_count_private_rooms, calculated_host_listings_count_shared_rooms, reviews_per_month, city, state]\n",
              "Index: []\n",
              "\n",
              "[0 rows x 77 columns]"
            ]
          },
          "execution_count": 53,
          "metadata": {},
          "output_type": "execute_result"
        }
      ],
      "source": [
        "df[df.duplicated(['id'], keep=False)]"
      ]
    },
    {
      "cell_type": "markdown",
      "metadata": {},
      "source": [
        "## <a id='toc4_3_'></a>[Duplicates on All Rows except `id`?](#toc0_)\n",
        "- Check for rows where all values are duplicated EXCEPT `id`:\n"
      ]
    },
    {
      "cell_type": "code",
      "execution_count": 54,
      "metadata": {
        "id": "aU1qIEyj99Rt"
      },
      "outputs": [],
      "source": [
        "dupe_desc = pd.DataFrame(df.drop(['id'],axis=1).values)"
      ]
    },
    {
      "cell_type": "code",
      "execution_count": 55,
      "metadata": {
        "id": "RyRDK7X399Rt",
        "outputId": "d6d5c406-9978-4881-e3f5-a3c331e243c6"
      },
      "outputs": [
        {
          "name": "stdout",
          "output_type": "stream",
          "text": [
            "<class 'pandas.core.frame.DataFrame'>\n"
          ]
        }
      ],
      "source": [
        "print(type(dupe_desc))"
      ]
    },
    {
      "cell_type": "code",
      "execution_count": 56,
      "metadata": {
        "id": "SOYbyQO199Rt",
        "outputId": "4ded7908-12c8-413c-fef2-b5aa9ca355c7"
      },
      "outputs": [
        {
          "name": "stdout",
          "output_type": "stream",
          "text": [
            "Empty DataFrame\n",
            "Columns: [id, listing_url, scrape_id, last_scraped, source, name, description, neighborhood_overview, picture_url, host_id, host_url, host_name, host_since, host_location, host_about, host_response_time, host_response_rate, host_acceptance_rate, host_is_superhost, host_thumbnail_url, host_picture_url, host_neighbourhood, host_listings_count, host_total_listings_count, host_verifications, host_has_profile_pic, host_identity_verified, neighbourhood, neighbourhood_cleansed, neighbourhood_group_cleansed, latitude, longitude, property_type, room_type, accommodates, bathrooms, bathrooms_text, bedrooms, beds, amenities, price, minimum_nights, maximum_nights, minimum_minimum_nights, maximum_minimum_nights, minimum_maximum_nights, maximum_maximum_nights, minimum_nights_avg_ntm, maximum_nights_avg_ntm, calendar_updated, has_availability, availability_30, availability_60, availability_90, availability_365, calendar_last_scraped, number_of_reviews, number_of_reviews_ltm, number_of_reviews_l30d, first_review, last_review, review_scores_rating, review_scores_accuracy, review_scores_cleanliness, review_scores_checkin, review_scores_communication, review_scores_location, review_scores_value, license, instant_bookable, calculated_host_listings_count, calculated_host_listings_count_entire_homes, calculated_host_listings_count_private_rooms, calculated_host_listings_count_shared_rooms, reviews_per_month, city, state]\n",
            "Index: []\n",
            "\n",
            "[0 rows x 77 columns]\n"
          ]
        },
        {
          "data": {
            "text/html": [
              "<div>\n",
              "<style scoped>\n",
              "    .dataframe tbody tr th:only-of-type {\n",
              "        vertical-align: middle;\n",
              "    }\n",
              "\n",
              "    .dataframe tbody tr th {\n",
              "        vertical-align: top;\n",
              "    }\n",
              "\n",
              "    .dataframe thead th {\n",
              "        text-align: right;\n",
              "    }\n",
              "</style>\n",
              "<table border=\"1\" class=\"dataframe\">\n",
              "  <thead>\n",
              "    <tr style=\"text-align: right;\">\n",
              "      <th></th>\n",
              "      <th>0</th>\n",
              "      <th>1</th>\n",
              "      <th>2</th>\n",
              "      <th>3</th>\n",
              "      <th>4</th>\n",
              "      <th>5</th>\n",
              "      <th>6</th>\n",
              "      <th>7</th>\n",
              "      <th>8</th>\n",
              "      <th>9</th>\n",
              "      <th>...</th>\n",
              "      <th>66</th>\n",
              "      <th>67</th>\n",
              "      <th>68</th>\n",
              "      <th>69</th>\n",
              "      <th>70</th>\n",
              "      <th>71</th>\n",
              "      <th>72</th>\n",
              "      <th>73</th>\n",
              "      <th>74</th>\n",
              "      <th>75</th>\n",
              "    </tr>\n",
              "  </thead>\n",
              "  <tbody>\n",
              "  </tbody>\n",
              "</table>\n",
              "<p>0 rows × 76 columns</p>\n",
              "</div>"
            ],
            "text/plain": [
              "Empty DataFrame\n",
              "Columns: [0, 1, 2, 3, 4, 5, 6, 7, 8, 9, 10, 11, 12, 13, 14, 15, 16, 17, 18, 19, 20, 21, 22, 23, 24, 25, 26, 27, 28, 29, 30, 31, 32, 33, 34, 35, 36, 37, 38, 39, 40, 41, 42, 43, 44, 45, 46, 47, 48, 49, 50, 51, 52, 53, 54, 55, 56, 57, 58, 59, 60, 61, 62, 63, 64, 65, 66, 67, 68, 69, 70, 71, 72, 73, 74, 75]\n",
              "Index: []\n",
              "\n",
              "[0 rows x 76 columns]"
            ]
          },
          "execution_count": 56,
          "metadata": {},
          "output_type": "execute_result"
        }
      ],
      "source": [
        "print(df[df.duplicated()])\n",
        "dupe_desc[dupe_desc.duplicated()]"
      ]
    },
    {
      "cell_type": "markdown",
      "metadata": {},
      "source": [
        "## <a id='toc4_4_'></a>[Duplicates on `description`](#toc0_)"
      ]
    },
    {
      "cell_type": "code",
      "execution_count": 57,
      "metadata": {
        "id": "NnVNLbBU99R2"
      },
      "outputs": [],
      "source": [
        "pd.set_option('display.max_colwidth', 3000)"
      ]
    },
    {
      "cell_type": "code",
      "execution_count": 58,
      "metadata": {
        "id": "fZw8kJrT99R2"
      },
      "outputs": [],
      "source": [
        "inspect_dupes = df[['id', 'description', 'listing_url']][df.duplicated(['description'])]"
      ]
    },
    {
      "cell_type": "code",
      "execution_count": 59,
      "metadata": {
        "id": "38OMIFkm99R2",
        "outputId": "c67e910b-8beb-48c3-8fc3-2d3905fef7ec"
      },
      "outputs": [
        {
          "data": {
            "text/html": [
              "<div>\n",
              "<style scoped>\n",
              "    .dataframe tbody tr th:only-of-type {\n",
              "        vertical-align: middle;\n",
              "    }\n",
              "\n",
              "    .dataframe tbody tr th {\n",
              "        vertical-align: top;\n",
              "    }\n",
              "\n",
              "    .dataframe thead th {\n",
              "        text-align: right;\n",
              "    }\n",
              "</style>\n",
              "<table border=\"1\" class=\"dataframe\">\n",
              "  <thead>\n",
              "    <tr style=\"text-align: right;\">\n",
              "      <th></th>\n",
              "      <th>id</th>\n",
              "      <th>description</th>\n",
              "      <th>listing_url</th>\n",
              "    </tr>\n",
              "  </thead>\n",
              "  <tbody>\n",
              "    <tr>\n",
              "      <th>33479</th>\n",
              "      <td>867036314829984141</td>\n",
              "      <td></td>\n",
              "      <td>httpswww.airbnb.comrooms867036314829984141</td>\n",
              "    </tr>\n",
              "    <tr>\n",
              "      <th>41108</th>\n",
              "      <td>927935810987192242</td>\n",
              "      <td></td>\n",
              "      <td>httpswww.airbnb.comrooms927935810987192242</td>\n",
              "    </tr>\n",
              "    <tr>\n",
              "      <th>8864</th>\n",
              "      <td>727747618102486531</td>\n",
              "      <td></td>\n",
              "      <td>httpswww.airbnb.comrooms727747618102486531</td>\n",
              "    </tr>\n",
              "    <tr>\n",
              "      <th>2284</th>\n",
              "      <td>961709908898772907</td>\n",
              "      <td></td>\n",
              "      <td>httpswww.airbnb.comrooms961709908898772907</td>\n",
              "    </tr>\n",
              "    <tr>\n",
              "      <th>41091</th>\n",
              "      <td>937200163326307413</td>\n",
              "      <td></td>\n",
              "      <td>httpswww.airbnb.comrooms937200163326307413</td>\n",
              "    </tr>\n",
              "  </tbody>\n",
              "</table>\n",
              "</div>"
            ],
            "text/plain": [
              "                       id description  \\\n",
              "33479  867036314829984141               \n",
              "41108  927935810987192242               \n",
              "8864   727747618102486531               \n",
              "2284   961709908898772907               \n",
              "41091  937200163326307413               \n",
              "\n",
              "                                      listing_url  \n",
              "33479  httpswww.airbnb.comrooms867036314829984141  \n",
              "41108  httpswww.airbnb.comrooms927935810987192242  \n",
              "8864   httpswww.airbnb.comrooms727747618102486531  \n",
              "2284   httpswww.airbnb.comrooms961709908898772907  \n",
              "41091  httpswww.airbnb.comrooms937200163326307413  "
            ]
          },
          "execution_count": 59,
          "metadata": {},
          "output_type": "execute_result"
        }
      ],
      "source": [
        "inspect_dupes.sort_values(by='description').head()"
      ]
    },
    {
      "cell_type": "markdown",
      "metadata": {},
      "source": [
        "### <a id='toc4_4_1_'></a>[Duplicate Descriptions - Findings:](#toc0_)\n",
        "- These tend to be rooms in hotel-like complexes -- which would be good to remove but may be a more intuitive way to do so, like room type."
      ]
    },
    {
      "cell_type": "markdown",
      "metadata": {},
      "source": [
        "# <a id='toc5_'></a>[Duplicates on listing_url](#toc0_)\n",
        "- There are 0 duplicated on `listing_url`"
      ]
    },
    {
      "cell_type": "code",
      "execution_count": 60,
      "metadata": {
        "id": "SznQFmMV99R2",
        "outputId": "ca5b6a7a-eb25-41c6-e782-1a910eb3c05b"
      },
      "outputs": [
        {
          "data": {
            "text/plain": [
              "274958"
            ]
          },
          "execution_count": 60,
          "metadata": {},
          "output_type": "execute_result"
        }
      ],
      "source": [
        "len(df)"
      ]
    },
    {
      "cell_type": "code",
      "execution_count": 61,
      "metadata": {
        "id": "45SDhDp099R2",
        "outputId": "0bfdeae3-e65f-4d88-b8f7-02ac8921507c"
      },
      "outputs": [
        {
          "data": {
            "text/plain": [
              "listing_url    274958\n",
              "dtype: int64"
            ]
          },
          "execution_count": 61,
          "metadata": {},
          "output_type": "execute_result"
        }
      ],
      "source": [
        "df[['listing_url']].nunique()"
      ]
    },
    {
      "cell_type": "code",
      "execution_count": 62,
      "metadata": {
        "id": "Ssj--Wut99R2"
      },
      "outputs": [],
      "source": [
        "inspect_dupes = df[['id', 'description', 'listing_url']][df.duplicated(['listing_url'])]"
      ]
    },
    {
      "cell_type": "markdown",
      "metadata": {},
      "source": [
        "## <a id='toc5_1_'></a>[Check for overall Duplicates:](#toc0_)\n",
        "- There are 0 entire row duplicates:"
      ]
    },
    {
      "cell_type": "code",
      "execution_count": 63,
      "metadata": {
        "id": "QVLOnXii99R2",
        "outputId": "c6d0f2e4-dd80-4e7b-9043-4a284e9bcd46"
      },
      "outputs": [
        {
          "name": "stdout",
          "output_type": "stream",
          "text": [
            "Empty DataFrame\n",
            "Columns: [id, listing_url, scrape_id, last_scraped, source, name, description, neighborhood_overview, picture_url, host_id, host_url, host_name, host_since, host_location, host_about, host_response_time, host_response_rate, host_acceptance_rate, host_is_superhost, host_thumbnail_url, host_picture_url, host_neighbourhood, host_listings_count, host_total_listings_count, host_verifications, host_has_profile_pic, host_identity_verified, neighbourhood, neighbourhood_cleansed, neighbourhood_group_cleansed, latitude, longitude, property_type, room_type, accommodates, bathrooms, bathrooms_text, bedrooms, beds, amenities, price, minimum_nights, maximum_nights, minimum_minimum_nights, maximum_minimum_nights, minimum_maximum_nights, maximum_maximum_nights, minimum_nights_avg_ntm, maximum_nights_avg_ntm, calendar_updated, has_availability, availability_30, availability_60, availability_90, availability_365, calendar_last_scraped, number_of_reviews, number_of_reviews_ltm, number_of_reviews_l30d, first_review, last_review, review_scores_rating, review_scores_accuracy, review_scores_cleanliness, review_scores_checkin, review_scores_communication, review_scores_location, review_scores_value, license, instant_bookable, calculated_host_listings_count, calculated_host_listings_count_entire_homes, calculated_host_listings_count_private_rooms, calculated_host_listings_count_shared_rooms, reviews_per_month, city, state]\n",
            "Index: []\n",
            "\n",
            "[0 rows x 77 columns]\n",
            "274958\n",
            "274958\n"
          ]
        }
      ],
      "source": [
        "print(df[df.duplicated()])\n",
        "\n",
        "print(len(df))\n",
        "print(len(df.duplicated()))"
      ]
    },
    {
      "cell_type": "markdown",
      "metadata": {},
      "source": [
        "## <a id='toc5_2_'></a>[There are 0 Duplicate rows to drop:](#toc0_)"
      ]
    },
    {
      "cell_type": "code",
      "execution_count": 64,
      "metadata": {
        "id": "X2toG1M1r-Vy",
        "outputId": "0bda1668-0d61-4d86-ef18-a5fea752c341"
      },
      "outputs": [
        {
          "data": {
            "text/plain": [
              "0"
            ]
          },
          "execution_count": 64,
          "metadata": {},
          "output_type": "execute_result"
        }
      ],
      "source": [
        "len(df)-len(df.drop_duplicates())"
      ]
    },
    {
      "cell_type": "markdown",
      "metadata": {},
      "source": [
        "# <a id='toc6_'></a>[Remove irrelevant columns and those that do not add predictive value](#toc0_)\n",
        "- Remove columns that don't add predictive value, or are irrelevant because brand-new listings created by first-time listers will be NULL when entered into model:\n",
        "- See \"data_understanding.ipynb\" for justifications to drop cols\n",
        "- Also remove columns that a first-time lister who has ONE listing wouldn't have, such as reviews and response rate, etc"
      ]
    },
    {
      "cell_type": "code",
      "execution_count": 65,
      "metadata": {
        "id": "Vs64V3tl99R2"
      },
      "outputs": [],
      "source": [
        "col_list = ['id', 'name', 'description', 'neighborhood_overview', 'host_location', 'host_about', 'host_neighbourhood', 'host_verifications', 'host_has_profile_pic', 'host_identity_verified', 'neighbourhood', 'neighbourhood_cleansed', 'neighbourhood_group_cleansed', 'latitude', 'longitude', 'property_type', 'room_type', 'accommodates', 'bathrooms', 'bathrooms_text', 'bedrooms', 'beds', 'amenities', 'price', 'minimum_nights', 'maximum_nights', 'has_availability', 'availability_30', 'availability_60', 'availability_90', 'availability_365', 'license', 'instant_bookable', 'city', 'state']\n",
        "df = df[col_list]"
      ]
    },
    {
      "cell_type": "markdown",
      "metadata": {},
      "source": [
        "# <a id='toc7_'></a>[Reset Index before exporting to Git:](#toc0_)\n",
        "- We don't necessarily need to do this, but it's good housekeeping."
      ]
    },
    {
      "cell_type": "code",
      "execution_count": 66,
      "metadata": {},
      "outputs": [],
      "source": [
        "df = df.reset_index(drop=True)"
      ]
    },
    {
      "cell_type": "code",
      "execution_count": 67,
      "metadata": {},
      "outputs": [
        {
          "data": {
            "text/html": [
              "<div>\n",
              "<style scoped>\n",
              "    .dataframe tbody tr th:only-of-type {\n",
              "        vertical-align: middle;\n",
              "    }\n",
              "\n",
              "    .dataframe tbody tr th {\n",
              "        vertical-align: top;\n",
              "    }\n",
              "\n",
              "    .dataframe thead th {\n",
              "        text-align: right;\n",
              "    }\n",
              "</style>\n",
              "<table border=\"1\" class=\"dataframe\">\n",
              "  <thead>\n",
              "    <tr style=\"text-align: right;\">\n",
              "      <th></th>\n",
              "      <th>id</th>\n",
              "      <th>name</th>\n",
              "      <th>description</th>\n",
              "      <th>neighborhood_overview</th>\n",
              "      <th>host_location</th>\n",
              "      <th>host_about</th>\n",
              "      <th>host_neighbourhood</th>\n",
              "      <th>host_verifications</th>\n",
              "      <th>host_has_profile_pic</th>\n",
              "      <th>host_identity_verified</th>\n",
              "      <th>...</th>\n",
              "      <th>maximum_nights</th>\n",
              "      <th>has_availability</th>\n",
              "      <th>availability_30</th>\n",
              "      <th>availability_60</th>\n",
              "      <th>availability_90</th>\n",
              "      <th>availability_365</th>\n",
              "      <th>license</th>\n",
              "      <th>instant_bookable</th>\n",
              "      <th>city</th>\n",
              "      <th>state</th>\n",
              "    </tr>\n",
              "  </thead>\n",
              "  <tbody>\n",
              "    <tr>\n",
              "      <th>0</th>\n",
              "      <td>3314819</td>\n",
              "      <td>Home in Asheville  4.75  1 bedroom  1 bed  1 private bath</td>\n",
              "      <td>Dont pay ridiculously high cleaning fees elsewhere We keep fees lo...</td>\n",
              "      <td>South slope of Brown Mountain overlooking south Asheville toward M...</td>\n",
              "      <td>Asheville, NC</td>\n",
              "      <td>Hello My husband and I are looking forward to hosting guests in ou...</td>\n",
              "      <td>NaN</td>\n",
              "      <td>email, phone</td>\n",
              "      <td>t</td>\n",
              "      <td>t</td>\n",
              "      <td>...</td>\n",
              "      <td>7</td>\n",
              "      <td>t</td>\n",
              "      <td>17</td>\n",
              "      <td>39</td>\n",
              "      <td>66</td>\n",
              "      <td>66</td>\n",
              "      <td>NaN</td>\n",
              "      <td>f</td>\n",
              "      <td>Asheville</td>\n",
              "      <td>North Carolina</td>\n",
              "    </tr>\n",
              "    <tr>\n",
              "      <th>1</th>\n",
              "      <td>108061</td>\n",
              "      <td>Rental unit in Asheville  4.51  1 bedroom  1 bed  1 bath</td>\n",
              "      <td>Walk to town in ten minutes Monthly rental includes all utilities,...</td>\n",
              "      <td>I love my neighborhood Its friendly, easy-going, quiet and the clo...</td>\n",
              "      <td>Asheville, NC</td>\n",
              "      <td>I am a long time resident of Asheville and am glad help you find g...</td>\n",
              "      <td>NaN</td>\n",
              "      <td>email, phone</td>\n",
              "      <td>t</td>\n",
              "      <td>t</td>\n",
              "      <td>...</td>\n",
              "      <td>365</td>\n",
              "      <td>t</td>\n",
              "      <td>0</td>\n",
              "      <td>2</td>\n",
              "      <td>32</td>\n",
              "      <td>203</td>\n",
              "      <td>NaN</td>\n",
              "      <td>f</td>\n",
              "      <td>Asheville</td>\n",
              "      <td>North Carolina</td>\n",
              "    </tr>\n",
              "    <tr>\n",
              "      <th>2</th>\n",
              "      <td>155305</td>\n",
              "      <td>Guesthouse in Asheville  4.59  1 bedroom  1 bed  1 bath</td>\n",
              "      <td>bThe spacebbr Pet friendly private cottage located behind the main...</td>\n",
              "      <td>We are within easy walk of pubs, breweries, music, thrift shops, g...</td>\n",
              "      <td>Asheville, NC</td>\n",
              "      <td>We operate a travelers hostel located in Historic West Asheville, ...</td>\n",
              "      <td>NaN</td>\n",
              "      <td>email, phone</td>\n",
              "      <td>t</td>\n",
              "      <td>t</td>\n",
              "      <td>...</td>\n",
              "      <td>365</td>\n",
              "      <td>t</td>\n",
              "      <td>22</td>\n",
              "      <td>39</td>\n",
              "      <td>65</td>\n",
              "      <td>268</td>\n",
              "      <td>NaN</td>\n",
              "      <td>f</td>\n",
              "      <td>Asheville</td>\n",
              "      <td>North Carolina</td>\n",
              "    </tr>\n",
              "  </tbody>\n",
              "</table>\n",
              "<p>3 rows × 35 columns</p>\n",
              "</div>"
            ],
            "text/plain": [
              "        id                                                       name  \\\n",
              "0  3314819  Home in Asheville  4.75  1 bedroom  1 bed  1 private bath   \n",
              "1   108061   Rental unit in Asheville  4.51  1 bedroom  1 bed  1 bath   \n",
              "2   155305    Guesthouse in Asheville  4.59  1 bedroom  1 bed  1 bath   \n",
              "\n",
              "                                                             description  \\\n",
              "0  Dont pay ridiculously high cleaning fees elsewhere We keep fees lo...   \n",
              "1  Walk to town in ten minutes Monthly rental includes all utilities,...   \n",
              "2  bThe spacebbr Pet friendly private cottage located behind the main...   \n",
              "\n",
              "                                                   neighborhood_overview  \\\n",
              "0  South slope of Brown Mountain overlooking south Asheville toward M...   \n",
              "1  I love my neighborhood Its friendly, easy-going, quiet and the clo...   \n",
              "2  We are within easy walk of pubs, breweries, music, thrift shops, g...   \n",
              "\n",
              "   host_location  \\\n",
              "0  Asheville, NC   \n",
              "1  Asheville, NC   \n",
              "2  Asheville, NC   \n",
              "\n",
              "                                                              host_about  \\\n",
              "0  Hello My husband and I are looking forward to hosting guests in ou...   \n",
              "1  I am a long time resident of Asheville and am glad help you find g...   \n",
              "2  We operate a travelers hostel located in Historic West Asheville, ...   \n",
              "\n",
              "  host_neighbourhood host_verifications host_has_profile_pic  \\\n",
              "0                NaN       email, phone                    t   \n",
              "1                NaN       email, phone                    t   \n",
              "2                NaN       email, phone                    t   \n",
              "\n",
              "  host_identity_verified  ... maximum_nights has_availability availability_30  \\\n",
              "0                      t  ...              7                t              17   \n",
              "1                      t  ...            365                t               0   \n",
              "2                      t  ...            365                t              22   \n",
              "\n",
              "   availability_60  availability_90 availability_365 license  \\\n",
              "0               39               66               66     NaN   \n",
              "1                2               32              203     NaN   \n",
              "2               39               65              268     NaN   \n",
              "\n",
              "   instant_bookable       city           state  \n",
              "0                 f  Asheville  North Carolina  \n",
              "1                 f  Asheville  North Carolina  \n",
              "2                 f  Asheville  North Carolina  \n",
              "\n",
              "[3 rows x 35 columns]"
            ]
          },
          "execution_count": 67,
          "metadata": {},
          "output_type": "execute_result"
        }
      ],
      "source": [
        "pd.set_option('display.max_colwidth', 70)\n",
        "df.head(3)"
      ]
    },
    {
      "cell_type": "markdown",
      "metadata": {},
      "source": [
        "# <a id='toc8_'></a>[Export data with dropped columns to Git Repo:](#toc0_)\n",
        "- Export Cleaned Data to CSV:\n",
        "- For this step, you'll need to have Git Large File Service installed: https://git-lfs.com/"
      ]
    },
    {
      "cell_type": "code",
      "execution_count": 68,
      "metadata": {
        "id": "yy_tQb0D99R2"
      },
      "outputs": [],
      "source": [
        "airbnb_path = '/Users/claire/git/flatiron/capstone/airbnb_price_prediction/airbnb_data.csv'\n",
        "df.to_csv(airbnb_path, encoding='utf-8-sig', index=False)"
      ]
    },
    {
      "cell_type": "markdown",
      "metadata": {},
      "source": [
        "## <a id='toc8_1_'></a>[Import CSV stored in GitHub to Google Colab](#toc0_)\n",
        "- The remaining code must be executed in Google Colab and may require a professional subscription to run.\n",
        "- Code for importing csvs from GitHub to Google Colab:"
      ]
    },
    {
      "cell_type": "code",
      "execution_count": 69,
      "metadata": {
        "id": "KpvuuZORuHvb"
      },
      "outputs": [],
      "source": [
        "# To get this URL, so to the csv file on GitHub, choose \"Blame\", and then click on the \"raw\" link\n",
        "# url = 'https://media.githubusercontent.com/media/clairesarraille/airbnb_price_prediction/main/airbnb_data.csv?token=ARCBHGLTVY3OAQ27BXQQBRDFJPI4K'\n",
        "# df = pd.read_csv(url)"
      ]
    }
  ],
  "metadata": {
    "colab": {
      "include_colab_link": true,
      "provenance": []
    },
    "kernelspec": {
      "display_name": "Python 3",
      "name": "python3"
    },
    "language_info": {
      "codemirror_mode": {
        "name": "ipython",
        "version": 3
      },
      "file_extension": ".py",
      "mimetype": "text/x-python",
      "name": "python",
      "nbconvert_exporter": "python",
      "pygments_lexer": "ipython3",
      "version": "3.8.5"
    }
  },
  "nbformat": 4,
  "nbformat_minor": 0
}
