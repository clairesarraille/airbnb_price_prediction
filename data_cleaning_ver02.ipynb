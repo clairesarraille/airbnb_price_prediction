{
  "cells": [
    {
      "cell_type": "markdown",
      "metadata": {
        "colab_type": "text",
        "id": "view-in-github"
      },
      "source": [
        "<a href=\"https://colab.research.google.com/github/clairesarraille/airbnb_price_prediction/blob/main/data_cleaning_ver01.ipynb\" target=\"_parent\"><img src=\"https://colab.research.google.com/assets/colab-badge.svg\" alt=\"Open In Colab\"/></a>"
      ]
    },
    {
      "cell_type": "code",
      "execution_count": null,
      "metadata": {
        "colab": {
          "base_uri": "https://localhost:8080/",
          "height": 832
        },
        "id": "gNi3BiQzAuxy",
        "outputId": "2107700e-d26e-471d-d218-1c1a30c3aea4"
      },
      "outputs": [],
      "source": [
        "#!pip install missingno\n",
        "#!pip install phigaro"
      ]
    },
    {
      "cell_type": "code",
      "execution_count": 1,
      "metadata": {
        "colab": {
          "base_uri": "https://localhost:8080/"
        },
        "id": "WJ9-VkbksIpH",
        "outputId": "2786ee7d-1945-4eb2-8545-6ea5c8cccfad"
      },
      "outputs": [
        {
          "name": "stdout",
          "output_type": "stream",
          "text": [
            "Drive already mounted at /content/drive; to attempt to forcibly remount, call drive.mount(\"/content/drive\", force_remount=True).\n"
          ]
        }
      ],
      "source": [
        "# Core Packages:\n",
        "import pandas as pd\n",
        "import pickle\n",
        "\n",
        "\"\"\"\n",
        "# Visualize Missing Data:\n",
        "import missingno as msno\n",
        "import matplotlib.pyplot as plt\n",
        "%matplotlib inline\n",
        "\"\"\"\n",
        "\n",
        "\"\"\"\n",
        "# Google Colab:\n",
        "from google.colab import data_table\n",
        "data_table.enable_dataframe_formatter()\n",
        "\"\"\"\n",
        "\n",
        "\"\"\"\n",
        "# Mount Drive:\n",
        "from google.colab import drive\n",
        "drive.mount('/content/drive')\n",
        "\"\"\"\n"
      ]
    },
    {
      "cell_type": "markdown",
      "metadata": {},
      "source": [
        "## Pickle --> Google Colab Stuff"
      ]
    },
    {
      "cell_type": "code",
      "execution_count": null,
      "metadata": {
        "id": "bKG3OzI5C6RL"
      },
      "outputs": [],
      "source": [
        "#import pickle\n",
        "#from google.colab import drive\n",
        "#drive.mount('/content/drive')\n",
        "#DATA_PATH = \"/content/drive/Data\"\n",
        "#infile = open(DATA_PATH+'/notMNIST.pickle','rb')\n",
        "#best_model2 = pickle.load(infile)"
      ]
    },
    {
      "cell_type": "code",
      "execution_count": null,
      "metadata": {
        "colab": {
          "base_uri": "https://localhost:8080/",
          "height": 357
        },
        "id": "AQKD-E_O_3ha",
        "outputId": "6b6c0f7e-c843-4892-a6d3-893ff8b4319d"
      },
      "outputs": [],
      "source": [
        "\"\"\"\n",
        "#/pickles/all_airbnb_data.pkl\n",
        "import pickle\n",
        "#from google.colab import drive\n",
        "#drive.mount('/content/drive/MyDrive')\n",
        "# Import Pickled Data:\n",
        "DATA_PATH = '/content/drive/MyDrive/pickles'\n",
        "infile = open(DATA_PATH+'/all_airbnb_data.pkl', 'rb')\n",
        "\n",
        "#pd.read_pickle(infile)\n",
        "all_airbnb_data = pickle.load(infile)\n",
        "#all_airbnb_data.head(2)\n",
        "\"\"\""
      ]
    },
    {
      "cell_type": "code",
      "execution_count": null,
      "metadata": {
        "id": "nsevu3GJ_3hb"
      },
      "outputs": [],
      "source": [
        "# Make sure id column didn't revert to scientific notation for Los Angeles (this was a concern b/c file had macros)\n",
        "all_airbnb_data.loc[all_airbnb_data['city'] == 'Los-Angeles'].sort_values(by = 'id',ascending=False).head(3)"
      ]
    },
    {
      "cell_type": "code",
      "execution_count": 20,
      "metadata": {
        "colab": {
          "base_uri": "https://localhost:8080/"
        },
        "id": "JUM2sk4ZEJaq",
        "outputId": "59a8bbf1-492c-4dad-d141-71e8eb82229a"
      },
      "outputs": [
        {
          "name": "stdout",
          "output_type": "stream",
          "text": [
            "Drive already mounted at /content/drive; to attempt to forcibly remount, call drive.mount(\"/content/drive\", force_remount=True).\n"
          ]
        }
      ],
      "source": [
        "from google.colab import drive\n",
        "drive.mount('/content/drive')"
      ]
    },
    {
      "cell_type": "code",
      "execution_count": null,
      "metadata": {
        "id": "GjKBbiLu_3hb"
      },
      "outputs": [],
      "source": [
        "# Make sure id column didn't revert to scientific notation for Los Angeles (this was a concern b/c file had macros)\n",
        "all_airbnb_data.loc[all_airbnb_data['city'] == 'Pacific-Grove'].sort_values(by = 'id',ascending=False).head(3)"
      ]
    },
    {
      "cell_type": "markdown",
      "metadata": {
        "id": "k2f_qFcQ_3hb"
      },
      "source": [
        "## Check that all city names came in:"
      ]
    },
    {
      "cell_type": "code",
      "execution_count": null,
      "metadata": {
        "id": "2D-WEdsd_3hc"
      },
      "outputs": [],
      "source": [
        "print(f\"Unique number of citites in this dataset: {len(all_airbnb_data['city'].unique())}\")\n",
        "print()\n",
        "for city in all_airbnb_data['city'].unique():\n",
        "    print(city)\n"
      ]
    },
    {
      "cell_type": "markdown",
      "metadata": {
        "id": "x_QIZW55_3hc"
      },
      "source": [
        "## Remove columns that don't add predictive value, or are irrelevant because brand-new listings created by first-time listers will be NULL when entered into model:\n",
        "- See \"data_understanding.ipynb\" for justifications to drop cols"
      ]
    },
    {
      "cell_type": "code",
      "execution_count": null,
      "metadata": {
        "id": "n7QBqBRU_3hd"
      },
      "outputs": [],
      "source": [
        "### Columns To Keep:\n",
        "col_list = ['id', 'name', 'description', 'neighborhood_overview', 'host_location', 'host_about', 'host_neighbourhood', 'host_verifications', 'host_has_profile_pic', 'host_identity_verified', 'neighbourhood', 'neighbourhood_cleansed', 'neighbourhood_group_cleansed', 'latitude', 'longitude', 'property_type', 'room_type', 'accommodates', 'bathrooms', 'bathrooms_text', 'bedrooms', 'beds', 'amenities', 'price', 'minimum_nights', 'maximum_nights', 'has_availability', 'availability_30', 'availability_60', 'availability_90', 'availability_365', 'license', 'instant_bookable']"
      ]
    },
    {
      "cell_type": "code",
      "execution_count": null,
      "metadata": {
        "id": "UZMej25s_3hd"
      },
      "outputs": [],
      "source": [
        "df_excerpt = all_airbnb_data[col_list]"
      ]
    },
    {
      "cell_type": "code",
      "execution_count": null,
      "metadata": {
        "id": "FqdAfkwz_3hd"
      },
      "outputs": [],
      "source": [
        "df_excerpt.head(3)"
      ]
    },
    {
      "cell_type": "code",
      "execution_count": null,
      "metadata": {
        "id": "JpQwZtsD_3hd"
      },
      "outputs": [],
      "source": []
    }
  ],
  "metadata": {
    "colab": {
      "include_colab_link": true,
      "provenance": []
    },
    "kernelspec": {
      "display_name": "Python 3",
      "name": "python3"
    },
    "language_info": {
      "codemirror_mode": {
        "name": "ipython",
        "version": 3
      },
      "file_extension": ".py",
      "mimetype": "text/x-python",
      "name": "python",
      "nbconvert_exporter": "python",
      "pygments_lexer": "ipython3",
      "version": "3.8.5"
    }
  },
  "nbformat": 4,
  "nbformat_minor": 0
}
