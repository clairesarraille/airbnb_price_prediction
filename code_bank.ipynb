{
 "cells": [
  {
   "cell_type": "code",
   "execution_count": null,
   "metadata": {},
   "outputs": [],
   "source": [
    "# Import CSVs:\n",
    "import os\n",
    "import glob\n",
    "os.chdir('/Users/claire/git/flatiron/capstone/airbnb_price_prediction/data')\n",
    "\n",
    "\n",
    "# Create list of files names in directory defined with os.chdir() argument above\n",
    "filenames = [i for i in glob.glob('*.*')]\n",
    "\n",
    "\"\"\"\n",
    "# Define file extension name for concatenating to string defined by '*.' in regular expression below\n",
    "file_ext = 'csv'\n",
    "\n",
    "# Create list of files names in directory defined with os.chdir() argument above\n",
    "filenames = [i for i in glob.glob('*.*'.format(file_ext))]\n",
    "\"\"\""
   ]
  },
  {
   "cell_type": "code",
   "execution_count": null,
   "metadata": {},
   "outputs": [],
   "source": [
    "#inspect_la_id = airbnb_data[['id', 'city', 'state']]"
   ]
  },
  {
   "cell_type": "code",
   "execution_count": null,
   "metadata": {},
   "outputs": [],
   "source": [
    "## Code Bank:\n",
    "\"\"\"\n",
    "col_list_dt = [col + ' text' for col in col_list]\n",
    "col_string = ''.join(str(col) + ', ' for col in col_list_dt)\n",
    "\n",
    "\"\"\""
   ]
  },
  {
   "cell_type": "markdown",
   "metadata": {},
   "source": [
    "### Code for importing csvs from GitHub to Google Colab:\n",
    "- Alternative to importing straight from local drive"
   ]
  },
  {
   "cell_type": "code",
   "execution_count": null,
   "metadata": {},
   "outputs": [],
   "source": [
    "# url = 'https://raw.githubusercontent.com/clairesarraille/airbnb_price_prediction/main/twin_cities_msa.csv'"
   ]
  },
  {
   "cell_type": "code",
   "execution_count": null,
   "metadata": {},
   "outputs": [],
   "source": [
    "# df = pd.read_csv(url)\n"
   ]
  },
  {
   "cell_type": "code",
   "execution_count": null,
   "metadata": {},
   "outputs": [],
   "source": [
    "# Create Single .csv for import to PostgreSQL:\n",
    "#airbnb_data[['city']].nunique()\n",
    "#inspect_la_id.loc[inspect_la_id['city'] == 'San Francisco'].head(20)"
   ]
  },
  {
   "cell_type": "code",
   "execution_count": null,
   "metadata": {},
   "outputs": [],
   "source": [
    "#data_table.DataTable(df[['amenities', 'description']], include_index=False, num_rows_per_page=10)"
   ]
  },
  {
   "cell_type": "markdown",
   "metadata": {},
   "source": [
    "## Upload local files to Colab:"
   ]
  },
  {
   "cell_type": "code",
   "execution_count": null,
   "metadata": {},
   "outputs": [],
   "source": [
    "#\"\"\"\n",
    "from google.colab import files\n",
    "uploaded = files.upload()\n",
    "#\"\"\""
   ]
  }
 ],
 "metadata": {
  "language_info": {
   "name": "python"
  }
 },
 "nbformat": 4,
 "nbformat_minor": 2
}
