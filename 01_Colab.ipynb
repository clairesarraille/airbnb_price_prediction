{
  "cells": [
    {
      "cell_type": "markdown",
      "metadata": {
        "id": "view-in-github",
        "colab_type": "text"
      },
      "source": [
        "<a href=\"https://colab.research.google.com/github/clairesarraille/airbnb_price_prediction/blob/main/01_Colab.ipynb\" target=\"_parent\"><img src=\"https://colab.research.google.com/assets/colab-badge.svg\" alt=\"Open In Colab\"/></a>"
      ]
    },
    {
      "cell_type": "markdown",
      "source": [
        "# What we did to data in `data_cleaning_ver04.ipynb`"
      ],
      "metadata": {
        "id": "uB4hgwK-gdF0"
      }
    },
    {
      "cell_type": "markdown",
      "source": [
        "- Import Raw CSV Files, Concatenate into one Dataframe:    \n",
        "    - Within same loop that reads in csvs, append `city` and `state` columns based on file name:\n",
        "- Clean `city` and `state` Columns:    \n",
        "    - Remove `.csv` from end of `state` column:    \n",
        "    - Replace dashes with spaces in `city` and `state` columns:    \n",
        "  - Check Los Angeles `id` Col for Sci Notation:\n",
        "  - Check that all city names came in:\n",
        "  - Check that all state names came in:\n",
        "- Remove Line Breaks and other special characters\n",
        "    - Success! There are no line breaks in the text above.\n",
        "- Explore Duplicates:\n",
        "  - Duplicates on `ID`\n",
        "    - Drop the above duplicate Columns:\n",
        "  - Check Again after Dropping:\n",
        "  - Duplicates on All Rows except `id`?\n",
        "  - Duplicates on `description`\n",
        "    - Duplicate Descriptions - Findings:\n",
        "- Duplicates on listing_url\n",
        "  - Check for overall Duplicates:\n",
        "  - There are 0 Duplicate rows to drop:\n",
        "- Remove irrelevant columns and those that do not add predictive value\n",
        "- Reset Index before exporting to Git:\n",
        "- Export data with dropped columns to Git Repo:\n",
        "  - Import CSV stored in GitHub to Google Colab"
      ],
      "metadata": {
        "id": "1YQvW1u4gwwx"
      }
    },
    {
      "cell_type": "markdown",
      "source": [
        "# Import Packages"
      ],
      "metadata": {
        "id": "ZrhsJManq6eP"
      }
    },
    {
      "cell_type": "code",
      "execution_count": 2,
      "metadata": {
        "colab": {
          "base_uri": "https://localhost:8080/",
          "height": 216
        },
        "id": "WJ9-VkbksIpH",
        "outputId": "296242b2-fb69-4705-9c8d-6be4ffc88c4c"
      },
      "outputs": [
        {
          "output_type": "stream",
          "name": "stdout",
          "text": [
            "Drive already mounted at /content/drive; to attempt to forcibly remount, call drive.mount(\"/content/drive\", force_remount=True).\n"
          ]
        },
        {
          "output_type": "execute_result",
          "data": {
            "text/plain": [
              "'\\n# Load libraries\\nimport numpy\\n\\nfrom pandas import read_csv\\nfrom pandas import set_option\\nfrom pandas.plotting import scatter_matrix\\nfrom sklearn.preprocessing import StandardScaler\\nfrom sklearn.model_selection import train_test_split\\nfrom sklearn.model_selection import KFold\\nfrom sklearn.model_selection import cross_val_score\\nfrom sklearn.model_selection import GridSearchCV\\nfrom sklearn.linear_model import LinearRegression\\nfrom sklearn.linear_model import Lasso\\nfrom sklearn.linear_model import ElasticNet\\nfrom sklearn.tree import DecisionTreeRegressor\\nfrom sklearn.neighbors import KNeighborsRegressor\\nfrom sklearn.svm import SVR\\nfrom sklearn.pipeline import Pipeline\\nfrom sklearn.ensemble import RandomForestRegressor\\nfrom sklearn.ensemble import GradientBoostingRegressor\\nfrom sklearn.ensemble import ExtraTreesRegressor\\nfrom sklearn.ensemble import AdaBoostRegressor\\nfrom sklearn.metrics import mean_squared_error\\nfrom sklearn import linear_model\\n'"
            ],
            "application/vnd.google.colaboratory.intrinsic+json": {
              "type": "string"
            }
          },
          "metadata": {},
          "execution_count": 2
        }
      ],
      "source": [
        "# Core Packages:\n",
        "import pandas as pd\n",
        "import pickle\n",
        "import numpy as np\n",
        "from numpy import unique\n",
        "from numpy import arange\n",
        "from matplotlib import pyplot\n",
        "\n",
        "#\"\"\"\n",
        "# Google Colab:\n",
        "### Print Dataframe like Spreadsheet!\n",
        "from google.colab import data_table\n",
        "data_table.enable_dataframe_formatter()\n",
        "#\"\"\"\n",
        "\n",
        "#\"\"\"\n",
        "# Mount Drive:\n",
        "from google.colab import drive\n",
        "drive.mount('/content/drive')\n",
        "#\"\"\"\n",
        "\n",
        "\"\"\"\n",
        "# Load libraries\n",
        "import numpy\n",
        "\n",
        "from pandas import read_csv\n",
        "from pandas import set_option\n",
        "from pandas.plotting import scatter_matrix\n",
        "from sklearn.preprocessing import StandardScaler\n",
        "from sklearn.model_selection import train_test_split\n",
        "from sklearn.model_selection import KFold\n",
        "from sklearn.model_selection import cross_val_score\n",
        "from sklearn.model_selection import GridSearchCV\n",
        "from sklearn.linear_model import LinearRegression\n",
        "from sklearn.linear_model import Lasso\n",
        "from sklearn.linear_model import ElasticNet\n",
        "from sklearn.tree import DecisionTreeRegressor\n",
        "from sklearn.neighbors import KNeighborsRegressor\n",
        "from sklearn.svm import SVR\n",
        "from sklearn.pipeline import Pipeline\n",
        "from sklearn.ensemble import RandomForestRegressor\n",
        "from sklearn.ensemble import GradientBoostingRegressor\n",
        "from sklearn.ensemble import ExtraTreesRegressor\n",
        "from sklearn.ensemble import AdaBoostRegressor\n",
        "from sklearn.metrics import mean_squared_error\n",
        "from sklearn import linear_model\n",
        "\"\"\"\n",
        "\n"
      ]
    },
    {
      "cell_type": "markdown",
      "metadata": {
        "id": "X89XE1nsr-Vv"
      },
      "source": [
        "# Import GitHub CSV to Google Colab\n",
        "- The remaining code must be executed in Google Colab and may require a professional subscription to run.\n",
        "- Code for importing csvs from GitHub to Google Colab:\n",
        "- When importing, use `low_memory=False`:\n",
        "  - \"Internally process the file in chunks, resulting in lower memory use while parsing, but possibly mixed type inference. To ensure no mixed types either set False, or specify the type with the dtype parameter. Note that the entire file is read into a single DataFrame regardless, use the chunksize or iterator parameter to return the data in chunks. (Only valid with C parser).\""
      ]
    },
    {
      "cell_type": "code",
      "execution_count": 3,
      "metadata": {
        "id": "KpvuuZORuHvb"
      },
      "outputs": [],
      "source": [
        "# To get this URL, so to the csv file on GitHub, choose \"Code\", and then click on the \"raw\" link\n",
        "#### IMPORTANT ####\n",
        "# The link to this raw csv text MUST be re-generated each day to work properly.\n",
        "\n",
        "url = 'https://media.githubusercontent.com/media/clairesarraille/airbnb_price_prediction/main/airbnb_data.csv?token=ARCBHGKTQP52G3U6JL2TTZLFKLVIQ'\n",
        "df = pd.read_csv(url, low_memory=False)\n"
      ]
    },
    {
      "cell_type": "markdown",
      "source": [
        "# Preview Data:"
      ],
      "metadata": {
        "id": "X8qi2R8DkAFK"
      }
    },
    {
      "cell_type": "code",
      "execution_count": 4,
      "metadata": {
        "colab": {
          "base_uri": "https://localhost:8080/",
          "height": 669
        },
        "id": "MIqi_ZswzzwT",
        "outputId": "fd65adaf-8d44-4a56-e985-456933d472a1"
      },
      "outputs": [
        {
          "output_type": "execute_result",
          "data": {
            "text/plain": [
              "      price        id  host_location       room_type neighbourhood_cleansed  \\\n",
              "0     47.00   3314819  Asheville, NC    Private room                    NaN   \n",
              "1    100.00    108061  Asheville, NC  Entire homeapt                    NaN   \n",
              "2    100.00    155305  Asheville, NC  Entire homeapt                    NaN   \n",
              "3     66.00    156805  Asheville, NC    Private room                    NaN   \n",
              "4     26.00    156926  Asheville, NC     Shared room                    NaN   \n",
              "..      ...       ...            ...             ...                    ...   \n",
              "995  178.00  32046748  United States  Entire homeapt                    NaN   \n",
              "996   99.00  32107182  Asheville, NC  Entire homeapt                    NaN   \n",
              "997  264.00  32134137  Asheville, NC  Entire homeapt                    NaN   \n",
              "998  143.00  32164395  Asheville, NC  Entire homeapt                    NaN   \n",
              "999  454.00  32204669   Fairview, NC  Entire homeapt                    NaN   \n",
              "\n",
              "          city           state  \n",
              "0    Asheville  North Carolina  \n",
              "1    Asheville  North Carolina  \n",
              "2    Asheville  North Carolina  \n",
              "3    Asheville  North Carolina  \n",
              "4    Asheville  North Carolina  \n",
              "..         ...             ...  \n",
              "995  Asheville  North Carolina  \n",
              "996  Asheville  North Carolina  \n",
              "997  Asheville  North Carolina  \n",
              "998  Asheville  North Carolina  \n",
              "999  Asheville  North Carolina  \n",
              "\n",
              "[1000 rows x 7 columns]"
            ],
            "text/html": [
              "\n",
              "  <div id=\"df-680c9b3e-bf4f-4f5e-a2e3-80f36201f8e3\" class=\"colab-df-container\">\n",
              "    <div>\n",
              "<style scoped>\n",
              "    .dataframe tbody tr th:only-of-type {\n",
              "        vertical-align: middle;\n",
              "    }\n",
              "\n",
              "    .dataframe tbody tr th {\n",
              "        vertical-align: top;\n",
              "    }\n",
              "\n",
              "    .dataframe thead th {\n",
              "        text-align: right;\n",
              "    }\n",
              "</style>\n",
              "<table border=\"1\" class=\"dataframe\">\n",
              "  <thead>\n",
              "    <tr style=\"text-align: right;\">\n",
              "      <th></th>\n",
              "      <th>price</th>\n",
              "      <th>id</th>\n",
              "      <th>host_location</th>\n",
              "      <th>room_type</th>\n",
              "      <th>neighbourhood_cleansed</th>\n",
              "      <th>city</th>\n",
              "      <th>state</th>\n",
              "    </tr>\n",
              "  </thead>\n",
              "  <tbody>\n",
              "    <tr>\n",
              "      <th>0</th>\n",
              "      <td>47.00</td>\n",
              "      <td>3314819</td>\n",
              "      <td>Asheville, NC</td>\n",
              "      <td>Private room</td>\n",
              "      <td>NaN</td>\n",
              "      <td>Asheville</td>\n",
              "      <td>North Carolina</td>\n",
              "    </tr>\n",
              "    <tr>\n",
              "      <th>1</th>\n",
              "      <td>100.00</td>\n",
              "      <td>108061</td>\n",
              "      <td>Asheville, NC</td>\n",
              "      <td>Entire homeapt</td>\n",
              "      <td>NaN</td>\n",
              "      <td>Asheville</td>\n",
              "      <td>North Carolina</td>\n",
              "    </tr>\n",
              "    <tr>\n",
              "      <th>2</th>\n",
              "      <td>100.00</td>\n",
              "      <td>155305</td>\n",
              "      <td>Asheville, NC</td>\n",
              "      <td>Entire homeapt</td>\n",
              "      <td>NaN</td>\n",
              "      <td>Asheville</td>\n",
              "      <td>North Carolina</td>\n",
              "    </tr>\n",
              "    <tr>\n",
              "      <th>3</th>\n",
              "      <td>66.00</td>\n",
              "      <td>156805</td>\n",
              "      <td>Asheville, NC</td>\n",
              "      <td>Private room</td>\n",
              "      <td>NaN</td>\n",
              "      <td>Asheville</td>\n",
              "      <td>North Carolina</td>\n",
              "    </tr>\n",
              "    <tr>\n",
              "      <th>4</th>\n",
              "      <td>26.00</td>\n",
              "      <td>156926</td>\n",
              "      <td>Asheville, NC</td>\n",
              "      <td>Shared room</td>\n",
              "      <td>NaN</td>\n",
              "      <td>Asheville</td>\n",
              "      <td>North Carolina</td>\n",
              "    </tr>\n",
              "    <tr>\n",
              "      <th>...</th>\n",
              "      <td>...</td>\n",
              "      <td>...</td>\n",
              "      <td>...</td>\n",
              "      <td>...</td>\n",
              "      <td>...</td>\n",
              "      <td>...</td>\n",
              "      <td>...</td>\n",
              "    </tr>\n",
              "    <tr>\n",
              "      <th>995</th>\n",
              "      <td>178.00</td>\n",
              "      <td>32046748</td>\n",
              "      <td>United States</td>\n",
              "      <td>Entire homeapt</td>\n",
              "      <td>NaN</td>\n",
              "      <td>Asheville</td>\n",
              "      <td>North Carolina</td>\n",
              "    </tr>\n",
              "    <tr>\n",
              "      <th>996</th>\n",
              "      <td>99.00</td>\n",
              "      <td>32107182</td>\n",
              "      <td>Asheville, NC</td>\n",
              "      <td>Entire homeapt</td>\n",
              "      <td>NaN</td>\n",
              "      <td>Asheville</td>\n",
              "      <td>North Carolina</td>\n",
              "    </tr>\n",
              "    <tr>\n",
              "      <th>997</th>\n",
              "      <td>264.00</td>\n",
              "      <td>32134137</td>\n",
              "      <td>Asheville, NC</td>\n",
              "      <td>Entire homeapt</td>\n",
              "      <td>NaN</td>\n",
              "      <td>Asheville</td>\n",
              "      <td>North Carolina</td>\n",
              "    </tr>\n",
              "    <tr>\n",
              "      <th>998</th>\n",
              "      <td>143.00</td>\n",
              "      <td>32164395</td>\n",
              "      <td>Asheville, NC</td>\n",
              "      <td>Entire homeapt</td>\n",
              "      <td>NaN</td>\n",
              "      <td>Asheville</td>\n",
              "      <td>North Carolina</td>\n",
              "    </tr>\n",
              "    <tr>\n",
              "      <th>999</th>\n",
              "      <td>454.00</td>\n",
              "      <td>32204669</td>\n",
              "      <td>Fairview, NC</td>\n",
              "      <td>Entire homeapt</td>\n",
              "      <td>NaN</td>\n",
              "      <td>Asheville</td>\n",
              "      <td>North Carolina</td>\n",
              "    </tr>\n",
              "  </tbody>\n",
              "</table>\n",
              "<p>1000 rows × 7 columns</p>\n",
              "</div>\n",
              "    <div class=\"colab-df-buttons\">\n",
              "\n",
              "  <div class=\"colab-df-container\">\n",
              "    <button class=\"colab-df-convert\" onclick=\"convertToInteractive('df-680c9b3e-bf4f-4f5e-a2e3-80f36201f8e3')\"\n",
              "            title=\"Convert this dataframe to an interactive table.\"\n",
              "            style=\"display:none;\">\n",
              "\n",
              "  <svg xmlns=\"http://www.w3.org/2000/svg\" height=\"24px\" viewBox=\"0 -960 960 960\">\n",
              "    <path d=\"M120-120v-720h720v720H120Zm60-500h600v-160H180v160Zm220 220h160v-160H400v160Zm0 220h160v-160H400v160ZM180-400h160v-160H180v160Zm440 0h160v-160H620v160ZM180-180h160v-160H180v160Zm440 0h160v-160H620v160Z\"/>\n",
              "  </svg>\n",
              "    </button>\n",
              "\n",
              "  <style>\n",
              "    .colab-df-container {\n",
              "      display:flex;\n",
              "      gap: 12px;\n",
              "    }\n",
              "\n",
              "    .colab-df-convert {\n",
              "      background-color: #E8F0FE;\n",
              "      border: none;\n",
              "      border-radius: 50%;\n",
              "      cursor: pointer;\n",
              "      display: none;\n",
              "      fill: #1967D2;\n",
              "      height: 32px;\n",
              "      padding: 0 0 0 0;\n",
              "      width: 32px;\n",
              "    }\n",
              "\n",
              "    .colab-df-convert:hover {\n",
              "      background-color: #E2EBFA;\n",
              "      box-shadow: 0px 1px 2px rgba(60, 64, 67, 0.3), 0px 1px 3px 1px rgba(60, 64, 67, 0.15);\n",
              "      fill: #174EA6;\n",
              "    }\n",
              "\n",
              "    .colab-df-buttons div {\n",
              "      margin-bottom: 4px;\n",
              "    }\n",
              "\n",
              "    [theme=dark] .colab-df-convert {\n",
              "      background-color: #3B4455;\n",
              "      fill: #D2E3FC;\n",
              "    }\n",
              "\n",
              "    [theme=dark] .colab-df-convert:hover {\n",
              "      background-color: #434B5C;\n",
              "      box-shadow: 0px 1px 3px 1px rgba(0, 0, 0, 0.15);\n",
              "      filter: drop-shadow(0px 1px 2px rgba(0, 0, 0, 0.3));\n",
              "      fill: #FFFFFF;\n",
              "    }\n",
              "  </style>\n",
              "\n",
              "    <script>\n",
              "      const buttonEl =\n",
              "        document.querySelector('#df-680c9b3e-bf4f-4f5e-a2e3-80f36201f8e3 button.colab-df-convert');\n",
              "      buttonEl.style.display =\n",
              "        google.colab.kernel.accessAllowed ? 'block' : 'none';\n",
              "\n",
              "      async function convertToInteractive(key) {\n",
              "        const element = document.querySelector('#df-680c9b3e-bf4f-4f5e-a2e3-80f36201f8e3');\n",
              "        const dataTable =\n",
              "          await google.colab.kernel.invokeFunction('convertToInteractive',\n",
              "                                                    [key], {});\n",
              "        if (!dataTable) return;\n",
              "\n",
              "        const docLinkHtml = 'Like what you see? Visit the ' +\n",
              "          '<a target=\"_blank\" href=https://colab.research.google.com/notebooks/data_table.ipynb>data table notebook</a>'\n",
              "          + ' to learn more about interactive tables.';\n",
              "        element.innerHTML = '';\n",
              "        dataTable['output_type'] = 'display_data';\n",
              "        await google.colab.output.renderOutput(dataTable, element);\n",
              "        const docLink = document.createElement('div');\n",
              "        docLink.innerHTML = docLinkHtml;\n",
              "        element.appendChild(docLink);\n",
              "      }\n",
              "    </script>\n",
              "  </div>\n",
              "\n",
              "\n",
              "<div id=\"df-bbabe715-b69e-411a-af66-71dcff8b9955\">\n",
              "  <button class=\"colab-df-quickchart\" onclick=\"quickchart('df-bbabe715-b69e-411a-af66-71dcff8b9955')\"\n",
              "            title=\"Suggest charts\"\n",
              "            style=\"display:none;\">\n",
              "\n",
              "<svg xmlns=\"http://www.w3.org/2000/svg\" height=\"24px\"viewBox=\"0 0 24 24\"\n",
              "     width=\"24px\">\n",
              "    <g>\n",
              "        <path d=\"M19 3H5c-1.1 0-2 .9-2 2v14c0 1.1.9 2 2 2h14c1.1 0 2-.9 2-2V5c0-1.1-.9-2-2-2zM9 17H7v-7h2v7zm4 0h-2V7h2v10zm4 0h-2v-4h2v4z\"/>\n",
              "    </g>\n",
              "</svg>\n",
              "  </button>\n",
              "\n",
              "<style>\n",
              "  .colab-df-quickchart {\n",
              "      --bg-color: #E8F0FE;\n",
              "      --fill-color: #1967D2;\n",
              "      --hover-bg-color: #E2EBFA;\n",
              "      --hover-fill-color: #174EA6;\n",
              "      --disabled-fill-color: #AAA;\n",
              "      --disabled-bg-color: #DDD;\n",
              "  }\n",
              "\n",
              "  [theme=dark] .colab-df-quickchart {\n",
              "      --bg-color: #3B4455;\n",
              "      --fill-color: #D2E3FC;\n",
              "      --hover-bg-color: #434B5C;\n",
              "      --hover-fill-color: #FFFFFF;\n",
              "      --disabled-bg-color: #3B4455;\n",
              "      --disabled-fill-color: #666;\n",
              "  }\n",
              "\n",
              "  .colab-df-quickchart {\n",
              "    background-color: var(--bg-color);\n",
              "    border: none;\n",
              "    border-radius: 50%;\n",
              "    cursor: pointer;\n",
              "    display: none;\n",
              "    fill: var(--fill-color);\n",
              "    height: 32px;\n",
              "    padding: 0;\n",
              "    width: 32px;\n",
              "  }\n",
              "\n",
              "  .colab-df-quickchart:hover {\n",
              "    background-color: var(--hover-bg-color);\n",
              "    box-shadow: 0 1px 2px rgba(60, 64, 67, 0.3), 0 1px 3px 1px rgba(60, 64, 67, 0.15);\n",
              "    fill: var(--button-hover-fill-color);\n",
              "  }\n",
              "\n",
              "  .colab-df-quickchart-complete:disabled,\n",
              "  .colab-df-quickchart-complete:disabled:hover {\n",
              "    background-color: var(--disabled-bg-color);\n",
              "    fill: var(--disabled-fill-color);\n",
              "    box-shadow: none;\n",
              "  }\n",
              "\n",
              "  .colab-df-spinner {\n",
              "    border: 2px solid var(--fill-color);\n",
              "    border-color: transparent;\n",
              "    border-bottom-color: var(--fill-color);\n",
              "    animation:\n",
              "      spin 1s steps(1) infinite;\n",
              "  }\n",
              "\n",
              "  @keyframes spin {\n",
              "    0% {\n",
              "      border-color: transparent;\n",
              "      border-bottom-color: var(--fill-color);\n",
              "      border-left-color: var(--fill-color);\n",
              "    }\n",
              "    20% {\n",
              "      border-color: transparent;\n",
              "      border-left-color: var(--fill-color);\n",
              "      border-top-color: var(--fill-color);\n",
              "    }\n",
              "    30% {\n",
              "      border-color: transparent;\n",
              "      border-left-color: var(--fill-color);\n",
              "      border-top-color: var(--fill-color);\n",
              "      border-right-color: var(--fill-color);\n",
              "    }\n",
              "    40% {\n",
              "      border-color: transparent;\n",
              "      border-right-color: var(--fill-color);\n",
              "      border-top-color: var(--fill-color);\n",
              "    }\n",
              "    60% {\n",
              "      border-color: transparent;\n",
              "      border-right-color: var(--fill-color);\n",
              "    }\n",
              "    80% {\n",
              "      border-color: transparent;\n",
              "      border-right-color: var(--fill-color);\n",
              "      border-bottom-color: var(--fill-color);\n",
              "    }\n",
              "    90% {\n",
              "      border-color: transparent;\n",
              "      border-bottom-color: var(--fill-color);\n",
              "    }\n",
              "  }\n",
              "</style>\n",
              "\n",
              "  <script>\n",
              "    async function quickchart(key) {\n",
              "      const quickchartButtonEl =\n",
              "        document.querySelector('#' + key + ' button');\n",
              "      quickchartButtonEl.disabled = true;  // To prevent multiple clicks.\n",
              "      quickchartButtonEl.classList.add('colab-df-spinner');\n",
              "      try {\n",
              "        const charts = await google.colab.kernel.invokeFunction(\n",
              "            'suggestCharts', [key], {});\n",
              "      } catch (error) {\n",
              "        console.error('Error during call to suggestCharts:', error);\n",
              "      }\n",
              "      quickchartButtonEl.classList.remove('colab-df-spinner');\n",
              "      quickchartButtonEl.classList.add('colab-df-quickchart-complete');\n",
              "    }\n",
              "    (() => {\n",
              "      let quickchartButtonEl =\n",
              "        document.querySelector('#df-bbabe715-b69e-411a-af66-71dcff8b9955 button');\n",
              "      quickchartButtonEl.style.display =\n",
              "        google.colab.kernel.accessAllowed ? 'block' : 'none';\n",
              "    })();\n",
              "  </script>\n",
              "</div>\n",
              "\n",
              "    </div>\n",
              "  </div>\n"
            ],
            "application/vnd.google.colaboratory.module+javascript": "\n      import \"https://ssl.gstatic.com/colaboratory/data_table/881c4a0d49046431/data_table.js\";\n\n      const table = window.createDataTable({\n        data: [[{\n            'v': 0,\n            'f': \"0\",\n        },\n\"47.00\",\n{\n            'v': 3314819,\n            'f': \"3314819\",\n        },\n\"Asheville, NC\",\n\"Private room\",\n{\n            'v': NaN,\n            'f': \"NaN\",\n        },\n\"Asheville\",\n\"North Carolina\"],\n [{\n            'v': 1,\n            'f': \"1\",\n        },\n\"100.00\",\n{\n            'v': 108061,\n            'f': \"108061\",\n        },\n\"Asheville, NC\",\n\"Entire homeapt\",\n{\n            'v': NaN,\n            'f': \"NaN\",\n        },\n\"Asheville\",\n\"North Carolina\"],\n [{\n            'v': 2,\n            'f': \"2\",\n        },\n\"100.00\",\n{\n            'v': 155305,\n            'f': \"155305\",\n        },\n\"Asheville, NC\",\n\"Entire homeapt\",\n{\n            'v': NaN,\n            'f': \"NaN\",\n        },\n\"Asheville\",\n\"North Carolina\"],\n [{\n            'v': 3,\n            'f': \"3\",\n        },\n\"66.00\",\n{\n            'v': 156805,\n            'f': \"156805\",\n        },\n\"Asheville, NC\",\n\"Private room\",\n{\n            'v': NaN,\n            'f': \"NaN\",\n        },\n\"Asheville\",\n\"North Carolina\"],\n [{\n            'v': 4,\n            'f': \"4\",\n        },\n\"26.00\",\n{\n            'v': 156926,\n            'f': \"156926\",\n        },\n\"Asheville, NC\",\n\"Shared room\",\n{\n            'v': NaN,\n            'f': \"NaN\",\n        },\n\"Asheville\",\n\"North Carolina\"],\n [{\n            'v': 5,\n            'f': \"5\",\n        },\n\"45.00\",\n{\n            'v': 197263,\n            'f': \"197263\",\n        },\n\"Asheville, NC\",\n\"Private room\",\n{\n            'v': NaN,\n            'f': \"NaN\",\n        },\n\"Asheville\",\n\"North Carolina\"],\n [{\n            'v': 6,\n            'f': \"6\",\n        },\n\"95.00\",\n{\n            'v': 209068,\n            'f': \"209068\",\n        },\n\"Asheville, NC\",\n\"Entire homeapt\",\n{\n            'v': NaN,\n            'f': \"NaN\",\n        },\n\"Asheville\",\n\"North Carolina\"],\n [{\n            'v': 7,\n            'f': \"7\",\n        },\n\"68.00\",\n{\n            'v': 246315,\n            'f': \"246315\",\n        },\n\"Asheville, NC\",\n\"Private room\",\n{\n            'v': NaN,\n            'f': \"NaN\",\n        },\n\"Asheville\",\n\"North Carolina\"],\n [{\n            'v': 8,\n            'f': \"8\",\n        },\n\"83.00\",\n{\n            'v': 259576,\n            'f': \"259576\",\n        },\n\"Asheville, NC\",\n\"Entire homeapt\",\n{\n            'v': NaN,\n            'f': \"NaN\",\n        },\n\"Asheville\",\n\"North Carolina\"],\n [{\n            'v': 9,\n            'f': \"9\",\n        },\n\"219.00\",\n{\n            'v': 304379,\n            'f': \"304379\",\n        },\n\"Asheville, NC\",\n\"Entire homeapt\",\n{\n            'v': NaN,\n            'f': \"NaN\",\n        },\n\"Asheville\",\n\"North Carolina\"],\n [{\n            'v': 10,\n            'f': \"10\",\n        },\n\"292.00\",\n{\n            'v': 314540,\n            'f': \"314540\",\n        },\n\"Asheville, NC\",\n\"Entire homeapt\",\n{\n            'v': NaN,\n            'f': \"NaN\",\n        },\n\"Asheville\",\n\"North Carolina\"],\n [{\n            'v': 11,\n            'f': \"11\",\n        },\n\"159.00\",\n{\n            'v': 427497,\n            'f': \"427497\",\n        },\n\"Asheville, NC\",\n\"Entire homeapt\",\n{\n            'v': NaN,\n            'f': \"NaN\",\n        },\n\"Asheville\",\n\"North Carolina\"],\n [{\n            'v': 12,\n            'f': \"12\",\n        },\n\"131.00\",\n{\n            'v': 436476,\n            'f': \"436476\",\n        },\n\"Asheville, NC\",\n\"Entire homeapt\",\n{\n            'v': NaN,\n            'f': \"NaN\",\n        },\n\"Asheville\",\n\"North Carolina\"],\n [{\n            'v': 13,\n            'f': \"13\",\n        },\n\"146.00\",\n{\n            'v': 483384,\n            'f': \"483384\",\n        },\n\"Asheville, NC\",\n\"Entire homeapt\",\n{\n            'v': NaN,\n            'f': \"NaN\",\n        },\n\"Asheville\",\n\"North Carolina\"],\n [{\n            'v': 14,\n            'f': \"14\",\n        },\n\"236.00\",\n{\n            'v': 528535,\n            'f': \"528535\",\n        },\n\"Asheville, NC\",\n\"Entire homeapt\",\n{\n            'v': NaN,\n            'f': \"NaN\",\n        },\n\"Asheville\",\n\"North Carolina\"],\n [{\n            'v': 15,\n            'f': \"15\",\n        },\n\"155.00\",\n{\n            'v': 621243,\n            'f': \"621243\",\n        },\n\"Asheville, NC\",\n\"Entire homeapt\",\n{\n            'v': NaN,\n            'f': \"NaN\",\n        },\n\"Asheville\",\n\"North Carolina\"],\n [{\n            'v': 16,\n            'f': \"16\",\n        },\n\"75.00\",\n{\n            'v': 660702,\n            'f': \"660702\",\n        },\n\"Asheville, NC\",\n\"Entire homeapt\",\n{\n            'v': NaN,\n            'f': \"NaN\",\n        },\n\"Asheville\",\n\"North Carolina\"],\n [{\n            'v': 17,\n            'f': \"17\",\n        },\n\"57.00\",\n{\n            'v': 674894,\n            'f': \"674894\",\n        },\n\"Asheville, NC\",\n\"Private room\",\n{\n            'v': NaN,\n            'f': \"NaN\",\n        },\n\"Asheville\",\n\"North Carolina\"],\n [{\n            'v': 18,\n            'f': \"18\",\n        },\n\"63.00\",\n{\n            'v': 695196,\n            'f': \"695196\",\n        },\n\"Asheville, NC\",\n\"Private room\",\n{\n            'v': NaN,\n            'f': \"NaN\",\n        },\n\"Asheville\",\n\"North Carolina\"],\n [{\n            'v': 19,\n            'f': \"19\",\n        },\n\"249.00\",\n{\n            'v': 723349,\n            'f': \"723349\",\n        },\n\"Asheville, NC\",\n\"Private room\",\n{\n            'v': NaN,\n            'f': \"NaN\",\n        },\n\"Asheville\",\n\"North Carolina\"],\n [{\n            'v': 20,\n            'f': \"20\",\n        },\n\"95.00\",\n{\n            'v': 751963,\n            'f': \"751963\",\n        },\n\"Asheville, NC\",\n\"Entire homeapt\",\n{\n            'v': NaN,\n            'f': \"NaN\",\n        },\n\"Asheville\",\n\"North Carolina\"],\n [{\n            'v': 21,\n            'f': \"21\",\n        },\n\"75.00\",\n{\n            'v': 815068,\n            'f': \"815068\",\n        },\n\"Asheville, NC\",\n\"Entire homeapt\",\n{\n            'v': NaN,\n            'f': \"NaN\",\n        },\n\"Asheville\",\n\"North Carolina\"],\n [{\n            'v': 22,\n            'f': \"22\",\n        },\n\"239.00\",\n{\n            'v': 840696,\n            'f': \"840696\",\n        },\n\"Asheville, NC\",\n\"Entire homeapt\",\n{\n            'v': NaN,\n            'f': \"NaN\",\n        },\n\"Asheville\",\n\"North Carolina\"],\n [{\n            'v': 23,\n            'f': \"23\",\n        },\n\"177.00\",\n{\n            'v': 846221,\n            'f': \"846221\",\n        },\n\"Asheville, NC\",\n\"Entire homeapt\",\n{\n            'v': NaN,\n            'f': \"NaN\",\n        },\n\"Asheville\",\n\"North Carolina\"],\n [{\n            'v': 24,\n            'f': \"24\",\n        },\n\"61.00\",\n{\n            'v': 875735,\n            'f': \"875735\",\n        },\n\"Asheville, NC\",\n\"Private room\",\n{\n            'v': NaN,\n            'f': \"NaN\",\n        },\n\"Asheville\",\n\"North Carolina\"],\n [{\n            'v': 25,\n            'f': \"25\",\n        },\n\"92.00\",\n{\n            'v': 881707,\n            'f': \"881707\",\n        },\n\"Asheville, NC\",\n\"Entire homeapt\",\n{\n            'v': NaN,\n            'f': \"NaN\",\n        },\n\"Asheville\",\n\"North Carolina\"],\n [{\n            'v': 26,\n            'f': \"26\",\n        },\n\"151.00\",\n{\n            'v': 910737,\n            'f': \"910737\",\n        },\n\"Asheville, NC\",\n\"Entire homeapt\",\n{\n            'v': NaN,\n            'f': \"NaN\",\n        },\n\"Asheville\",\n\"North Carolina\"],\n [{\n            'v': 27,\n            'f': \"27\",\n        },\n\"62.00\",\n{\n            'v': 942934,\n            'f': \"942934\",\n        },\n\"Asheville, NC\",\n\"Private room\",\n{\n            'v': NaN,\n            'f': \"NaN\",\n        },\n\"Asheville\",\n\"North Carolina\"],\n [{\n            'v': 28,\n            'f': \"28\",\n        },\n\"257.00\",\n{\n            'v': 943832,\n            'f': \"943832\",\n        },\n\"Asheville, NC\",\n\"Entire homeapt\",\n{\n            'v': NaN,\n            'f': \"NaN\",\n        },\n\"Asheville\",\n\"North Carolina\"],\n [{\n            'v': 29,\n            'f': \"29\",\n        },\n\"125.00\",\n{\n            'v': 976034,\n            'f': \"976034\",\n        },\n\"Asheville, NC\",\n\"Entire homeapt\",\n{\n            'v': NaN,\n            'f': \"NaN\",\n        },\n\"Asheville\",\n\"North Carolina\"],\n [{\n            'v': 30,\n            'f': \"30\",\n        },\n\"130.00\",\n{\n            'v': 977054,\n            'f': \"977054\",\n        },\n\"Asheville, NC\",\n\"Entire homeapt\",\n{\n            'v': NaN,\n            'f': \"NaN\",\n        },\n\"Asheville\",\n\"North Carolina\"],\n [{\n            'v': 31,\n            'f': \"31\",\n        },\n\"105.00\",\n{\n            'v': 1039028,\n            'f': \"1039028\",\n        },\n\"Asheville, NC\",\n\"Entire homeapt\",\n{\n            'v': NaN,\n            'f': \"NaN\",\n        },\n\"Asheville\",\n\"North Carolina\"],\n [{\n            'v': 32,\n            'f': \"32\",\n        },\n\"159.00\",\n{\n            'v': 1066156,\n            'f': \"1066156\",\n        },\n\"Asheville, NC\",\n\"Entire homeapt\",\n{\n            'v': NaN,\n            'f': \"NaN\",\n        },\n\"Asheville\",\n\"North Carolina\"],\n [{\n            'v': 33,\n            'f': \"33\",\n        },\n\"84.00\",\n{\n            'v': 1127777,\n            'f': \"1127777\",\n        },\n\"Asheville, NC\",\n\"Private room\",\n{\n            'v': NaN,\n            'f': \"NaN\",\n        },\n\"Asheville\",\n\"North Carolina\"],\n [{\n            'v': 34,\n            'f': \"34\",\n        },\n\"98.00\",\n{\n            'v': 1212352,\n            'f': \"1212352\",\n        },\n\"Asheville, NC\",\n\"Entire homeapt\",\n{\n            'v': NaN,\n            'f': \"NaN\",\n        },\n\"Asheville\",\n\"North Carolina\"],\n [{\n            'v': 35,\n            'f': \"35\",\n        },\n\"82.00\",\n{\n            'v': 1297717,\n            'f': \"1297717\",\n        },\n\"Asheville, NC\",\n\"Entire homeapt\",\n{\n            'v': NaN,\n            'f': \"NaN\",\n        },\n\"Asheville\",\n\"North Carolina\"],\n [{\n            'v': 36,\n            'f': \"36\",\n        },\n\"95.00\",\n{\n            'v': 1312301,\n            'f': \"1312301\",\n        },\n\"Asheville, NC\",\n\"Entire homeapt\",\n{\n            'v': NaN,\n            'f': \"NaN\",\n        },\n\"Asheville\",\n\"North Carolina\"],\n [{\n            'v': 37,\n            'f': \"37\",\n        },\n\"90.00\",\n{\n            'v': 1332684,\n            'f': \"1332684\",\n        },\n\"Asheville, NC\",\n\"Entire homeapt\",\n{\n            'v': NaN,\n            'f': \"NaN\",\n        },\n\"Asheville\",\n\"North Carolina\"],\n [{\n            'v': 38,\n            'f': \"38\",\n        },\n\"100.00\",\n{\n            'v': 1376343,\n            'f': \"1376343\",\n        },\n\"Asheville, NC\",\n\"Entire homeapt\",\n{\n            'v': NaN,\n            'f': \"NaN\",\n        },\n\"Asheville\",\n\"North Carolina\"],\n [{\n            'v': 39,\n            'f': \"39\",\n        },\n\"173.00\",\n{\n            'v': 1392363,\n            'f': \"1392363\",\n        },\n\"Asheville, NC\",\n\"Entire homeapt\",\n{\n            'v': NaN,\n            'f': \"NaN\",\n        },\n\"Asheville\",\n\"North Carolina\"],\n [{\n            'v': 40,\n            'f': \"40\",\n        },\n\"79.00\",\n{\n            'v': 1393012,\n            'f': \"1393012\",\n        },\n\"Asheville, NC\",\n\"Private room\",\n{\n            'v': NaN,\n            'f': \"NaN\",\n        },\n\"Asheville\",\n\"North Carolina\"],\n [{\n            'v': 41,\n            'f': \"41\",\n        },\n\"133.00\",\n{\n            'v': 1421061,\n            'f': \"1421061\",\n        },\n\"Asheville, NC\",\n\"Entire homeapt\",\n{\n            'v': NaN,\n            'f': \"NaN\",\n        },\n\"Asheville\",\n\"North Carolina\"],\n [{\n            'v': 42,\n            'f': \"42\",\n        },\n\"85.00\",\n{\n            'v': 1466495,\n            'f': \"1466495\",\n        },\n\"Asheville, NC\",\n\"Entire homeapt\",\n{\n            'v': NaN,\n            'f': \"NaN\",\n        },\n\"Asheville\",\n\"North Carolina\"],\n [{\n            'v': 43,\n            'f': \"43\",\n        },\n\"180.00\",\n{\n            'v': 1475299,\n            'f': \"1475299\",\n        },\n\"Asheville, NC\",\n\"Entire homeapt\",\n{\n            'v': NaN,\n            'f': \"NaN\",\n        },\n\"Asheville\",\n\"North Carolina\"],\n [{\n            'v': 44,\n            'f': \"44\",\n        },\n\"70.00\",\n{\n            'v': 1569954,\n            'f': \"1569954\",\n        },\nNaN,\n\"Private room\",\n{\n            'v': NaN,\n            'f': \"NaN\",\n        },\n\"Asheville\",\n\"North Carolina\"],\n [{\n            'v': 45,\n            'f': \"45\",\n        },\n\"93.00\",\n{\n            'v': 1571095,\n            'f': \"1571095\",\n        },\n\"Asheville, NC\",\n\"Entire homeapt\",\n{\n            'v': NaN,\n            'f': \"NaN\",\n        },\n\"Asheville\",\n\"North Carolina\"],\n [{\n            'v': 46,\n            'f': \"46\",\n        },\n\"199.00\",\n{\n            'v': 1574329,\n            'f': \"1574329\",\n        },\n\"Asheville, NC\",\n\"Private room\",\n{\n            'v': NaN,\n            'f': \"NaN\",\n        },\n\"Asheville\",\n\"North Carolina\"],\n [{\n            'v': 47,\n            'f': \"47\",\n        },\n\"85.00\",\n{\n            'v': 1578831,\n            'f': \"1578831\",\n        },\n\"Asheville, NC\",\n\"Entire homeapt\",\n{\n            'v': NaN,\n            'f': \"NaN\",\n        },\n\"Asheville\",\n\"North Carolina\"],\n [{\n            'v': 48,\n            'f': \"48\",\n        },\n\"90.00\",\n{\n            'v': 1586906,\n            'f': \"1586906\",\n        },\n\"Asheville, NC\",\n\"Private room\",\n{\n            'v': NaN,\n            'f': \"NaN\",\n        },\n\"Asheville\",\n\"North Carolina\"],\n [{\n            'v': 49,\n            'f': \"49\",\n        },\n\"289.00\",\n{\n            'v': 1684109,\n            'f': \"1684109\",\n        },\n\"Asheville, NC\",\n\"Entire homeapt\",\n{\n            'v': NaN,\n            'f': \"NaN\",\n        },\n\"Asheville\",\n\"North Carolina\"],\n [{\n            'v': 50,\n            'f': \"50\",\n        },\n\"225.00\",\n{\n            'v': 1728187,\n            'f': \"1728187\",\n        },\n\"Asheville, NC\",\n\"Entire homeapt\",\n{\n            'v': NaN,\n            'f': \"NaN\",\n        },\n\"Asheville\",\n\"North Carolina\"],\n [{\n            'v': 51,\n            'f': \"51\",\n        },\n\"102.00\",\n{\n            'v': 1768955,\n            'f': \"1768955\",\n        },\n\"Asheville, NC\",\n\"Entire homeapt\",\n{\n            'v': NaN,\n            'f': \"NaN\",\n        },\n\"Asheville\",\n\"North Carolina\"],\n [{\n            'v': 52,\n            'f': \"52\",\n        },\n\"89.00\",\n{\n            'v': 1827412,\n            'f': \"1827412\",\n        },\n\"Asheville, NC\",\n\"Private room\",\n{\n            'v': NaN,\n            'f': \"NaN\",\n        },\n\"Asheville\",\n\"North Carolina\"],\n [{\n            'v': 53,\n            'f': \"53\",\n        },\n\"250.00\",\n{\n            'v': 1843828,\n            'f': \"1843828\",\n        },\n\"Asheville, NC\",\n\"Entire homeapt\",\n{\n            'v': NaN,\n            'f': \"NaN\",\n        },\n\"Asheville\",\n\"North Carolina\"],\n [{\n            'v': 54,\n            'f': \"54\",\n        },\n\"129.00\",\n{\n            'v': 1851921,\n            'f': \"1851921\",\n        },\n\"Asheville, NC\",\n\"Entire homeapt\",\n{\n            'v': NaN,\n            'f': \"NaN\",\n        },\n\"Asheville\",\n\"North Carolina\"],\n [{\n            'v': 55,\n            'f': \"55\",\n        },\n\"108.00\",\n{\n            'v': 1879067,\n            'f': \"1879067\",\n        },\n\"Asheville, NC\",\n\"Entire homeapt\",\n{\n            'v': NaN,\n            'f': \"NaN\",\n        },\n\"Asheville\",\n\"North Carolina\"],\n [{\n            'v': 56,\n            'f': \"56\",\n        },\n\"103.00\",\n{\n            'v': 2072026,\n            'f': \"2072026\",\n        },\n\"Asheville, NC\",\n\"Entire homeapt\",\n{\n            'v': NaN,\n            'f': \"NaN\",\n        },\n\"Asheville\",\n\"North Carolina\"],\n [{\n            'v': 57,\n            'f': \"57\",\n        },\n\"50.00\",\n{\n            'v': 2176375,\n            'f': \"2176375\",\n        },\n\"Asheville, NC\",\n\"Entire homeapt\",\n{\n            'v': NaN,\n            'f': \"NaN\",\n        },\n\"Asheville\",\n\"North Carolina\"],\n [{\n            'v': 58,\n            'f': \"58\",\n        },\n\"134.00\",\n{\n            'v': 2209375,\n            'f': \"2209375\",\n        },\n\"Asheville, NC\",\n\"Entire homeapt\",\n{\n            'v': NaN,\n            'f': \"NaN\",\n        },\n\"Asheville\",\n\"North Carolina\"],\n [{\n            'v': 59,\n            'f': \"59\",\n        },\n\"99.00\",\n{\n            'v': 2222067,\n            'f': \"2222067\",\n        },\n\"Asheville, NC\",\n\"Entire homeapt\",\n{\n            'v': NaN,\n            'f': \"NaN\",\n        },\n\"Asheville\",\n\"North Carolina\"],\n [{\n            'v': 60,\n            'f': \"60\",\n        },\n\"65.00\",\n{\n            'v': 2254521,\n            'f': \"2254521\",\n        },\n\"Asheville, NC\",\n\"Private room\",\n{\n            'v': NaN,\n            'f': \"NaN\",\n        },\n\"Asheville\",\n\"North Carolina\"],\n [{\n            'v': 61,\n            'f': \"61\",\n        },\n\"79.00\",\n{\n            'v': 2296152,\n            'f': \"2296152\",\n        },\n\"Asheville, NC\",\n\"Private room\",\n{\n            'v': NaN,\n            'f': \"NaN\",\n        },\n\"Asheville\",\n\"North Carolina\"],\n [{\n            'v': 62,\n            'f': \"62\",\n        },\n\"119.00\",\n{\n            'v': 2326086,\n            'f': \"2326086\",\n        },\nNaN,\n\"Entire homeapt\",\n{\n            'v': NaN,\n            'f': \"NaN\",\n        },\n\"Asheville\",\n\"North Carolina\"],\n [{\n            'v': 63,\n            'f': \"63\",\n        },\n\"89.00\",\n{\n            'v': 2411109,\n            'f': \"2411109\",\n        },\n\"Asheville, NC\",\n\"Private room\",\n{\n            'v': NaN,\n            'f': \"NaN\",\n        },\n\"Asheville\",\n\"North Carolina\"],\n [{\n            'v': 64,\n            'f': \"64\",\n        },\n\"148.00\",\n{\n            'v': 2454666,\n            'f': \"2454666\",\n        },\n\"Asheville, NC\",\n\"Entire homeapt\",\n{\n            'v': NaN,\n            'f': \"NaN\",\n        },\n\"Asheville\",\n\"North Carolina\"],\n [{\n            'v': 65,\n            'f': \"65\",\n        },\n\"215.00\",\n{\n            'v': 2477628,\n            'f': \"2477628\",\n        },\n\"Asheville, NC\",\n\"Entire homeapt\",\n{\n            'v': NaN,\n            'f': \"NaN\",\n        },\n\"Asheville\",\n\"North Carolina\"],\n [{\n            'v': 66,\n            'f': \"66\",\n        },\n\"85.00\",\n{\n            'v': 2569529,\n            'f': \"2569529\",\n        },\n\"Lexington, KY\",\n\"Entire homeapt\",\n{\n            'v': NaN,\n            'f': \"NaN\",\n        },\n\"Asheville\",\n\"North Carolina\"],\n [{\n            'v': 67,\n            'f': \"67\",\n        },\n\"663.00\",\n{\n            'v': 2605869,\n            'f': \"2605869\",\n        },\n\"Asheville, NC\",\n\"Entire homeapt\",\n{\n            'v': NaN,\n            'f': \"NaN\",\n        },\n\"Asheville\",\n\"North Carolina\"],\n [{\n            'v': 68,\n            'f': \"68\",\n        },\n\"130.00\",\n{\n            'v': 2925486,\n            'f': \"2925486\",\n        },\n\"Asheville, NC\",\n\"Entire homeapt\",\n{\n            'v': NaN,\n            'f': \"NaN\",\n        },\n\"Asheville\",\n\"North Carolina\"],\n [{\n            'v': 69,\n            'f': \"69\",\n        },\n\"87.00\",\n{\n            'v': 3040444,\n            'f': \"3040444\",\n        },\n\"Asheville, NC\",\n\"Entire homeapt\",\n{\n            'v': NaN,\n            'f': \"NaN\",\n        },\n\"Asheville\",\n\"North Carolina\"],\n [{\n            'v': 70,\n            'f': \"70\",\n        },\n\"120.00\",\n{\n            'v': 3066648,\n            'f': \"3066648\",\n        },\n\"Asheville, NC\",\n\"Entire homeapt\",\n{\n            'v': NaN,\n            'f': \"NaN\",\n        },\n\"Asheville\",\n\"North Carolina\"],\n [{\n            'v': 71,\n            'f': \"71\",\n        },\n\"136.00\",\n{\n            'v': 3084395,\n            'f': \"3084395\",\n        },\n\"Asheville, NC\",\n\"Entire homeapt\",\n{\n            'v': NaN,\n            'f': \"NaN\",\n        },\n\"Asheville\",\n\"North Carolina\"],\n [{\n            'v': 72,\n            'f': \"72\",\n        },\n\"219.00\",\n{\n            'v': 3095136,\n            'f': \"3095136\",\n        },\n\"Asheville, NC\",\n\"Entire homeapt\",\n{\n            'v': NaN,\n            'f': \"NaN\",\n        },\n\"Asheville\",\n\"North Carolina\"],\n [{\n            'v': 73,\n            'f': \"73\",\n        },\n\"44.00\",\n{\n            'v': 3220474,\n            'f': \"3220474\",\n        },\n\"Asheville, NC\",\n\"Private room\",\n{\n            'v': NaN,\n            'f': \"NaN\",\n        },\n\"Asheville\",\n\"North Carolina\"],\n [{\n            'v': 74,\n            'f': \"74\",\n        },\n\"33.00\",\n{\n            'v': 3225871,\n            'f': \"3225871\",\n        },\n\"Asheville, NC\",\n\"Entire homeapt\",\n{\n            'v': NaN,\n            'f': \"NaN\",\n        },\n\"Asheville\",\n\"North Carolina\"],\n [{\n            'v': 75,\n            'f': \"75\",\n        },\n\"82.00\",\n{\n            'v': 3268055,\n            'f': \"3268055\",\n        },\n\"Asheville, NC\",\n\"Entire homeapt\",\n{\n            'v': NaN,\n            'f': \"NaN\",\n        },\n\"Asheville\",\n\"North Carolina\"],\n [{\n            'v': 76,\n            'f': \"76\",\n        },\n\"170.00\",\n{\n            'v': 3268747,\n            'f': \"3268747\",\n        },\n\"Asheville, NC\",\n\"Entire homeapt\",\n{\n            'v': NaN,\n            'f': \"NaN\",\n        },\n\"Asheville\",\n\"North Carolina\"],\n [{\n            'v': 77,\n            'f': \"77\",\n        },\n\"225.00\",\n{\n            'v': 3369973,\n            'f': \"3369973\",\n        },\n\"Asheville, NC\",\n\"Entire homeapt\",\n{\n            'v': NaN,\n            'f': \"NaN\",\n        },\n\"Asheville\",\n\"North Carolina\"],\n [{\n            'v': 78,\n            'f': \"78\",\n        },\n\"80.00\",\n{\n            'v': 3405282,\n            'f': \"3405282\",\n        },\n\"Asheville, NC\",\n\"Entire homeapt\",\n{\n            'v': NaN,\n            'f': \"NaN\",\n        },\n\"Asheville\",\n\"North Carolina\"],\n [{\n            'v': 79,\n            'f': \"79\",\n        },\n\"150.00\",\n{\n            'v': 3445336,\n            'f': \"3445336\",\n        },\n\"Fletcher, NC\",\n\"Entire homeapt\",\n{\n            'v': NaN,\n            'f': \"NaN\",\n        },\n\"Asheville\",\n\"North Carolina\"],\n [{\n            'v': 80,\n            'f': \"80\",\n        },\n\"80.00\",\n{\n            'v': 3454237,\n            'f': \"3454237\",\n        },\n\"Lexington, KY\",\n\"Entire homeapt\",\n{\n            'v': NaN,\n            'f': \"NaN\",\n        },\n\"Asheville\",\n\"North Carolina\"],\n [{\n            'v': 81,\n            'f': \"81\",\n        },\n\"34.00\",\n{\n            'v': 3522532,\n            'f': \"3522532\",\n        },\n\"Asheville, NC\",\n\"Entire homeapt\",\n{\n            'v': NaN,\n            'f': \"NaN\",\n        },\n\"Asheville\",\n\"North Carolina\"],\n [{\n            'v': 82,\n            'f': \"82\",\n        },\n\"109.00\",\n{\n            'v': 3529241,\n            'f': \"3529241\",\n        },\n\"Asheville, NC\",\n\"Entire homeapt\",\n{\n            'v': NaN,\n            'f': \"NaN\",\n        },\n\"Asheville\",\n\"North Carolina\"],\n [{\n            'v': 83,\n            'f': \"83\",\n        },\n\"60.00\",\n{\n            'v': 3563156,\n            'f': \"3563156\",\n        },\n\"Asheville, NC\",\n\"Private room\",\n{\n            'v': NaN,\n            'f': \"NaN\",\n        },\n\"Asheville\",\n\"North Carolina\"],\n [{\n            'v': 84,\n            'f': \"84\",\n        },\n\"124.00\",\n{\n            'v': 3590634,\n            'f': \"3590634\",\n        },\nNaN,\n\"Entire homeapt\",\n{\n            'v': NaN,\n            'f': \"NaN\",\n        },\n\"Asheville\",\n\"North Carolina\"],\n [{\n            'v': 85,\n            'f': \"85\",\n        },\n\"106.00\",\n{\n            'v': 3649639,\n            'f': \"3649639\",\n        },\n\"Asheville, NC\",\n\"Entire homeapt\",\n{\n            'v': NaN,\n            'f': \"NaN\",\n        },\n\"Asheville\",\n\"North Carolina\"],\n [{\n            'v': 86,\n            'f': \"86\",\n        },\n\"200.00\",\n{\n            'v': 3694260,\n            'f': \"3694260\",\n        },\n\"Asheville, NC\",\n\"Entire homeapt\",\n{\n            'v': NaN,\n            'f': \"NaN\",\n        },\n\"Asheville\",\n\"North Carolina\"],\n [{\n            'v': 87,\n            'f': \"87\",\n        },\n\"365.00\",\n{\n            'v': 3767793,\n            'f': \"3767793\",\n        },\n\"Asheville, NC\",\n\"Entire homeapt\",\n{\n            'v': NaN,\n            'f': \"NaN\",\n        },\n\"Asheville\",\n\"North Carolina\"],\n [{\n            'v': 88,\n            'f': \"88\",\n        },\n\"76.00\",\n{\n            'v': 3821004,\n            'f': \"3821004\",\n        },\n\"Asheville, NC\",\n\"Private room\",\n{\n            'v': NaN,\n            'f': \"NaN\",\n        },\n\"Asheville\",\n\"North Carolina\"],\n [{\n            'v': 89,\n            'f': \"89\",\n        },\n\"276.00\",\n{\n            'v': 3868452,\n            'f': \"3868452\",\n        },\n\"Asheville, NC\",\n\"Entire homeapt\",\n{\n            'v': NaN,\n            'f': \"NaN\",\n        },\n\"Asheville\",\n\"North Carolina\"],\n [{\n            'v': 90,\n            'f': \"90\",\n        },\n\"124.00\",\n{\n            'v': 3868910,\n            'f': \"3868910\",\n        },\n\"Asheville, NC\",\n\"Entire homeapt\",\n{\n            'v': NaN,\n            'f': \"NaN\",\n        },\n\"Asheville\",\n\"North Carolina\"],\n [{\n            'v': 91,\n            'f': \"91\",\n        },\n\"137.00\",\n{\n            'v': 3924937,\n            'f': \"3924937\",\n        },\n\"Asheville, NC\",\n\"Entire homeapt\",\n{\n            'v': NaN,\n            'f': \"NaN\",\n        },\n\"Asheville\",\n\"North Carolina\"],\n [{\n            'v': 92,\n            'f': \"92\",\n        },\n\"75.00\",\n{\n            'v': 3945733,\n            'f': \"3945733\",\n        },\n\"Asheville, NC\",\n\"Entire homeapt\",\n{\n            'v': NaN,\n            'f': \"NaN\",\n        },\n\"Asheville\",\n\"North Carolina\"],\n [{\n            'v': 93,\n            'f': \"93\",\n        },\n\"129.00\",\n{\n            'v': 3968877,\n            'f': \"3968877\",\n        },\n\"Asheville, NC\",\n\"Private room\",\n{\n            'v': NaN,\n            'f': \"NaN\",\n        },\n\"Asheville\",\n\"North Carolina\"],\n [{\n            'v': 94,\n            'f': \"94\",\n        },\n\"73.00\",\n{\n            'v': 3986614,\n            'f': \"3986614\",\n        },\n\"Asheville, NC\",\n\"Entire homeapt\",\n{\n            'v': NaN,\n            'f': \"NaN\",\n        },\n\"Asheville\",\n\"North Carolina\"],\n [{\n            'v': 95,\n            'f': \"95\",\n        },\n\"56.00\",\n{\n            'v': 3990524,\n            'f': \"3990524\",\n        },\n\"Asheville, NC\",\n\"Private room\",\n{\n            'v': NaN,\n            'f': \"NaN\",\n        },\n\"Asheville\",\n\"North Carolina\"],\n [{\n            'v': 96,\n            'f': \"96\",\n        },\n\"280.00\",\n{\n            'v': 4045013,\n            'f': \"4045013\",\n        },\n\"Asheville, NC\",\n\"Entire homeapt\",\n{\n            'v': NaN,\n            'f': \"NaN\",\n        },\n\"Asheville\",\n\"North Carolina\"],\n [{\n            'v': 97,\n            'f': \"97\",\n        },\n\"75.00\",\n{\n            'v': 4108784,\n            'f': \"4108784\",\n        },\n\"Asheville, NC\",\n\"Entire homeapt\",\n{\n            'v': NaN,\n            'f': \"NaN\",\n        },\n\"Asheville\",\n\"North Carolina\"],\n [{\n            'v': 98,\n            'f': \"98\",\n        },\n\"99.00\",\n{\n            'v': 4124504,\n            'f': \"4124504\",\n        },\n\"Asheville, NC\",\n\"Entire homeapt\",\n{\n            'v': NaN,\n            'f': \"NaN\",\n        },\n\"Asheville\",\n\"North Carolina\"],\n [{\n            'v': 99,\n            'f': \"99\",\n        },\n\"72.00\",\n{\n            'v': 4129119,\n            'f': \"4129119\",\n        },\n\"Asheville, NC\",\n\"Private room\",\n{\n            'v': NaN,\n            'f': \"NaN\",\n        },\n\"Asheville\",\n\"North Carolina\"],\n [{\n            'v': 100,\n            'f': \"100\",\n        },\n\"190.00\",\n{\n            'v': 4173713,\n            'f': \"4173713\",\n        },\n\"Asheville, NC\",\n\"Entire homeapt\",\n{\n            'v': NaN,\n            'f': \"NaN\",\n        },\n\"Asheville\",\n\"North Carolina\"],\n [{\n            'v': 101,\n            'f': \"101\",\n        },\n\"135.00\",\n{\n            'v': 4241484,\n            'f': \"4241484\",\n        },\n\"Asheville, NC\",\n\"Entire homeapt\",\n{\n            'v': NaN,\n            'f': \"NaN\",\n        },\n\"Asheville\",\n\"North Carolina\"],\n [{\n            'v': 102,\n            'f': \"102\",\n        },\n\"54.00\",\n{\n            'v': 4285157,\n            'f': \"4285157\",\n        },\n\"Asheville, NC\",\n\"Private room\",\n{\n            'v': NaN,\n            'f': \"NaN\",\n        },\n\"Asheville\",\n\"North Carolina\"],\n [{\n            'v': 103,\n            'f': \"103\",\n        },\n\"58.00\",\n{\n            'v': 4304358,\n            'f': \"4304358\",\n        },\n\"Asheville, NC\",\n\"Private room\",\n{\n            'v': NaN,\n            'f': \"NaN\",\n        },\n\"Asheville\",\n\"North Carolina\"],\n [{\n            'v': 104,\n            'f': \"104\",\n        },\n\"75.00\",\n{\n            'v': 4394670,\n            'f': \"4394670\",\n        },\n\"Asheville, NC\",\n\"Entire homeapt\",\n{\n            'v': NaN,\n            'f': \"NaN\",\n        },\n\"Asheville\",\n\"North Carolina\"],\n [{\n            'v': 105,\n            'f': \"105\",\n        },\n\"105.00\",\n{\n            'v': 4394761,\n            'f': \"4394761\",\n        },\n\"Asheville, NC\",\n\"Entire homeapt\",\n{\n            'v': NaN,\n            'f': \"NaN\",\n        },\n\"Asheville\",\n\"North Carolina\"],\n [{\n            'v': 106,\n            'f': \"106\",\n        },\n\"39.00\",\n{\n            'v': 4448604,\n            'f': \"4448604\",\n        },\n\"Asheville, NC\",\n\"Entire homeapt\",\n{\n            'v': NaN,\n            'f': \"NaN\",\n        },\n\"Asheville\",\n\"North Carolina\"],\n [{\n            'v': 107,\n            'f': \"107\",\n        },\n\"200.00\",\n{\n            'v': 4515772,\n            'f': \"4515772\",\n        },\n\"Fletcher, NC\",\n\"Entire homeapt\",\n{\n            'v': NaN,\n            'f': \"NaN\",\n        },\n\"Asheville\",\n\"North Carolina\"],\n [{\n            'v': 108,\n            'f': \"108\",\n        },\n\"75.00\",\n{\n            'v': 4587394,\n            'f': \"4587394\",\n        },\n\"Asheville, NC\",\n\"Entire homeapt\",\n{\n            'v': NaN,\n            'f': \"NaN\",\n        },\n\"Asheville\",\n\"North Carolina\"],\n [{\n            'v': 109,\n            'f': \"109\",\n        },\n\"90.00\",\n{\n            'v': 4764715,\n            'f': \"4764715\",\n        },\n\"Asheville, NC\",\n\"Entire homeapt\",\n{\n            'v': NaN,\n            'f': \"NaN\",\n        },\n\"Asheville\",\n\"North Carolina\"],\n [{\n            'v': 110,\n            'f': \"110\",\n        },\n\"180.00\",\n{\n            'v': 4846733,\n            'f': \"4846733\",\n        },\n\"Fletcher, NC\",\n\"Entire homeapt\",\n{\n            'v': NaN,\n            'f': \"NaN\",\n        },\n\"Asheville\",\n\"North Carolina\"],\n [{\n            'v': 111,\n            'f': \"111\",\n        },\n\"95.00\",\n{\n            'v': 4875054,\n            'f': \"4875054\",\n        },\n\"Asheville, NC\",\n\"Entire homeapt\",\n{\n            'v': NaN,\n            'f': \"NaN\",\n        },\n\"Asheville\",\n\"North Carolina\"],\n [{\n            'v': 112,\n            'f': \"112\",\n        },\n\"95.00\",\n{\n            'v': 4895765,\n            'f': \"4895765\",\n        },\n\"Asheville, NC\",\n\"Entire homeapt\",\n{\n            'v': NaN,\n            'f': \"NaN\",\n        },\n\"Asheville\",\n\"North Carolina\"],\n [{\n            'v': 113,\n            'f': \"113\",\n        },\n\"93.00\",\n{\n            'v': 4931736,\n            'f': \"4931736\",\n        },\n\"Asheville, NC\",\n\"Entire homeapt\",\n{\n            'v': NaN,\n            'f': \"NaN\",\n        },\n\"Asheville\",\n\"North Carolina\"],\n [{\n            'v': 114,\n            'f': \"114\",\n        },\n\"100.00\",\n{\n            'v': 4937608,\n            'f': \"4937608\",\n        },\n\"Asheville, NC\",\n\"Private room\",\n{\n            'v': NaN,\n            'f': \"NaN\",\n        },\n\"Asheville\",\n\"North Carolina\"],\n [{\n            'v': 115,\n            'f': \"115\",\n        },\n\"196.00\",\n{\n            'v': 4994407,\n            'f': \"4994407\",\n        },\nNaN,\n\"Entire homeapt\",\n{\n            'v': NaN,\n            'f': \"NaN\",\n        },\n\"Asheville\",\n\"North Carolina\"],\n [{\n            'v': 116,\n            'f': \"116\",\n        },\n\"137.00\",\n{\n            'v': 5114762,\n            'f': \"5114762\",\n        },\n\"Asheville, NC\",\n\"Entire homeapt\",\n{\n            'v': NaN,\n            'f': \"NaN\",\n        },\n\"Asheville\",\n\"North Carolina\"],\n [{\n            'v': 117,\n            'f': \"117\",\n        },\n\"136.00\",\n{\n            'v': 5144212,\n            'f': \"5144212\",\n        },\n\"Asheville, NC\",\n\"Entire homeapt\",\n{\n            'v': NaN,\n            'f': \"NaN\",\n        },\n\"Asheville\",\n\"North Carolina\"],\n [{\n            'v': 118,\n            'f': \"118\",\n        },\n\"291.00\",\n{\n            'v': 5151226,\n            'f': \"5151226\",\n        },\n\"Asheville, NC\",\n\"Entire homeapt\",\n{\n            'v': NaN,\n            'f': \"NaN\",\n        },\n\"Asheville\",\n\"North Carolina\"],\n [{\n            'v': 119,\n            'f': \"119\",\n        },\n\"93.00\",\n{\n            'v': 5288006,\n            'f': \"5288006\",\n        },\n\"Asheville, NC\",\n\"Private room\",\n{\n            'v': NaN,\n            'f': \"NaN\",\n        },\n\"Asheville\",\n\"North Carolina\"],\n [{\n            'v': 120,\n            'f': \"120\",\n        },\n\"236.00\",\n{\n            'v': 5333015,\n            'f': \"5333015\",\n        },\n\"Asheville, NC\",\n\"Entire homeapt\",\n{\n            'v': NaN,\n            'f': \"NaN\",\n        },\n\"Asheville\",\n\"North Carolina\"],\n [{\n            'v': 121,\n            'f': \"121\",\n        },\n\"99.00\",\n{\n            'v': 5344892,\n            'f': \"5344892\",\n        },\n\"Asheville, NC\",\n\"Private room\",\n{\n            'v': NaN,\n            'f': \"NaN\",\n        },\n\"Asheville\",\n\"North Carolina\"],\n [{\n            'v': 122,\n            'f': \"122\",\n        },\n\"200.00\",\n{\n            'v': 5464591,\n            'f': \"5464591\",\n        },\n\"Asheville, NC\",\n\"Entire homeapt\",\n{\n            'v': NaN,\n            'f': \"NaN\",\n        },\n\"Asheville\",\n\"North Carolina\"],\n [{\n            'v': 123,\n            'f': \"123\",\n        },\n\"118.00\",\n{\n            'v': 5481195,\n            'f': \"5481195\",\n        },\n\"Asheville, NC\",\n\"Entire homeapt\",\n{\n            'v': NaN,\n            'f': \"NaN\",\n        },\n\"Asheville\",\n\"North Carolina\"],\n [{\n            'v': 124,\n            'f': \"124\",\n        },\n\"76.00\",\n{\n            'v': 5506704,\n            'f': \"5506704\",\n        },\n\"Asheville, NC\",\n\"Entire homeapt\",\n{\n            'v': NaN,\n            'f': \"NaN\",\n        },\n\"Asheville\",\n\"North Carolina\"],\n [{\n            'v': 125,\n            'f': \"125\",\n        },\n\"138.00\",\n{\n            'v': 5696919,\n            'f': \"5696919\",\n        },\n\"Asheville, NC\",\n\"Entire homeapt\",\n{\n            'v': NaN,\n            'f': \"NaN\",\n        },\n\"Asheville\",\n\"North Carolina\"],\n [{\n            'v': 126,\n            'f': \"126\",\n        },\n\"103.00\",\n{\n            'v': 5716399,\n            'f': \"5716399\",\n        },\n\"Asheville, NC\",\n\"Entire homeapt\",\n{\n            'v': NaN,\n            'f': \"NaN\",\n        },\n\"Asheville\",\n\"North Carolina\"],\n [{\n            'v': 127,\n            'f': \"127\",\n        },\n\"68.00\",\n{\n            'v': 5850649,\n            'f': \"5850649\",\n        },\n\"Winston-Salem, NC\",\n\"Entire homeapt\",\n{\n            'v': NaN,\n            'f': \"NaN\",\n        },\n\"Asheville\",\n\"North Carolina\"],\n [{\n            'v': 128,\n            'f': \"128\",\n        },\n\"246.00\",\n{\n            'v': 5868695,\n            'f': \"5868695\",\n        },\n\"Asheville, NC\",\n\"Entire homeapt\",\n{\n            'v': NaN,\n            'f': \"NaN\",\n        },\n\"Asheville\",\n\"North Carolina\"],\n [{\n            'v': 129,\n            'f': \"129\",\n        },\n\"139.00\",\n{\n            'v': 6002814,\n            'f': \"6002814\",\n        },\n\"Asheville, NC\",\n\"Entire homeapt\",\n{\n            'v': NaN,\n            'f': \"NaN\",\n        },\n\"Asheville\",\n\"North Carolina\"],\n [{\n            'v': 130,\n            'f': \"130\",\n        },\n\"50.00\",\n{\n            'v': 6005112,\n            'f': \"6005112\",\n        },\n\"Asheville, NC\",\n\"Private room\",\n{\n            'v': NaN,\n            'f': \"NaN\",\n        },\n\"Asheville\",\n\"North Carolina\"],\n [{\n            'v': 131,\n            'f': \"131\",\n        },\n\"108.00\",\n{\n            'v': 6054250,\n            'f': \"6054250\",\n        },\n\"Asheville, NC\",\n\"Entire homeapt\",\n{\n            'v': NaN,\n            'f': \"NaN\",\n        },\n\"Asheville\",\n\"North Carolina\"],\n [{\n            'v': 132,\n            'f': \"132\",\n        },\n\"135.00\",\n{\n            'v': 6056098,\n            'f': \"6056098\",\n        },\n\"Asheville, NC\",\n\"Entire homeapt\",\n{\n            'v': NaN,\n            'f': \"NaN\",\n        },\n\"Asheville\",\n\"North Carolina\"],\n [{\n            'v': 133,\n            'f': \"133\",\n        },\n\"102.00\",\n{\n            'v': 6079982,\n            'f': \"6079982\",\n        },\n\"Asheville, NC\",\n\"Entire homeapt\",\n{\n            'v': NaN,\n            'f': \"NaN\",\n        },\n\"Asheville\",\n\"North Carolina\"],\n [{\n            'v': 134,\n            'f': \"134\",\n        },\n\"56.00\",\n{\n            'v': 6145162,\n            'f': \"6145162\",\n        },\n\"Asheville, NC\",\n\"Private room\",\n{\n            'v': NaN,\n            'f': \"NaN\",\n        },\n\"Asheville\",\n\"North Carolina\"],\n [{\n            'v': 135,\n            'f': \"135\",\n        },\n\"49.00\",\n{\n            'v': 6170347,\n            'f': \"6170347\",\n        },\n\"Asheville, NC\",\n\"Private room\",\n{\n            'v': NaN,\n            'f': \"NaN\",\n        },\n\"Asheville\",\n\"North Carolina\"],\n [{\n            'v': 136,\n            'f': \"136\",\n        },\n\"181.00\",\n{\n            'v': 6180513,\n            'f': \"6180513\",\n        },\nNaN,\n\"Entire homeapt\",\n{\n            'v': NaN,\n            'f': \"NaN\",\n        },\n\"Asheville\",\n\"North Carolina\"],\n [{\n            'v': 137,\n            'f': \"137\",\n        },\n\"71.00\",\n{\n            'v': 6197585,\n            'f': \"6197585\",\n        },\n\"Asheville, NC\",\n\"Entire homeapt\",\n{\n            'v': NaN,\n            'f': \"NaN\",\n        },\n\"Asheville\",\n\"North Carolina\"],\n [{\n            'v': 138,\n            'f': \"138\",\n        },\n\"159.00\",\n{\n            'v': 6227094,\n            'f': \"6227094\",\n        },\n\"Asheville, NC\",\n\"Entire homeapt\",\n{\n            'v': NaN,\n            'f': \"NaN\",\n        },\n\"Asheville\",\n\"North Carolina\"],\n [{\n            'v': 139,\n            'f': \"139\",\n        },\n\"83.00\",\n{\n            'v': 6234618,\n            'f': \"6234618\",\n        },\n\"Asheville, NC\",\n\"Entire homeapt\",\n{\n            'v': NaN,\n            'f': \"NaN\",\n        },\n\"Asheville\",\n\"North Carolina\"],\n [{\n            'v': 140,\n            'f': \"140\",\n        },\n\"97.00\",\n{\n            'v': 6290666,\n            'f': \"6290666\",\n        },\n\"Asheville, NC\",\n\"Entire homeapt\",\n{\n            'v': NaN,\n            'f': \"NaN\",\n        },\n\"Asheville\",\n\"North Carolina\"],\n [{\n            'v': 141,\n            'f': \"141\",\n        },\n\"65.00\",\n{\n            'v': 6362850,\n            'f': \"6362850\",\n        },\n\"United States\",\n\"Entire homeapt\",\n{\n            'v': NaN,\n            'f': \"NaN\",\n        },\n\"Asheville\",\n\"North Carolina\"],\n [{\n            'v': 142,\n            'f': \"142\",\n        },\n\"65.00\",\n{\n            'v': 6363332,\n            'f': \"6363332\",\n        },\n\"Sebring, FL\",\n\"Entire homeapt\",\n{\n            'v': NaN,\n            'f': \"NaN\",\n        },\n\"Asheville\",\n\"North Carolina\"],\n [{\n            'v': 143,\n            'f': \"143\",\n        },\n\"92.00\",\n{\n            'v': 6399802,\n            'f': \"6399802\",\n        },\n\"Asheville, NC\",\n\"Private room\",\n{\n            'v': NaN,\n            'f': \"NaN\",\n        },\n\"Asheville\",\n\"North Carolina\"],\n [{\n            'v': 144,\n            'f': \"144\",\n        },\n\"73.00\",\n{\n            'v': 6452410,\n            'f': \"6452410\",\n        },\n\"Asheville, NC\",\n\"Entire homeapt\",\n{\n            'v': NaN,\n            'f': \"NaN\",\n        },\n\"Asheville\",\n\"North Carolina\"],\n [{\n            'v': 145,\n            'f': \"145\",\n        },\n\"325.00\",\n{\n            'v': 6609327,\n            'f': \"6609327\",\n        },\n\"Asheville, NC\",\n\"Entire homeapt\",\n{\n            'v': NaN,\n            'f': \"NaN\",\n        },\n\"Asheville\",\n\"North Carolina\"],\n [{\n            'v': 146,\n            'f': \"146\",\n        },\n\"54.00\",\n{\n            'v': 6698737,\n            'f': \"6698737\",\n        },\n\"Asheville, NC\",\n\"Private room\",\n{\n            'v': NaN,\n            'f': \"NaN\",\n        },\n\"Asheville\",\n\"North Carolina\"],\n [{\n            'v': 147,\n            'f': \"147\",\n        },\n\"196.00\",\n{\n            'v': 6711659,\n            'f': \"6711659\",\n        },\n\"Asheville, NC\",\n\"Entire homeapt\",\n{\n            'v': NaN,\n            'f': \"NaN\",\n        },\n\"Asheville\",\n\"North Carolina\"],\n [{\n            'v': 148,\n            'f': \"148\",\n        },\n\"89.00\",\n{\n            'v': 6715120,\n            'f': \"6715120\",\n        },\n\"Asheville, NC\",\n\"Entire homeapt\",\n{\n            'v': NaN,\n            'f': \"NaN\",\n        },\n\"Asheville\",\n\"North Carolina\"],\n [{\n            'v': 149,\n            'f': \"149\",\n        },\n\"138.00\",\n{\n            'v': 6724476,\n            'f': \"6724476\",\n        },\n\"Asheville, NC\",\n\"Entire homeapt\",\n{\n            'v': NaN,\n            'f': \"NaN\",\n        },\n\"Asheville\",\n\"North Carolina\"],\n [{\n            'v': 150,\n            'f': \"150\",\n        },\n\"98.00\",\n{\n            'v': 6760016,\n            'f': \"6760016\",\n        },\n\"Asheville, NC\",\n\"Entire homeapt\",\n{\n            'v': NaN,\n            'f': \"NaN\",\n        },\n\"Asheville\",\n\"North Carolina\"],\n [{\n            'v': 151,\n            'f': \"151\",\n        },\n\"27.00\",\n{\n            'v': 6765734,\n            'f': \"6765734\",\n        },\n\"Asheville, NC\",\n\"Shared room\",\n{\n            'v': NaN,\n            'f': \"NaN\",\n        },\n\"Asheville\",\n\"North Carolina\"],\n [{\n            'v': 152,\n            'f': \"152\",\n        },\n\"66.00\",\n{\n            'v': 6765832,\n            'f': \"6765832\",\n        },\n\"Asheville, NC\",\n\"Private room\",\n{\n            'v': NaN,\n            'f': \"NaN\",\n        },\n\"Asheville\",\n\"North Carolina\"],\n [{\n            'v': 153,\n            'f': \"153\",\n        },\n\"61.00\",\n{\n            'v': 6813265,\n            'f': \"6813265\",\n        },\n\"Asheville, NC\",\n\"Private room\",\n{\n            'v': NaN,\n            'f': \"NaN\",\n        },\n\"Asheville\",\n\"North Carolina\"],\n [{\n            'v': 154,\n            'f': \"154\",\n        },\n\"98.00\",\n{\n            'v': 6818139,\n            'f': \"6818139\",\n        },\n\"Asheville, NC\",\n\"Private room\",\n{\n            'v': NaN,\n            'f': \"NaN\",\n        },\n\"Asheville\",\n\"North Carolina\"],\n [{\n            'v': 155,\n            'f': \"155\",\n        },\n\"90.00\",\n{\n            'v': 6829875,\n            'f': \"6829875\",\n        },\n\"Asheville, NC\",\n\"Entire homeapt\",\n{\n            'v': NaN,\n            'f': \"NaN\",\n        },\n\"Asheville\",\n\"North Carolina\"],\n [{\n            'v': 156,\n            'f': \"156\",\n        },\n\"65.00\",\n{\n            'v': 6913630,\n            'f': \"6913630\",\n        },\n\"Asheville, NC\",\n\"Entire homeapt\",\n{\n            'v': NaN,\n            'f': \"NaN\",\n        },\n\"Asheville\",\n\"North Carolina\"],\n [{\n            'v': 157,\n            'f': \"157\",\n        },\n\"125.00\",\n{\n            'v': 6970329,\n            'f': \"6970329\",\n        },\n\"Asheville, NC\",\n\"Entire homeapt\",\n{\n            'v': NaN,\n            'f': \"NaN\",\n        },\n\"Asheville\",\n\"North Carolina\"],\n [{\n            'v': 158,\n            'f': \"158\",\n        },\n\"99.00\",\n{\n            'v': 7001873,\n            'f': \"7001873\",\n        },\nNaN,\n\"Entire homeapt\",\n{\n            'v': NaN,\n            'f': \"NaN\",\n        },\n\"Asheville\",\n\"North Carolina\"],\n [{\n            'v': 159,\n            'f': \"159\",\n        },\n\"99.00\",\n{\n            'v': 7045303,\n            'f': \"7045303\",\n        },\n\"Asheville, NC\",\n\"Private room\",\n{\n            'v': NaN,\n            'f': \"NaN\",\n        },\n\"Asheville\",\n\"North Carolina\"],\n [{\n            'v': 160,\n            'f': \"160\",\n        },\n\"300.00\",\n{\n            'v': 7063293,\n            'f': \"7063293\",\n        },\n\"Asheville, NC\",\n\"Entire homeapt\",\n{\n            'v': NaN,\n            'f': \"NaN\",\n        },\n\"Asheville\",\n\"North Carolina\"],\n [{\n            'v': 161,\n            'f': \"161\",\n        },\n\"95.00\",\n{\n            'v': 7103096,\n            'f': \"7103096\",\n        },\n\"Asheville, NC\",\n\"Entire homeapt\",\n{\n            'v': NaN,\n            'f': \"NaN\",\n        },\n\"Asheville\",\n\"North Carolina\"],\n [{\n            'v': 162,\n            'f': \"162\",\n        },\n\"133.00\",\n{\n            'v': 7341057,\n            'f': \"7341057\",\n        },\n\"Arden, NC\",\n\"Private room\",\n{\n            'v': NaN,\n            'f': \"NaN\",\n        },\n\"Asheville\",\n\"North Carolina\"],\n [{\n            'v': 163,\n            'f': \"163\",\n        },\n\"55.00\",\n{\n            'v': 7367841,\n            'f': \"7367841\",\n        },\n\"Asheville, NC\",\n\"Private room\",\n{\n            'v': NaN,\n            'f': \"NaN\",\n        },\n\"Asheville\",\n\"North Carolina\"],\n [{\n            'v': 164,\n            'f': \"164\",\n        },\n\"119.00\",\n{\n            'v': 7418991,\n            'f': \"7418991\",\n        },\n\"Asheville, NC\",\n\"Entire homeapt\",\n{\n            'v': NaN,\n            'f': \"NaN\",\n        },\n\"Asheville\",\n\"North Carolina\"],\n [{\n            'v': 165,\n            'f': \"165\",\n        },\n\"70.00\",\n{\n            'v': 7427374,\n            'f': \"7427374\",\n        },\n\"Asheville, NC\",\n\"Private room\",\n{\n            'v': NaN,\n            'f': \"NaN\",\n        },\n\"Asheville\",\n\"North Carolina\"],\n [{\n            'v': 166,\n            'f': \"166\",\n        },\n\"195.00\",\n{\n            'v': 7438838,\n            'f': \"7438838\",\n        },\n\"Asheville, NC\",\n\"Entire homeapt\",\n{\n            'v': NaN,\n            'f': \"NaN\",\n        },\n\"Asheville\",\n\"North Carolina\"],\n [{\n            'v': 167,\n            'f': \"167\",\n        },\n\"125.00\",\n{\n            'v': 7630648,\n            'f': \"7630648\",\n        },\n\"Asheville, NC\",\n\"Entire homeapt\",\n{\n            'v': NaN,\n            'f': \"NaN\",\n        },\n\"Asheville\",\n\"North Carolina\"],\n [{\n            'v': 168,\n            'f': \"168\",\n        },\n\"75.00\",\n{\n            'v': 7665386,\n            'f': \"7665386\",\n        },\n\"Asheville, NC\",\n\"Entire homeapt\",\n{\n            'v': NaN,\n            'f': \"NaN\",\n        },\n\"Asheville\",\n\"North Carolina\"],\n [{\n            'v': 169,\n            'f': \"169\",\n        },\n\"139.00\",\n{\n            'v': 7674957,\n            'f': \"7674957\",\n        },\n\"Augusta, GA\",\n\"Entire homeapt\",\n{\n            'v': NaN,\n            'f': \"NaN\",\n        },\n\"Asheville\",\n\"North Carolina\"],\n [{\n            'v': 170,\n            'f': \"170\",\n        },\n\"214.00\",\n{\n            'v': 7693393,\n            'f': \"7693393\",\n        },\n\"Asheville, NC\",\n\"Entire homeapt\",\n{\n            'v': NaN,\n            'f': \"NaN\",\n        },\n\"Asheville\",\n\"North Carolina\"],\n [{\n            'v': 171,\n            'f': \"171\",\n        },\n\"82.00\",\n{\n            'v': 7853605,\n            'f': \"7853605\",\n        },\n\"Asheville, NC\",\n\"Entire homeapt\",\n{\n            'v': NaN,\n            'f': \"NaN\",\n        },\n\"Asheville\",\n\"North Carolina\"],\n [{\n            'v': 172,\n            'f': \"172\",\n        },\n\"97.00\",\n{\n            'v': 7859259,\n            'f': \"7859259\",\n        },\n\"Asheville, NC\",\n\"Entire homeapt\",\n{\n            'v': NaN,\n            'f': \"NaN\",\n        },\n\"Asheville\",\n\"North Carolina\"],\n [{\n            'v': 173,\n            'f': \"173\",\n        },\n\"93.00\",\n{\n            'v': 7887572,\n            'f': \"7887572\",\n        },\n\"Asheville, NC\",\n\"Entire homeapt\",\n{\n            'v': NaN,\n            'f': \"NaN\",\n        },\n\"Asheville\",\n\"North Carolina\"],\n [{\n            'v': 174,\n            'f': \"174\",\n        },\n\"62.00\",\n{\n            'v': 7938930,\n            'f': \"7938930\",\n        },\n\"Asheville, NC\",\n\"Entire homeapt\",\n{\n            'v': NaN,\n            'f': \"NaN\",\n        },\n\"Asheville\",\n\"North Carolina\"],\n [{\n            'v': 175,\n            'f': \"175\",\n        },\n\"109.00\",\n{\n            'v': 7947839,\n            'f': \"7947839\",\n        },\n\"Asheville, NC\",\n\"Entire homeapt\",\n{\n            'v': NaN,\n            'f': \"NaN\",\n        },\n\"Asheville\",\n\"North Carolina\"],\n [{\n            'v': 176,\n            'f': \"176\",\n        },\n\"75.00\",\n{\n            'v': 7967886,\n            'f': \"7967886\",\n        },\n\"Austin, TX\",\n\"Entire homeapt\",\n{\n            'v': NaN,\n            'f': \"NaN\",\n        },\n\"Asheville\",\n\"North Carolina\"],\n [{\n            'v': 177,\n            'f': \"177\",\n        },\n\"100.00\",\n{\n            'v': 8070733,\n            'f': \"8070733\",\n        },\n\"Asheville, NC\",\n\"Entire homeapt\",\n{\n            'v': NaN,\n            'f': \"NaN\",\n        },\n\"Asheville\",\n\"North Carolina\"],\n [{\n            'v': 178,\n            'f': \"178\",\n        },\n\"60.00\",\n{\n            'v': 8089299,\n            'f': \"8089299\",\n        },\n\"Asheville, NC\",\n\"Private room\",\n{\n            'v': NaN,\n            'f': \"NaN\",\n        },\n\"Asheville\",\n\"North Carolina\"],\n [{\n            'v': 179,\n            'f': \"179\",\n        },\n\"104.00\",\n{\n            'v': 8193368,\n            'f': \"8193368\",\n        },\n\"Asheville, NC\",\n\"Entire homeapt\",\n{\n            'v': NaN,\n            'f': \"NaN\",\n        },\n\"Asheville\",\n\"North Carolina\"],\n [{\n            'v': 180,\n            'f': \"180\",\n        },\n\"234.00\",\n{\n            'v': 8211404,\n            'f': \"8211404\",\n        },\nNaN,\n\"Entire homeapt\",\n{\n            'v': NaN,\n            'f': \"NaN\",\n        },\n\"Asheville\",\n\"North Carolina\"],\n [{\n            'v': 181,\n            'f': \"181\",\n        },\n\"120.00\",\n{\n            'v': 8246075,\n            'f': \"8246075\",\n        },\n\"Asheville, NC\",\n\"Private room\",\n{\n            'v': NaN,\n            'f': \"NaN\",\n        },\n\"Asheville\",\n\"North Carolina\"],\n [{\n            'v': 182,\n            'f': \"182\",\n        },\n\"239.00\",\n{\n            'v': 8265544,\n            'f': \"8265544\",\n        },\n\"Asheville, NC\",\n\"Entire homeapt\",\n{\n            'v': NaN,\n            'f': \"NaN\",\n        },\n\"Asheville\",\n\"North Carolina\"],\n [{\n            'v': 183,\n            'f': \"183\",\n        },\n\"400.00\",\n{\n            'v': 8266788,\n            'f': \"8266788\",\n        },\n\"Asheville, NC\",\n\"Entire homeapt\",\n{\n            'v': NaN,\n            'f': \"NaN\",\n        },\n\"Asheville\",\n\"North Carolina\"],\n [{\n            'v': 184,\n            'f': \"184\",\n        },\n\"68.00\",\n{\n            'v': 8304698,\n            'f': \"8304698\",\n        },\n\"Asheville, NC\",\n\"Entire homeapt\",\n{\n            'v': NaN,\n            'f': \"NaN\",\n        },\n\"Asheville\",\n\"North Carolina\"],\n [{\n            'v': 185,\n            'f': \"185\",\n        },\n\"68.00\",\n{\n            'v': 8310318,\n            'f': \"8310318\",\n        },\n\"Asheville, NC\",\n\"Entire homeapt\",\n{\n            'v': NaN,\n            'f': \"NaN\",\n        },\n\"Asheville\",\n\"North Carolina\"],\n [{\n            'v': 186,\n            'f': \"186\",\n        },\n\"71.00\",\n{\n            'v': 8362668,\n            'f': \"8362668\",\n        },\n\"Asheville, NC\",\n\"Entire homeapt\",\n{\n            'v': NaN,\n            'f': \"NaN\",\n        },\n\"Asheville\",\n\"North Carolina\"],\n [{\n            'v': 187,\n            'f': \"187\",\n        },\n\"143.00\",\n{\n            'v': 8443279,\n            'f': \"8443279\",\n        },\n\"Asheville, NC\",\n\"Entire homeapt\",\n{\n            'v': NaN,\n            'f': \"NaN\",\n        },\n\"Asheville\",\n\"North Carolina\"],\n [{\n            'v': 188,\n            'f': \"188\",\n        },\n\"80.00\",\n{\n            'v': 8513468,\n            'f': \"8513468\",\n        },\n\"Asheville, NC\",\n\"Entire homeapt\",\n{\n            'v': NaN,\n            'f': \"NaN\",\n        },\n\"Asheville\",\n\"North Carolina\"],\n [{\n            'v': 189,\n            'f': \"189\",\n        },\n\"84.00\",\n{\n            'v': 8555124,\n            'f': \"8555124\",\n        },\n\"Asheville, NC\",\n\"Entire homeapt\",\n{\n            'v': NaN,\n            'f': \"NaN\",\n        },\n\"Asheville\",\n\"North Carolina\"],\n [{\n            'v': 190,\n            'f': \"190\",\n        },\n\"371.00\",\n{\n            'v': 8593492,\n            'f': \"8593492\",\n        },\nNaN,\n\"Private room\",\n{\n            'v': NaN,\n            'f': \"NaN\",\n        },\n\"Asheville\",\n\"North Carolina\"],\n [{\n            'v': 191,\n            'f': \"191\",\n        },\n\"203.00\",\n{\n            'v': 8624659,\n            'f': \"8624659\",\n        },\n\"Asheville, NC\",\n\"Entire homeapt\",\n{\n            'v': NaN,\n            'f': \"NaN\",\n        },\n\"Asheville\",\n\"North Carolina\"],\n [{\n            'v': 192,\n            'f': \"192\",\n        },\n\"138.00\",\n{\n            'v': 8634354,\n            'f': \"8634354\",\n        },\n\"Asheville, NC\",\n\"Entire homeapt\",\n{\n            'v': NaN,\n            'f': \"NaN\",\n        },\n\"Asheville\",\n\"North Carolina\"],\n [{\n            'v': 193,\n            'f': \"193\",\n        },\n\"250.00\",\n{\n            'v': 8664712,\n            'f': \"8664712\",\n        },\n\"Asheville, NC\",\n\"Entire homeapt\",\n{\n            'v': NaN,\n            'f': \"NaN\",\n        },\n\"Asheville\",\n\"North Carolina\"],\n [{\n            'v': 194,\n            'f': \"194\",\n        },\n\"70.00\",\n{\n            'v': 8672247,\n            'f': \"8672247\",\n        },\n\"Asheville, NC\",\n\"Entire homeapt\",\n{\n            'v': NaN,\n            'f': \"NaN\",\n        },\n\"Asheville\",\n\"North Carolina\"],\n [{\n            'v': 195,\n            'f': \"195\",\n        },\n\"201.00\",\n{\n            'v': 8741844,\n            'f': \"8741844\",\n        },\n\"Asheville, NC\",\n\"Entire homeapt\",\n{\n            'v': NaN,\n            'f': \"NaN\",\n        },\n\"Asheville\",\n\"North Carolina\"],\n [{\n            'v': 196,\n            'f': \"196\",\n        },\n\"66.00\",\n{\n            'v': 8782463,\n            'f': \"8782463\",\n        },\n\"Asheville, NC\",\n\"Entire homeapt\",\n{\n            'v': NaN,\n            'f': \"NaN\",\n        },\n\"Asheville\",\n\"North Carolina\"],\n [{\n            'v': 197,\n            'f': \"197\",\n        },\n\"168.00\",\n{\n            'v': 8895397,\n            'f': \"8895397\",\n        },\n\"Asheville, NC\",\n\"Entire homeapt\",\n{\n            'v': NaN,\n            'f': \"NaN\",\n        },\n\"Asheville\",\n\"North Carolina\"],\n [{\n            'v': 198,\n            'f': \"198\",\n        },\n\"148.00\",\n{\n            'v': 9022608,\n            'f': \"9022608\",\n        },\n\"Asheville, NC\",\n\"Entire homeapt\",\n{\n            'v': NaN,\n            'f': \"NaN\",\n        },\n\"Asheville\",\n\"North Carolina\"],\n [{\n            'v': 199,\n            'f': \"199\",\n        },\n\"285.00\",\n{\n            'v': 9243493,\n            'f': \"9243493\",\n        },\n\"Asheville, NC\",\n\"Entire homeapt\",\n{\n            'v': NaN,\n            'f': \"NaN\",\n        },\n\"Asheville\",\n\"North Carolina\"],\n [{\n            'v': 200,\n            'f': \"200\",\n        },\n\"90.00\",\n{\n            'v': 9282426,\n            'f': \"9282426\",\n        },\n\"Asheville, NC\",\n\"Entire homeapt\",\n{\n            'v': NaN,\n            'f': \"NaN\",\n        },\n\"Asheville\",\n\"North Carolina\"],\n [{\n            'v': 201,\n            'f': \"201\",\n        },\n\"179.00\",\n{\n            'v': 9661460,\n            'f': \"9661460\",\n        },\n\"Asheville, NC\",\n\"Entire homeapt\",\n{\n            'v': NaN,\n            'f': \"NaN\",\n        },\n\"Asheville\",\n\"North Carolina\"],\n [{\n            'v': 202,\n            'f': \"202\",\n        },\n\"230.00\",\n{\n            'v': 9794899,\n            'f': \"9794899\",\n        },\n\"Weaverville, NC\",\n\"Entire homeapt\",\n{\n            'v': NaN,\n            'f': \"NaN\",\n        },\n\"Asheville\",\n\"North Carolina\"],\n [{\n            'v': 203,\n            'f': \"203\",\n        },\n\"99.00\",\n{\n            'v': 9906491,\n            'f': \"9906491\",\n        },\n\"Asheville, NC\",\n\"Private room\",\n{\n            'v': NaN,\n            'f': \"NaN\",\n        },\n\"Asheville\",\n\"North Carolina\"],\n [{\n            'v': 204,\n            'f': \"204\",\n        },\n\"124.00\",\n{\n            'v': 9944111,\n            'f': \"9944111\",\n        },\nNaN,\n\"Entire homeapt\",\n{\n            'v': NaN,\n            'f': \"NaN\",\n        },\n\"Asheville\",\n\"North Carolina\"],\n [{\n            'v': 205,\n            'f': \"205\",\n        },\n\"60.00\",\n{\n            'v': 10085566,\n            'f': \"10085566\",\n        },\nNaN,\n\"Entire homeapt\",\n{\n            'v': NaN,\n            'f': \"NaN\",\n        },\n\"Asheville\",\n\"North Carolina\"],\n [{\n            'v': 206,\n            'f': \"206\",\n        },\n\"135.00\",\n{\n            'v': 10089256,\n            'f': \"10089256\",\n        },\n\"Asheville, NC\",\n\"Entire homeapt\",\n{\n            'v': NaN,\n            'f': \"NaN\",\n        },\n\"Asheville\",\n\"North Carolina\"],\n [{\n            'v': 207,\n            'f': \"207\",\n        },\n\"249.00\",\n{\n            'v': 10263107,\n            'f': \"10263107\",\n        },\n\"Asheville, NC\",\n\"Entire homeapt\",\n{\n            'v': NaN,\n            'f': \"NaN\",\n        },\n\"Asheville\",\n\"North Carolina\"],\n [{\n            'v': 208,\n            'f': \"208\",\n        },\n\"115.00\",\n{\n            'v': 10289755,\n            'f': \"10289755\",\n        },\n\"Asheville, NC\",\n\"Entire homeapt\",\n{\n            'v': NaN,\n            'f': \"NaN\",\n        },\n\"Asheville\",\n\"North Carolina\"],\n [{\n            'v': 209,\n            'f': \"209\",\n        },\n\"138.00\",\n{\n            'v': 10360188,\n            'f': \"10360188\",\n        },\n\"North Carolina, United States\",\n\"Private room\",\n{\n            'v': NaN,\n            'f': \"NaN\",\n        },\n\"Asheville\",\n\"North Carolina\"],\n [{\n            'v': 210,\n            'f': \"210\",\n        },\n\"271.00\",\n{\n            'v': 10524188,\n            'f': \"10524188\",\n        },\n\"Asheville, NC\",\n\"Entire homeapt\",\n{\n            'v': NaN,\n            'f': \"NaN\",\n        },\n\"Asheville\",\n\"North Carolina\"],\n [{\n            'v': 211,\n            'f': \"211\",\n        },\n\"126.00\",\n{\n            'v': 10524253,\n            'f': \"10524253\",\n        },\n\"Woodfin, NC\",\n\"Entire homeapt\",\n{\n            'v': NaN,\n            'f': \"NaN\",\n        },\n\"Asheville\",\n\"North Carolina\"],\n [{\n            'v': 212,\n            'f': \"212\",\n        },\n\"78.00\",\n{\n            'v': 10632884,\n            'f': \"10632884\",\n        },\n\"Asheville, NC\",\n\"Entire homeapt\",\n{\n            'v': NaN,\n            'f': \"NaN\",\n        },\n\"Asheville\",\n\"North Carolina\"],\n [{\n            'v': 213,\n            'f': \"213\",\n        },\n\"36.00\",\n{\n            'v': 10635789,\n            'f': \"10635789\",\n        },\n\"Asheville, NC\",\n\"Private room\",\n{\n            'v': NaN,\n            'f': \"NaN\",\n        },\n\"Asheville\",\n\"North Carolina\"],\n [{\n            'v': 214,\n            'f': \"214\",\n        },\n\"125.00\",\n{\n            'v': 10674355,\n            'f': \"10674355\",\n        },\n\"Asheville, NC\",\n\"Entire homeapt\",\n{\n            'v': NaN,\n            'f': \"NaN\",\n        },\n\"Asheville\",\n\"North Carolina\"],\n [{\n            'v': 215,\n            'f': \"215\",\n        },\n\"410.00\",\n{\n            'v': 10724022,\n            'f': \"10724022\",\n        },\n\"West Palm Beach, FL\",\n\"Entire homeapt\",\n{\n            'v': NaN,\n            'f': \"NaN\",\n        },\n\"Asheville\",\n\"North Carolina\"],\n [{\n            'v': 216,\n            'f': \"216\",\n        },\n\"114.00\",\n{\n            'v': 10785231,\n            'f': \"10785231\",\n        },\nNaN,\n\"Entire homeapt\",\n{\n            'v': NaN,\n            'f': \"NaN\",\n        },\n\"Asheville\",\n\"North Carolina\"],\n [{\n            'v': 217,\n            'f': \"217\",\n        },\n\"195.00\",\n{\n            'v': 10853381,\n            'f': \"10853381\",\n        },\nNaN,\n\"Entire homeapt\",\n{\n            'v': NaN,\n            'f': \"NaN\",\n        },\n\"Asheville\",\n\"North Carolina\"],\n [{\n            'v': 218,\n            'f': \"218\",\n        },\n\"91.00\",\n{\n            'v': 11182596,\n            'f': \"11182596\",\n        },\n\"Asheville, NC\",\n\"Private room\",\n{\n            'v': NaN,\n            'f': \"NaN\",\n        },\n\"Asheville\",\n\"North Carolina\"],\n [{\n            'v': 219,\n            'f': \"219\",\n        },\n\"81.00\",\n{\n            'v': 11259371,\n            'f': \"11259371\",\n        },\n\"Asheville, NC\",\n\"Entire homeapt\",\n{\n            'v': NaN,\n            'f': \"NaN\",\n        },\n\"Asheville\",\n\"North Carolina\"],\n [{\n            'v': 220,\n            'f': \"220\",\n        },\n\"91.00\",\n{\n            'v': 11283225,\n            'f': \"11283225\",\n        },\n\"Asheville, NC\",\n\"Entire homeapt\",\n{\n            'v': NaN,\n            'f': \"NaN\",\n        },\n\"Asheville\",\n\"North Carolina\"],\n [{\n            'v': 221,\n            'f': \"221\",\n        },\n\"112.00\",\n{\n            'v': 11291801,\n            'f': \"11291801\",\n        },\n\"Asheville, NC\",\n\"Entire homeapt\",\n{\n            'v': NaN,\n            'f': \"NaN\",\n        },\n\"Asheville\",\n\"North Carolina\"],\n [{\n            'v': 222,\n            'f': \"222\",\n        },\n\"102.00\",\n{\n            'v': 11421709,\n            'f': \"11421709\",\n        },\n\"Asheville, NC\",\n\"Entire homeapt\",\n{\n            'v': NaN,\n            'f': \"NaN\",\n        },\n\"Asheville\",\n\"North Carolina\"],\n [{\n            'v': 223,\n            'f': \"223\",\n        },\n\"142.00\",\n{\n            'v': 11483381,\n            'f': \"11483381\",\n        },\nNaN,\n\"Entire homeapt\",\n{\n            'v': NaN,\n            'f': \"NaN\",\n        },\n\"Asheville\",\n\"North Carolina\"],\n [{\n            'v': 224,\n            'f': \"224\",\n        },\n\"125.00\",\n{\n            'v': 11489172,\n            'f': \"11489172\",\n        },\n\"Asheville, NC\",\n\"Entire homeapt\",\n{\n            'v': NaN,\n            'f': \"NaN\",\n        },\n\"Asheville\",\n\"North Carolina\"],\n [{\n            'v': 225,\n            'f': \"225\",\n        },\n\"130.00\",\n{\n            'v': 11510567,\n            'f': \"11510567\",\n        },\n\"Asheville, NC\",\n\"Private room\",\n{\n            'v': NaN,\n            'f': \"NaN\",\n        },\n\"Asheville\",\n\"North Carolina\"],\n [{\n            'v': 226,\n            'f': \"226\",\n        },\n\"78.00\",\n{\n            'v': 11553531,\n            'f': \"11553531\",\n        },\n\"Asheville, NC\",\n\"Private room\",\n{\n            'v': NaN,\n            'f': \"NaN\",\n        },\n\"Asheville\",\n\"North Carolina\"],\n [{\n            'v': 227,\n            'f': \"227\",\n        },\n\"143.00\",\n{\n            'v': 11609580,\n            'f': \"11609580\",\n        },\n\"Asheville, NC\",\n\"Entire homeapt\",\n{\n            'v': NaN,\n            'f': \"NaN\",\n        },\n\"Asheville\",\n\"North Carolina\"],\n [{\n            'v': 228,\n            'f': \"228\",\n        },\n\"140.00\",\n{\n            'v': 11618840,\n            'f': \"11618840\",\n        },\n\"Asheville, NC\",\n\"Entire homeapt\",\n{\n            'v': NaN,\n            'f': \"NaN\",\n        },\n\"Asheville\",\n\"North Carolina\"],\n [{\n            'v': 229,\n            'f': \"229\",\n        },\n\"117.00\",\n{\n            'v': 11701027,\n            'f': \"11701027\",\n        },\n\"Arden, NC\",\n\"Entire homeapt\",\n{\n            'v': NaN,\n            'f': \"NaN\",\n        },\n\"Asheville\",\n\"North Carolina\"],\n [{\n            'v': 230,\n            'f': \"230\",\n        },\n\"89.00\",\n{\n            'v': 11811039,\n            'f': \"11811039\",\n        },\n\"Asheville, NC\",\n\"Entire homeapt\",\n{\n            'v': NaN,\n            'f': \"NaN\",\n        },\n\"Asheville\",\n\"North Carolina\"],\n [{\n            'v': 231,\n            'f': \"231\",\n        },\n\"170.00\",\n{\n            'v': 11925721,\n            'f': \"11925721\",\n        },\n\"Asheville, NC\",\n\"Entire homeapt\",\n{\n            'v': NaN,\n            'f': \"NaN\",\n        },\n\"Asheville\",\n\"North Carolina\"],\n [{\n            'v': 232,\n            'f': \"232\",\n        },\n\"126.00\",\n{\n            'v': 11938223,\n            'f': \"11938223\",\n        },\nNaN,\n\"Entire homeapt\",\n{\n            'v': NaN,\n            'f': \"NaN\",\n        },\n\"Asheville\",\n\"North Carolina\"],\n [{\n            'v': 233,\n            'f': \"233\",\n        },\n\"136.00\",\n{\n            'v': 11947108,\n            'f': \"11947108\",\n        },\n\"Asheville, NC\",\n\"Entire homeapt\",\n{\n            'v': NaN,\n            'f': \"NaN\",\n        },\n\"Asheville\",\n\"North Carolina\"],\n [{\n            'v': 234,\n            'f': \"234\",\n        },\n\"90.00\",\n{\n            'v': 12105828,\n            'f': \"12105828\",\n        },\n\"Black Mountain, NC\",\n\"Entire homeapt\",\n{\n            'v': NaN,\n            'f': \"NaN\",\n        },\n\"Asheville\",\n\"North Carolina\"],\n [{\n            'v': 235,\n            'f': \"235\",\n        },\n\"124.00\",\n{\n            'v': 12107874,\n            'f': \"12107874\",\n        },\n\"Asheville, NC\",\n\"Entire homeapt\",\n{\n            'v': NaN,\n            'f': \"NaN\",\n        },\n\"Asheville\",\n\"North Carolina\"],\n [{\n            'v': 236,\n            'f': \"236\",\n        },\n\"72.00\",\n{\n            'v': 12144656,\n            'f': \"12144656\",\n        },\n\"Asheville, NC\",\n\"Entire homeapt\",\n{\n            'v': NaN,\n            'f': \"NaN\",\n        },\n\"Asheville\",\n\"North Carolina\"],\n [{\n            'v': 237,\n            'f': \"237\",\n        },\n\"220.00\",\n{\n            'v': 12188215,\n            'f': \"12188215\",\n        },\n\"Asheville, NC\",\n\"Entire homeapt\",\n{\n            'v': NaN,\n            'f': \"NaN\",\n        },\n\"Asheville\",\n\"North Carolina\"],\n [{\n            'v': 238,\n            'f': \"238\",\n        },\n\"225.00\",\n{\n            'v': 12222050,\n            'f': \"12222050\",\n        },\n\"Cartersville, GA\",\n\"Entire homeapt\",\n{\n            'v': NaN,\n            'f': \"NaN\",\n        },\n\"Asheville\",\n\"North Carolina\"],\n [{\n            'v': 239,\n            'f': \"239\",\n        },\n\"105.00\",\n{\n            'v': 12250733,\n            'f': \"12250733\",\n        },\n\"Newland, NC\",\n\"Entire homeapt\",\n{\n            'v': NaN,\n            'f': \"NaN\",\n        },\n\"Asheville\",\n\"North Carolina\"],\n [{\n            'v': 240,\n            'f': \"240\",\n        },\n\"294.00\",\n{\n            'v': 12266103,\n            'f': \"12266103\",\n        },\n\"Asheville, NC\",\n\"Entire homeapt\",\n{\n            'v': NaN,\n            'f': \"NaN\",\n        },\n\"Asheville\",\n\"North Carolina\"],\n [{\n            'v': 241,\n            'f': \"241\",\n        },\n\"76.00\",\n{\n            'v': 12281167,\n            'f': \"12281167\",\n        },\n\"Asheville, NC\",\n\"Private room\",\n{\n            'v': NaN,\n            'f': \"NaN\",\n        },\n\"Asheville\",\n\"North Carolina\"],\n [{\n            'v': 242,\n            'f': \"242\",\n        },\n\"27.00\",\n{\n            'v': 12286328,\n            'f': \"12286328\",\n        },\n\"Asheville, NC\",\n\"Shared room\",\n{\n            'v': NaN,\n            'f': \"NaN\",\n        },\n\"Asheville\",\n\"North Carolina\"],\n [{\n            'v': 243,\n            'f': \"243\",\n        },\n\"43.00\",\n{\n            'v': 12290379,\n            'f': \"12290379\",\n        },\n\"Asheville, NC\",\n\"Private room\",\n{\n            'v': NaN,\n            'f': \"NaN\",\n        },\n\"Asheville\",\n\"North Carolina\"],\n [{\n            'v': 244,\n            'f': \"244\",\n        },\n\"305.00\",\n{\n            'v': 12310425,\n            'f': \"12310425\",\n        },\nNaN,\n\"Entire homeapt\",\n{\n            'v': NaN,\n            'f': \"NaN\",\n        },\n\"Asheville\",\n\"North Carolina\"],\n [{\n            'v': 245,\n            'f': \"245\",\n        },\n\"285.00\",\n{\n            'v': 12377575,\n            'f': \"12377575\",\n        },\n\"Asheville, NC\",\n\"Entire homeapt\",\n{\n            'v': NaN,\n            'f': \"NaN\",\n        },\n\"Asheville\",\n\"North Carolina\"],\n [{\n            'v': 246,\n            'f': \"246\",\n        },\n\"112.00\",\n{\n            'v': 12400514,\n            'f': \"12400514\",\n        },\n\"Asheville, NC\",\n\"Entire homeapt\",\n{\n            'v': NaN,\n            'f': \"NaN\",\n        },\n\"Asheville\",\n\"North Carolina\"],\n [{\n            'v': 247,\n            'f': \"247\",\n        },\n\"106.00\",\n{\n            'v': 12470763,\n            'f': \"12470763\",\n        },\n\"Asheville, NC\",\n\"Private room\",\n{\n            'v': NaN,\n            'f': \"NaN\",\n        },\n\"Asheville\",\n\"North Carolina\"],\n [{\n            'v': 248,\n            'f': \"248\",\n        },\n\"114.00\",\n{\n            'v': 12472966,\n            'f': \"12472966\",\n        },\n\"Arden, NC\",\n\"Entire homeapt\",\n{\n            'v': NaN,\n            'f': \"NaN\",\n        },\n\"Asheville\",\n\"North Carolina\"],\n [{\n            'v': 249,\n            'f': \"249\",\n        },\n\"120.00\",\n{\n            'v': 12543684,\n            'f': \"12543684\",\n        },\n\"Asheville, NC\",\n\"Entire homeapt\",\n{\n            'v': NaN,\n            'f': \"NaN\",\n        },\n\"Asheville\",\n\"North Carolina\"],\n [{\n            'v': 250,\n            'f': \"250\",\n        },\n\"61.00\",\n{\n            'v': 12587092,\n            'f': \"12587092\",\n        },\n\"Asheville, NC\",\n\"Private room\",\n{\n            'v': NaN,\n            'f': \"NaN\",\n        },\n\"Asheville\",\n\"North Carolina\"],\n [{\n            'v': 251,\n            'f': \"251\",\n        },\n\"40.00\",\n{\n            'v': 12761982,\n            'f': \"12761982\",\n        },\n\"Asheville, NC\",\n\"Private room\",\n{\n            'v': NaN,\n            'f': \"NaN\",\n        },\n\"Asheville\",\n\"North Carolina\"],\n [{\n            'v': 252,\n            'f': \"252\",\n        },\n\"189.00\",\n{\n            'v': 12763722,\n            'f': \"12763722\",\n        },\n\"Asheville, NC\",\n\"Entire homeapt\",\n{\n            'v': NaN,\n            'f': \"NaN\",\n        },\n\"Asheville\",\n\"North Carolina\"],\n [{\n            'v': 253,\n            'f': \"253\",\n        },\n\"119.00\",\n{\n            'v': 12802506,\n            'f': \"12802506\",\n        },\n\"United States\",\n\"Private room\",\n{\n            'v': NaN,\n            'f': \"NaN\",\n        },\n\"Asheville\",\n\"North Carolina\"],\n [{\n            'v': 254,\n            'f': \"254\",\n        },\n\"70.00\",\n{\n            'v': 12809255,\n            'f': \"12809255\",\n        },\n\"Asheville, NC\",\n\"Private room\",\n{\n            'v': NaN,\n            'f': \"NaN\",\n        },\n\"Asheville\",\n\"North Carolina\"],\n [{\n            'v': 255,\n            'f': \"255\",\n        },\n\"116.00\",\n{\n            'v': 12810440,\n            'f': \"12810440\",\n        },\n\"Asheville, NC\",\n\"Entire homeapt\",\n{\n            'v': NaN,\n            'f': \"NaN\",\n        },\n\"Asheville\",\n\"North Carolina\"],\n [{\n            'v': 256,\n            'f': \"256\",\n        },\n\"200.00\",\n{\n            'v': 12813635,\n            'f': \"12813635\",\n        },\n\"Asheville, NC\",\n\"Entire homeapt\",\n{\n            'v': NaN,\n            'f': \"NaN\",\n        },\n\"Asheville\",\n\"North Carolina\"],\n [{\n            'v': 257,\n            'f': \"257\",\n        },\n\"54.00\",\n{\n            'v': 12834984,\n            'f': \"12834984\",\n        },\n\"Asheville, NC\",\n\"Entire homeapt\",\n{\n            'v': NaN,\n            'f': \"NaN\",\n        },\n\"Asheville\",\n\"North Carolina\"],\n [{\n            'v': 258,\n            'f': \"258\",\n        },\n\"91.00\",\n{\n            'v': 12835184,\n            'f': \"12835184\",\n        },\n\"Asheville, NC\",\n\"Entire homeapt\",\n{\n            'v': NaN,\n            'f': \"NaN\",\n        },\n\"Asheville\",\n\"North Carolina\"],\n [{\n            'v': 259,\n            'f': \"259\",\n        },\n\"96.00\",\n{\n            'v': 12848084,\n            'f': \"12848084\",\n        },\n\"Asheville, NC\",\n\"Entire homeapt\",\n{\n            'v': NaN,\n            'f': \"NaN\",\n        },\n\"Asheville\",\n\"North Carolina\"],\n [{\n            'v': 260,\n            'f': \"260\",\n        },\n\"220.00\",\n{\n            'v': 12871394,\n            'f': \"12871394\",\n        },\n\"Asheville, NC\",\n\"Entire homeapt\",\n{\n            'v': NaN,\n            'f': \"NaN\",\n        },\n\"Asheville\",\n\"North Carolina\"],\n [{\n            'v': 261,\n            'f': \"261\",\n        },\n\"113.00\",\n{\n            'v': 12918380,\n            'f': \"12918380\",\n        },\n\"Asheville, NC\",\n\"Entire homeapt\",\n{\n            'v': NaN,\n            'f': \"NaN\",\n        },\n\"Asheville\",\n\"North Carolina\"],\n [{\n            'v': 262,\n            'f': \"262\",\n        },\n\"112.00\",\n{\n            'v': 12925044,\n            'f': \"12925044\",\n        },\n\"Arden, NC\",\n\"Entire homeapt\",\n{\n            'v': NaN,\n            'f': \"NaN\",\n        },\n\"Asheville\",\n\"North Carolina\"],\n [{\n            'v': 263,\n            'f': \"263\",\n        },\n\"95.00\",\n{\n            'v': 12944995,\n            'f': \"12944995\",\n        },\n\"Asheville, NC\",\n\"Entire homeapt\",\n{\n            'v': NaN,\n            'f': \"NaN\",\n        },\n\"Asheville\",\n\"North Carolina\"],\n [{\n            'v': 264,\n            'f': \"264\",\n        },\n\"46.00\",\n{\n            'v': 12970301,\n            'f': \"12970301\",\n        },\n\"Asheville, NC\",\n\"Entire homeapt\",\n{\n            'v': NaN,\n            'f': \"NaN\",\n        },\n\"Asheville\",\n\"North Carolina\"],\n [{\n            'v': 265,\n            'f': \"265\",\n        },\n\"27.00\",\n{\n            'v': 12989718,\n            'f': \"12989718\",\n        },\n\"Asheville, NC\",\n\"Shared room\",\n{\n            'v': NaN,\n            'f': \"NaN\",\n        },\n\"Asheville\",\n\"North Carolina\"],\n [{\n            'v': 266,\n            'f': \"266\",\n        },\n\"128.00\",\n{\n            'v': 13093505,\n            'f': \"13093505\",\n        },\n\"Asheville, NC\",\n\"Entire homeapt\",\n{\n            'v': NaN,\n            'f': \"NaN\",\n        },\n\"Asheville\",\n\"North Carolina\"],\n [{\n            'v': 267,\n            'f': \"267\",\n        },\n\"164.00\",\n{\n            'v': 13112074,\n            'f': \"13112074\",\n        },\n\"Asheville, NC\",\n\"Entire homeapt\",\n{\n            'v': NaN,\n            'f': \"NaN\",\n        },\n\"Asheville\",\n\"North Carolina\"],\n [{\n            'v': 268,\n            'f': \"268\",\n        },\n\"145.00\",\n{\n            'v': 13186091,\n            'f': \"13186091\",\n        },\n\"Asheville, NC\",\n\"Entire homeapt\",\n{\n            'v': NaN,\n            'f': \"NaN\",\n        },\n\"Asheville\",\n\"North Carolina\"],\n [{\n            'v': 269,\n            'f': \"269\",\n        },\n\"121.00\",\n{\n            'v': 13206560,\n            'f': \"13206560\",\n        },\nNaN,\n\"Entire homeapt\",\n{\n            'v': NaN,\n            'f': \"NaN\",\n        },\n\"Asheville\",\n\"North Carolina\"],\n [{\n            'v': 270,\n            'f': \"270\",\n        },\n\"80.00\",\n{\n            'v': 13224612,\n            'f': \"13224612\",\n        },\n\"Asheville, NC\",\n\"Private room\",\n{\n            'v': NaN,\n            'f': \"NaN\",\n        },\n\"Asheville\",\n\"North Carolina\"],\n [{\n            'v': 271,\n            'f': \"271\",\n        },\n\"135.00\",\n{\n            'v': 13234214,\n            'f': \"13234214\",\n        },\n\"Asheville, NC\",\n\"Entire homeapt\",\n{\n            'v': NaN,\n            'f': \"NaN\",\n        },\n\"Asheville\",\n\"North Carolina\"],\n [{\n            'v': 272,\n            'f': \"272\",\n        },\n\"149.00\",\n{\n            'v': 13274313,\n            'f': \"13274313\",\n        },\n\"Asheville, NC\",\n\"Entire homeapt\",\n{\n            'v': NaN,\n            'f': \"NaN\",\n        },\n\"Asheville\",\n\"North Carolina\"],\n [{\n            'v': 273,\n            'f': \"273\",\n        },\n\"111.00\",\n{\n            'v': 13326253,\n            'f': \"13326253\",\n        },\n\"Asheville, NC\",\n\"Entire homeapt\",\n{\n            'v': NaN,\n            'f': \"NaN\",\n        },\n\"Asheville\",\n\"North Carolina\"],\n [{\n            'v': 274,\n            'f': \"274\",\n        },\n\"76.00\",\n{\n            'v': 13333422,\n            'f': \"13333422\",\n        },\n\"Asheville, NC\",\n\"Entire homeapt\",\n{\n            'v': NaN,\n            'f': \"NaN\",\n        },\n\"Asheville\",\n\"North Carolina\"],\n [{\n            'v': 275,\n            'f': \"275\",\n        },\n\"87.00\",\n{\n            'v': 13340576,\n            'f': \"13340576\",\n        },\n\"Asheville, NC\",\n\"Entire homeapt\",\n{\n            'v': NaN,\n            'f': \"NaN\",\n        },\n\"Asheville\",\n\"North Carolina\"],\n [{\n            'v': 276,\n            'f': \"276\",\n        },\n\"161.00\",\n{\n            'v': 13348419,\n            'f': \"13348419\",\n        },\n\"Asheville, NC\",\n\"Entire homeapt\",\n{\n            'v': NaN,\n            'f': \"NaN\",\n        },\n\"Asheville\",\n\"North Carolina\"],\n [{\n            'v': 277,\n            'f': \"277\",\n        },\n\"175.00\",\n{\n            'v': 13355384,\n            'f': \"13355384\",\n        },\n\"Asheville, NC\",\n\"Entire homeapt\",\n{\n            'v': NaN,\n            'f': \"NaN\",\n        },\n\"Asheville\",\n\"North Carolina\"],\n [{\n            'v': 278,\n            'f': \"278\",\n        },\n\"40.00\",\n{\n            'v': 13386987,\n            'f': \"13386987\",\n        },\n\"Asheville, NC\",\n\"Entire homeapt\",\n{\n            'v': NaN,\n            'f': \"NaN\",\n        },\n\"Asheville\",\n\"North Carolina\"],\n [{\n            'v': 279,\n            'f': \"279\",\n        },\n\"181.00\",\n{\n            'v': 13388627,\n            'f': \"13388627\",\n        },\nNaN,\n\"Entire homeapt\",\n{\n            'v': NaN,\n            'f': \"NaN\",\n        },\n\"Asheville\",\n\"North Carolina\"],\n [{\n            'v': 280,\n            'f': \"280\",\n        },\n\"74.00\",\n{\n            'v': 13426466,\n            'f': \"13426466\",\n        },\nNaN,\n\"Entire homeapt\",\n{\n            'v': NaN,\n            'f': \"NaN\",\n        },\n\"Asheville\",\n\"North Carolina\"],\n [{\n            'v': 281,\n            'f': \"281\",\n        },\n\"181.00\",\n{\n            'v': 13514183,\n            'f': \"13514183\",\n        },\nNaN,\n\"Entire homeapt\",\n{\n            'v': NaN,\n            'f': \"NaN\",\n        },\n\"Asheville\",\n\"North Carolina\"],\n [{\n            'v': 282,\n            'f': \"282\",\n        },\n\"181.00\",\n{\n            'v': 13524286,\n            'f': \"13524286\",\n        },\nNaN,\n\"Entire homeapt\",\n{\n            'v': NaN,\n            'f': \"NaN\",\n        },\n\"Asheville\",\n\"North Carolina\"],\n [{\n            'v': 283,\n            'f': \"283\",\n        },\n\"82.00\",\n{\n            'v': 13556933,\n            'f': \"13556933\",\n        },\n\"Asheville, NC\",\n\"Entire homeapt\",\n{\n            'v': NaN,\n            'f': \"NaN\",\n        },\n\"Asheville\",\n\"North Carolina\"],\n [{\n            'v': 284,\n            'f': \"284\",\n        },\n\"82.00\",\n{\n            'v': 13582513,\n            'f': \"13582513\",\n        },\n\"Asheville, NC\",\n\"Entire homeapt\",\n{\n            'v': NaN,\n            'f': \"NaN\",\n        },\n\"Asheville\",\n\"North Carolina\"],\n [{\n            'v': 285,\n            'f': \"285\",\n        },\n\"113.00\",\n{\n            'v': 13621363,\n            'f': \"13621363\",\n        },\n\"Asheville, NC\",\n\"Private room\",\n{\n            'v': NaN,\n            'f': \"NaN\",\n        },\n\"Asheville\",\n\"North Carolina\"],\n [{\n            'v': 286,\n            'f': \"286\",\n        },\n\"60.00\",\n{\n            'v': 13674901,\n            'f': \"13674901\",\n        },\n\"Asheville, NC\",\n\"Private room\",\n{\n            'v': NaN,\n            'f': \"NaN\",\n        },\n\"Asheville\",\n\"North Carolina\"],\n [{\n            'v': 287,\n            'f': \"287\",\n        },\n\"215.00\",\n{\n            'v': 13686565,\n            'f': \"13686565\",\n        },\n\"Candler, NC\",\n\"Entire homeapt\",\n{\n            'v': NaN,\n            'f': \"NaN\",\n        },\n\"Asheville\",\n\"North Carolina\"],\n [{\n            'v': 288,\n            'f': \"288\",\n        },\n\"72.00\",\n{\n            'v': 13700790,\n            'f': \"13700790\",\n        },\n\"Arden, NC\",\n\"Private room\",\n{\n            'v': NaN,\n            'f': \"NaN\",\n        },\n\"Asheville\",\n\"North Carolina\"],\n [{\n            'v': 289,\n            'f': \"289\",\n        },\n\"87.00\",\n{\n            'v': 13716891,\n            'f': \"13716891\",\n        },\n\"Asheville, NC\",\n\"Entire homeapt\",\n{\n            'v': NaN,\n            'f': \"NaN\",\n        },\n\"Asheville\",\n\"North Carolina\"],\n [{\n            'v': 290,\n            'f': \"290\",\n        },\n\"41.00\",\n{\n            'v': 13779774,\n            'f': \"13779774\",\n        },\n\"Asheville, NC\",\n\"Entire homeapt\",\n{\n            'v': NaN,\n            'f': \"NaN\",\n        },\n\"Asheville\",\n\"North Carolina\"],\n [{\n            'v': 291,\n            'f': \"291\",\n        },\n\"112.00\",\n{\n            'v': 13819278,\n            'f': \"13819278\",\n        },\n\"Asheville, NC\",\n\"Entire homeapt\",\n{\n            'v': NaN,\n            'f': \"NaN\",\n        },\n\"Asheville\",\n\"North Carolina\"],\n [{\n            'v': 292,\n            'f': \"292\",\n        },\n\"83.00\",\n{\n            'v': 13877850,\n            'f': \"13877850\",\n        },\n\"Asheville, NC\",\n\"Entire homeapt\",\n{\n            'v': NaN,\n            'f': \"NaN\",\n        },\n\"Asheville\",\n\"North Carolina\"],\n [{\n            'v': 293,\n            'f': \"293\",\n        },\n\"90.00\",\n{\n            'v': 13901952,\n            'f': \"13901952\",\n        },\n\"Black Mountain, NC\",\n\"Entire homeapt\",\n{\n            'v': NaN,\n            'f': \"NaN\",\n        },\n\"Asheville\",\n\"North Carolina\"],\n [{\n            'v': 294,\n            'f': \"294\",\n        },\n\"125.00\",\n{\n            'v': 13924999,\n            'f': \"13924999\",\n        },\n\"Asheville, NC\",\n\"Private room\",\n{\n            'v': NaN,\n            'f': \"NaN\",\n        },\n\"Asheville\",\n\"North Carolina\"],\n [{\n            'v': 295,\n            'f': \"295\",\n        },\n\"125.00\",\n{\n            'v': 13942925,\n            'f': \"13942925\",\n        },\n\"Georgia, United States\",\n\"Entire homeapt\",\n{\n            'v': NaN,\n            'f': \"NaN\",\n        },\n\"Asheville\",\n\"North Carolina\"],\n [{\n            'v': 296,\n            'f': \"296\",\n        },\n\"165.00\",\n{\n            'v': 14044072,\n            'f': \"14044072\",\n        },\n\"Asheville, NC\",\n\"Entire homeapt\",\n{\n            'v': NaN,\n            'f': \"NaN\",\n        },\n\"Asheville\",\n\"North Carolina\"],\n [{\n            'v': 297,\n            'f': \"297\",\n        },\n\"149.00\",\n{\n            'v': 14052114,\n            'f': \"14052114\",\n        },\n\"Asheville, NC\",\n\"Entire homeapt\",\n{\n            'v': NaN,\n            'f': \"NaN\",\n        },\n\"Asheville\",\n\"North Carolina\"],\n [{\n            'v': 298,\n            'f': \"298\",\n        },\n\"220.00\",\n{\n            'v': 14076438,\n            'f': \"14076438\",\n        },\n\"Asheville, NC\",\n\"Entire homeapt\",\n{\n            'v': NaN,\n            'f': \"NaN\",\n        },\n\"Asheville\",\n\"North Carolina\"],\n [{\n            'v': 299,\n            'f': \"299\",\n        },\n\"148.00\",\n{\n            'v': 14110641,\n            'f': \"14110641\",\n        },\n\"Asheville, NC\",\n\"Entire homeapt\",\n{\n            'v': NaN,\n            'f': \"NaN\",\n        },\n\"Asheville\",\n\"North Carolina\"],\n [{\n            'v': 300,\n            'f': \"300\",\n        },\n\"112.00\",\n{\n            'v': 14122794,\n            'f': \"14122794\",\n        },\n\"Asheville, NC\",\n\"Entire homeapt\",\n{\n            'v': NaN,\n            'f': \"NaN\",\n        },\n\"Asheville\",\n\"North Carolina\"],\n [{\n            'v': 301,\n            'f': \"301\",\n        },\n\"80.00\",\n{\n            'v': 14125023,\n            'f': \"14125023\",\n        },\n\"Asheville, NC\",\n\"Entire homeapt\",\n{\n            'v': NaN,\n            'f': \"NaN\",\n        },\n\"Asheville\",\n\"North Carolina\"],\n [{\n            'v': 302,\n            'f': \"302\",\n        },\n\"55.00\",\n{\n            'v': 14167740,\n            'f': \"14167740\",\n        },\n\"Sanbornton, NH\",\n\"Entire homeapt\",\n{\n            'v': NaN,\n            'f': \"NaN\",\n        },\n\"Asheville\",\n\"North Carolina\"],\n [{\n            'v': 303,\n            'f': \"303\",\n        },\n\"119.00\",\n{\n            'v': 14168464,\n            'f': \"14168464\",\n        },\n\"Asheville, NC\",\n\"Entire homeapt\",\n{\n            'v': NaN,\n            'f': \"NaN\",\n        },\n\"Asheville\",\n\"North Carolina\"],\n [{\n            'v': 304,\n            'f': \"304\",\n        },\n\"119.00\",\n{\n            'v': 14236639,\n            'f': \"14236639\",\n        },\n\"Mount Dora, FL\",\n\"Entire homeapt\",\n{\n            'v': NaN,\n            'f': \"NaN\",\n        },\n\"Asheville\",\n\"North Carolina\"],\n [{\n            'v': 305,\n            'f': \"305\",\n        },\n\"100.00\",\n{\n            'v': 14352724,\n            'f': \"14352724\",\n        },\n\"Asheville, NC\",\n\"Entire homeapt\",\n{\n            'v': NaN,\n            'f': \"NaN\",\n        },\n\"Asheville\",\n\"North Carolina\"],\n [{\n            'v': 306,\n            'f': \"306\",\n        },\n\"46.00\",\n{\n            'v': 14357005,\n            'f': \"14357005\",\n        },\n\"Asheville, NC\",\n\"Entire homeapt\",\n{\n            'v': NaN,\n            'f': \"NaN\",\n        },\n\"Asheville\",\n\"North Carolina\"],\n [{\n            'v': 307,\n            'f': \"307\",\n        },\n\"98.00\",\n{\n            'v': 14430828,\n            'f': \"14430828\",\n        },\n\"Asheville, NC\",\n\"Entire homeapt\",\n{\n            'v': NaN,\n            'f': \"NaN\",\n        },\n\"Asheville\",\n\"North Carolina\"],\n [{\n            'v': 308,\n            'f': \"308\",\n        },\n\"86.00\",\n{\n            'v': 14442508,\n            'f': \"14442508\",\n        },\n\"Asheville, NC\",\n\"Entire homeapt\",\n{\n            'v': NaN,\n            'f': \"NaN\",\n        },\n\"Asheville\",\n\"North Carolina\"],\n [{\n            'v': 309,\n            'f': \"309\",\n        },\n\"100.00\",\n{\n            'v': 14466206,\n            'f': \"14466206\",\n        },\n\"Asheville, NC\",\n\"Private room\",\n{\n            'v': NaN,\n            'f': \"NaN\",\n        },\n\"Asheville\",\n\"North Carolina\"],\n [{\n            'v': 310,\n            'f': \"310\",\n        },\n\"75.00\",\n{\n            'v': 14514191,\n            'f': \"14514191\",\n        },\n\"Asheville, NC\",\n\"Entire homeapt\",\n{\n            'v': NaN,\n            'f': \"NaN\",\n        },\n\"Asheville\",\n\"North Carolina\"],\n [{\n            'v': 311,\n            'f': \"311\",\n        },\n\"163.00\",\n{\n            'v': 14522467,\n            'f': \"14522467\",\n        },\n\"Asheville, NC\",\n\"Entire homeapt\",\n{\n            'v': NaN,\n            'f': \"NaN\",\n        },\n\"Asheville\",\n\"North Carolina\"],\n [{\n            'v': 312,\n            'f': \"312\",\n        },\n\"176.00\",\n{\n            'v': 14561813,\n            'f': \"14561813\",\n        },\n\"Asheville, NC\",\n\"Entire homeapt\",\n{\n            'v': NaN,\n            'f': \"NaN\",\n        },\n\"Asheville\",\n\"North Carolina\"],\n [{\n            'v': 313,\n            'f': \"313\",\n        },\n\"62.00\",\n{\n            'v': 14632829,\n            'f': \"14632829\",\n        },\n\"Asheville, NC\",\n\"Private room\",\n{\n            'v': NaN,\n            'f': \"NaN\",\n        },\n\"Asheville\",\n\"North Carolina\"],\n [{\n            'v': 314,\n            'f': \"314\",\n        },\n\"80.00\",\n{\n            'v': 14652591,\n            'f': \"14652591\",\n        },\n\"Asheville, NC\",\n\"Entire homeapt\",\n{\n            'v': NaN,\n            'f': \"NaN\",\n        },\n\"Asheville\",\n\"North Carolina\"],\n [{\n            'v': 315,\n            'f': \"315\",\n        },\n\"54.00\",\n{\n            'v': 14738243,\n            'f': \"14738243\",\n        },\n\"Asheville, NC\",\n\"Private room\",\n{\n            'v': NaN,\n            'f': \"NaN\",\n        },\n\"Asheville\",\n\"North Carolina\"],\n [{\n            'v': 316,\n            'f': \"316\",\n        },\n\"148.00\",\n{\n            'v': 14751215,\n            'f': \"14751215\",\n        },\n\"Asheville, NC\",\n\"Entire homeapt\",\n{\n            'v': NaN,\n            'f': \"NaN\",\n        },\n\"Asheville\",\n\"North Carolina\"],\n [{\n            'v': 317,\n            'f': \"317\",\n        },\n\"131.00\",\n{\n            'v': 14757919,\n            'f': \"14757919\",\n        },\n\"Asheville, NC\",\n\"Entire homeapt\",\n{\n            'v': NaN,\n            'f': \"NaN\",\n        },\n\"Asheville\",\n\"North Carolina\"],\n [{\n            'v': 318,\n            'f': \"318\",\n        },\n\"208.00\",\n{\n            'v': 14805266,\n            'f': \"14805266\",\n        },\n\"Asheville, NC\",\n\"Entire homeapt\",\n{\n            'v': NaN,\n            'f': \"NaN\",\n        },\n\"Asheville\",\n\"North Carolina\"],\n [{\n            'v': 319,\n            'f': \"319\",\n        },\n\"110.00\",\n{\n            'v': 14835813,\n            'f': \"14835813\",\n        },\n\"Asheville, NC\",\n\"Entire homeapt\",\n{\n            'v': NaN,\n            'f': \"NaN\",\n        },\n\"Asheville\",\n\"North Carolina\"],\n [{\n            'v': 320,\n            'f': \"320\",\n        },\n\"105.00\",\n{\n            'v': 14857013,\n            'f': \"14857013\",\n        },\n\"Asheville, NC\",\n\"Entire homeapt\",\n{\n            'v': NaN,\n            'f': \"NaN\",\n        },\n\"Asheville\",\n\"North Carolina\"],\n [{\n            'v': 321,\n            'f': \"321\",\n        },\n\"170.00\",\n{\n            'v': 14934441,\n            'f': \"14934441\",\n        },\n\"Asheville, NC\",\n\"Entire homeapt\",\n{\n            'v': NaN,\n            'f': \"NaN\",\n        },\n\"Asheville\",\n\"North Carolina\"],\n [{\n            'v': 322,\n            'f': \"322\",\n        },\n\"136.00\",\n{\n            'v': 14941161,\n            'f': \"14941161\",\n        },\n\"Asheville, NC\",\n\"Entire homeapt\",\n{\n            'v': NaN,\n            'f': \"NaN\",\n        },\n\"Asheville\",\n\"North Carolina\"],\n [{\n            'v': 323,\n            'f': \"323\",\n        },\n\"120.00\",\n{\n            'v': 14963589,\n            'f': \"14963589\",\n        },\n\"Asheville, NC\",\n\"Entire homeapt\",\n{\n            'v': NaN,\n            'f': \"NaN\",\n        },\n\"Asheville\",\n\"North Carolina\"],\n [{\n            'v': 324,\n            'f': \"324\",\n        },\n\"115.00\",\n{\n            'v': 15009504,\n            'f': \"15009504\",\n        },\n\"Asheville, NC\",\n\"Entire homeapt\",\n{\n            'v': NaN,\n            'f': \"NaN\",\n        },\n\"Asheville\",\n\"North Carolina\"],\n [{\n            'v': 325,\n            'f': \"325\",\n        },\n\"118.00\",\n{\n            'v': 15055380,\n            'f': \"15055380\",\n        },\n\"Asheville, NC\",\n\"Entire homeapt\",\n{\n            'v': NaN,\n            'f': \"NaN\",\n        },\n\"Asheville\",\n\"North Carolina\"],\n [{\n            'v': 326,\n            'f': \"326\",\n        },\n\"111.00\",\n{\n            'v': 15091721,\n            'f': \"15091721\",\n        },\n\"Savannah, GA\",\n\"Entire homeapt\",\n{\n            'v': NaN,\n            'f': \"NaN\",\n        },\n\"Asheville\",\n\"North Carolina\"],\n [{\n            'v': 327,\n            'f': \"327\",\n        },\n\"108.00\",\n{\n            'v': 15124397,\n            'f': \"15124397\",\n        },\n\"Asheville, NC\",\n\"Entire homeapt\",\n{\n            'v': NaN,\n            'f': \"NaN\",\n        },\n\"Asheville\",\n\"North Carolina\"],\n [{\n            'v': 328,\n            'f': \"328\",\n        },\n\"94.00\",\n{\n            'v': 15158878,\n            'f': \"15158878\",\n        },\nNaN,\n\"Entire homeapt\",\n{\n            'v': NaN,\n            'f': \"NaN\",\n        },\n\"Asheville\",\n\"North Carolina\"],\n [{\n            'v': 329,\n            'f': \"329\",\n        },\n\"94.00\",\n{\n            'v': 15174633,\n            'f': \"15174633\",\n        },\n\"Asheville, NC\",\n\"Private room\",\n{\n            'v': NaN,\n            'f': \"NaN\",\n        },\n\"Asheville\",\n\"North Carolina\"],\n [{\n            'v': 330,\n            'f': \"330\",\n        },\n\"220.00\",\n{\n            'v': 15192947,\n            'f': \"15192947\",\n        },\n\"Asheville, NC\",\n\"Entire homeapt\",\n{\n            'v': NaN,\n            'f': \"NaN\",\n        },\n\"Asheville\",\n\"North Carolina\"],\n [{\n            'v': 331,\n            'f': \"331\",\n        },\n\"47.00\",\n{\n            'v': 15194828,\n            'f': \"15194828\",\n        },\n\"Asheville, NC\",\n\"Private room\",\n{\n            'v': NaN,\n            'f': \"NaN\",\n        },\n\"Asheville\",\n\"North Carolina\"],\n [{\n            'v': 332,\n            'f': \"332\",\n        },\n\"96.00\",\n{\n            'v': 15229458,\n            'f': \"15229458\",\n        },\n\"Asheville, NC\",\n\"Private room\",\n{\n            'v': NaN,\n            'f': \"NaN\",\n        },\n\"Asheville\",\n\"North Carolina\"],\n [{\n            'v': 333,\n            'f': \"333\",\n        },\n\"120.00\",\n{\n            'v': 15231248,\n            'f': \"15231248\",\n        },\n\"Asheville, NC\",\n\"Entire homeapt\",\n{\n            'v': NaN,\n            'f': \"NaN\",\n        },\n\"Asheville\",\n\"North Carolina\"],\n [{\n            'v': 334,\n            'f': \"334\",\n        },\n\"275.00\",\n{\n            'v': 15289199,\n            'f': \"15289199\",\n        },\n\"Asheville, NC\",\n\"Entire homeapt\",\n{\n            'v': NaN,\n            'f': \"NaN\",\n        },\n\"Asheville\",\n\"North Carolina\"],\n [{\n            'v': 335,\n            'f': \"335\",\n        },\n\"79.00\",\n{\n            'v': 15321136,\n            'f': \"15321136\",\n        },\n\"Asheville, NC\",\n\"Entire homeapt\",\n{\n            'v': NaN,\n            'f': \"NaN\",\n        },\n\"Asheville\",\n\"North Carolina\"],\n [{\n            'v': 336,\n            'f': \"336\",\n        },\n\"70.00\",\n{\n            'v': 15343687,\n            'f': \"15343687\",\n        },\n\"Asheville, NC\",\n\"Entire homeapt\",\n{\n            'v': NaN,\n            'f': \"NaN\",\n        },\n\"Asheville\",\n\"North Carolina\"],\n [{\n            'v': 337,\n            'f': \"337\",\n        },\n\"116.00\",\n{\n            'v': 15351409,\n            'f': \"15351409\",\n        },\n\"Asheville, NC\",\n\"Entire homeapt\",\n{\n            'v': NaN,\n            'f': \"NaN\",\n        },\n\"Asheville\",\n\"North Carolina\"],\n [{\n            'v': 338,\n            'f': \"338\",\n        },\n\"121.00\",\n{\n            'v': 15354741,\n            'f': \"15354741\",\n        },\n\"Asheville, NC\",\n\"Entire homeapt\",\n{\n            'v': NaN,\n            'f': \"NaN\",\n        },\n\"Asheville\",\n\"North Carolina\"],\n [{\n            'v': 339,\n            'f': \"339\",\n        },\n\"90.00\",\n{\n            'v': 15371871,\n            'f': \"15371871\",\n        },\n\"Asheville, NC\",\n\"Entire homeapt\",\n{\n            'v': NaN,\n            'f': \"NaN\",\n        },\n\"Asheville\",\n\"North Carolina\"],\n [{\n            'v': 340,\n            'f': \"340\",\n        },\n\"103.00\",\n{\n            'v': 15422307,\n            'f': \"15422307\",\n        },\n\"Asheville, NC\",\n\"Entire homeapt\",\n{\n            'v': NaN,\n            'f': \"NaN\",\n        },\n\"Asheville\",\n\"North Carolina\"],\n [{\n            'v': 341,\n            'f': \"341\",\n        },\n\"56.00\",\n{\n            'v': 15437202,\n            'f': \"15437202\",\n        },\n\"Asheville, NC\",\n\"Private room\",\n{\n            'v': NaN,\n            'f': \"NaN\",\n        },\n\"Asheville\",\n\"North Carolina\"],\n [{\n            'v': 342,\n            'f': \"342\",\n        },\n\"150.00\",\n{\n            'v': 15444450,\n            'f': \"15444450\",\n        },\n\"Asheville, NC\",\n\"Entire homeapt\",\n{\n            'v': NaN,\n            'f': \"NaN\",\n        },\n\"Asheville\",\n\"North Carolina\"],\n [{\n            'v': 343,\n            'f': \"343\",\n        },\n\"251.00\",\n{\n            'v': 15462269,\n            'f': \"15462269\",\n        },\n\"San Diego, CA\",\n\"Entire homeapt\",\n{\n            'v': NaN,\n            'f': \"NaN\",\n        },\n\"Asheville\",\n\"North Carolina\"],\n [{\n            'v': 344,\n            'f': \"344\",\n        },\n\"189.00\",\n{\n            'v': 15476300,\n            'f': \"15476300\",\n        },\n\"Miami, FL\",\n\"Entire homeapt\",\n{\n            'v': NaN,\n            'f': \"NaN\",\n        },\n\"Asheville\",\n\"North Carolina\"],\n [{\n            'v': 345,\n            'f': \"345\",\n        },\n\"261.00\",\n{\n            'v': 15507809,\n            'f': \"15507809\",\n        },\n\"Wilmington, NC\",\n\"Entire homeapt\",\n{\n            'v': NaN,\n            'f': \"NaN\",\n        },\n\"Asheville\",\n\"North Carolina\"],\n [{\n            'v': 346,\n            'f': \"346\",\n        },\n\"115.00\",\n{\n            'v': 15510852,\n            'f': \"15510852\",\n        },\n\"Savannah, GA\",\n\"Entire homeapt\",\n{\n            'v': NaN,\n            'f': \"NaN\",\n        },\n\"Asheville\",\n\"North Carolina\"],\n [{\n            'v': 347,\n            'f': \"347\",\n        },\n\"81.00\",\n{\n            'v': 15530268,\n            'f': \"15530268\",\n        },\n\"Asheville, NC\",\n\"Entire homeapt\",\n{\n            'v': NaN,\n            'f': \"NaN\",\n        },\n\"Asheville\",\n\"North Carolina\"],\n [{\n            'v': 348,\n            'f': \"348\",\n        },\n\"54.00\",\n{\n            'v': 15544670,\n            'f': \"15544670\",\n        },\n\"Asheville, NC\",\n\"Entire homeapt\",\n{\n            'v': NaN,\n            'f': \"NaN\",\n        },\n\"Asheville\",\n\"North Carolina\"],\n [{\n            'v': 349,\n            'f': \"349\",\n        },\n\"85.00\",\n{\n            'v': 15546661,\n            'f': \"15546661\",\n        },\n\"Asheville, NC\",\n\"Entire homeapt\",\n{\n            'v': NaN,\n            'f': \"NaN\",\n        },\n\"Asheville\",\n\"North Carolina\"],\n [{\n            'v': 350,\n            'f': \"350\",\n        },\n\"118.00\",\n{\n            'v': 15568000,\n            'f': \"15568000\",\n        },\nNaN,\n\"Entire homeapt\",\n{\n            'v': NaN,\n            'f': \"NaN\",\n        },\n\"Asheville\",\n\"North Carolina\"],\n [{\n            'v': 351,\n            'f': \"351\",\n        },\n\"90.00\",\n{\n            'v': 15577790,\n            'f': \"15577790\",\n        },\n\"Asheville, NC\",\n\"Entire homeapt\",\n{\n            'v': NaN,\n            'f': \"NaN\",\n        },\n\"Asheville\",\n\"North Carolina\"],\n [{\n            'v': 352,\n            'f': \"352\",\n        },\n\"107.00\",\n{\n            'v': 15647883,\n            'f': \"15647883\",\n        },\n\"Asheville, NC\",\n\"Entire homeapt\",\n{\n            'v': NaN,\n            'f': \"NaN\",\n        },\n\"Asheville\",\n\"North Carolina\"],\n [{\n            'v': 353,\n            'f': \"353\",\n        },\n\"40.00\",\n{\n            'v': 15653105,\n            'f': \"15653105\",\n        },\n\"Asheville, NC\",\n\"Private room\",\n{\n            'v': NaN,\n            'f': \"NaN\",\n        },\n\"Asheville\",\n\"North Carolina\"],\n [{\n            'v': 354,\n            'f': \"354\",\n        },\n\"80.00\",\n{\n            'v': 15685101,\n            'f': \"15685101\",\n        },\n\"Asheville, NC\",\n\"Entire homeapt\",\n{\n            'v': NaN,\n            'f': \"NaN\",\n        },\n\"Asheville\",\n\"North Carolina\"],\n [{\n            'v': 355,\n            'f': \"355\",\n        },\n\"108.00\",\n{\n            'v': 15706129,\n            'f': \"15706129\",\n        },\n\"Asheville, NC\",\n\"Entire homeapt\",\n{\n            'v': NaN,\n            'f': \"NaN\",\n        },\n\"Asheville\",\n\"North Carolina\"],\n [{\n            'v': 356,\n            'f': \"356\",\n        },\n\"110.00\",\n{\n            'v': 15718256,\n            'f': \"15718256\",\n        },\n\"Asheville, NC\",\n\"Entire homeapt\",\n{\n            'v': NaN,\n            'f': \"NaN\",\n        },\n\"Asheville\",\n\"North Carolina\"],\n [{\n            'v': 357,\n            'f': \"357\",\n        },\n\"100.00\",\n{\n            'v': 15757654,\n            'f': \"15757654\",\n        },\nNaN,\n\"Private room\",\n{\n            'v': NaN,\n            'f': \"NaN\",\n        },\n\"Asheville\",\n\"North Carolina\"],\n [{\n            'v': 358,\n            'f': \"358\",\n        },\n\"100.00\",\n{\n            'v': 15788106,\n            'f': \"15788106\",\n        },\n\"North Carolina, United States\",\n\"Entire homeapt\",\n{\n            'v': NaN,\n            'f': \"NaN\",\n        },\n\"Asheville\",\n\"North Carolina\"],\n [{\n            'v': 359,\n            'f': \"359\",\n        },\n\"125.00\",\n{\n            'v': 15827350,\n            'f': \"15827350\",\n        },\n\"Fletcher, NC\",\n\"Entire homeapt\",\n{\n            'v': NaN,\n            'f': \"NaN\",\n        },\n\"Asheville\",\n\"North Carolina\"],\n [{\n            'v': 360,\n            'f': \"360\",\n        },\n\"138.00\",\n{\n            'v': 15867765,\n            'f': \"15867765\",\n        },\n\"Asheville, NC\",\n\"Private room\",\n{\n            'v': NaN,\n            'f': \"NaN\",\n        },\n\"Asheville\",\n\"North Carolina\"],\n [{\n            'v': 361,\n            'f': \"361\",\n        },\n\"139.00\",\n{\n            'v': 15880423,\n            'f': \"15880423\",\n        },\n\"Asheville, NC\",\n\"Entire homeapt\",\n{\n            'v': NaN,\n            'f': \"NaN\",\n        },\n\"Asheville\",\n\"North Carolina\"],\n [{\n            'v': 362,\n            'f': \"362\",\n        },\n\"39.00\",\n{\n            'v': 15922343,\n            'f': \"15922343\",\n        },\n\"Asheville, NC\",\n\"Entire homeapt\",\n{\n            'v': NaN,\n            'f': \"NaN\",\n        },\n\"Asheville\",\n\"North Carolina\"],\n [{\n            'v': 363,\n            'f': \"363\",\n        },\n\"303.00\",\n{\n            'v': 15936945,\n            'f': \"15936945\",\n        },\n\"Asheville, NC\",\n\"Entire homeapt\",\n{\n            'v': NaN,\n            'f': \"NaN\",\n        },\n\"Asheville\",\n\"North Carolina\"],\n [{\n            'v': 364,\n            'f': \"364\",\n        },\n\"134.00\",\n{\n            'v': 15995355,\n            'f': \"15995355\",\n        },\n\"Asheville, NC\",\n\"Entire homeapt\",\n{\n            'v': NaN,\n            'f': \"NaN\",\n        },\n\"Asheville\",\n\"North Carolina\"],\n [{\n            'v': 365,\n            'f': \"365\",\n        },\n\"126.00\",\n{\n            'v': 16003488,\n            'f': \"16003488\",\n        },\n\"Savannah, GA\",\n\"Entire homeapt\",\n{\n            'v': NaN,\n            'f': \"NaN\",\n        },\n\"Asheville\",\n\"North Carolina\"],\n [{\n            'v': 366,\n            'f': \"366\",\n        },\n\"98.00\",\n{\n            'v': 16024372,\n            'f': \"16024372\",\n        },\n\"North Carolina, United States\",\n\"Entire homeapt\",\n{\n            'v': NaN,\n            'f': \"NaN\",\n        },\n\"Asheville\",\n\"North Carolina\"],\n [{\n            'v': 367,\n            'f': \"367\",\n        },\n\"90.00\",\n{\n            'v': 16029611,\n            'f': \"16029611\",\n        },\n\"Asheville, NC\",\n\"Entire homeapt\",\n{\n            'v': NaN,\n            'f': \"NaN\",\n        },\n\"Asheville\",\n\"North Carolina\"],\n [{\n            'v': 368,\n            'f': \"368\",\n        },\n\"88.00\",\n{\n            'v': 16037508,\n            'f': \"16037508\",\n        },\n\"Arden, NC\",\n\"Private room\",\n{\n            'v': NaN,\n            'f': \"NaN\",\n        },\n\"Asheville\",\n\"North Carolina\"],\n [{\n            'v': 369,\n            'f': \"369\",\n        },\n\"108.00\",\n{\n            'v': 16095359,\n            'f': \"16095359\",\n        },\n\"Asheville, NC\",\n\"Entire homeapt\",\n{\n            'v': NaN,\n            'f': \"NaN\",\n        },\n\"Asheville\",\n\"North Carolina\"],\n [{\n            'v': 370,\n            'f': \"370\",\n        },\n\"135.00\",\n{\n            'v': 16147877,\n            'f': \"16147877\",\n        },\n\"Asheville, NC\",\n\"Entire homeapt\",\n{\n            'v': NaN,\n            'f': \"NaN\",\n        },\n\"Asheville\",\n\"North Carolina\"],\n [{\n            'v': 371,\n            'f': \"371\",\n        },\n\"103.00\",\n{\n            'v': 16155218,\n            'f': \"16155218\",\n        },\n\"Asheville, NC\",\n\"Entire homeapt\",\n{\n            'v': NaN,\n            'f': \"NaN\",\n        },\n\"Asheville\",\n\"North Carolina\"],\n [{\n            'v': 372,\n            'f': \"372\",\n        },\n\"177.00\",\n{\n            'v': 16203903,\n            'f': \"16203903\",\n        },\n\"Asheville, NC\",\n\"Entire homeapt\",\n{\n            'v': NaN,\n            'f': \"NaN\",\n        },\n\"Asheville\",\n\"North Carolina\"],\n [{\n            'v': 373,\n            'f': \"373\",\n        },\n\"133.00\",\n{\n            'v': 16211914,\n            'f': \"16211914\",\n        },\n\"Asheville, NC\",\n\"Entire homeapt\",\n{\n            'v': NaN,\n            'f': \"NaN\",\n        },\n\"Asheville\",\n\"North Carolina\"],\n [{\n            'v': 374,\n            'f': \"374\",\n        },\n\"78.00\",\n{\n            'v': 16267469,\n            'f': \"16267469\",\n        },\n\"Asheville, NC\",\n\"Entire homeapt\",\n{\n            'v': NaN,\n            'f': \"NaN\",\n        },\n\"Asheville\",\n\"North Carolina\"],\n [{\n            'v': 375,\n            'f': \"375\",\n        },\n\"97.00\",\n{\n            'v': 16284364,\n            'f': \"16284364\",\n        },\n\"Asheville, NC\",\n\"Private room\",\n{\n            'v': NaN,\n            'f': \"NaN\",\n        },\n\"Asheville\",\n\"North Carolina\"],\n [{\n            'v': 376,\n            'f': \"376\",\n        },\n\"52.00\",\n{\n            'v': 16294435,\n            'f': \"16294435\",\n        },\n\"Asheville, NC\",\n\"Entire homeapt\",\n{\n            'v': NaN,\n            'f': \"NaN\",\n        },\n\"Asheville\",\n\"North Carolina\"],\n [{\n            'v': 377,\n            'f': \"377\",\n        },\n\"53.00\",\n{\n            'v': 16384751,\n            'f': \"16384751\",\n        },\n\"Asheville, NC\",\n\"Private room\",\n{\n            'v': NaN,\n            'f': \"NaN\",\n        },\n\"Asheville\",\n\"North Carolina\"],\n [{\n            'v': 378,\n            'f': \"378\",\n        },\n\"243.00\",\n{\n            'v': 16451105,\n            'f': \"16451105\",\n        },\n\"Asheville, NC\",\n\"Entire homeapt\",\n{\n            'v': NaN,\n            'f': \"NaN\",\n        },\n\"Asheville\",\n\"North Carolina\"],\n [{\n            'v': 379,\n            'f': \"379\",\n        },\n\"153.00\",\n{\n            'v': 16476358,\n            'f': \"16476358\",\n        },\n\"Asheville, NC\",\n\"Entire homeapt\",\n{\n            'v': NaN,\n            'f': \"NaN\",\n        },\n\"Asheville\",\n\"North Carolina\"],\n [{\n            'v': 380,\n            'f': \"380\",\n        },\n\"95.00\",\n{\n            'v': 16512718,\n            'f': \"16512718\",\n        },\n\"Asheville, NC\",\n\"Entire homeapt\",\n{\n            'v': NaN,\n            'f': \"NaN\",\n        },\n\"Asheville\",\n\"North Carolina\"],\n [{\n            'v': 381,\n            'f': \"381\",\n        },\n\"151.00\",\n{\n            'v': 16532936,\n            'f': \"16532936\",\n        },\n\"Asheville, NC\",\n\"Entire homeapt\",\n{\n            'v': NaN,\n            'f': \"NaN\",\n        },\n\"Asheville\",\n\"North Carolina\"],\n [{\n            'v': 382,\n            'f': \"382\",\n        },\n\"109.00\",\n{\n            'v': 16533200,\n            'f': \"16533200\",\n        },\n\"Charleston, SC\",\n\"Entire homeapt\",\n{\n            'v': NaN,\n            'f': \"NaN\",\n        },\n\"Asheville\",\n\"North Carolina\"],\n [{\n            'v': 383,\n            'f': \"383\",\n        },\n\"104.00\",\n{\n            'v': 16566334,\n            'f': \"16566334\",\n        },\n\"Asheville, NC\",\n\"Entire homeapt\",\n{\n            'v': NaN,\n            'f': \"NaN\",\n        },\n\"Asheville\",\n\"North Carolina\"],\n [{\n            'v': 384,\n            'f': \"384\",\n        },\n\"100.00\",\n{\n            'v': 16566932,\n            'f': \"16566932\",\n        },\n\"Asheville, NC\",\n\"Entire homeapt\",\n{\n            'v': NaN,\n            'f': \"NaN\",\n        },\n\"Asheville\",\n\"North Carolina\"],\n [{\n            'v': 385,\n            'f': \"385\",\n        },\n\"316.00\",\n{\n            'v': 16587446,\n            'f': \"16587446\",\n        },\n\"Barnardsville, NC\",\n\"Entire homeapt\",\n{\n            'v': NaN,\n            'f': \"NaN\",\n        },\n\"Asheville\",\n\"North Carolina\"],\n [{\n            'v': 386,\n            'f': \"386\",\n        },\n\"90.00\",\n{\n            'v': 16627563,\n            'f': \"16627563\",\n        },\n\"Asheville, NC\",\n\"Private room\",\n{\n            'v': NaN,\n            'f': \"NaN\",\n        },\n\"Asheville\",\n\"North Carolina\"],\n [{\n            'v': 387,\n            'f': \"387\",\n        },\n\"114.00\",\n{\n            'v': 16636978,\n            'f': \"16636978\",\n        },\n\"Asheville, NC\",\n\"Private room\",\n{\n            'v': NaN,\n            'f': \"NaN\",\n        },\n\"Asheville\",\n\"North Carolina\"],\n [{\n            'v': 388,\n            'f': \"388\",\n        },\n\"167.00\",\n{\n            'v': 16660917,\n            'f': \"16660917\",\n        },\n\"Asheville, NC\",\n\"Entire homeapt\",\n{\n            'v': NaN,\n            'f': \"NaN\",\n        },\n\"Asheville\",\n\"North Carolina\"],\n [{\n            'v': 389,\n            'f': \"389\",\n        },\n\"134.00\",\n{\n            'v': 16700354,\n            'f': \"16700354\",\n        },\n\"Asheville, NC\",\n\"Entire homeapt\",\n{\n            'v': NaN,\n            'f': \"NaN\",\n        },\n\"Asheville\",\n\"North Carolina\"],\n [{\n            'v': 390,\n            'f': \"390\",\n        },\n\"70.00\",\n{\n            'v': 16810083,\n            'f': \"16810083\",\n        },\n\"Asheville, NC\",\n\"Private room\",\n{\n            'v': NaN,\n            'f': \"NaN\",\n        },\n\"Asheville\",\n\"North Carolina\"],\n [{\n            'v': 391,\n            'f': \"391\",\n        },\n\"289.00\",\n{\n            'v': 16832848,\n            'f': \"16832848\",\n        },\n\"Asheville, NC\",\n\"Entire homeapt\",\n{\n            'v': NaN,\n            'f': \"NaN\",\n        },\n\"Asheville\",\n\"North Carolina\"],\n [{\n            'v': 392,\n            'f': \"392\",\n        },\n\"200.00\",\n{\n            'v': 16846899,\n            'f': \"16846899\",\n        },\n\"Asheville, NC\",\n\"Entire homeapt\",\n{\n            'v': NaN,\n            'f': \"NaN\",\n        },\n\"Asheville\",\n\"North Carolina\"],\n [{\n            'v': 393,\n            'f': \"393\",\n        },\n\"129.00\",\n{\n            'v': 16856815,\n            'f': \"16856815\",\n        },\n\"Asheville, NC\",\n\"Entire homeapt\",\n{\n            'v': NaN,\n            'f': \"NaN\",\n        },\n\"Asheville\",\n\"North Carolina\"],\n [{\n            'v': 394,\n            'f': \"394\",\n        },\n\"186.00\",\n{\n            'v': 16868257,\n            'f': \"16868257\",\n        },\n\"Asheville, NC\",\n\"Entire homeapt\",\n{\n            'v': NaN,\n            'f': \"NaN\",\n        },\n\"Asheville\",\n\"North Carolina\"],\n [{\n            'v': 395,\n            'f': \"395\",\n        },\n\"622.00\",\n{\n            'v': 16937948,\n            'f': \"16937948\",\n        },\n\"Asheville, NC\",\n\"Entire homeapt\",\n{\n            'v': NaN,\n            'f': \"NaN\",\n        },\n\"Asheville\",\n\"North Carolina\"],\n [{\n            'v': 396,\n            'f': \"396\",\n        },\n\"135.00\",\n{\n            'v': 16937957,\n            'f': \"16937957\",\n        },\n\"Asheville, NC\",\n\"Entire homeapt\",\n{\n            'v': NaN,\n            'f': \"NaN\",\n        },\n\"Asheville\",\n\"North Carolina\"],\n [{\n            'v': 397,\n            'f': \"397\",\n        },\n\"302.00\",\n{\n            'v': 16937995,\n            'f': \"16937995\",\n        },\n\"Asheville, NC\",\n\"Entire homeapt\",\n{\n            'v': NaN,\n            'f': \"NaN\",\n        },\n\"Asheville\",\n\"North Carolina\"],\n [{\n            'v': 398,\n            'f': \"398\",\n        },\n\"230.00\",\n{\n            'v': 16977918,\n            'f': \"16977918\",\n        },\n\"Asheville, NC\",\n\"Entire homeapt\",\n{\n            'v': NaN,\n            'f': \"NaN\",\n        },\n\"Asheville\",\n\"North Carolina\"],\n [{\n            'v': 399,\n            'f': \"399\",\n        },\n\"114.00\",\n{\n            'v': 17036413,\n            'f': \"17036413\",\n        },\n\"Arden, NC\",\n\"Entire homeapt\",\n{\n            'v': NaN,\n            'f': \"NaN\",\n        },\n\"Asheville\",\n\"North Carolina\"],\n [{\n            'v': 400,\n            'f': \"400\",\n        },\n\"112.00\",\n{\n            'v': 17095670,\n            'f': \"17095670\",\n        },\n\"Savannah, GA\",\n\"Entire homeapt\",\n{\n            'v': NaN,\n            'f': \"NaN\",\n        },\n\"Asheville\",\n\"North Carolina\"],\n [{\n            'v': 401,\n            'f': \"401\",\n        },\n\"90.00\",\n{\n            'v': 17116810,\n            'f': \"17116810\",\n        },\n\"Asheville, NC\",\n\"Private room\",\n{\n            'v': NaN,\n            'f': \"NaN\",\n        },\n\"Asheville\",\n\"North Carolina\"],\n [{\n            'v': 402,\n            'f': \"402\",\n        },\n\"99.00\",\n{\n            'v': 17140023,\n            'f': \"17140023\",\n        },\n\"Asheville, NC\",\n\"Entire homeapt\",\n{\n            'v': NaN,\n            'f': \"NaN\",\n        },\n\"Asheville\",\n\"North Carolina\"],\n [{\n            'v': 403,\n            'f': \"403\",\n        },\n\"97.00\",\n{\n            'v': 17155164,\n            'f': \"17155164\",\n        },\n\"Asheville, NC\",\n\"Entire homeapt\",\n{\n            'v': NaN,\n            'f': \"NaN\",\n        },\n\"Asheville\",\n\"North Carolina\"],\n [{\n            'v': 404,\n            'f': \"404\",\n        },\n\"134.00\",\n{\n            'v': 17157429,\n            'f': \"17157429\",\n        },\n\"Asheville, NC\",\n\"Entire homeapt\",\n{\n            'v': NaN,\n            'f': \"NaN\",\n        },\n\"Asheville\",\n\"North Carolina\"],\n [{\n            'v': 405,\n            'f': \"405\",\n        },\n\"157.00\",\n{\n            'v': 17310280,\n            'f': \"17310280\",\n        },\n\"Asheville, NC\",\n\"Entire homeapt\",\n{\n            'v': NaN,\n            'f': \"NaN\",\n        },\n\"Asheville\",\n\"North Carolina\"],\n [{\n            'v': 406,\n            'f': \"406\",\n        },\n\"345.00\",\n{\n            'v': 17345566,\n            'f': \"17345566\",\n        },\n\"Asheville, NC\",\n\"Entire homeapt\",\n{\n            'v': NaN,\n            'f': \"NaN\",\n        },\n\"Asheville\",\n\"North Carolina\"],\n [{\n            'v': 407,\n            'f': \"407\",\n        },\n\"95.00\",\n{\n            'v': 17364637,\n            'f': \"17364637\",\n        },\n\"Asheville, NC\",\n\"Entire homeapt\",\n{\n            'v': NaN,\n            'f': \"NaN\",\n        },\n\"Asheville\",\n\"North Carolina\"],\n [{\n            'v': 408,\n            'f': \"408\",\n        },\n\"157.00\",\n{\n            'v': 17395670,\n            'f': \"17395670\",\n        },\n\"Asheville, NC\",\n\"Entire homeapt\",\n{\n            'v': NaN,\n            'f': \"NaN\",\n        },\n\"Asheville\",\n\"North Carolina\"],\n [{\n            'v': 409,\n            'f': \"409\",\n        },\n\"185.00\",\n{\n            'v': 17403585,\n            'f': \"17403585\",\n        },\n\"Fayetteville, NC\",\n\"Entire homeapt\",\n{\n            'v': NaN,\n            'f': \"NaN\",\n        },\n\"Asheville\",\n\"North Carolina\"],\n [{\n            'v': 410,\n            'f': \"410\",\n        },\n\"139.00\",\n{\n            'v': 17446056,\n            'f': \"17446056\",\n        },\n\"Asheville, NC\",\n\"Entire homeapt\",\n{\n            'v': NaN,\n            'f': \"NaN\",\n        },\n\"Asheville\",\n\"North Carolina\"],\n [{\n            'v': 411,\n            'f': \"411\",\n        },\n\"69.00\",\n{\n            'v': 17529983,\n            'f': \"17529983\",\n        },\n\"Asheville, NC\",\n\"Entire homeapt\",\n{\n            'v': NaN,\n            'f': \"NaN\",\n        },\n\"Asheville\",\n\"North Carolina\"],\n [{\n            'v': 412,\n            'f': \"412\",\n        },\n\"97.00\",\n{\n            'v': 17552287,\n            'f': \"17552287\",\n        },\n\"Asheville, NC\",\n\"Private room\",\n{\n            'v': NaN,\n            'f': \"NaN\",\n        },\n\"Asheville\",\n\"North Carolina\"],\n [{\n            'v': 413,\n            'f': \"413\",\n        },\n\"66.00\",\n{\n            'v': 17591050,\n            'f': \"17591050\",\n        },\n\"Asheville, NC\",\n\"Private room\",\n{\n            'v': NaN,\n            'f': \"NaN\",\n        },\n\"Asheville\",\n\"North Carolina\"],\n [{\n            'v': 414,\n            'f': \"414\",\n        },\n\"569.00\",\n{\n            'v': 17606368,\n            'f': \"17606368\",\n        },\n\"Asheville, NC\",\n\"Entire homeapt\",\n{\n            'v': NaN,\n            'f': \"NaN\",\n        },\n\"Asheville\",\n\"North Carolina\"],\n [{\n            'v': 415,\n            'f': \"415\",\n        },\n\"330.00\",\n{\n            'v': 17618702,\n            'f': \"17618702\",\n        },\n\"Asheville, NC\",\n\"Entire homeapt\",\n{\n            'v': NaN,\n            'f': \"NaN\",\n        },\n\"Asheville\",\n\"North Carolina\"],\n [{\n            'v': 416,\n            'f': \"416\",\n        },\n\"102.00\",\n{\n            'v': 17634705,\n            'f': \"17634705\",\n        },\n\"Asheville, NC\",\n\"Entire homeapt\",\n{\n            'v': NaN,\n            'f': \"NaN\",\n        },\n\"Asheville\",\n\"North Carolina\"],\n [{\n            'v': 417,\n            'f': \"417\",\n        },\n\"150.00\",\n{\n            'v': 17638102,\n            'f': \"17638102\",\n        },\n\"Asheville, NC\",\n\"Private room\",\n{\n            'v': NaN,\n            'f': \"NaN\",\n        },\n\"Asheville\",\n\"North Carolina\"],\n [{\n            'v': 418,\n            'f': \"418\",\n        },\n\"279.00\",\n{\n            'v': 17648416,\n            'f': \"17648416\",\n        },\n\"Asheville, NC\",\n\"Entire homeapt\",\n{\n            'v': NaN,\n            'f': \"NaN\",\n        },\n\"Asheville\",\n\"North Carolina\"],\n [{\n            'v': 419,\n            'f': \"419\",\n        },\n\"72.00\",\n{\n            'v': 17649947,\n            'f': \"17649947\",\n        },\n\"Asheville, NC\",\n\"Entire homeapt\",\n{\n            'v': NaN,\n            'f': \"NaN\",\n        },\n\"Asheville\",\n\"North Carolina\"],\n [{\n            'v': 420,\n            'f': \"420\",\n        },\n\"59.00\",\n{\n            'v': 17653835,\n            'f': \"17653835\",\n        },\n\"Asheville, NC\",\n\"Entire homeapt\",\n{\n            'v': NaN,\n            'f': \"NaN\",\n        },\n\"Asheville\",\n\"North Carolina\"],\n [{\n            'v': 421,\n            'f': \"421\",\n        },\n\"96.00\",\n{\n            'v': 17726977,\n            'f': \"17726977\",\n        },\n\"Asheville, NC\",\n\"Private room\",\n{\n            'v': NaN,\n            'f': \"NaN\",\n        },\n\"Asheville\",\n\"North Carolina\"],\n [{\n            'v': 422,\n            'f': \"422\",\n        },\n\"149.00\",\n{\n            'v': 17743775,\n            'f': \"17743775\",\n        },\n\"Asheville, NC\",\n\"Entire homeapt\",\n{\n            'v': NaN,\n            'f': \"NaN\",\n        },\n\"Asheville\",\n\"North Carolina\"],\n [{\n            'v': 423,\n            'f': \"423\",\n        },\n\"152.00\",\n{\n            'v': 17774784,\n            'f': \"17774784\",\n        },\n\"Asheville, NC\",\n\"Entire homeapt\",\n{\n            'v': NaN,\n            'f': \"NaN\",\n        },\n\"Asheville\",\n\"North Carolina\"],\n [{\n            'v': 424,\n            'f': \"424\",\n        },\n\"154.00\",\n{\n            'v': 17794306,\n            'f': \"17794306\",\n        },\n\"Asheville, NC\",\n\"Entire homeapt\",\n{\n            'v': NaN,\n            'f': \"NaN\",\n        },\n\"Asheville\",\n\"North Carolina\"],\n [{\n            'v': 425,\n            'f': \"425\",\n        },\n\"116.00\",\n{\n            'v': 17826503,\n            'f': \"17826503\",\n        },\n\"Asheville, NC\",\n\"Entire homeapt\",\n{\n            'v': NaN,\n            'f': \"NaN\",\n        },\n\"Asheville\",\n\"North Carolina\"],\n [{\n            'v': 426,\n            'f': \"426\",\n        },\n\"132.00\",\n{\n            'v': 17861930,\n            'f': \"17861930\",\n        },\n\"Savannah, GA\",\n\"Entire homeapt\",\n{\n            'v': NaN,\n            'f': \"NaN\",\n        },\n\"Asheville\",\n\"North Carolina\"],\n [{\n            'v': 427,\n            'f': \"427\",\n        },\n\"66.00\",\n{\n            'v': 17892316,\n            'f': \"17892316\",\n        },\nNaN,\n\"Entire homeapt\",\n{\n            'v': NaN,\n            'f': \"NaN\",\n        },\n\"Asheville\",\n\"North Carolina\"],\n [{\n            'v': 428,\n            'f': \"428\",\n        },\n\"119.00\",\n{\n            'v': 17917678,\n            'f': \"17917678\",\n        },\n\"Asheville, NC\",\n\"Entire homeapt\",\n{\n            'v': NaN,\n            'f': \"NaN\",\n        },\n\"Asheville\",\n\"North Carolina\"],\n [{\n            'v': 429,\n            'f': \"429\",\n        },\n\"100.00\",\n{\n            'v': 17923086,\n            'f': \"17923086\",\n        },\n\"Asheville, NC\",\n\"Entire homeapt\",\n{\n            'v': NaN,\n            'f': \"NaN\",\n        },\n\"Asheville\",\n\"North Carolina\"],\n [{\n            'v': 430,\n            'f': \"430\",\n        },\n\"114.00\",\n{\n            'v': 17935396,\n            'f': \"17935396\",\n        },\n\"Asheville, NC\",\n\"Entire homeapt\",\n{\n            'v': NaN,\n            'f': \"NaN\",\n        },\n\"Asheville\",\n\"North Carolina\"],\n [{\n            'v': 431,\n            'f': \"431\",\n        },\n\"111.00\",\n{\n            'v': 18017043,\n            'f': \"18017043\",\n        },\n\"Asheville, NC\",\n\"Private room\",\n{\n            'v': NaN,\n            'f': \"NaN\",\n        },\n\"Asheville\",\n\"North Carolina\"],\n [{\n            'v': 432,\n            'f': \"432\",\n        },\n\"150.00\",\n{\n            'v': 18018230,\n            'f': \"18018230\",\n        },\n\"Asheville, NC\",\n\"Private room\",\n{\n            'v': NaN,\n            'f': \"NaN\",\n        },\n\"Asheville\",\n\"North Carolina\"],\n [{\n            'v': 433,\n            'f': \"433\",\n        },\n\"187.00\",\n{\n            'v': 18021364,\n            'f': \"18021364\",\n        },\n\"Asheville, NC\",\n\"Entire homeapt\",\n{\n            'v': NaN,\n            'f': \"NaN\",\n        },\n\"Asheville\",\n\"North Carolina\"],\n [{\n            'v': 434,\n            'f': \"434\",\n        },\n\"109.00\",\n{\n            'v': 18022683,\n            'f': \"18022683\",\n        },\n\"Asheville, NC\",\n\"Entire homeapt\",\n{\n            'v': NaN,\n            'f': \"NaN\",\n        },\n\"Asheville\",\n\"North Carolina\"],\n [{\n            'v': 435,\n            'f': \"435\",\n        },\n\"150.00\",\n{\n            'v': 18055958,\n            'f': \"18055958\",\n        },\n\"Lido Beach, NY\",\n\"Entire homeapt\",\n{\n            'v': NaN,\n            'f': \"NaN\",\n        },\n\"Asheville\",\n\"North Carolina\"],\n [{\n            'v': 436,\n            'f': \"436\",\n        },\n\"151.00\",\n{\n            'v': 18059317,\n            'f': \"18059317\",\n        },\n\"Asheville, NC\",\n\"Entire homeapt\",\n{\n            'v': NaN,\n            'f': \"NaN\",\n        },\n\"Asheville\",\n\"North Carolina\"],\n [{\n            'v': 437,\n            'f': \"437\",\n        },\n\"89.00\",\n{\n            'v': 18092896,\n            'f': \"18092896\",\n        },\n\"Asheville, NC\",\n\"Entire homeapt\",\n{\n            'v': NaN,\n            'f': \"NaN\",\n        },\n\"Asheville\",\n\"North Carolina\"],\n [{\n            'v': 438,\n            'f': \"438\",\n        },\n\"75.00\",\n{\n            'v': 18119864,\n            'f': \"18119864\",\n        },\n\"Asheville, NC\",\n\"Private room\",\n{\n            'v': NaN,\n            'f': \"NaN\",\n        },\n\"Asheville\",\n\"North Carolina\"],\n [{\n            'v': 439,\n            'f': \"439\",\n        },\n\"92.00\",\n{\n            'v': 18121899,\n            'f': \"18121899\",\n        },\n\"Asheville, NC\",\n\"Entire homeapt\",\n{\n            'v': NaN,\n            'f': \"NaN\",\n        },\n\"Asheville\",\n\"North Carolina\"],\n [{\n            'v': 440,\n            'f': \"440\",\n        },\n\"88.00\",\n{\n            'v': 18151750,\n            'f': \"18151750\",\n        },\n\"Asheville, NC\",\n\"Entire homeapt\",\n{\n            'v': NaN,\n            'f': \"NaN\",\n        },\n\"Asheville\",\n\"North Carolina\"],\n [{\n            'v': 441,\n            'f': \"441\",\n        },\n\"190.00\",\n{\n            'v': 18178954,\n            'f': \"18178954\",\n        },\n\"Asheville, NC\",\n\"Entire homeapt\",\n{\n            'v': NaN,\n            'f': \"NaN\",\n        },\n\"Asheville\",\n\"North Carolina\"],\n [{\n            'v': 442,\n            'f': \"442\",\n        },\n\"156.00\",\n{\n            'v': 18179308,\n            'f': \"18179308\",\n        },\n\"Asheville, NC\",\n\"Entire homeapt\",\n{\n            'v': NaN,\n            'f': \"NaN\",\n        },\n\"Asheville\",\n\"North Carolina\"],\n [{\n            'v': 443,\n            'f': \"443\",\n        },\n\"94.00\",\n{\n            'v': 18308309,\n            'f': \"18308309\",\n        },\n\"Asheville, NC\",\n\"Private room\",\n{\n            'v': NaN,\n            'f': \"NaN\",\n        },\n\"Asheville\",\n\"North Carolina\"],\n [{\n            'v': 444,\n            'f': \"444\",\n        },\n\"94.00\",\n{\n            'v': 18308869,\n            'f': \"18308869\",\n        },\n\"Asheville, NC\",\n\"Private room\",\n{\n            'v': NaN,\n            'f': \"NaN\",\n        },\n\"Asheville\",\n\"North Carolina\"],\n [{\n            'v': 445,\n            'f': \"445\",\n        },\n\"94.00\",\n{\n            'v': 18308979,\n            'f': \"18308979\",\n        },\n\"Asheville, NC\",\n\"Private room\",\n{\n            'v': NaN,\n            'f': \"NaN\",\n        },\n\"Asheville\",\n\"North Carolina\"],\n [{\n            'v': 446,\n            'f': \"446\",\n        },\n\"94.00\",\n{\n            'v': 18309080,\n            'f': \"18309080\",\n        },\n\"Asheville, NC\",\n\"Private room\",\n{\n            'v': NaN,\n            'f': \"NaN\",\n        },\n\"Asheville\",\n\"North Carolina\"],\n [{\n            'v': 447,\n            'f': \"447\",\n        },\n\"185.00\",\n{\n            'v': 18322086,\n            'f': \"18322086\",\n        },\n\"Asheville, NC\",\n\"Entire homeapt\",\n{\n            'v': NaN,\n            'f': \"NaN\",\n        },\n\"Asheville\",\n\"North Carolina\"],\n [{\n            'v': 448,\n            'f': \"448\",\n        },\n\"141.00\",\n{\n            'v': 18375617,\n            'f': \"18375617\",\n        },\n\"Asheville, NC\",\n\"Entire homeapt\",\n{\n            'v': NaN,\n            'f': \"NaN\",\n        },\n\"Asheville\",\n\"North Carolina\"],\n [{\n            'v': 449,\n            'f': \"449\",\n        },\n\"94.00\",\n{\n            'v': 18389884,\n            'f': \"18389884\",\n        },\n\"Asheville, NC\",\n\"Private room\",\n{\n            'v': NaN,\n            'f': \"NaN\",\n        },\n\"Asheville\",\n\"North Carolina\"],\n [{\n            'v': 450,\n            'f': \"450\",\n        },\n\"77.00\",\n{\n            'v': 18393059,\n            'f': \"18393059\",\n        },\n\"Asheville, NC\",\n\"Private room\",\n{\n            'v': NaN,\n            'f': \"NaN\",\n        },\n\"Asheville\",\n\"North Carolina\"],\n [{\n            'v': 451,\n            'f': \"451\",\n        },\n\"94.00\",\n{\n            'v': 18404153,\n            'f': \"18404153\",\n        },\n\"Asheville, NC\",\n\"Private room\",\n{\n            'v': NaN,\n            'f': \"NaN\",\n        },\n\"Asheville\",\n\"North Carolina\"],\n [{\n            'v': 452,\n            'f': \"452\",\n        },\n\"94.00\",\n{\n            'v': 18406520,\n            'f': \"18406520\",\n        },\n\"Asheville, NC\",\n\"Private room\",\n{\n            'v': NaN,\n            'f': \"NaN\",\n        },\n\"Asheville\",\n\"North Carolina\"],\n [{\n            'v': 453,\n            'f': \"453\",\n        },\n\"130.00\",\n{\n            'v': 18422959,\n            'f': \"18422959\",\n        },\nNaN,\n\"Entire homeapt\",\n{\n            'v': NaN,\n            'f': \"NaN\",\n        },\n\"Asheville\",\n\"North Carolina\"],\n [{\n            'v': 454,\n            'f': \"454\",\n        },\n\"132.00\",\n{\n            'v': 18459334,\n            'f': \"18459334\",\n        },\n\"Asheville, NC\",\n\"Entire homeapt\",\n{\n            'v': NaN,\n            'f': \"NaN\",\n        },\n\"Asheville\",\n\"North Carolina\"],\n [{\n            'v': 455,\n            'f': \"455\",\n        },\n\"85.00\",\n{\n            'v': 18471514,\n            'f': \"18471514\",\n        },\n\"Asheville, NC\",\n\"Entire homeapt\",\n{\n            'v': NaN,\n            'f': \"NaN\",\n        },\n\"Asheville\",\n\"North Carolina\"],\n [{\n            'v': 456,\n            'f': \"456\",\n        },\n\"226.00\",\n{\n            'v': 18473371,\n            'f': \"18473371\",\n        },\n\"Asheville, NC\",\n\"Entire homeapt\",\n{\n            'v': NaN,\n            'f': \"NaN\",\n        },\n\"Asheville\",\n\"North Carolina\"],\n [{\n            'v': 457,\n            'f': \"457\",\n        },\n\"103.00\",\n{\n            'v': 18521819,\n            'f': \"18521819\",\n        },\n\"Asheville, NC\",\n\"Entire homeapt\",\n{\n            'v': NaN,\n            'f': \"NaN\",\n        },\n\"Asheville\",\n\"North Carolina\"],\n [{\n            'v': 458,\n            'f': \"458\",\n        },\n\"95.00\",\n{\n            'v': 18599205,\n            'f': \"18599205\",\n        },\n\"Asheville, NC\",\n\"Entire homeapt\",\n{\n            'v': NaN,\n            'f': \"NaN\",\n        },\n\"Asheville\",\n\"North Carolina\"],\n [{\n            'v': 459,\n            'f': \"459\",\n        },\n\"11,429.00\",\n{\n            'v': 18627613,\n            'f': \"18627613\",\n        },\n\"Asheville, NC\",\n\"Entire homeapt\",\n{\n            'v': NaN,\n            'f': \"NaN\",\n        },\n\"Asheville\",\n\"North Carolina\"],\n [{\n            'v': 460,\n            'f': \"460\",\n        },\n\"270.00\",\n{\n            'v': 18716194,\n            'f': \"18716194\",\n        },\n\"Charleston, SC\",\n\"Entire homeapt\",\n{\n            'v': NaN,\n            'f': \"NaN\",\n        },\n\"Asheville\",\n\"North Carolina\"],\n [{\n            'v': 461,\n            'f': \"461\",\n        },\n\"50.00\",\n{\n            'v': 18721359,\n            'f': \"18721359\",\n        },\n\"Sebring, FL\",\n\"Entire homeapt\",\n{\n            'v': NaN,\n            'f': \"NaN\",\n        },\n\"Asheville\",\n\"North Carolina\"],\n [{\n            'v': 462,\n            'f': \"462\",\n        },\n\"550.00\",\n{\n            'v': 18731242,\n            'f': \"18731242\",\n        },\n\"Laguna Beach, CA\",\n\"Entire homeapt\",\n{\n            'v': NaN,\n            'f': \"NaN\",\n        },\n\"Asheville\",\n\"North Carolina\"],\n [{\n            'v': 463,\n            'f': \"463\",\n        },\n\"202.00\",\n{\n            'v': 18751432,\n            'f': \"18751432\",\n        },\n\"Asheville, NC\",\n\"Entire homeapt\",\n{\n            'v': NaN,\n            'f': \"NaN\",\n        },\n\"Asheville\",\n\"North Carolina\"],\n [{\n            'v': 464,\n            'f': \"464\",\n        },\n\"106.00\",\n{\n            'v': 18776404,\n            'f': \"18776404\",\n        },\n\"Asheville, NC\",\n\"Private room\",\n{\n            'v': NaN,\n            'f': \"NaN\",\n        },\n\"Asheville\",\n\"North Carolina\"],\n [{\n            'v': 465,\n            'f': \"465\",\n        },\n\"105.00\",\n{\n            'v': 18784621,\n            'f': \"18784621\",\n        },\n\"Savannah, GA\",\n\"Entire homeapt\",\n{\n            'v': NaN,\n            'f': \"NaN\",\n        },\n\"Asheville\",\n\"North Carolina\"],\n [{\n            'v': 466,\n            'f': \"466\",\n        },\n\"106.00\",\n{\n            'v': 18907430,\n            'f': \"18907430\",\n        },\n\"Asheville, NC\",\n\"Private room\",\n{\n            'v': NaN,\n            'f': \"NaN\",\n        },\n\"Asheville\",\n\"North Carolina\"],\n [{\n            'v': 467,\n            'f': \"467\",\n        },\n\"71.00\",\n{\n            'v': 18910863,\n            'f': \"18910863\",\n        },\n\"Asheville, NC\",\n\"Entire homeapt\",\n{\n            'v': NaN,\n            'f': \"NaN\",\n        },\n\"Asheville\",\n\"North Carolina\"],\n [{\n            'v': 468,\n            'f': \"468\",\n        },\n\"105.00\",\n{\n            'v': 18918238,\n            'f': \"18918238\",\n        },\n\"Asheville, NC\",\n\"Entire homeapt\",\n{\n            'v': NaN,\n            'f': \"NaN\",\n        },\n\"Asheville\",\n\"North Carolina\"],\n [{\n            'v': 469,\n            'f': \"469\",\n        },\n\"99.00\",\n{\n            'v': 18929549,\n            'f': \"18929549\",\n        },\n\"Asheville, NC\",\n\"Entire homeapt\",\n{\n            'v': NaN,\n            'f': \"NaN\",\n        },\n\"Asheville\",\n\"North Carolina\"],\n [{\n            'v': 470,\n            'f': \"470\",\n        },\n\"608.00\",\n{\n            'v': 18974593,\n            'f': \"18974593\",\n        },\n\"Asheville, NC\",\n\"Entire homeapt\",\n{\n            'v': NaN,\n            'f': \"NaN\",\n        },\n\"Asheville\",\n\"North Carolina\"],\n [{\n            'v': 471,\n            'f': \"471\",\n        },\n\"76.00\",\n{\n            'v': 19029460,\n            'f': \"19029460\",\n        },\n\"Hendersonville, NC\",\n\"Entire homeapt\",\n{\n            'v': NaN,\n            'f': \"NaN\",\n        },\n\"Asheville\",\n\"North Carolina\"],\n [{\n            'v': 472,\n            'f': \"472\",\n        },\n\"100.00\",\n{\n            'v': 19032051,\n            'f': \"19032051\",\n        },\n\"Asheville, NC\",\n\"Entire homeapt\",\n{\n            'v': NaN,\n            'f': \"NaN\",\n        },\n\"Asheville\",\n\"North Carolina\"],\n [{\n            'v': 473,\n            'f': \"473\",\n        },\n\"176.00\",\n{\n            'v': 19066373,\n            'f': \"19066373\",\n        },\n\"Asheville, NC\",\n\"Entire homeapt\",\n{\n            'v': NaN,\n            'f': \"NaN\",\n        },\n\"Asheville\",\n\"North Carolina\"],\n [{\n            'v': 474,\n            'f': \"474\",\n        },\n\"110.00\",\n{\n            'v': 19066512,\n            'f': \"19066512\",\n        },\n\"Asheville, NC\",\n\"Entire homeapt\",\n{\n            'v': NaN,\n            'f': \"NaN\",\n        },\n\"Asheville\",\n\"North Carolina\"],\n [{\n            'v': 475,\n            'f': \"475\",\n        },\n\"150.00\",\n{\n            'v': 19077911,\n            'f': \"19077911\",\n        },\nNaN,\n\"Entire homeapt\",\n{\n            'v': NaN,\n            'f': \"NaN\",\n        },\n\"Asheville\",\n\"North Carolina\"],\n [{\n            'v': 476,\n            'f': \"476\",\n        },\n\"80.00\",\n{\n            'v': 19101996,\n            'f': \"19101996\",\n        },\n\"Asheville, NC\",\n\"Entire homeapt\",\n{\n            'v': NaN,\n            'f': \"NaN\",\n        },\n\"Asheville\",\n\"North Carolina\"],\n [{\n            'v': 477,\n            'f': \"477\",\n        },\n\"129.00\",\n{\n            'v': 19118629,\n            'f': \"19118629\",\n        },\n\"Asheville, NC\",\n\"Entire homeapt\",\n{\n            'v': NaN,\n            'f': \"NaN\",\n        },\n\"Asheville\",\n\"North Carolina\"],\n [{\n            'v': 478,\n            'f': \"478\",\n        },\n\"502.00\",\n{\n            'v': 19120555,\n            'f': \"19120555\",\n        },\nNaN,\n\"Entire homeapt\",\n{\n            'v': NaN,\n            'f': \"NaN\",\n        },\n\"Asheville\",\n\"North Carolina\"],\n [{\n            'v': 479,\n            'f': \"479\",\n        },\n\"75.00\",\n{\n            'v': 19135906,\n            'f': \"19135906\",\n        },\n\"Peterborough, Canada\",\n\"Entire homeapt\",\n{\n            'v': NaN,\n            'f': \"NaN\",\n        },\n\"Asheville\",\n\"North Carolina\"],\n [{\n            'v': 480,\n            'f': \"480\",\n        },\n\"89.00\",\n{\n            'v': 19264539,\n            'f': \"19264539\",\n        },\n\"Asheville, NC\",\n\"Entire homeapt\",\n{\n            'v': NaN,\n            'f': \"NaN\",\n        },\n\"Asheville\",\n\"North Carolina\"],\n [{\n            'v': 481,\n            'f': \"481\",\n        },\n\"81.00\",\n{\n            'v': 19273710,\n            'f': \"19273710\",\n        },\n\"Asheville, NC\",\n\"Entire homeapt\",\n{\n            'v': NaN,\n            'f': \"NaN\",\n        },\n\"Asheville\",\n\"North Carolina\"],\n [{\n            'v': 482,\n            'f': \"482\",\n        },\n\"133.00\",\n{\n            'v': 19326768,\n            'f': \"19326768\",\n        },\n\"Asheville, NC\",\n\"Entire homeapt\",\n{\n            'v': NaN,\n            'f': \"NaN\",\n        },\n\"Asheville\",\n\"North Carolina\"],\n [{\n            'v': 483,\n            'f': \"483\",\n        },\n\"175.00\",\n{\n            'v': 19412393,\n            'f': \"19412393\",\n        },\n\"Asheville, NC\",\n\"Entire homeapt\",\n{\n            'v': NaN,\n            'f': \"NaN\",\n        },\n\"Asheville\",\n\"North Carolina\"],\n [{\n            'v': 484,\n            'f': \"484\",\n        },\n\"250.00\",\n{\n            'v': 19439841,\n            'f': \"19439841\",\n        },\n\"Los Angeles, CA\",\n\"Shared room\",\n{\n            'v': NaN,\n            'f': \"NaN\",\n        },\n\"Asheville\",\n\"North Carolina\"],\n [{\n            'v': 485,\n            'f': \"485\",\n        },\n\"170.00\",\n{\n            'v': 19531546,\n            'f': \"19531546\",\n        },\n\"Asheville, NC\",\n\"Entire homeapt\",\n{\n            'v': NaN,\n            'f': \"NaN\",\n        },\n\"Asheville\",\n\"North Carolina\"],\n [{\n            'v': 486,\n            'f': \"486\",\n        },\n\"106.00\",\n{\n            'v': 19548415,\n            'f': \"19548415\",\n        },\n\"Asheville, NC\",\n\"Entire homeapt\",\n{\n            'v': NaN,\n            'f': \"NaN\",\n        },\n\"Asheville\",\n\"North Carolina\"],\n [{\n            'v': 487,\n            'f': \"487\",\n        },\n\"114.00\",\n{\n            'v': 19561946,\n            'f': \"19561946\",\n        },\n\"Savannah, GA\",\n\"Entire homeapt\",\n{\n            'v': NaN,\n            'f': \"NaN\",\n        },\n\"Asheville\",\n\"North Carolina\"],\n [{\n            'v': 488,\n            'f': \"488\",\n        },\n\"159.00\",\n{\n            'v': 19620931,\n            'f': \"19620931\",\n        },\n\"Asheville, NC\",\n\"Entire homeapt\",\n{\n            'v': NaN,\n            'f': \"NaN\",\n        },\n\"Asheville\",\n\"North Carolina\"],\n [{\n            'v': 489,\n            'f': \"489\",\n        },\n\"81.00\",\n{\n            'v': 19643402,\n            'f': \"19643402\",\n        },\n\"Asheville, NC\",\n\"Entire homeapt\",\n{\n            'v': NaN,\n            'f': \"NaN\",\n        },\n\"Asheville\",\n\"North Carolina\"],\n [{\n            'v': 490,\n            'f': \"490\",\n        },\n\"157.00\",\n{\n            'v': 19688771,\n            'f': \"19688771\",\n        },\n\"Asheville, NC\",\n\"Entire homeapt\",\n{\n            'v': NaN,\n            'f': \"NaN\",\n        },\n\"Asheville\",\n\"North Carolina\"],\n [{\n            'v': 491,\n            'f': \"491\",\n        },\n\"175.00\",\n{\n            'v': 19785945,\n            'f': \"19785945\",\n        },\n\"Asheville, NC\",\n\"Entire homeapt\",\n{\n            'v': NaN,\n            'f': \"NaN\",\n        },\n\"Asheville\",\n\"North Carolina\"],\n [{\n            'v': 492,\n            'f': \"492\",\n        },\n\"102.00\",\n{\n            'v': 19787532,\n            'f': \"19787532\",\n        },\nNaN,\n\"Entire homeapt\",\n{\n            'v': NaN,\n            'f': \"NaN\",\n        },\n\"Asheville\",\n\"North Carolina\"],\n [{\n            'v': 493,\n            'f': \"493\",\n        },\n\"49.00\",\n{\n            'v': 19809125,\n            'f': \"19809125\",\n        },\n\"Asheville, NC\",\n\"Entire homeapt\",\n{\n            'v': NaN,\n            'f': \"NaN\",\n        },\n\"Asheville\",\n\"North Carolina\"],\n [{\n            'v': 494,\n            'f': \"494\",\n        },\n\"149.00\",\n{\n            'v': 19858349,\n            'f': \"19858349\",\n        },\n\"Asheville, NC\",\n\"Entire homeapt\",\n{\n            'v': NaN,\n            'f': \"NaN\",\n        },\n\"Asheville\",\n\"North Carolina\"],\n [{\n            'v': 495,\n            'f': \"495\",\n        },\n\"86.00\",\n{\n            'v': 19870831,\n            'f': \"19870831\",\n        },\n\"Asheville, NC\",\n\"Private room\",\n{\n            'v': NaN,\n            'f': \"NaN\",\n        },\n\"Asheville\",\n\"North Carolina\"],\n [{\n            'v': 496,\n            'f': \"496\",\n        },\n\"115.00\",\n{\n            'v': 19921886,\n            'f': \"19921886\",\n        },\n\"Asheville, NC\",\n\"Entire homeapt\",\n{\n            'v': NaN,\n            'f': \"NaN\",\n        },\n\"Asheville\",\n\"North Carolina\"],\n [{\n            'v': 497,\n            'f': \"497\",\n        },\n\"711.00\",\n{\n            'v': 19982717,\n            'f': \"19982717\",\n        },\n\"Asheville, NC\",\n\"Entire homeapt\",\n{\n            'v': NaN,\n            'f': \"NaN\",\n        },\n\"Asheville\",\n\"North Carolina\"],\n [{\n            'v': 498,\n            'f': \"498\",\n        },\n\"79.00\",\n{\n            'v': 19992336,\n            'f': \"19992336\",\n        },\n\"Asheville, NC\",\n\"Private room\",\n{\n            'v': NaN,\n            'f': \"NaN\",\n        },\n\"Asheville\",\n\"North Carolina\"],\n [{\n            'v': 499,\n            'f': \"499\",\n        },\n\"80.00\",\n{\n            'v': 20008452,\n            'f': \"20008452\",\n        },\n\"Asheville, NC\",\n\"Entire homeapt\",\n{\n            'v': NaN,\n            'f': \"NaN\",\n        },\n\"Asheville\",\n\"North Carolina\"],\n [{\n            'v': 500,\n            'f': \"500\",\n        },\n\"285.00\",\n{\n            'v': 20016326,\n            'f': \"20016326\",\n        },\n\"Asheville, NC\",\n\"Entire homeapt\",\n{\n            'v': NaN,\n            'f': \"NaN\",\n        },\n\"Asheville\",\n\"North Carolina\"],\n [{\n            'v': 501,\n            'f': \"501\",\n        },\n\"129.00\",\n{\n            'v': 20036903,\n            'f': \"20036903\",\n        },\n\"Asheville, NC\",\n\"Entire homeapt\",\n{\n            'v': NaN,\n            'f': \"NaN\",\n        },\n\"Asheville\",\n\"North Carolina\"],\n [{\n            'v': 502,\n            'f': \"502\",\n        },\n\"139.00\",\n{\n            'v': 20070593,\n            'f': \"20070593\",\n        },\n\"United States\",\n\"Entire homeapt\",\n{\n            'v': NaN,\n            'f': \"NaN\",\n        },\n\"Asheville\",\n\"North Carolina\"],\n [{\n            'v': 503,\n            'f': \"503\",\n        },\n\"119.00\",\n{\n            'v': 20074883,\n            'f': \"20074883\",\n        },\n\"Asheville, NC\",\n\"Entire homeapt\",\n{\n            'v': NaN,\n            'f': \"NaN\",\n        },\n\"Asheville\",\n\"North Carolina\"],\n [{\n            'v': 504,\n            'f': \"504\",\n        },\n\"175.00\",\n{\n            'v': 20091731,\n            'f': \"20091731\",\n        },\n\"Asheville, NC\",\n\"Entire homeapt\",\n{\n            'v': NaN,\n            'f': \"NaN\",\n        },\n\"Asheville\",\n\"North Carolina\"],\n [{\n            'v': 505,\n            'f': \"505\",\n        },\n\"86.00\",\n{\n            'v': 20120319,\n            'f': \"20120319\",\n        },\n\"Asheville, NC\",\n\"Entire homeapt\",\n{\n            'v': NaN,\n            'f': \"NaN\",\n        },\n\"Asheville\",\n\"North Carolina\"],\n [{\n            'v': 506,\n            'f': \"506\",\n        },\n\"110.00\",\n{\n            'v': 20121078,\n            'f': \"20121078\",\n        },\n\"Asheville, NC\",\n\"Entire homeapt\",\n{\n            'v': NaN,\n            'f': \"NaN\",\n        },\n\"Asheville\",\n\"North Carolina\"],\n [{\n            'v': 507,\n            'f': \"507\",\n        },\n\"115.00\",\n{\n            'v': 20131746,\n            'f': \"20131746\",\n        },\n\"Asheville, NC\",\n\"Entire homeapt\",\n{\n            'v': NaN,\n            'f': \"NaN\",\n        },\n\"Asheville\",\n\"North Carolina\"],\n [{\n            'v': 508,\n            'f': \"508\",\n        },\n\"157.00\",\n{\n            'v': 20146236,\n            'f': \"20146236\",\n        },\n\"Asheville, NC\",\n\"Entire homeapt\",\n{\n            'v': NaN,\n            'f': \"NaN\",\n        },\n\"Asheville\",\n\"North Carolina\"],\n [{\n            'v': 509,\n            'f': \"509\",\n        },\n\"83.00\",\n{\n            'v': 20153704,\n            'f': \"20153704\",\n        },\n\"Asheville, NC\",\n\"Entire homeapt\",\n{\n            'v': NaN,\n            'f': \"NaN\",\n        },\n\"Asheville\",\n\"North Carolina\"],\n [{\n            'v': 510,\n            'f': \"510\",\n        },\n\"103.00\",\n{\n            'v': 20154151,\n            'f': \"20154151\",\n        },\n\"Asheville, NC\",\n\"Entire homeapt\",\n{\n            'v': NaN,\n            'f': \"NaN\",\n        },\n\"Asheville\",\n\"North Carolina\"],\n [{\n            'v': 511,\n            'f': \"511\",\n        },\n\"114.00\",\n{\n            'v': 20174635,\n            'f': \"20174635\",\n        },\n\"Asheville, NC\",\n\"Entire homeapt\",\n{\n            'v': NaN,\n            'f': \"NaN\",\n        },\n\"Asheville\",\n\"North Carolina\"],\n [{\n            'v': 512,\n            'f': \"512\",\n        },\n\"98.00\",\n{\n            'v': 20192369,\n            'f': \"20192369\",\n        },\n\"Asheville, NC\",\n\"Entire homeapt\",\n{\n            'v': NaN,\n            'f': \"NaN\",\n        },\n\"Asheville\",\n\"North Carolina\"],\n [{\n            'v': 513,\n            'f': \"513\",\n        },\n\"115.00\",\n{\n            'v': 20208429,\n            'f': \"20208429\",\n        },\n\"Asheville, NC\",\n\"Entire homeapt\",\n{\n            'v': NaN,\n            'f': \"NaN\",\n        },\n\"Asheville\",\n\"North Carolina\"],\n [{\n            'v': 514,\n            'f': \"514\",\n        },\n\"179.00\",\n{\n            'v': 20231794,\n            'f': \"20231794\",\n        },\n\"Asheville, NC\",\n\"Entire homeapt\",\n{\n            'v': NaN,\n            'f': \"NaN\",\n        },\n\"Asheville\",\n\"North Carolina\"],\n [{\n            'v': 515,\n            'f': \"515\",\n        },\n\"234.00\",\n{\n            'v': 20241154,\n            'f': \"20241154\",\n        },\n\"Asheville, NC\",\n\"Entire homeapt\",\n{\n            'v': NaN,\n            'f': \"NaN\",\n        },\n\"Asheville\",\n\"North Carolina\"],\n [{\n            'v': 516,\n            'f': \"516\",\n        },\n\"156.00\",\n{\n            'v': 20268605,\n            'f': \"20268605\",\n        },\n\"Asheville, NC\",\n\"Entire homeapt\",\n{\n            'v': NaN,\n            'f': \"NaN\",\n        },\n\"Asheville\",\n\"North Carolina\"],\n [{\n            'v': 517,\n            'f': \"517\",\n        },\n\"194.00\",\n{\n            'v': 20319362,\n            'f': \"20319362\",\n        },\n\"Asheville, NC\",\n\"Entire homeapt\",\n{\n            'v': NaN,\n            'f': \"NaN\",\n        },\n\"Asheville\",\n\"North Carolina\"],\n [{\n            'v': 518,\n            'f': \"518\",\n        },\n\"343.00\",\n{\n            'v': 20328686,\n            'f': \"20328686\",\n        },\n\"Asheville, NC\",\n\"Entire homeapt\",\n{\n            'v': NaN,\n            'f': \"NaN\",\n        },\n\"Asheville\",\n\"North Carolina\"],\n [{\n            'v': 519,\n            'f': \"519\",\n        },\n\"123.00\",\n{\n            'v': 20355406,\n            'f': \"20355406\",\n        },\n\"Asheville, NC\",\n\"Entire homeapt\",\n{\n            'v': NaN,\n            'f': \"NaN\",\n        },\n\"Asheville\",\n\"North Carolina\"],\n [{\n            'v': 520,\n            'f': \"520\",\n        },\n\"199.00\",\n{\n            'v': 20362514,\n            'f': \"20362514\",\n        },\n\"Asheville, NC\",\n\"Entire homeapt\",\n{\n            'v': NaN,\n            'f': \"NaN\",\n        },\n\"Asheville\",\n\"North Carolina\"],\n [{\n            'v': 521,\n            'f': \"521\",\n        },\n\"82.00\",\n{\n            'v': 20408452,\n            'f': \"20408452\",\n        },\n\"Woodfin, NC\",\n\"Entire homeapt\",\n{\n            'v': NaN,\n            'f': \"NaN\",\n        },\n\"Asheville\",\n\"North Carolina\"],\n [{\n            'v': 522,\n            'f': \"522\",\n        },\n\"250.00\",\n{\n            'v': 20435375,\n            'f': \"20435375\",\n        },\n\"Asheville, NC\",\n\"Entire homeapt\",\n{\n            'v': NaN,\n            'f': \"NaN\",\n        },\n\"Asheville\",\n\"North Carolina\"],\n [{\n            'v': 523,\n            'f': \"523\",\n        },\n\"55.00\",\n{\n            'v': 20439998,\n            'f': \"20439998\",\n        },\n\"Asheville, NC\",\n\"Entire homeapt\",\n{\n            'v': NaN,\n            'f': \"NaN\",\n        },\n\"Asheville\",\n\"North Carolina\"],\n [{\n            'v': 524,\n            'f': \"524\",\n        },\n\"294.00\",\n{\n            'v': 20441967,\n            'f': \"20441967\",\n        },\n\"Asheville, NC\",\n\"Entire homeapt\",\n{\n            'v': NaN,\n            'f': \"NaN\",\n        },\n\"Asheville\",\n\"North Carolina\"],\n [{\n            'v': 525,\n            'f': \"525\",\n        },\n\"69.00\",\n{\n            'v': 20456656,\n            'f': \"20456656\",\n        },\n\"Asheville, NC\",\n\"Entire homeapt\",\n{\n            'v': NaN,\n            'f': \"NaN\",\n        },\n\"Asheville\",\n\"North Carolina\"],\n [{\n            'v': 526,\n            'f': \"526\",\n        },\n\"181.00\",\n{\n            'v': 20462071,\n            'f': \"20462071\",\n        },\n\"Asheville, NC\",\n\"Entire homeapt\",\n{\n            'v': NaN,\n            'f': \"NaN\",\n        },\n\"Asheville\",\n\"North Carolina\"],\n [{\n            'v': 527,\n            'f': \"527\",\n        },\n\"199.00\",\n{\n            'v': 20473937,\n            'f': \"20473937\",\n        },\n\"Asheville, NC\",\n\"Entire homeapt\",\n{\n            'v': NaN,\n            'f': \"NaN\",\n        },\n\"Asheville\",\n\"North Carolina\"],\n [{\n            'v': 528,\n            'f': \"528\",\n        },\n\"71.00\",\n{\n            'v': 20482319,\n            'f': \"20482319\",\n        },\n\"Asheville, NC\",\n\"Entire homeapt\",\n{\n            'v': NaN,\n            'f': \"NaN\",\n        },\n\"Asheville\",\n\"North Carolina\"],\n [{\n            'v': 529,\n            'f': \"529\",\n        },\n\"76.00\",\n{\n            'v': 20504787,\n            'f': \"20504787\",\n        },\n\"Asheville, NC\",\n\"Entire homeapt\",\n{\n            'v': NaN,\n            'f': \"NaN\",\n        },\n\"Asheville\",\n\"North Carolina\"],\n [{\n            'v': 530,\n            'f': \"530\",\n        },\n\"268.00\",\n{\n            'v': 20542316,\n            'f': \"20542316\",\n        },\n\"Atlanta, GA\",\n\"Entire homeapt\",\n{\n            'v': NaN,\n            'f': \"NaN\",\n        },\n\"Asheville\",\n\"North Carolina\"],\n [{\n            'v': 531,\n            'f': \"531\",\n        },\n\"103.00\",\n{\n            'v': 20583406,\n            'f': \"20583406\",\n        },\n\"Asheville, NC\",\n\"Entire homeapt\",\n{\n            'v': NaN,\n            'f': \"NaN\",\n        },\n\"Asheville\",\n\"North Carolina\"],\n [{\n            'v': 532,\n            'f': \"532\",\n        },\n\"80.00\",\n{\n            'v': 20624327,\n            'f': \"20624327\",\n        },\nNaN,\n\"Entire homeapt\",\n{\n            'v': NaN,\n            'f': \"NaN\",\n        },\n\"Asheville\",\n\"North Carolina\"],\n [{\n            'v': 533,\n            'f': \"533\",\n        },\n\"53.00\",\n{\n            'v': 20624404,\n            'f': \"20624404\",\n        },\n\"Asheville, NC\",\n\"Private room\",\n{\n            'v': NaN,\n            'f': \"NaN\",\n        },\n\"Asheville\",\n\"North Carolina\"],\n [{\n            'v': 534,\n            'f': \"534\",\n        },\n\"473.00\",\n{\n            'v': 20638444,\n            'f': \"20638444\",\n        },\n\"Asheville, NC\",\n\"Entire homeapt\",\n{\n            'v': NaN,\n            'f': \"NaN\",\n        },\n\"Asheville\",\n\"North Carolina\"],\n [{\n            'v': 535,\n            'f': \"535\",\n        },\n\"300.00\",\n{\n            'v': 20653416,\n            'f': \"20653416\",\n        },\n\"United States\",\n\"Entire homeapt\",\n{\n            'v': NaN,\n            'f': \"NaN\",\n        },\n\"Asheville\",\n\"North Carolina\"],\n [{\n            'v': 536,\n            'f': \"536\",\n        },\n\"86.00\",\n{\n            'v': 20663042,\n            'f': \"20663042\",\n        },\n\"Asheville, NC\",\n\"Entire homeapt\",\n{\n            'v': NaN,\n            'f': \"NaN\",\n        },\n\"Asheville\",\n\"North Carolina\"],\n [{\n            'v': 537,\n            'f': \"537\",\n        },\n\"211.00\",\n{\n            'v': 20665144,\n            'f': \"20665144\",\n        },\n\"Asheville, NC\",\n\"Entire homeapt\",\n{\n            'v': NaN,\n            'f': \"NaN\",\n        },\n\"Asheville\",\n\"North Carolina\"],\n [{\n            'v': 538,\n            'f': \"538\",\n        },\n\"101.00\",\n{\n            'v': 20692815,\n            'f': \"20692815\",\n        },\n\"Asheville, NC\",\n\"Entire homeapt\",\n{\n            'v': NaN,\n            'f': \"NaN\",\n        },\n\"Asheville\",\n\"North Carolina\"],\n [{\n            'v': 539,\n            'f': \"539\",\n        },\n\"126.00\",\n{\n            'v': 20695367,\n            'f': \"20695367\",\n        },\n\"Asheville, NC\",\n\"Entire homeapt\",\n{\n            'v': NaN,\n            'f': \"NaN\",\n        },\n\"Asheville\",\n\"North Carolina\"],\n [{\n            'v': 540,\n            'f': \"540\",\n        },\n\"95.00\",\n{\n            'v': 20697183,\n            'f': \"20697183\",\n        },\n\"Asheville, NC\",\n\"Entire homeapt\",\n{\n            'v': NaN,\n            'f': \"NaN\",\n        },\n\"Asheville\",\n\"North Carolina\"],\n [{\n            'v': 541,\n            'f': \"541\",\n        },\n\"90.00\",\n{\n            'v': 20744040,\n            'f': \"20744040\",\n        },\n\"Asheville, NC\",\n\"Entire homeapt\",\n{\n            'v': NaN,\n            'f': \"NaN\",\n        },\n\"Asheville\",\n\"North Carolina\"],\n [{\n            'v': 542,\n            'f': \"542\",\n        },\n\"280.00\",\n{\n            'v': 20744323,\n            'f': \"20744323\",\n        },\n\"Asheville, NC\",\n\"Entire homeapt\",\n{\n            'v': NaN,\n            'f': \"NaN\",\n        },\n\"Asheville\",\n\"North Carolina\"],\n [{\n            'v': 543,\n            'f': \"543\",\n        },\n\"90.00\",\n{\n            'v': 20747532,\n            'f': \"20747532\",\n        },\n\"Burlington, NC\",\n\"Entire homeapt\",\n{\n            'v': NaN,\n            'f': \"NaN\",\n        },\n\"Asheville\",\n\"North Carolina\"],\n [{\n            'v': 544,\n            'f': \"544\",\n        },\n\"132.00\",\n{\n            'v': 20759062,\n            'f': \"20759062\",\n        },\nNaN,\n\"Entire homeapt\",\n{\n            'v': NaN,\n            'f': \"NaN\",\n        },\n\"Asheville\",\n\"North Carolina\"],\n [{\n            'v': 545,\n            'f': \"545\",\n        },\n\"113.00\",\n{\n            'v': 20762155,\n            'f': \"20762155\",\n        },\n\"Asheville, NC\",\n\"Entire homeapt\",\n{\n            'v': NaN,\n            'f': \"NaN\",\n        },\n\"Asheville\",\n\"North Carolina\"],\n [{\n            'v': 546,\n            'f': \"546\",\n        },\n\"196.00\",\n{\n            'v': 20773653,\n            'f': \"20773653\",\n        },\n\"Asheville, NC\",\n\"Entire homeapt\",\n{\n            'v': NaN,\n            'f': \"NaN\",\n        },\n\"Asheville\",\n\"North Carolina\"],\n [{\n            'v': 547,\n            'f': \"547\",\n        },\n\"55.00\",\n{\n            'v': 20785720,\n            'f': \"20785720\",\n        },\n\"Asheville, NC\",\n\"Entire homeapt\",\n{\n            'v': NaN,\n            'f': \"NaN\",\n        },\n\"Asheville\",\n\"North Carolina\"],\n [{\n            'v': 548,\n            'f': \"548\",\n        },\n\"87.00\",\n{\n            'v': 20801691,\n            'f': \"20801691\",\n        },\n\"Asheville, NC\",\n\"Entire homeapt\",\n{\n            'v': NaN,\n            'f': \"NaN\",\n        },\n\"Asheville\",\n\"North Carolina\"],\n [{\n            'v': 549,\n            'f': \"549\",\n        },\n\"112.00\",\n{\n            'v': 20804217,\n            'f': \"20804217\",\n        },\n\"Asheville, NC\",\n\"Entire homeapt\",\n{\n            'v': NaN,\n            'f': \"NaN\",\n        },\n\"Asheville\",\n\"North Carolina\"],\n [{\n            'v': 550,\n            'f': \"550\",\n        },\n\"130.00\",\n{\n            'v': 20804347,\n            'f': \"20804347\",\n        },\n\"Asheville, NC\",\n\"Entire homeapt\",\n{\n            'v': NaN,\n            'f': \"NaN\",\n        },\n\"Asheville\",\n\"North Carolina\"],\n [{\n            'v': 551,\n            'f': \"551\",\n        },\n\"128.00\",\n{\n            'v': 20815440,\n            'f': \"20815440\",\n        },\n\"Asheville, NC\",\n\"Entire homeapt\",\n{\n            'v': NaN,\n            'f': \"NaN\",\n        },\n\"Asheville\",\n\"North Carolina\"],\n [{\n            'v': 552,\n            'f': \"552\",\n        },\n\"103.00\",\n{\n            'v': 20830901,\n            'f': \"20830901\",\n        },\n\"Asheville, NC\",\n\"Entire homeapt\",\n{\n            'v': NaN,\n            'f': \"NaN\",\n        },\n\"Asheville\",\n\"North Carolina\"],\n [{\n            'v': 553,\n            'f': \"553\",\n        },\n\"125.00\",\n{\n            'v': 20834615,\n            'f': \"20834615\",\n        },\n\"Asheville, NC\",\n\"Entire homeapt\",\n{\n            'v': NaN,\n            'f': \"NaN\",\n        },\n\"Asheville\",\n\"North Carolina\"],\n [{\n            'v': 554,\n            'f': \"554\",\n        },\n\"89.00\",\n{\n            'v': 20850669,\n            'f': \"20850669\",\n        },\n\"Asheville, NC\",\n\"Entire homeapt\",\n{\n            'v': NaN,\n            'f': \"NaN\",\n        },\n\"Asheville\",\n\"North Carolina\"],\n [{\n            'v': 555,\n            'f': \"555\",\n        },\n\"109.00\",\n{\n            'v': 20855873,\n            'f': \"20855873\",\n        },\n\"Savannah, GA\",\n\"Entire homeapt\",\n{\n            'v': NaN,\n            'f': \"NaN\",\n        },\n\"Asheville\",\n\"North Carolina\"],\n [{\n            'v': 556,\n            'f': \"556\",\n        },\n\"158.00\",\n{\n            'v': 20858987,\n            'f': \"20858987\",\n        },\n\"Asheville, NC\",\n\"Entire homeapt\",\n{\n            'v': NaN,\n            'f': \"NaN\",\n        },\n\"Asheville\",\n\"North Carolina\"],\n [{\n            'v': 557,\n            'f': \"557\",\n        },\n\"275.00\",\n{\n            'v': 20872849,\n            'f': \"20872849\",\n        },\n\"Columbia, MD\",\n\"Entire homeapt\",\n{\n            'v': NaN,\n            'f': \"NaN\",\n        },\n\"Asheville\",\n\"North Carolina\"],\n [{\n            'v': 558,\n            'f': \"558\",\n        },\n\"138.00\",\n{\n            'v': 20910666,\n            'f': \"20910666\",\n        },\n\"Asheville, NC\",\n\"Entire homeapt\",\n{\n            'v': NaN,\n            'f': \"NaN\",\n        },\n\"Asheville\",\n\"North Carolina\"],\n [{\n            'v': 559,\n            'f': \"559\",\n        },\n\"193.00\",\n{\n            'v': 20916381,\n            'f': \"20916381\",\n        },\n\"Asheville, NC\",\n\"Entire homeapt\",\n{\n            'v': NaN,\n            'f': \"NaN\",\n        },\n\"Asheville\",\n\"North Carolina\"],\n [{\n            'v': 560,\n            'f': \"560\",\n        },\n\"99.00\",\n{\n            'v': 20928043,\n            'f': \"20928043\",\n        },\n\"Asheville, NC\",\n\"Entire homeapt\",\n{\n            'v': NaN,\n            'f': \"NaN\",\n        },\n\"Asheville\",\n\"North Carolina\"],\n [{\n            'v': 561,\n            'f': \"561\",\n        },\n\"140.00\",\n{\n            'v': 20970417,\n            'f': \"20970417\",\n        },\n\"Asheville, NC\",\n\"Entire homeapt\",\n{\n            'v': NaN,\n            'f': \"NaN\",\n        },\n\"Asheville\",\n\"North Carolina\"],\n [{\n            'v': 562,\n            'f': \"562\",\n        },\n\"85.00\",\n{\n            'v': 20994069,\n            'f': \"20994069\",\n        },\n\"Asheville, NC\",\n\"Private room\",\n{\n            'v': NaN,\n            'f': \"NaN\",\n        },\n\"Asheville\",\n\"North Carolina\"],\n [{\n            'v': 563,\n            'f': \"563\",\n        },\n\"55.00\",\n{\n            'v': 20994289,\n            'f': \"20994289\",\n        },\n\"Asheville, NC\",\n\"Private room\",\n{\n            'v': NaN,\n            'f': \"NaN\",\n        },\n\"Asheville\",\n\"North Carolina\"],\n [{\n            'v': 564,\n            'f': \"564\",\n        },\n\"231.00\",\n{\n            'v': 21011400,\n            'f': \"21011400\",\n        },\n\"Asheville, NC\",\n\"Entire homeapt\",\n{\n            'v': NaN,\n            'f': \"NaN\",\n        },\n\"Asheville\",\n\"North Carolina\"],\n [{\n            'v': 565,\n            'f': \"565\",\n        },\n\"234.00\",\n{\n            'v': 21013638,\n            'f': \"21013638\",\n        },\n\"Asheville, NC\",\n\"Entire homeapt\",\n{\n            'v': NaN,\n            'f': \"NaN\",\n        },\n\"Asheville\",\n\"North Carolina\"],\n [{\n            'v': 566,\n            'f': \"566\",\n        },\n\"232.00\",\n{\n            'v': 21028610,\n            'f': \"21028610\",\n        },\n\"Asheville, NC\",\n\"Entire homeapt\",\n{\n            'v': NaN,\n            'f': \"NaN\",\n        },\n\"Asheville\",\n\"North Carolina\"],\n [{\n            'v': 567,\n            'f': \"567\",\n        },\n\"69.00\",\n{\n            'v': 21054722,\n            'f': \"21054722\",\n        },\n\"Asheville, NC\",\n\"Entire homeapt\",\n{\n            'v': NaN,\n            'f': \"NaN\",\n        },\n\"Asheville\",\n\"North Carolina\"],\n [{\n            'v': 568,\n            'f': \"568\",\n        },\n\"136.00\",\n{\n            'v': 21094481,\n            'f': \"21094481\",\n        },\n\"Asheville, NC\",\n\"Entire homeapt\",\n{\n            'v': NaN,\n            'f': \"NaN\",\n        },\n\"Asheville\",\n\"North Carolina\"],\n [{\n            'v': 569,\n            'f': \"569\",\n        },\n\"130.00\",\n{\n            'v': 21104844,\n            'f': \"21104844\",\n        },\n\"Asheville, NC\",\n\"Entire homeapt\",\n{\n            'v': NaN,\n            'f': \"NaN\",\n        },\n\"Asheville\",\n\"North Carolina\"],\n [{\n            'v': 570,\n            'f': \"570\",\n        },\n\"65.00\",\n{\n            'v': 21176027,\n            'f': \"21176027\",\n        },\n\"Asheville, NC\",\n\"Entire homeapt\",\n{\n            'v': NaN,\n            'f': \"NaN\",\n        },\n\"Asheville\",\n\"North Carolina\"],\n [{\n            'v': 571,\n            'f': \"571\",\n        },\n\"176.00\",\n{\n            'v': 21189890,\n            'f': \"21189890\",\n        },\n\"Asheville, NC\",\n\"Entire homeapt\",\n{\n            'v': NaN,\n            'f': \"NaN\",\n        },\n\"Asheville\",\n\"North Carolina\"],\n [{\n            'v': 572,\n            'f': \"572\",\n        },\n\"62.00\",\n{\n            'v': 21203344,\n            'f': \"21203344\",\n        },\n\"North Carolina, United States\",\n\"Entire homeapt\",\n{\n            'v': NaN,\n            'f': \"NaN\",\n        },\n\"Asheville\",\n\"North Carolina\"],\n [{\n            'v': 573,\n            'f': \"573\",\n        },\n\"154.00\",\n{\n            'v': 21212588,\n            'f': \"21212588\",\n        },\n\"Asheville, NC\",\n\"Entire homeapt\",\n{\n            'v': NaN,\n            'f': \"NaN\",\n        },\n\"Asheville\",\n\"North Carolina\"],\n [{\n            'v': 574,\n            'f': \"574\",\n        },\n\"165.00\",\n{\n            'v': 21214062,\n            'f': \"21214062\",\n        },\n\"Asheville, NC\",\n\"Entire homeapt\",\n{\n            'v': NaN,\n            'f': \"NaN\",\n        },\n\"Asheville\",\n\"North Carolina\"],\n [{\n            'v': 575,\n            'f': \"575\",\n        },\n\"70.00\",\n{\n            'v': 21236709,\n            'f': \"21236709\",\n        },\n\"Asheville, NC\",\n\"Private room\",\n{\n            'v': NaN,\n            'f': \"NaN\",\n        },\n\"Asheville\",\n\"North Carolina\"],\n [{\n            'v': 576,\n            'f': \"576\",\n        },\n\"98.00\",\n{\n            'v': 21253016,\n            'f': \"21253016\",\n        },\n\"Asheville, NC\",\n\"Entire homeapt\",\n{\n            'v': NaN,\n            'f': \"NaN\",\n        },\n\"Asheville\",\n\"North Carolina\"],\n [{\n            'v': 577,\n            'f': \"577\",\n        },\n\"26.00\",\n{\n            'v': 21272098,\n            'f': \"21272098\",\n        },\n\"Asheville, NC\",\n\"Private room\",\n{\n            'v': NaN,\n            'f': \"NaN\",\n        },\n\"Asheville\",\n\"North Carolina\"],\n [{\n            'v': 578,\n            'f': \"578\",\n        },\n\"358.00\",\n{\n            'v': 21278647,\n            'f': \"21278647\",\n        },\n\"Asheville, NC\",\n\"Entire homeapt\",\n{\n            'v': NaN,\n            'f': \"NaN\",\n        },\n\"Asheville\",\n\"North Carolina\"],\n [{\n            'v': 579,\n            'f': \"579\",\n        },\n\"89.00\",\n{\n            'v': 21280708,\n            'f': \"21280708\",\n        },\n\"Charleston, SC\",\n\"Entire homeapt\",\n{\n            'v': NaN,\n            'f': \"NaN\",\n        },\n\"Asheville\",\n\"North Carolina\"],\n [{\n            'v': 580,\n            'f': \"580\",\n        },\n\"88.00\",\n{\n            'v': 21292861,\n            'f': \"21292861\",\n        },\n\"Asheville, NC\",\n\"Entire homeapt\",\n{\n            'v': NaN,\n            'f': \"NaN\",\n        },\n\"Asheville\",\n\"North Carolina\"],\n [{\n            'v': 581,\n            'f': \"581\",\n        },\n\"76.00\",\n{\n            'v': 21297231,\n            'f': \"21297231\",\n        },\nNaN,\n\"Entire homeapt\",\n{\n            'v': NaN,\n            'f': \"NaN\",\n        },\n\"Asheville\",\n\"North Carolina\"],\n [{\n            'v': 582,\n            'f': \"582\",\n        },\n\"92.00\",\n{\n            'v': 21312568,\n            'f': \"21312568\",\n        },\n\"Asheville, NC\",\n\"Entire homeapt\",\n{\n            'v': NaN,\n            'f': \"NaN\",\n        },\n\"Asheville\",\n\"North Carolina\"],\n [{\n            'v': 583,\n            'f': \"583\",\n        },\n\"87.00\",\n{\n            'v': 21345127,\n            'f': \"21345127\",\n        },\n\"Asheville, NC\",\n\"Private room\",\n{\n            'v': NaN,\n            'f': \"NaN\",\n        },\n\"Asheville\",\n\"North Carolina\"],\n [{\n            'v': 584,\n            'f': \"584\",\n        },\n\"113.00\",\n{\n            'v': 21354161,\n            'f': \"21354161\",\n        },\n\"Rocky Mount, NC\",\n\"Entire homeapt\",\n{\n            'v': NaN,\n            'f': \"NaN\",\n        },\n\"Asheville\",\n\"North Carolina\"],\n [{\n            'v': 585,\n            'f': \"585\",\n        },\n\"250.00\",\n{\n            'v': 21364022,\n            'f': \"21364022\",\n        },\n\"Asheville, NC\",\n\"Private room\",\n{\n            'v': NaN,\n            'f': \"NaN\",\n        },\n\"Asheville\",\n\"North Carolina\"],\n [{\n            'v': 586,\n            'f': \"586\",\n        },\n\"409.00\",\n{\n            'v': 21382558,\n            'f': \"21382558\",\n        },\n\"Asheville, NC\",\n\"Entire homeapt\",\n{\n            'v': NaN,\n            'f': \"NaN\",\n        },\n\"Asheville\",\n\"North Carolina\"],\n [{\n            'v': 587,\n            'f': \"587\",\n        },\n\"88.00\",\n{\n            'v': 21383423,\n            'f': \"21383423\",\n        },\n\"Asheville, NC\",\n\"Entire homeapt\",\n{\n            'v': NaN,\n            'f': \"NaN\",\n        },\n\"Asheville\",\n\"North Carolina\"],\n [{\n            'v': 588,\n            'f': \"588\",\n        },\n\"72.00\",\n{\n            'v': 21399365,\n            'f': \"21399365\",\n        },\n\"Arden, NC\",\n\"Entire homeapt\",\n{\n            'v': NaN,\n            'f': \"NaN\",\n        },\n\"Asheville\",\n\"North Carolina\"],\n [{\n            'v': 589,\n            'f': \"589\",\n        },\n\"34.00\",\n{\n            'v': 21432436,\n            'f': \"21432436\",\n        },\n\"Asheville, NC\",\n\"Private room\",\n{\n            'v': NaN,\n            'f': \"NaN\",\n        },\n\"Asheville\",\n\"North Carolina\"],\n [{\n            'v': 590,\n            'f': \"590\",\n        },\n\"118.00\",\n{\n            'v': 21437451,\n            'f': \"21437451\",\n        },\n\"Asheville, NC\",\n\"Entire homeapt\",\n{\n            'v': NaN,\n            'f': \"NaN\",\n        },\n\"Asheville\",\n\"North Carolina\"],\n [{\n            'v': 591,\n            'f': \"591\",\n        },\n\"115.00\",\n{\n            'v': 21449558,\n            'f': \"21449558\",\n        },\n\"Asheville, NC\",\n\"Entire homeapt\",\n{\n            'v': NaN,\n            'f': \"NaN\",\n        },\n\"Asheville\",\n\"North Carolina\"],\n [{\n            'v': 592,\n            'f': \"592\",\n        },\n\"135.00\",\n{\n            'v': 21456384,\n            'f': \"21456384\",\n        },\n\"Asheville, NC\",\n\"Entire homeapt\",\n{\n            'v': NaN,\n            'f': \"NaN\",\n        },\n\"Asheville\",\n\"North Carolina\"],\n [{\n            'v': 593,\n            'f': \"593\",\n        },\n\"70.00\",\n{\n            'v': 21502620,\n            'f': \"21502620\",\n        },\n\"Asheville, NC\",\n\"Entire homeapt\",\n{\n            'v': NaN,\n            'f': \"NaN\",\n        },\n\"Asheville\",\n\"North Carolina\"],\n [{\n            'v': 594,\n            'f': \"594\",\n        },\n\"100.00\",\n{\n            'v': 21544113,\n            'f': \"21544113\",\n        },\nNaN,\n\"Entire homeapt\",\n{\n            'v': NaN,\n            'f': \"NaN\",\n        },\n\"Asheville\",\n\"North Carolina\"],\n [{\n            'v': 595,\n            'f': \"595\",\n        },\n\"95.00\",\n{\n            'v': 21566026,\n            'f': \"21566026\",\n        },\nNaN,\n\"Entire homeapt\",\n{\n            'v': NaN,\n            'f': \"NaN\",\n        },\n\"Asheville\",\n\"North Carolina\"],\n [{\n            'v': 596,\n            'f': \"596\",\n        },\n\"260.00\",\n{\n            'v': 21580160,\n            'f': \"21580160\",\n        },\n\"United States\",\n\"Entire homeapt\",\n{\n            'v': NaN,\n            'f': \"NaN\",\n        },\n\"Asheville\",\n\"North Carolina\"],\n [{\n            'v': 597,\n            'f': \"597\",\n        },\n\"138.00\",\n{\n            'v': 21591133,\n            'f': \"21591133\",\n        },\n\"Asheville, NC\",\n\"Entire homeapt\",\n{\n            'v': NaN,\n            'f': \"NaN\",\n        },\n\"Asheville\",\n\"North Carolina\"],\n [{\n            'v': 598,\n            'f': \"598\",\n        },\n\"106.00\",\n{\n            'v': 21631995,\n            'f': \"21631995\",\n        },\n\"Asheville, NC\",\n\"Entire homeapt\",\n{\n            'v': NaN,\n            'f': \"NaN\",\n        },\n\"Asheville\",\n\"North Carolina\"],\n [{\n            'v': 599,\n            'f': \"599\",\n        },\n\"95.00\",\n{\n            'v': 21640556,\n            'f': \"21640556\",\n        },\n\"Asheville, NC\",\n\"Entire homeapt\",\n{\n            'v': NaN,\n            'f': \"NaN\",\n        },\n\"Asheville\",\n\"North Carolina\"],\n [{\n            'v': 600,\n            'f': \"600\",\n        },\n\"254.00\",\n{\n            'v': 21682891,\n            'f': \"21682891\",\n        },\n\"Asheville, NC\",\n\"Entire homeapt\",\n{\n            'v': NaN,\n            'f': \"NaN\",\n        },\n\"Asheville\",\n\"North Carolina\"],\n [{\n            'v': 601,\n            'f': \"601\",\n        },\n\"70.00\",\n{\n            'v': 21693285,\n            'f': \"21693285\",\n        },\n\"Asheville, NC\",\n\"Entire homeapt\",\n{\n            'v': NaN,\n            'f': \"NaN\",\n        },\n\"Asheville\",\n\"North Carolina\"],\n [{\n            'v': 602,\n            'f': \"602\",\n        },\n\"385.00\",\n{\n            'v': 21709922,\n            'f': \"21709922\",\n        },\n\"Asheville, NC\",\n\"Entire homeapt\",\n{\n            'v': NaN,\n            'f': \"NaN\",\n        },\n\"Asheville\",\n\"North Carolina\"],\n [{\n            'v': 603,\n            'f': \"603\",\n        },\n\"113.00\",\n{\n            'v': 21748228,\n            'f': \"21748228\",\n        },\n\"Asheville, NC\",\n\"Entire homeapt\",\n{\n            'v': NaN,\n            'f': \"NaN\",\n        },\n\"Asheville\",\n\"North Carolina\"],\n [{\n            'v': 604,\n            'f': \"604\",\n        },\n\"165.00\",\n{\n            'v': 21784784,\n            'f': \"21784784\",\n        },\n\"Asheville, NC\",\n\"Entire homeapt\",\n{\n            'v': NaN,\n            'f': \"NaN\",\n        },\n\"Asheville\",\n\"North Carolina\"],\n [{\n            'v': 605,\n            'f': \"605\",\n        },\n\"95.00\",\n{\n            'v': 21798869,\n            'f': \"21798869\",\n        },\n\"Asheville, NC\",\n\"Entire homeapt\",\n{\n            'v': NaN,\n            'f': \"NaN\",\n        },\n\"Asheville\",\n\"North Carolina\"],\n [{\n            'v': 606,\n            'f': \"606\",\n        },\n\"140.00\",\n{\n            'v': 21829016,\n            'f': \"21829016\",\n        },\n\"Long Beach, CA\",\n\"Entire homeapt\",\n{\n            'v': NaN,\n            'f': \"NaN\",\n        },\n\"Asheville\",\n\"North Carolina\"],\n [{\n            'v': 607,\n            'f': \"607\",\n        },\n\"142.00\",\n{\n            'v': 21836696,\n            'f': \"21836696\",\n        },\n\"Asheville, NC\",\n\"Entire homeapt\",\n{\n            'v': NaN,\n            'f': \"NaN\",\n        },\n\"Asheville\",\n\"North Carolina\"],\n [{\n            'v': 608,\n            'f': \"608\",\n        },\n\"90.00\",\n{\n            'v': 21850640,\n            'f': \"21850640\",\n        },\n\"Asheville, NC\",\n\"Entire homeapt\",\n{\n            'v': NaN,\n            'f': \"NaN\",\n        },\n\"Asheville\",\n\"North Carolina\"],\n [{\n            'v': 609,\n            'f': \"609\",\n        },\n\"236.00\",\n{\n            'v': 21894298,\n            'f': \"21894298\",\n        },\n\"Weaverville, NC\",\n\"Entire homeapt\",\n{\n            'v': NaN,\n            'f': \"NaN\",\n        },\n\"Asheville\",\n\"North Carolina\"],\n [{\n            'v': 610,\n            'f': \"610\",\n        },\n\"150.00\",\n{\n            'v': 21911184,\n            'f': \"21911184\",\n        },\n\"Fletcher, NC\",\n\"Entire homeapt\",\n{\n            'v': NaN,\n            'f': \"NaN\",\n        },\n\"Asheville\",\n\"North Carolina\"],\n [{\n            'v': 611,\n            'f': \"611\",\n        },\n\"82.00\",\n{\n            'v': 21947972,\n            'f': \"21947972\",\n        },\n\"Arden, NC\",\n\"Entire homeapt\",\n{\n            'v': NaN,\n            'f': \"NaN\",\n        },\n\"Asheville\",\n\"North Carolina\"],\n [{\n            'v': 612,\n            'f': \"612\",\n        },\n\"60.00\",\n{\n            'v': 22035029,\n            'f': \"22035029\",\n        },\n\"Asheville, NC\",\n\"Entire homeapt\",\n{\n            'v': NaN,\n            'f': \"NaN\",\n        },\n\"Asheville\",\n\"North Carolina\"],\n [{\n            'v': 613,\n            'f': \"613\",\n        },\n\"56.00\",\n{\n            'v': 22049704,\n            'f': \"22049704\",\n        },\n\"Asheville, NC\",\n\"Entire homeapt\",\n{\n            'v': NaN,\n            'f': \"NaN\",\n        },\n\"Asheville\",\n\"North Carolina\"],\n [{\n            'v': 614,\n            'f': \"614\",\n        },\n\"160.00\",\n{\n            'v': 22050248,\n            'f': \"22050248\",\n        },\nNaN,\n\"Entire homeapt\",\n{\n            'v': NaN,\n            'f': \"NaN\",\n        },\n\"Asheville\",\n\"North Carolina\"],\n [{\n            'v': 615,\n            'f': \"615\",\n        },\n\"48.00\",\n{\n            'v': 22063379,\n            'f': \"22063379\",\n        },\n\"Asheville, NC\",\n\"Private room\",\n{\n            'v': NaN,\n            'f': \"NaN\",\n        },\n\"Asheville\",\n\"North Carolina\"],\n [{\n            'v': 616,\n            'f': \"616\",\n        },\n\"90.00\",\n{\n            'v': 22095619,\n            'f': \"22095619\",\n        },\n\"Savannah, GA\",\n\"Entire homeapt\",\n{\n            'v': NaN,\n            'f': \"NaN\",\n        },\n\"Asheville\",\n\"North Carolina\"],\n [{\n            'v': 617,\n            'f': \"617\",\n        },\n\"153.00\",\n{\n            'v': 22107175,\n            'f': \"22107175\",\n        },\n\"Asheville, NC\",\n\"Entire homeapt\",\n{\n            'v': NaN,\n            'f': \"NaN\",\n        },\n\"Asheville\",\n\"North Carolina\"],\n [{\n            'v': 618,\n            'f': \"618\",\n        },\n\"205.00\",\n{\n            'v': 22114590,\n            'f': \"22114590\",\n        },\n\"Asheville, NC\",\n\"Private room\",\n{\n            'v': NaN,\n            'f': \"NaN\",\n        },\n\"Asheville\",\n\"North Carolina\"],\n [{\n            'v': 619,\n            'f': \"619\",\n        },\n\"323.00\",\n{\n            'v': 22119778,\n            'f': \"22119778\",\n        },\n\"Asheville, NC\",\n\"Private room\",\n{\n            'v': NaN,\n            'f': \"NaN\",\n        },\n\"Asheville\",\n\"North Carolina\"],\n [{\n            'v': 620,\n            'f': \"620\",\n        },\n\"249.00\",\n{\n            'v': 22151438,\n            'f': \"22151438\",\n        },\n\"Asheville, NC\",\n\"Entire homeapt\",\n{\n            'v': NaN,\n            'f': \"NaN\",\n        },\n\"Asheville\",\n\"North Carolina\"],\n [{\n            'v': 621,\n            'f': \"621\",\n        },\n\"105.00\",\n{\n            'v': 22163415,\n            'f': \"22163415\",\n        },\n\"Asheville, NC\",\n\"Entire homeapt\",\n{\n            'v': NaN,\n            'f': \"NaN\",\n        },\n\"Asheville\",\n\"North Carolina\"],\n [{\n            'v': 622,\n            'f': \"622\",\n        },\n\"159.00\",\n{\n            'v': 22224397,\n            'f': \"22224397\",\n        },\n\"Asheville, NC\",\n\"Entire homeapt\",\n{\n            'v': NaN,\n            'f': \"NaN\",\n        },\n\"Asheville\",\n\"North Carolina\"],\n [{\n            'v': 623,\n            'f': \"623\",\n        },\n\"125.00\",\n{\n            'v': 22306380,\n            'f': \"22306380\",\n        },\n\"Asheville, NC\",\n\"Entire homeapt\",\n{\n            'v': NaN,\n            'f': \"NaN\",\n        },\n\"Asheville\",\n\"North Carolina\"],\n [{\n            'v': 624,\n            'f': \"624\",\n        },\n\"225.00\",\n{\n            'v': 22308959,\n            'f': \"22308959\",\n        },\n\"Asheville, NC\",\n\"Entire homeapt\",\n{\n            'v': NaN,\n            'f': \"NaN\",\n        },\n\"Asheville\",\n\"North Carolina\"],\n [{\n            'v': 625,\n            'f': \"625\",\n        },\n\"190.00\",\n{\n            'v': 22317485,\n            'f': \"22317485\",\n        },\n\"Asheville, NC\",\n\"Entire homeapt\",\n{\n            'v': NaN,\n            'f': \"NaN\",\n        },\n\"Asheville\",\n\"North Carolina\"],\n [{\n            'v': 626,\n            'f': \"626\",\n        },\n\"51.00\",\n{\n            'v': 22326909,\n            'f': \"22326909\",\n        },\n\"Asheville, NC\",\n\"Entire homeapt\",\n{\n            'v': NaN,\n            'f': \"NaN\",\n        },\n\"Asheville\",\n\"North Carolina\"],\n [{\n            'v': 627,\n            'f': \"627\",\n        },\n\"50.00\",\n{\n            'v': 22351697,\n            'f': \"22351697\",\n        },\n\"Asheville, NC\",\n\"Entire homeapt\",\n{\n            'v': NaN,\n            'f': \"NaN\",\n        },\n\"Asheville\",\n\"North Carolina\"],\n [{\n            'v': 628,\n            'f': \"628\",\n        },\n\"72.00\",\n{\n            'v': 22360186,\n            'f': \"22360186\",\n        },\nNaN,\n\"Entire homeapt\",\n{\n            'v': NaN,\n            'f': \"NaN\",\n        },\n\"Asheville\",\n\"North Carolina\"],\n [{\n            'v': 629,\n            'f': \"629\",\n        },\n\"85.00\",\n{\n            'v': 22408602,\n            'f': \"22408602\",\n        },\nNaN,\n\"Entire homeapt\",\n{\n            'v': NaN,\n            'f': \"NaN\",\n        },\n\"Asheville\",\n\"North Carolina\"],\n [{\n            'v': 630,\n            'f': \"630\",\n        },\n\"54.00\",\n{\n            'v': 22437203,\n            'f': \"22437203\",\n        },\n\"Asheville, NC\",\n\"Private room\",\n{\n            'v': NaN,\n            'f': \"NaN\",\n        },\n\"Asheville\",\n\"North Carolina\"],\n [{\n            'v': 631,\n            'f': \"631\",\n        },\n\"44.00\",\n{\n            'v': 22437447,\n            'f': \"22437447\",\n        },\n\"Asheville, NC\",\n\"Private room\",\n{\n            'v': NaN,\n            'f': \"NaN\",\n        },\n\"Asheville\",\n\"North Carolina\"],\n [{\n            'v': 632,\n            'f': \"632\",\n        },\n\"120.00\",\n{\n            'v': 22461969,\n            'f': \"22461969\",\n        },\n\"Asheville, NC\",\n\"Entire homeapt\",\n{\n            'v': NaN,\n            'f': \"NaN\",\n        },\n\"Asheville\",\n\"North Carolina\"],\n [{\n            'v': 633,\n            'f': \"633\",\n        },\n\"82.00\",\n{\n            'v': 22486185,\n            'f': \"22486185\",\n        },\n\"Asheville, NC\",\n\"Entire homeapt\",\n{\n            'v': NaN,\n            'f': \"NaN\",\n        },\n\"Asheville\",\n\"North Carolina\"],\n [{\n            'v': 634,\n            'f': \"634\",\n        },\n\"140.00\",\n{\n            'v': 22510926,\n            'f': \"22510926\",\n        },\n\"Baltimore, MD\",\n\"Private room\",\n{\n            'v': NaN,\n            'f': \"NaN\",\n        },\n\"Asheville\",\n\"North Carolina\"],\n [{\n            'v': 635,\n            'f': \"635\",\n        },\n\"129.00\",\n{\n            'v': 22511514,\n            'f': \"22511514\",\n        },\n\"Asheville, NC\",\n\"Entire homeapt\",\n{\n            'v': NaN,\n            'f': \"NaN\",\n        },\n\"Asheville\",\n\"North Carolina\"],\n [{\n            'v': 636,\n            'f': \"636\",\n        },\n\"106.00\",\n{\n            'v': 22517744,\n            'f': \"22517744\",\n        },\n\"Asheville, NC\",\n\"Entire homeapt\",\n{\n            'v': NaN,\n            'f': \"NaN\",\n        },\n\"Asheville\",\n\"North Carolina\"],\n [{\n            'v': 637,\n            'f': \"637\",\n        },\n\"102.00\",\n{\n            'v': 22530746,\n            'f': \"22530746\",\n        },\n\"Asheville, NC\",\n\"Entire homeapt\",\n{\n            'v': NaN,\n            'f': \"NaN\",\n        },\n\"Asheville\",\n\"North Carolina\"],\n [{\n            'v': 638,\n            'f': \"638\",\n        },\n\"89.00\",\n{\n            'v': 22584773,\n            'f': \"22584773\",\n        },\n\"Asheville, NC\",\n\"Entire homeapt\",\n{\n            'v': NaN,\n            'f': \"NaN\",\n        },\n\"Asheville\",\n\"North Carolina\"],\n [{\n            'v': 639,\n            'f': \"639\",\n        },\n\"96.00\",\n{\n            'v': 22589049,\n            'f': \"22589049\",\n        },\n\"Asheville, NC\",\n\"Entire homeapt\",\n{\n            'v': NaN,\n            'f': \"NaN\",\n        },\n\"Asheville\",\n\"North Carolina\"],\n [{\n            'v': 640,\n            'f': \"640\",\n        },\n\"66.00\",\n{\n            'v': 22594761,\n            'f': \"22594761\",\n        },\n\"Asheville, NC\",\n\"Entire homeapt\",\n{\n            'v': NaN,\n            'f': \"NaN\",\n        },\n\"Asheville\",\n\"North Carolina\"],\n [{\n            'v': 641,\n            'f': \"641\",\n        },\n\"332.00\",\n{\n            'v': 22683936,\n            'f': \"22683936\",\n        },\n\"Asheville, NC\",\n\"Private room\",\n{\n            'v': NaN,\n            'f': \"NaN\",\n        },\n\"Asheville\",\n\"North Carolina\"],\n [{\n            'v': 642,\n            'f': \"642\",\n        },\n\"242.00\",\n{\n            'v': 22684105,\n            'f': \"22684105\",\n        },\n\"Asheville, NC\",\n\"Private room\",\n{\n            'v': NaN,\n            'f': \"NaN\",\n        },\n\"Asheville\",\n\"North Carolina\"],\n [{\n            'v': 643,\n            'f': \"643\",\n        },\n\"192.00\",\n{\n            'v': 22684155,\n            'f': \"22684155\",\n        },\n\"Asheville, NC\",\n\"Private room\",\n{\n            'v': NaN,\n            'f': \"NaN\",\n        },\n\"Asheville\",\n\"North Carolina\"],\n [{\n            'v': 644,\n            'f': \"644\",\n        },\n\"106.00\",\n{\n            'v': 22740737,\n            'f': \"22740737\",\n        },\n\"Asheville, NC\",\n\"Entire homeapt\",\n{\n            'v': NaN,\n            'f': \"NaN\",\n        },\n\"Asheville\",\n\"North Carolina\"],\n [{\n            'v': 645,\n            'f': \"645\",\n        },\n\"125.00\",\n{\n            'v': 22773505,\n            'f': \"22773505\",\n        },\n\"Asheville, NC\",\n\"Entire homeapt\",\n{\n            'v': NaN,\n            'f': \"NaN\",\n        },\n\"Asheville\",\n\"North Carolina\"],\n [{\n            'v': 646,\n            'f': \"646\",\n        },\n\"143.00\",\n{\n            'v': 22792399,\n            'f': \"22792399\",\n        },\n\"Asheville, NC\",\n\"Entire homeapt\",\n{\n            'v': NaN,\n            'f': \"NaN\",\n        },\n\"Asheville\",\n\"North Carolina\"],\n [{\n            'v': 647,\n            'f': \"647\",\n        },\n\"85.00\",\n{\n            'v': 22813165,\n            'f': \"22813165\",\n        },\nNaN,\n\"Private room\",\n{\n            'v': NaN,\n            'f': \"NaN\",\n        },\n\"Asheville\",\n\"North Carolina\"],\n [{\n            'v': 648,\n            'f': \"648\",\n        },\n\"84.00\",\n{\n            'v': 22876677,\n            'f': \"22876677\",\n        },\nNaN,\n\"Entire homeapt\",\n{\n            'v': NaN,\n            'f': \"NaN\",\n        },\n\"Asheville\",\n\"North Carolina\"],\n [{\n            'v': 649,\n            'f': \"649\",\n        },\n\"122.00\",\n{\n            'v': 22921667,\n            'f': \"22921667\",\n        },\n\"Asheville, NC\",\n\"Entire homeapt\",\n{\n            'v': NaN,\n            'f': \"NaN\",\n        },\n\"Asheville\",\n\"North Carolina\"],\n [{\n            'v': 650,\n            'f': \"650\",\n        },\n\"110.00\",\n{\n            'v': 22924150,\n            'f': \"22924150\",\n        },\n\"Asheville, NC\",\n\"Entire homeapt\",\n{\n            'v': NaN,\n            'f': \"NaN\",\n        },\n\"Asheville\",\n\"North Carolina\"],\n [{\n            'v': 651,\n            'f': \"651\",\n        },\n\"92.00\",\n{\n            'v': 22944749,\n            'f': \"22944749\",\n        },\n\"Asheville, NC\",\n\"Entire homeapt\",\n{\n            'v': NaN,\n            'f': \"NaN\",\n        },\n\"Asheville\",\n\"North Carolina\"],\n [{\n            'v': 652,\n            'f': \"652\",\n        },\n\"115.00\",\n{\n            'v': 22950161,\n            'f': \"22950161\",\n        },\n\"Fletcher, NC\",\n\"Entire homeapt\",\n{\n            'v': NaN,\n            'f': \"NaN\",\n        },\n\"Asheville\",\n\"North Carolina\"],\n [{\n            'v': 653,\n            'f': \"653\",\n        },\n\"107.00\",\n{\n            'v': 22984192,\n            'f': \"22984192\",\n        },\n\"Asheville, NC\",\n\"Entire homeapt\",\n{\n            'v': NaN,\n            'f': \"NaN\",\n        },\n\"Asheville\",\n\"North Carolina\"],\n [{\n            'v': 654,\n            'f': \"654\",\n        },\n\"61.00\",\n{\n            'v': 22985524,\n            'f': \"22985524\",\n        },\n\"Asheville, NC\",\n\"Private room\",\n{\n            'v': NaN,\n            'f': \"NaN\",\n        },\n\"Asheville\",\n\"North Carolina\"],\n [{\n            'v': 655,\n            'f': \"655\",\n        },\n\"318.00\",\n{\n            'v': 23017092,\n            'f': \"23017092\",\n        },\n\"Asheville, NC\",\n\"Entire homeapt\",\n{\n            'v': NaN,\n            'f': \"NaN\",\n        },\n\"Asheville\",\n\"North Carolina\"],\n [{\n            'v': 656,\n            'f': \"656\",\n        },\n\"150.00\",\n{\n            'v': 23025024,\n            'f': \"23025024\",\n        },\n\"Asheville, NC\",\n\"Entire homeapt\",\n{\n            'v': NaN,\n            'f': \"NaN\",\n        },\n\"Asheville\",\n\"North Carolina\"],\n [{\n            'v': 657,\n            'f': \"657\",\n        },\n\"37.00\",\n{\n            'v': 23068704,\n            'f': \"23068704\",\n        },\n\"United States\",\n\"Private room\",\n{\n            'v': NaN,\n            'f': \"NaN\",\n        },\n\"Asheville\",\n\"North Carolina\"],\n [{\n            'v': 658,\n            'f': \"658\",\n        },\n\"79.00\",\n{\n            'v': 23076921,\n            'f': \"23076921\",\n        },\n\"Asheville, NC\",\n\"Private room\",\n{\n            'v': NaN,\n            'f': \"NaN\",\n        },\n\"Asheville\",\n\"North Carolina\"],\n [{\n            'v': 659,\n            'f': \"659\",\n        },\n\"81.00\",\n{\n            'v': 23084647,\n            'f': \"23084647\",\n        },\n\"Asheville, NC\",\n\"Private room\",\n{\n            'v': NaN,\n            'f': \"NaN\",\n        },\n\"Asheville\",\n\"North Carolina\"],\n [{\n            'v': 660,\n            'f': \"660\",\n        },\n\"156.00\",\n{\n            'v': 23150406,\n            'f': \"23150406\",\n        },\n\"Asheville, NC\",\n\"Entire homeapt\",\n{\n            'v': NaN,\n            'f': \"NaN\",\n        },\n\"Asheville\",\n\"North Carolina\"],\n [{\n            'v': 661,\n            'f': \"661\",\n        },\n\"136.00\",\n{\n            'v': 23198745,\n            'f': \"23198745\",\n        },\n\"Asheville, NC\",\n\"Entire homeapt\",\n{\n            'v': NaN,\n            'f': \"NaN\",\n        },\n\"Asheville\",\n\"North Carolina\"],\n [{\n            'v': 662,\n            'f': \"662\",\n        },\n\"145.00\",\n{\n            'v': 23216051,\n            'f': \"23216051\",\n        },\n\"Asheville, NC\",\n\"Entire homeapt\",\n{\n            'v': NaN,\n            'f': \"NaN\",\n        },\n\"Asheville\",\n\"North Carolina\"],\n [{\n            'v': 663,\n            'f': \"663\",\n        },\n\"114.00\",\n{\n            'v': 23234938,\n            'f': \"23234938\",\n        },\n\"Asheville, NC\",\n\"Entire homeapt\",\n{\n            'v': NaN,\n            'f': \"NaN\",\n        },\n\"Asheville\",\n\"North Carolina\"],\n [{\n            'v': 664,\n            'f': \"664\",\n        },\n\"83.00\",\n{\n            'v': 23254729,\n            'f': \"23254729\",\n        },\n\"Asheville, NC\",\n\"Private room\",\n{\n            'v': NaN,\n            'f': \"NaN\",\n        },\n\"Asheville\",\n\"North Carolina\"],\n [{\n            'v': 665,\n            'f': \"665\",\n        },\n\"91.00\",\n{\n            'v': 23285263,\n            'f': \"23285263\",\n        },\n\"Asheville, NC\",\n\"Entire homeapt\",\n{\n            'v': NaN,\n            'f': \"NaN\",\n        },\n\"Asheville\",\n\"North Carolina\"],\n [{\n            'v': 666,\n            'f': \"666\",\n        },\n\"162.00\",\n{\n            'v': 23335956,\n            'f': \"23335956\",\n        },\n\"Asheville, NC\",\n\"Entire homeapt\",\n{\n            'v': NaN,\n            'f': \"NaN\",\n        },\n\"Asheville\",\n\"North Carolina\"],\n [{\n            'v': 667,\n            'f': \"667\",\n        },\n\"159.00\",\n{\n            'v': 23343151,\n            'f': \"23343151\",\n        },\n\"Asheville, NC\",\n\"Entire homeapt\",\n{\n            'v': NaN,\n            'f': \"NaN\",\n        },\n\"Asheville\",\n\"North Carolina\"],\n [{\n            'v': 668,\n            'f': \"668\",\n        },\n\"99.00\",\n{\n            'v': 23370743,\n            'f': \"23370743\",\n        },\n\"Asheville, NC\",\n\"Entire homeapt\",\n{\n            'v': NaN,\n            'f': \"NaN\",\n        },\n\"Asheville\",\n\"North Carolina\"],\n [{\n            'v': 669,\n            'f': \"669\",\n        },\n\"82.00\",\n{\n            'v': 23393644,\n            'f': \"23393644\",\n        },\n\"Asheville, NC\",\n\"Private room\",\n{\n            'v': NaN,\n            'f': \"NaN\",\n        },\n\"Asheville\",\n\"North Carolina\"],\n [{\n            'v': 670,\n            'f': \"670\",\n        },\n\"160.00\",\n{\n            'v': 23419322,\n            'f': \"23419322\",\n        },\n\"Arden, NC\",\n\"Entire homeapt\",\n{\n            'v': NaN,\n            'f': \"NaN\",\n        },\n\"Asheville\",\n\"North Carolina\"],\n [{\n            'v': 671,\n            'f': \"671\",\n        },\n\"60.00\",\n{\n            'v': 23430202,\n            'f': \"23430202\",\n        },\n\"Arden, NC\",\n\"Private room\",\n{\n            'v': NaN,\n            'f': \"NaN\",\n        },\n\"Asheville\",\n\"North Carolina\"],\n [{\n            'v': 672,\n            'f': \"672\",\n        },\n\"550.00\",\n{\n            'v': 23435525,\n            'f': \"23435525\",\n        },\n\"Asheville, NC\",\n\"Entire homeapt\",\n{\n            'v': NaN,\n            'f': \"NaN\",\n        },\n\"Asheville\",\n\"North Carolina\"],\n [{\n            'v': 673,\n            'f': \"673\",\n        },\n\"74.00\",\n{\n            'v': 23451262,\n            'f': \"23451262\",\n        },\n\"Asheville, NC\",\n\"Entire homeapt\",\n{\n            'v': NaN,\n            'f': \"NaN\",\n        },\n\"Asheville\",\n\"North Carolina\"],\n [{\n            'v': 674,\n            'f': \"674\",\n        },\n\"65.00\",\n{\n            'v': 23480306,\n            'f': \"23480306\",\n        },\n\"Asheville, NC\",\n\"Entire homeapt\",\n{\n            'v': NaN,\n            'f': \"NaN\",\n        },\n\"Asheville\",\n\"North Carolina\"],\n [{\n            'v': 675,\n            'f': \"675\",\n        },\n\"163.00\",\n{\n            'v': 23481039,\n            'f': \"23481039\",\n        },\n\"Asheville, NC\",\n\"Entire homeapt\",\n{\n            'v': NaN,\n            'f': \"NaN\",\n        },\n\"Asheville\",\n\"North Carolina\"],\n [{\n            'v': 676,\n            'f': \"676\",\n        },\n\"174.00\",\n{\n            'v': 23516374,\n            'f': \"23516374\",\n        },\n\"Asheville, NC\",\n\"Entire homeapt\",\n{\n            'v': NaN,\n            'f': \"NaN\",\n        },\n\"Asheville\",\n\"North Carolina\"],\n [{\n            'v': 677,\n            'f': \"677\",\n        },\n\"332.00\",\n{\n            'v': 23518897,\n            'f': \"23518897\",\n        },\n\"Asheville, NC\",\n\"Entire homeapt\",\n{\n            'v': NaN,\n            'f': \"NaN\",\n        },\n\"Asheville\",\n\"North Carolina\"],\n [{\n            'v': 678,\n            'f': \"678\",\n        },\n\"95.00\",\n{\n            'v': 23523473,\n            'f': \"23523473\",\n        },\n\"Woodfin, NC\",\n\"Entire homeapt\",\n{\n            'v': NaN,\n            'f': \"NaN\",\n        },\n\"Asheville\",\n\"North Carolina\"],\n [{\n            'v': 679,\n            'f': \"679\",\n        },\n\"99.00\",\n{\n            'v': 23525377,\n            'f': \"23525377\",\n        },\n\"North Carolina, United States\",\n\"Entire homeapt\",\n{\n            'v': NaN,\n            'f': \"NaN\",\n        },\n\"Asheville\",\n\"North Carolina\"],\n [{\n            'v': 680,\n            'f': \"680\",\n        },\n\"360.00\",\n{\n            'v': 23541284,\n            'f': \"23541284\",\n        },\n\"Asheville, NC\",\n\"Hotel room\",\n{\n            'v': NaN,\n            'f': \"NaN\",\n        },\n\"Asheville\",\n\"North Carolina\"],\n [{\n            'v': 681,\n            'f': \"681\",\n        },\n\"110.00\",\n{\n            'v': 23546508,\n            'f': \"23546508\",\n        },\n\"Asheville, NC\",\n\"Entire homeapt\",\n{\n            'v': NaN,\n            'f': \"NaN\",\n        },\n\"Asheville\",\n\"North Carolina\"],\n [{\n            'v': 682,\n            'f': \"682\",\n        },\n\"102.00\",\n{\n            'v': 23558686,\n            'f': \"23558686\",\n        },\n\"Asheville, NC\",\n\"Entire homeapt\",\n{\n            'v': NaN,\n            'f': \"NaN\",\n        },\n\"Asheville\",\n\"North Carolina\"],\n [{\n            'v': 683,\n            'f': \"683\",\n        },\n\"150.00\",\n{\n            'v': 23562622,\n            'f': \"23562622\",\n        },\n\"Asheville, NC\",\n\"Entire homeapt\",\n{\n            'v': NaN,\n            'f': \"NaN\",\n        },\n\"Asheville\",\n\"North Carolina\"],\n [{\n            'v': 684,\n            'f': \"684\",\n        },\n\"68.00\",\n{\n            'v': 23563574,\n            'f': \"23563574\",\n        },\n\"Asheville, NC\",\n\"Private room\",\n{\n            'v': NaN,\n            'f': \"NaN\",\n        },\n\"Asheville\",\n\"North Carolina\"],\n [{\n            'v': 685,\n            'f': \"685\",\n        },\n\"81.00\",\n{\n            'v': 23564110,\n            'f': \"23564110\",\n        },\n\"Asheville, NC\",\n\"Entire homeapt\",\n{\n            'v': NaN,\n            'f': \"NaN\",\n        },\n\"Asheville\",\n\"North Carolina\"],\n [{\n            'v': 686,\n            'f': \"686\",\n        },\n\"225.00\",\n{\n            'v': 23578212,\n            'f': \"23578212\",\n        },\n\"Asheville, NC\",\n\"Entire homeapt\",\n{\n            'v': NaN,\n            'f': \"NaN\",\n        },\n\"Asheville\",\n\"North Carolina\"],\n [{\n            'v': 687,\n            'f': \"687\",\n        },\n\"230.00\",\n{\n            'v': 23579032,\n            'f': \"23579032\",\n        },\n\"Asheville, NC\",\n\"Entire homeapt\",\n{\n            'v': NaN,\n            'f': \"NaN\",\n        },\n\"Asheville\",\n\"North Carolina\"],\n [{\n            'v': 688,\n            'f': \"688\",\n        },\n\"525.00\",\n{\n            'v': 23579231,\n            'f': \"23579231\",\n        },\n\"Asheville, NC\",\n\"Entire homeapt\",\n{\n            'v': NaN,\n            'f': \"NaN\",\n        },\n\"Asheville\",\n\"North Carolina\"],\n [{\n            'v': 689,\n            'f': \"689\",\n        },\n\"160.00\",\n{\n            'v': 23596421,\n            'f': \"23596421\",\n        },\n\"Asheville, NC\",\n\"Entire homeapt\",\n{\n            'v': NaN,\n            'f': \"NaN\",\n        },\n\"Asheville\",\n\"North Carolina\"],\n [{\n            'v': 690,\n            'f': \"690\",\n        },\n\"150.00\",\n{\n            'v': 23623536,\n            'f': \"23623536\",\n        },\nNaN,\n\"Entire homeapt\",\n{\n            'v': NaN,\n            'f': \"NaN\",\n        },\n\"Asheville\",\n\"North Carolina\"],\n [{\n            'v': 691,\n            'f': \"691\",\n        },\n\"44.00\",\n{\n            'v': 23628366,\n            'f': \"23628366\",\n        },\n\"Asheville, NC\",\n\"Private room\",\n{\n            'v': NaN,\n            'f': \"NaN\",\n        },\n\"Asheville\",\n\"North Carolina\"],\n [{\n            'v': 692,\n            'f': \"692\",\n        },\n\"192.00\",\n{\n            'v': 23644478,\n            'f': \"23644478\",\n        },\nNaN,\n\"Entire homeapt\",\n{\n            'v': NaN,\n            'f': \"NaN\",\n        },\n\"Asheville\",\n\"North Carolina\"],\n [{\n            'v': 693,\n            'f': \"693\",\n        },\n\"88.00\",\n{\n            'v': 23675467,\n            'f': \"23675467\",\n        },\n\"Asheville, NC\",\n\"Entire homeapt\",\n{\n            'v': NaN,\n            'f': \"NaN\",\n        },\n\"Asheville\",\n\"North Carolina\"],\n [{\n            'v': 694,\n            'f': \"694\",\n        },\n\"84.00\",\n{\n            'v': 23715234,\n            'f': \"23715234\",\n        },\n\"Asheville, NC\",\n\"Entire homeapt\",\n{\n            'v': NaN,\n            'f': \"NaN\",\n        },\n\"Asheville\",\n\"North Carolina\"],\n [{\n            'v': 695,\n            'f': \"695\",\n        },\n\"168.00\",\n{\n            'v': 23739741,\n            'f': \"23739741\",\n        },\n\"Asheville, NC\",\n\"Entire homeapt\",\n{\n            'v': NaN,\n            'f': \"NaN\",\n        },\n\"Asheville\",\n\"North Carolina\"],\n [{\n            'v': 696,\n            'f': \"696\",\n        },\n\"104.00\",\n{\n            'v': 23740885,\n            'f': \"23740885\",\n        },\n\"Asheville, NC\",\n\"Entire homeapt\",\n{\n            'v': NaN,\n            'f': \"NaN\",\n        },\n\"Asheville\",\n\"North Carolina\"],\n [{\n            'v': 697,\n            'f': \"697\",\n        },\n\"99.00\",\n{\n            'v': 23745497,\n            'f': \"23745497\",\n        },\n\"Asheville, NC\",\n\"Entire homeapt\",\n{\n            'v': NaN,\n            'f': \"NaN\",\n        },\n\"Asheville\",\n\"North Carolina\"],\n [{\n            'v': 698,\n            'f': \"698\",\n        },\n\"360.00\",\n{\n            'v': 23748278,\n            'f': \"23748278\",\n        },\n\"Asheville, NC\",\n\"Hotel room\",\n{\n            'v': NaN,\n            'f': \"NaN\",\n        },\n\"Asheville\",\n\"North Carolina\"],\n [{\n            'v': 699,\n            'f': \"699\",\n        },\n\"393.00\",\n{\n            'v': 23748724,\n            'f': \"23748724\",\n        },\n\"Asheville, NC\",\n\"Private room\",\n{\n            'v': NaN,\n            'f': \"NaN\",\n        },\n\"Asheville\",\n\"North Carolina\"],\n [{\n            'v': 700,\n            'f': \"700\",\n        },\n\"350.00\",\n{\n            'v': 23748903,\n            'f': \"23748903\",\n        },\n\"Asheville, NC\",\n\"Hotel room\",\n{\n            'v': NaN,\n            'f': \"NaN\",\n        },\n\"Asheville\",\n\"North Carolina\"],\n [{\n            'v': 701,\n            'f': \"701\",\n        },\n\"360.00\",\n{\n            'v': 23748992,\n            'f': \"23748992\",\n        },\n\"Asheville, NC\",\n\"Hotel room\",\n{\n            'v': NaN,\n            'f': \"NaN\",\n        },\n\"Asheville\",\n\"North Carolina\"],\n [{\n            'v': 702,\n            'f': \"702\",\n        },\n\"360.00\",\n{\n            'v': 23749047,\n            'f': \"23749047\",\n        },\n\"Asheville, NC\",\n\"Hotel room\",\n{\n            'v': NaN,\n            'f': \"NaN\",\n        },\n\"Asheville\",\n\"North Carolina\"],\n [{\n            'v': 703,\n            'f': \"703\",\n        },\n\"1,999.00\",\n{\n            'v': 23788596,\n            'f': \"23788596\",\n        },\n\"Asheville, NC\",\n\"Hotel room\",\n{\n            'v': NaN,\n            'f': \"NaN\",\n        },\n\"Asheville\",\n\"North Carolina\"],\n [{\n            'v': 704,\n            'f': \"704\",\n        },\n\"178.00\",\n{\n            'v': 23824223,\n            'f': \"23824223\",\n        },\n\"Weaverville, NC\",\n\"Entire homeapt\",\n{\n            'v': NaN,\n            'f': \"NaN\",\n        },\n\"Asheville\",\n\"North Carolina\"],\n [{\n            'v': 705,\n            'f': \"705\",\n        },\n\"152.00\",\n{\n            'v': 23859316,\n            'f': \"23859316\",\n        },\n\"Asheville, NC\",\n\"Entire homeapt\",\n{\n            'v': NaN,\n            'f': \"NaN\",\n        },\n\"Asheville\",\n\"North Carolina\"],\n [{\n            'v': 706,\n            'f': \"706\",\n        },\n\"126.00\",\n{\n            'v': 23859984,\n            'f': \"23859984\",\n        },\n\"Asheville, NC\",\n\"Entire homeapt\",\n{\n            'v': NaN,\n            'f': \"NaN\",\n        },\n\"Asheville\",\n\"North Carolina\"],\n [{\n            'v': 707,\n            'f': \"707\",\n        },\n\"122.00\",\n{\n            'v': 23874576,\n            'f': \"23874576\",\n        },\n\"Asheville, NC\",\n\"Entire homeapt\",\n{\n            'v': NaN,\n            'f': \"NaN\",\n        },\n\"Asheville\",\n\"North Carolina\"],\n [{\n            'v': 708,\n            'f': \"708\",\n        },\n\"84.00\",\n{\n            'v': 23877206,\n            'f': \"23877206\",\n        },\nNaN,\n\"Entire homeapt\",\n{\n            'v': NaN,\n            'f': \"NaN\",\n        },\n\"Asheville\",\n\"North Carolina\"],\n [{\n            'v': 709,\n            'f': \"709\",\n        },\n\"85.00\",\n{\n            'v': 23881173,\n            'f': \"23881173\",\n        },\n\"Asheville, NC\",\n\"Entire homeapt\",\n{\n            'v': NaN,\n            'f': \"NaN\",\n        },\n\"Asheville\",\n\"North Carolina\"],\n [{\n            'v': 710,\n            'f': \"710\",\n        },\n\"122.00\",\n{\n            'v': 23913900,\n            'f': \"23913900\",\n        },\nNaN,\n\"Entire homeapt\",\n{\n            'v': NaN,\n            'f': \"NaN\",\n        },\n\"Asheville\",\n\"North Carolina\"],\n [{\n            'v': 711,\n            'f': \"711\",\n        },\n\"64.00\",\n{\n            'v': 23919596,\n            'f': \"23919596\",\n        },\n\"Asheville, NC\",\n\"Entire homeapt\",\n{\n            'v': NaN,\n            'f': \"NaN\",\n        },\n\"Asheville\",\n\"North Carolina\"],\n [{\n            'v': 712,\n            'f': \"712\",\n        },\n\"209.00\",\n{\n            'v': 23921294,\n            'f': \"23921294\",\n        },\n\"Asheville, NC\",\n\"Entire homeapt\",\n{\n            'v': NaN,\n            'f': \"NaN\",\n        },\n\"Asheville\",\n\"North Carolina\"],\n [{\n            'v': 713,\n            'f': \"713\",\n        },\n\"235.00\",\n{\n            'v': 23935850,\n            'f': \"23935850\",\n        },\n\"Asheville, NC\",\n\"Entire homeapt\",\n{\n            'v': NaN,\n            'f': \"NaN\",\n        },\n\"Asheville\",\n\"North Carolina\"],\n [{\n            'v': 714,\n            'f': \"714\",\n        },\n\"89.00\",\n{\n            'v': 23978319,\n            'f': \"23978319\",\n        },\n\"Asheville, NC\",\n\"Entire homeapt\",\n{\n            'v': NaN,\n            'f': \"NaN\",\n        },\n\"Asheville\",\n\"North Carolina\"],\n [{\n            'v': 715,\n            'f': \"715\",\n        },\n\"159.00\",\n{\n            'v': 24056179,\n            'f': \"24056179\",\n        },\n\"Asheville, NC\",\n\"Entire homeapt\",\n{\n            'v': NaN,\n            'f': \"NaN\",\n        },\n\"Asheville\",\n\"North Carolina\"],\n [{\n            'v': 716,\n            'f': \"716\",\n        },\n\"105.00\",\n{\n            'v': 24080389,\n            'f': \"24080389\",\n        },\nNaN,\n\"Entire homeapt\",\n{\n            'v': NaN,\n            'f': \"NaN\",\n        },\n\"Asheville\",\n\"North Carolina\"],\n [{\n            'v': 717,\n            'f': \"717\",\n        },\n\"241.00\",\n{\n            'v': 24098735,\n            'f': \"24098735\",\n        },\n\"Asheville, NC\",\n\"Entire homeapt\",\n{\n            'v': NaN,\n            'f': \"NaN\",\n        },\n\"Asheville\",\n\"North Carolina\"],\n [{\n            'v': 718,\n            'f': \"718\",\n        },\n\"72.00\",\n{\n            'v': 24117606,\n            'f': \"24117606\",\n        },\n\"Asheville, NC\",\n\"Private room\",\n{\n            'v': NaN,\n            'f': \"NaN\",\n        },\n\"Asheville\",\n\"North Carolina\"],\n [{\n            'v': 719,\n            'f': \"719\",\n        },\n\"79.00\",\n{\n            'v': 24196245,\n            'f': \"24196245\",\n        },\n\"Asheville, NC\",\n\"Entire homeapt\",\n{\n            'v': NaN,\n            'f': \"NaN\",\n        },\n\"Asheville\",\n\"North Carolina\"],\n [{\n            'v': 720,\n            'f': \"720\",\n        },\n\"142.00\",\n{\n            'v': 24222452,\n            'f': \"24222452\",\n        },\n\"Asheville, NC\",\n\"Entire homeapt\",\n{\n            'v': NaN,\n            'f': \"NaN\",\n        },\n\"Asheville\",\n\"North Carolina\"],\n [{\n            'v': 721,\n            'f': \"721\",\n        },\n\"87.00\",\n{\n            'v': 24280176,\n            'f': \"24280176\",\n        },\n\"Fletcher, NC\",\n\"Entire homeapt\",\n{\n            'v': NaN,\n            'f': \"NaN\",\n        },\n\"Asheville\",\n\"North Carolina\"],\n [{\n            'v': 722,\n            'f': \"722\",\n        },\n\"90.00\",\n{\n            'v': 24287936,\n            'f': \"24287936\",\n        },\n\"Arden, NC\",\n\"Private room\",\n{\n            'v': NaN,\n            'f': \"NaN\",\n        },\n\"Asheville\",\n\"North Carolina\"],\n [{\n            'v': 723,\n            'f': \"723\",\n        },\n\"175.00\",\n{\n            'v': 24306486,\n            'f': \"24306486\",\n        },\n\"Old Fort, NC\",\n\"Entire homeapt\",\n{\n            'v': NaN,\n            'f': \"NaN\",\n        },\n\"Asheville\",\n\"North Carolina\"],\n [{\n            'v': 724,\n            'f': \"724\",\n        },\n\"81.00\",\n{\n            'v': 24312963,\n            'f': \"24312963\",\n        },\nNaN,\n\"Entire homeapt\",\n{\n            'v': NaN,\n            'f': \"NaN\",\n        },\n\"Asheville\",\n\"North Carolina\"],\n [{\n            'v': 725,\n            'f': \"725\",\n        },\n\"65.00\",\n{\n            'v': 24327916,\n            'f': \"24327916\",\n        },\n\"Asheville, NC\",\n\"Private room\",\n{\n            'v': NaN,\n            'f': \"NaN\",\n        },\n\"Asheville\",\n\"North Carolina\"],\n [{\n            'v': 726,\n            'f': \"726\",\n        },\n\"369.00\",\n{\n            'v': 24347730,\n            'f': \"24347730\",\n        },\n\"Asheville, NC\",\n\"Entire homeapt\",\n{\n            'v': NaN,\n            'f': \"NaN\",\n        },\n\"Asheville\",\n\"North Carolina\"],\n [{\n            'v': 727,\n            'f': \"727\",\n        },\n\"110.00\",\n{\n            'v': 24375145,\n            'f': \"24375145\",\n        },\n\"Asheville, NC\",\n\"Entire homeapt\",\n{\n            'v': NaN,\n            'f': \"NaN\",\n        },\n\"Asheville\",\n\"North Carolina\"],\n [{\n            'v': 728,\n            'f': \"728\",\n        },\n\"84.00\",\n{\n            'v': 24387676,\n            'f': \"24387676\",\n        },\n\"Asheville, NC\",\n\"Hotel room\",\n{\n            'v': NaN,\n            'f': \"NaN\",\n        },\n\"Asheville\",\n\"North Carolina\"],\n [{\n            'v': 729,\n            'f': \"729\",\n        },\n\"148.00\",\n{\n            'v': 24396068,\n            'f': \"24396068\",\n        },\n\"Asheville, NC\",\n\"Entire homeapt\",\n{\n            'v': NaN,\n            'f': \"NaN\",\n        },\n\"Asheville\",\n\"North Carolina\"],\n [{\n            'v': 730,\n            'f': \"730\",\n        },\n\"450.00\",\n{\n            'v': 24428641,\n            'f': \"24428641\",\n        },\n\"Asheville, NC\",\n\"Entire homeapt\",\n{\n            'v': NaN,\n            'f': \"NaN\",\n        },\n\"Asheville\",\n\"North Carolina\"],\n [{\n            'v': 731,\n            'f': \"731\",\n        },\n\"70.00\",\n{\n            'v': 24445744,\n            'f': \"24445744\",\n        },\n\"Asheville, NC\",\n\"Entire homeapt\",\n{\n            'v': NaN,\n            'f': \"NaN\",\n        },\n\"Asheville\",\n\"North Carolina\"],\n [{\n            'v': 732,\n            'f': \"732\",\n        },\n\"79.00\",\n{\n            'v': 24476866,\n            'f': \"24476866\",\n        },\n\"Asheville, NC\",\n\"Entire homeapt\",\n{\n            'v': NaN,\n            'f': \"NaN\",\n        },\n\"Asheville\",\n\"North Carolina\"],\n [{\n            'v': 733,\n            'f': \"733\",\n        },\n\"250.00\",\n{\n            'v': 24492331,\n            'f': \"24492331\",\n        },\nNaN,\n\"Entire homeapt\",\n{\n            'v': NaN,\n            'f': \"NaN\",\n        },\n\"Asheville\",\n\"North Carolina\"],\n [{\n            'v': 734,\n            'f': \"734\",\n        },\n\"95.00\",\n{\n            'v': 24493492,\n            'f': \"24493492\",\n        },\nNaN,\n\"Private room\",\n{\n            'v': NaN,\n            'f': \"NaN\",\n        },\n\"Asheville\",\n\"North Carolina\"],\n [{\n            'v': 735,\n            'f': \"735\",\n        },\n\"59.00\",\n{\n            'v': 24520534,\n            'f': \"24520534\",\n        },\n\"Asheville, NC\",\n\"Private room\",\n{\n            'v': NaN,\n            'f': \"NaN\",\n        },\n\"Asheville\",\n\"North Carolina\"],\n [{\n            'v': 736,\n            'f': \"736\",\n        },\n\"96.00\",\n{\n            'v': 24540122,\n            'f': \"24540122\",\n        },\n\"Swannanoa, NC\",\n\"Entire homeapt\",\n{\n            'v': NaN,\n            'f': \"NaN\",\n        },\n\"Asheville\",\n\"North Carolina\"],\n [{\n            'v': 737,\n            'f': \"737\",\n        },\n\"69.00\",\n{\n            'v': 24605088,\n            'f': \"24605088\",\n        },\n\"Asheville, NC\",\n\"Private room\",\n{\n            'v': NaN,\n            'f': \"NaN\",\n        },\n\"Asheville\",\n\"North Carolina\"],\n [{\n            'v': 738,\n            'f': \"738\",\n        },\n\"19.00\",\n{\n            'v': 24697002,\n            'f': \"24697002\",\n        },\n\"Asheville, NC\",\n\"Entire homeapt\",\n{\n            'v': NaN,\n            'f': \"NaN\",\n        },\n\"Asheville\",\n\"North Carolina\"],\n [{\n            'v': 739,\n            'f': \"739\",\n        },\n\"196.00\",\n{\n            'v': 24752561,\n            'f': \"24752561\",\n        },\n\"Asheville, NC\",\n\"Entire homeapt\",\n{\n            'v': NaN,\n            'f': \"NaN\",\n        },\n\"Asheville\",\n\"North Carolina\"],\n [{\n            'v': 740,\n            'f': \"740\",\n        },\n\"155.00\",\n{\n            'v': 24766296,\n            'f': \"24766296\",\n        },\nNaN,\n\"Entire homeapt\",\n{\n            'v': NaN,\n            'f': \"NaN\",\n        },\n\"Asheville\",\n\"North Carolina\"],\n [{\n            'v': 741,\n            'f': \"741\",\n        },\n\"86.00\",\n{\n            'v': 24797144,\n            'f': \"24797144\",\n        },\n\"Asheville, NC\",\n\"Entire homeapt\",\n{\n            'v': NaN,\n            'f': \"NaN\",\n        },\n\"Asheville\",\n\"North Carolina\"],\n [{\n            'v': 742,\n            'f': \"742\",\n        },\n\"159.00\",\n{\n            'v': 24817711,\n            'f': \"24817711\",\n        },\n\"Asheville, NC\",\n\"Entire homeapt\",\n{\n            'v': NaN,\n            'f': \"NaN\",\n        },\n\"Asheville\",\n\"North Carolina\"],\n [{\n            'v': 743,\n            'f': \"743\",\n        },\n\"336.00\",\n{\n            'v': 24834700,\n            'f': \"24834700\",\n        },\n\"Floyds Knobs, IN\",\n\"Entire homeapt\",\n{\n            'v': NaN,\n            'f': \"NaN\",\n        },\n\"Asheville\",\n\"North Carolina\"],\n [{\n            'v': 744,\n            'f': \"744\",\n        },\n\"86.00\",\n{\n            'v': 24852463,\n            'f': \"24852463\",\n        },\n\"Asheville, NC\",\n\"Private room\",\n{\n            'v': NaN,\n            'f': \"NaN\",\n        },\n\"Asheville\",\n\"North Carolina\"],\n [{\n            'v': 745,\n            'f': \"745\",\n        },\n\"108.00\",\n{\n            'v': 24872184,\n            'f': \"24872184\",\n        },\nNaN,\n\"Entire homeapt\",\n{\n            'v': NaN,\n            'f': \"NaN\",\n        },\n\"Asheville\",\n\"North Carolina\"],\n [{\n            'v': 746,\n            'f': \"746\",\n        },\n\"89.00\",\n{\n            'v': 24873765,\n            'f': \"24873765\",\n        },\n\"Asheville, NC\",\n\"Private room\",\n{\n            'v': NaN,\n            'f': \"NaN\",\n        },\n\"Asheville\",\n\"North Carolina\"],\n [{\n            'v': 747,\n            'f': \"747\",\n        },\n\"180.00\",\n{\n            'v': 24882481,\n            'f': \"24882481\",\n        },\n\"Saint Petersburg, FL\",\n\"Entire homeapt\",\n{\n            'v': NaN,\n            'f': \"NaN\",\n        },\n\"Asheville\",\n\"North Carolina\"],\n [{\n            'v': 748,\n            'f': \"748\",\n        },\n\"65.00\",\n{\n            'v': 24885757,\n            'f': \"24885757\",\n        },\n\"Asheville, NC\",\n\"Private room\",\n{\n            'v': NaN,\n            'f': \"NaN\",\n        },\n\"Asheville\",\n\"North Carolina\"],\n [{\n            'v': 749,\n            'f': \"749\",\n        },\n\"127.00\",\n{\n            'v': 24894370,\n            'f': \"24894370\",\n        },\n\"Asheville, NC\",\n\"Private room\",\n{\n            'v': NaN,\n            'f': \"NaN\",\n        },\n\"Asheville\",\n\"North Carolina\"],\n [{\n            'v': 750,\n            'f': \"750\",\n        },\n\"229.00\",\n{\n            'v': 24895256,\n            'f': \"24895256\",\n        },\n\"Asheville, NC\",\n\"Private room\",\n{\n            'v': NaN,\n            'f': \"NaN\",\n        },\n\"Asheville\",\n\"North Carolina\"],\n [{\n            'v': 751,\n            'f': \"751\",\n        },\n\"113.00\",\n{\n            'v': 24907910,\n            'f': \"24907910\",\n        },\n\"Asheville, NC\",\n\"Entire homeapt\",\n{\n            'v': NaN,\n            'f': \"NaN\",\n        },\n\"Asheville\",\n\"North Carolina\"],\n [{\n            'v': 752,\n            'f': \"752\",\n        },\n\"91.00\",\n{\n            'v': 24916446,\n            'f': \"24916446\",\n        },\n\"Asheville, NC\",\n\"Entire homeapt\",\n{\n            'v': NaN,\n            'f': \"NaN\",\n        },\n\"Asheville\",\n\"North Carolina\"],\n [{\n            'v': 753,\n            'f': \"753\",\n        },\n\"132.00\",\n{\n            'v': 24942698,\n            'f': \"24942698\",\n        },\n\"Charlotte, NC\",\n\"Entire homeapt\",\n{\n            'v': NaN,\n            'f': \"NaN\",\n        },\n\"Asheville\",\n\"North Carolina\"],\n [{\n            'v': 754,\n            'f': \"754\",\n        },\n\"86.00\",\n{\n            'v': 24945996,\n            'f': \"24945996\",\n        },\n\"Arden, NC\",\n\"Entire homeapt\",\n{\n            'v': NaN,\n            'f': \"NaN\",\n        },\n\"Asheville\",\n\"North Carolina\"],\n [{\n            'v': 755,\n            'f': \"755\",\n        },\n\"84.00\",\n{\n            'v': 24984793,\n            'f': \"24984793\",\n        },\n\"Asheville, NC\",\n\"Entire homeapt\",\n{\n            'v': NaN,\n            'f': \"NaN\",\n        },\n\"Asheville\",\n\"North Carolina\"],\n [{\n            'v': 756,\n            'f': \"756\",\n        },\n\"58.00\",\n{\n            'v': 25013010,\n            'f': \"25013010\",\n        },\n\"Asheville, NC\",\n\"Private room\",\n{\n            'v': NaN,\n            'f': \"NaN\",\n        },\n\"Asheville\",\n\"North Carolina\"],\n [{\n            'v': 757,\n            'f': \"757\",\n        },\n\"256.00\",\n{\n            'v': 25068792,\n            'f': \"25068792\",\n        },\n\"Asheville, NC\",\n\"Entire homeapt\",\n{\n            'v': NaN,\n            'f': \"NaN\",\n        },\n\"Asheville\",\n\"North Carolina\"],\n [{\n            'v': 758,\n            'f': \"758\",\n        },\n\"478.00\",\n{\n            'v': 25132222,\n            'f': \"25132222\",\n        },\n\"Arvada, CO\",\n\"Entire homeapt\",\n{\n            'v': NaN,\n            'f': \"NaN\",\n        },\n\"Asheville\",\n\"North Carolina\"],\n [{\n            'v': 759,\n            'f': \"759\",\n        },\n\"175.00\",\n{\n            'v': 25135375,\n            'f': \"25135375\",\n        },\n\"Arvada, CO\",\n\"Private room\",\n{\n            'v': NaN,\n            'f': \"NaN\",\n        },\n\"Asheville\",\n\"North Carolina\"],\n [{\n            'v': 760,\n            'f': \"760\",\n        },\n\"241.00\",\n{\n            'v': 25135803,\n            'f': \"25135803\",\n        },\n\"Asheville, NC\",\n\"Entire homeapt\",\n{\n            'v': NaN,\n            'f': \"NaN\",\n        },\n\"Asheville\",\n\"North Carolina\"],\n [{\n            'v': 761,\n            'f': \"761\",\n        },\n\"19.00\",\n{\n            'v': 25138871,\n            'f': \"25138871\",\n        },\n\"Asheville, NC\",\n\"Entire homeapt\",\n{\n            'v': NaN,\n            'f': \"NaN\",\n        },\n\"Asheville\",\n\"North Carolina\"],\n [{\n            'v': 762,\n            'f': \"762\",\n        },\n\"79.00\",\n{\n            'v': 25212461,\n            'f': \"25212461\",\n        },\n\"Asheville, NC\",\n\"Entire homeapt\",\n{\n            'v': NaN,\n            'f': \"NaN\",\n        },\n\"Asheville\",\n\"North Carolina\"],\n [{\n            'v': 763,\n            'f': \"763\",\n        },\n\"95.00\",\n{\n            'v': 25251626,\n            'f': \"25251626\",\n        },\n\"Santa Fe, NM\",\n\"Entire homeapt\",\n{\n            'v': NaN,\n            'f': \"NaN\",\n        },\n\"Asheville\",\n\"North Carolina\"],\n [{\n            'v': 764,\n            'f': \"764\",\n        },\n\"249.00\",\n{\n            'v': 25281090,\n            'f': \"25281090\",\n        },\n\"Raleigh, NC\",\n\"Entire homeapt\",\n{\n            'v': NaN,\n            'f': \"NaN\",\n        },\n\"Asheville\",\n\"North Carolina\"],\n [{\n            'v': 765,\n            'f': \"765\",\n        },\n\"60.00\",\n{\n            'v': 25322676,\n            'f': \"25322676\",\n        },\n\"Asheville, NC\",\n\"Private room\",\n{\n            'v': NaN,\n            'f': \"NaN\",\n        },\n\"Asheville\",\n\"North Carolina\"],\n [{\n            'v': 766,\n            'f': \"766\",\n        },\n\"69.00\",\n{\n            'v': 25418819,\n            'f': \"25418819\",\n        },\n\"Asheville, NC\",\n\"Entire homeapt\",\n{\n            'v': NaN,\n            'f': \"NaN\",\n        },\n\"Asheville\",\n\"North Carolina\"],\n [{\n            'v': 767,\n            'f': \"767\",\n        },\n\"84.00\",\n{\n            'v': 25422541,\n            'f': \"25422541\",\n        },\n\"Asheville, NC\",\n\"Entire homeapt\",\n{\n            'v': NaN,\n            'f': \"NaN\",\n        },\n\"Asheville\",\n\"North Carolina\"],\n [{\n            'v': 768,\n            'f': \"768\",\n        },\n\"123.00\",\n{\n            'v': 25471043,\n            'f': \"25471043\",\n        },\n\"Asheville, NC\",\n\"Entire homeapt\",\n{\n            'v': NaN,\n            'f': \"NaN\",\n        },\n\"Asheville\",\n\"North Carolina\"],\n [{\n            'v': 769,\n            'f': \"769\",\n        },\n\"200.00\",\n{\n            'v': 25474000,\n            'f': \"25474000\",\n        },\n\"Arvada, CO\",\n\"Private room\",\n{\n            'v': NaN,\n            'f': \"NaN\",\n        },\n\"Asheville\",\n\"North Carolina\"],\n [{\n            'v': 770,\n            'f': \"770\",\n        },\n\"95.00\",\n{\n            'v': 25479162,\n            'f': \"25479162\",\n        },\n\"Asheville, NC\",\n\"Entire homeapt\",\n{\n            'v': NaN,\n            'f': \"NaN\",\n        },\n\"Asheville\",\n\"North Carolina\"],\n [{\n            'v': 771,\n            'f': \"771\",\n        },\n\"100.00\",\n{\n            'v': 25518066,\n            'f': \"25518066\",\n        },\n\"Asheville, NC\",\n\"Entire homeapt\",\n{\n            'v': NaN,\n            'f': \"NaN\",\n        },\n\"Asheville\",\n\"North Carolina\"],\n [{\n            'v': 772,\n            'f': \"772\",\n        },\n\"237.00\",\n{\n            'v': 25519478,\n            'f': \"25519478\",\n        },\n\"Asheville, NC\",\n\"Entire homeapt\",\n{\n            'v': NaN,\n            'f': \"NaN\",\n        },\n\"Asheville\",\n\"North Carolina\"],\n [{\n            'v': 773,\n            'f': \"773\",\n        },\n\"241.00\",\n{\n            'v': 25519626,\n            'f': \"25519626\",\n        },\n\"Asheville, NC\",\n\"Entire homeapt\",\n{\n            'v': NaN,\n            'f': \"NaN\",\n        },\n\"Asheville\",\n\"North Carolina\"],\n [{\n            'v': 774,\n            'f': \"774\",\n        },\n\"201.00\",\n{\n            'v': 25577370,\n            'f': \"25577370\",\n        },\n\"Asheville, NC\",\n\"Entire homeapt\",\n{\n            'v': NaN,\n            'f': \"NaN\",\n        },\n\"Asheville\",\n\"North Carolina\"],\n [{\n            'v': 775,\n            'f': \"775\",\n        },\n\"104.00\",\n{\n            'v': 25586111,\n            'f': \"25586111\",\n        },\n\"Asheville, NC\",\n\"Entire homeapt\",\n{\n            'v': NaN,\n            'f': \"NaN\",\n        },\n\"Asheville\",\n\"North Carolina\"],\n [{\n            'v': 776,\n            'f': \"776\",\n        },\n\"89.00\",\n{\n            'v': 25679471,\n            'f': \"25679471\",\n        },\n\"Asheville, NC\",\n\"Private room\",\n{\n            'v': NaN,\n            'f': \"NaN\",\n        },\n\"Asheville\",\n\"North Carolina\"],\n [{\n            'v': 777,\n            'f': \"777\",\n        },\n\"77.00\",\n{\n            'v': 25882810,\n            'f': \"25882810\",\n        },\n\"Asheville, NC\",\n\"Entire homeapt\",\n{\n            'v': NaN,\n            'f': \"NaN\",\n        },\n\"Asheville\",\n\"North Carolina\"],\n [{\n            'v': 778,\n            'f': \"778\",\n        },\n\"152.00\",\n{\n            'v': 25977047,\n            'f': \"25977047\",\n        },\n\"Asheville, NC\",\n\"Entire homeapt\",\n{\n            'v': NaN,\n            'f': \"NaN\",\n        },\n\"Asheville\",\n\"North Carolina\"],\n [{\n            'v': 779,\n            'f': \"779\",\n        },\n\"95.00\",\n{\n            'v': 26038824,\n            'f': \"26038824\",\n        },\n\"Asheville, NC\",\n\"Entire homeapt\",\n{\n            'v': NaN,\n            'f': \"NaN\",\n        },\n\"Asheville\",\n\"North Carolina\"],\n [{\n            'v': 780,\n            'f': \"780\",\n        },\n\"222.00\",\n{\n            'v': 26093158,\n            'f': \"26093158\",\n        },\n\"Asheville, NC\",\n\"Entire homeapt\",\n{\n            'v': NaN,\n            'f': \"NaN\",\n        },\n\"Asheville\",\n\"North Carolina\"],\n [{\n            'v': 781,\n            'f': \"781\",\n        },\n\"36.00\",\n{\n            'v': 26098132,\n            'f': \"26098132\",\n        },\n\"Asheville, NC\",\n\"Entire homeapt\",\n{\n            'v': NaN,\n            'f': \"NaN\",\n        },\n\"Asheville\",\n\"North Carolina\"],\n [{\n            'v': 782,\n            'f': \"782\",\n        },\n\"53.00\",\n{\n            'v': 26103338,\n            'f': \"26103338\",\n        },\n\"Asheville, NC\",\n\"Private room\",\n{\n            'v': NaN,\n            'f': \"NaN\",\n        },\n\"Asheville\",\n\"North Carolina\"],\n [{\n            'v': 783,\n            'f': \"783\",\n        },\n\"105.00\",\n{\n            'v': 26129371,\n            'f': \"26129371\",\n        },\n\"Asheville, NC\",\n\"Entire homeapt\",\n{\n            'v': NaN,\n            'f': \"NaN\",\n        },\n\"Asheville\",\n\"North Carolina\"],\n [{\n            'v': 784,\n            'f': \"784\",\n        },\n\"286.00\",\n{\n            'v': 26160335,\n            'f': \"26160335\",\n        },\n\"Asheville, NC\",\n\"Private room\",\n{\n            'v': NaN,\n            'f': \"NaN\",\n        },\n\"Asheville\",\n\"North Carolina\"],\n [{\n            'v': 785,\n            'f': \"785\",\n        },\n\"89.00\",\n{\n            'v': 26163788,\n            'f': \"26163788\",\n        },\n\"Asheville, NC\",\n\"Private room\",\n{\n            'v': NaN,\n            'f': \"NaN\",\n        },\n\"Asheville\",\n\"North Carolina\"],\n [{\n            'v': 786,\n            'f': \"786\",\n        },\n\"150.00\",\n{\n            'v': 26189814,\n            'f': \"26189814\",\n        },\nNaN,\n\"Entire homeapt\",\n{\n            'v': NaN,\n            'f': \"NaN\",\n        },\n\"Asheville\",\n\"North Carolina\"],\n [{\n            'v': 787,\n            'f': \"787\",\n        },\n\"96.00\",\n{\n            'v': 26190390,\n            'f': \"26190390\",\n        },\n\"Asheville, NC\",\n\"Entire homeapt\",\n{\n            'v': NaN,\n            'f': \"NaN\",\n        },\n\"Asheville\",\n\"North Carolina\"],\n [{\n            'v': 788,\n            'f': \"788\",\n        },\n\"46.00\",\n{\n            'v': 26260868,\n            'f': \"26260868\",\n        },\n\"Asheville, NC\",\n\"Private room\",\n{\n            'v': NaN,\n            'f': \"NaN\",\n        },\n\"Asheville\",\n\"North Carolina\"],\n [{\n            'v': 789,\n            'f': \"789\",\n        },\n\"160.00\",\n{\n            'v': 26276337,\n            'f': \"26276337\",\n        },\n\"Asheville, NC\",\n\"Entire homeapt\",\n{\n            'v': NaN,\n            'f': \"NaN\",\n        },\n\"Asheville\",\n\"North Carolina\"],\n [{\n            'v': 790,\n            'f': \"790\",\n        },\n\"203.00\",\n{\n            'v': 26281901,\n            'f': \"26281901\",\n        },\n\"United States\",\n\"Entire homeapt\",\n{\n            'v': NaN,\n            'f': \"NaN\",\n        },\n\"Asheville\",\n\"North Carolina\"],\n [{\n            'v': 791,\n            'f': \"791\",\n        },\n\"28.00\",\n{\n            'v': 26298501,\n            'f': \"26298501\",\n        },\n\"Asheville, NC\",\n\"Entire homeapt\",\n{\n            'v': NaN,\n            'f': \"NaN\",\n        },\n\"Asheville\",\n\"North Carolina\"],\n [{\n            'v': 792,\n            'f': \"792\",\n        },\n\"161.00\",\n{\n            'v': 26305653,\n            'f': \"26305653\",\n        },\n\"Asheville, NC\",\n\"Entire homeapt\",\n{\n            'v': NaN,\n            'f': \"NaN\",\n        },\n\"Asheville\",\n\"North Carolina\"],\n [{\n            'v': 793,\n            'f': \"793\",\n        },\n\"45.00\",\n{\n            'v': 26335600,\n            'f': \"26335600\",\n        },\n\"Asheville, NC\",\n\"Private room\",\n{\n            'v': NaN,\n            'f': \"NaN\",\n        },\n\"Asheville\",\n\"North Carolina\"],\n [{\n            'v': 794,\n            'f': \"794\",\n        },\n\"262.00\",\n{\n            'v': 26339145,\n            'f': \"26339145\",\n        },\n\"United States\",\n\"Entire homeapt\",\n{\n            'v': NaN,\n            'f': \"NaN\",\n        },\n\"Asheville\",\n\"North Carolina\"],\n [{\n            'v': 795,\n            'f': \"795\",\n        },\n\"59.00\",\n{\n            'v': 26352897,\n            'f': \"26352897\",\n        },\n\"Asheville, NC\",\n\"Entire homeapt\",\n{\n            'v': NaN,\n            'f': \"NaN\",\n        },\n\"Asheville\",\n\"North Carolina\"],\n [{\n            'v': 796,\n            'f': \"796\",\n        },\n\"68.00\",\n{\n            'v': 26357716,\n            'f': \"26357716\",\n        },\n\"Asheville, NC\",\n\"Entire homeapt\",\n{\n            'v': NaN,\n            'f': \"NaN\",\n        },\n\"Asheville\",\n\"North Carolina\"],\n [{\n            'v': 797,\n            'f': \"797\",\n        },\n\"120.00\",\n{\n            'v': 26391300,\n            'f': \"26391300\",\n        },\n\"Asheville, NC\",\n\"Private room\",\n{\n            'v': NaN,\n            'f': \"NaN\",\n        },\n\"Asheville\",\n\"North Carolina\"],\n [{\n            'v': 798,\n            'f': \"798\",\n        },\n\"75.00\",\n{\n            'v': 26397880,\n            'f': \"26397880\",\n        },\n\"Asheville, NC\",\n\"Private room\",\n{\n            'v': NaN,\n            'f': \"NaN\",\n        },\n\"Asheville\",\n\"North Carolina\"],\n [{\n            'v': 799,\n            'f': \"799\",\n        },\n\"125.00\",\n{\n            'v': 26410860,\n            'f': \"26410860\",\n        },\n\"Asheville, NC\",\n\"Entire homeapt\",\n{\n            'v': NaN,\n            'f': \"NaN\",\n        },\n\"Asheville\",\n\"North Carolina\"],\n [{\n            'v': 800,\n            'f': \"800\",\n        },\n\"44.00\",\n{\n            'v': 26454939,\n            'f': \"26454939\",\n        },\n\"Asheville, NC\",\n\"Private room\",\n{\n            'v': NaN,\n            'f': \"NaN\",\n        },\n\"Asheville\",\n\"North Carolina\"],\n [{\n            'v': 801,\n            'f': \"801\",\n        },\n\"142.00\",\n{\n            'v': 26528680,\n            'f': \"26528680\",\n        },\n\"Asheville, NC\",\n\"Entire homeapt\",\n{\n            'v': NaN,\n            'f': \"NaN\",\n        },\n\"Asheville\",\n\"North Carolina\"],\n [{\n            'v': 802,\n            'f': \"802\",\n        },\n\"157.00\",\n{\n            'v': 26595874,\n            'f': \"26595874\",\n        },\n\"Asheville, NC\",\n\"Entire homeapt\",\n{\n            'v': NaN,\n            'f': \"NaN\",\n        },\n\"Asheville\",\n\"North Carolina\"],\n [{\n            'v': 803,\n            'f': \"803\",\n        },\n\"19.00\",\n{\n            'v': 26634224,\n            'f': \"26634224\",\n        },\n\"Asheville, NC\",\n\"Entire homeapt\",\n{\n            'v': NaN,\n            'f': \"NaN\",\n        },\n\"Asheville\",\n\"North Carolina\"],\n [{\n            'v': 804,\n            'f': \"804\",\n        },\n\"63.00\",\n{\n            'v': 26637023,\n            'f': \"26637023\",\n        },\nNaN,\n\"Entire homeapt\",\n{\n            'v': NaN,\n            'f': \"NaN\",\n        },\n\"Asheville\",\n\"North Carolina\"],\n [{\n            'v': 805,\n            'f': \"805\",\n        },\n\"94.00\",\n{\n            'v': 26639631,\n            'f': \"26639631\",\n        },\n\"Asheville, NC\",\n\"Entire homeapt\",\n{\n            'v': NaN,\n            'f': \"NaN\",\n        },\n\"Asheville\",\n\"North Carolina\"],\n [{\n            'v': 806,\n            'f': \"806\",\n        },\n\"63.00\",\n{\n            'v': 26690388,\n            'f': \"26690388\",\n        },\n\"Woodfin, NC\",\n\"Entire homeapt\",\n{\n            'v': NaN,\n            'f': \"NaN\",\n        },\n\"Asheville\",\n\"North Carolina\"],\n [{\n            'v': 807,\n            'f': \"807\",\n        },\n\"323.00\",\n{\n            'v': 26721327,\n            'f': \"26721327\",\n        },\n\"Asheville, NC\",\n\"Entire homeapt\",\n{\n            'v': NaN,\n            'f': \"NaN\",\n        },\n\"Asheville\",\n\"North Carolina\"],\n [{\n            'v': 808,\n            'f': \"808\",\n        },\n\"312.00\",\n{\n            'v': 26735499,\n            'f': \"26735499\",\n        },\n\"Asheville, NC\",\n\"Entire homeapt\",\n{\n            'v': NaN,\n            'f': \"NaN\",\n        },\n\"Asheville\",\n\"North Carolina\"],\n [{\n            'v': 809,\n            'f': \"809\",\n        },\n\"54.00\",\n{\n            'v': 26740506,\n            'f': \"26740506\",\n        },\n\"North Carolina, United States\",\n\"Private room\",\n{\n            'v': NaN,\n            'f': \"NaN\",\n        },\n\"Asheville\",\n\"North Carolina\"],\n [{\n            'v': 810,\n            'f': \"810\",\n        },\n\"72.00\",\n{\n            'v': 26753930,\n            'f': \"26753930\",\n        },\n\"North Carolina, United States\",\n\"Entire homeapt\",\n{\n            'v': NaN,\n            'f': \"NaN\",\n        },\n\"Asheville\",\n\"North Carolina\"],\n [{\n            'v': 811,\n            'f': \"811\",\n        },\n\"104.00\",\n{\n            'v': 26802744,\n            'f': \"26802744\",\n        },\n\"Asheville, NC\",\n\"Entire homeapt\",\n{\n            'v': NaN,\n            'f': \"NaN\",\n        },\n\"Asheville\",\n\"North Carolina\"],\n [{\n            'v': 812,\n            'f': \"812\",\n        },\n\"92.00\",\n{\n            'v': 26829259,\n            'f': \"26829259\",\n        },\nNaN,\n\"Entire homeapt\",\n{\n            'v': NaN,\n            'f': \"NaN\",\n        },\n\"Asheville\",\n\"North Carolina\"],\n [{\n            'v': 813,\n            'f': \"813\",\n        },\n\"74.00\",\n{\n            'v': 26910515,\n            'f': \"26910515\",\n        },\n\"Asheville, NC\",\n\"Entire homeapt\",\n{\n            'v': NaN,\n            'f': \"NaN\",\n        },\n\"Asheville\",\n\"North Carolina\"],\n [{\n            'v': 814,\n            'f': \"814\",\n        },\n\"123.00\",\n{\n            'v': 26924271,\n            'f': \"26924271\",\n        },\n\"Asheville, NC\",\n\"Entire homeapt\",\n{\n            'v': NaN,\n            'f': \"NaN\",\n        },\n\"Asheville\",\n\"North Carolina\"],\n [{\n            'v': 815,\n            'f': \"815\",\n        },\n\"204.00\",\n{\n            'v': 26925544,\n            'f': \"26925544\",\n        },\n\"Asheville, NC\",\n\"Entire homeapt\",\n{\n            'v': NaN,\n            'f': \"NaN\",\n        },\n\"Asheville\",\n\"North Carolina\"],\n [{\n            'v': 816,\n            'f': \"816\",\n        },\n\"91.00\",\n{\n            'v': 26954553,\n            'f': \"26954553\",\n        },\n\"Asheville, NC\",\n\"Entire homeapt\",\n{\n            'v': NaN,\n            'f': \"NaN\",\n        },\n\"Asheville\",\n\"North Carolina\"],\n [{\n            'v': 817,\n            'f': \"817\",\n        },\n\"74.00\",\n{\n            'v': 27019129,\n            'f': \"27019129\",\n        },\n\"Asheville, NC\",\n\"Entire homeapt\",\n{\n            'v': NaN,\n            'f': \"NaN\",\n        },\n\"Asheville\",\n\"North Carolina\"],\n [{\n            'v': 818,\n            'f': \"818\",\n        },\n\"275.00\",\n{\n            'v': 27059536,\n            'f': \"27059536\",\n        },\n\"Asheville, NC\",\n\"Entire homeapt\",\n{\n            'v': NaN,\n            'f': \"NaN\",\n        },\n\"Asheville\",\n\"North Carolina\"],\n [{\n            'v': 819,\n            'f': \"819\",\n        },\n\"413.00\",\n{\n            'v': 27108241,\n            'f': \"27108241\",\n        },\n\"Asheville, NC\",\n\"Entire homeapt\",\n{\n            'v': NaN,\n            'f': \"NaN\",\n        },\n\"Asheville\",\n\"North Carolina\"],\n [{\n            'v': 820,\n            'f': \"820\",\n        },\n\"174.00\",\n{\n            'v': 27123967,\n            'f': \"27123967\",\n        },\n\"Asheville, NC\",\n\"Entire homeapt\",\n{\n            'v': NaN,\n            'f': \"NaN\",\n        },\n\"Asheville\",\n\"North Carolina\"],\n [{\n            'v': 821,\n            'f': \"821\",\n        },\n\"81.00\",\n{\n            'v': 27132022,\n            'f': \"27132022\",\n        },\n\"Asheville, NC\",\n\"Entire homeapt\",\n{\n            'v': NaN,\n            'f': \"NaN\",\n        },\n\"Asheville\",\n\"North Carolina\"],\n [{\n            'v': 822,\n            'f': \"822\",\n        },\n\"134.00\",\n{\n            'v': 27156940,\n            'f': \"27156940\",\n        },\n\"Asheville, NC\",\n\"Entire homeapt\",\n{\n            'v': NaN,\n            'f': \"NaN\",\n        },\n\"Asheville\",\n\"North Carolina\"],\n [{\n            'v': 823,\n            'f': \"823\",\n        },\n\"59.00\",\n{\n            'v': 27225252,\n            'f': \"27225252\",\n        },\n\"Asheville, NC\",\n\"Entire homeapt\",\n{\n            'v': NaN,\n            'f': \"NaN\",\n        },\n\"Asheville\",\n\"North Carolina\"],\n [{\n            'v': 824,\n            'f': \"824\",\n        },\n\"149.00\",\n{\n            'v': 27250576,\n            'f': \"27250576\",\n        },\n\"Asheville, NC\",\n\"Entire homeapt\",\n{\n            'v': NaN,\n            'f': \"NaN\",\n        },\n\"Asheville\",\n\"North Carolina\"],\n [{\n            'v': 825,\n            'f': \"825\",\n        },\n\"350.00\",\n{\n            'v': 27285680,\n            'f': \"27285680\",\n        },\n\"Asheville, NC\",\n\"Entire homeapt\",\n{\n            'v': NaN,\n            'f': \"NaN\",\n        },\n\"Asheville\",\n\"North Carolina\"],\n [{\n            'v': 826,\n            'f': \"826\",\n        },\n\"509.00\",\n{\n            'v': 27289254,\n            'f': \"27289254\",\n        },\n\"Asheville, NC\",\n\"Entire homeapt\",\n{\n            'v': NaN,\n            'f': \"NaN\",\n        },\n\"Asheville\",\n\"North Carolina\"],\n [{\n            'v': 827,\n            'f': \"827\",\n        },\n\"135.00\",\n{\n            'v': 27306911,\n            'f': \"27306911\",\n        },\n\"Asheville, NC\",\n\"Entire homeapt\",\n{\n            'v': NaN,\n            'f': \"NaN\",\n        },\n\"Asheville\",\n\"North Carolina\"],\n [{\n            'v': 828,\n            'f': \"828\",\n        },\n\"200.00\",\n{\n            'v': 27335298,\n            'f': \"27335298\",\n        },\n\"Asheville, NC\",\n\"Entire homeapt\",\n{\n            'v': NaN,\n            'f': \"NaN\",\n        },\n\"Asheville\",\n\"North Carolina\"],\n [{\n            'v': 829,\n            'f': \"829\",\n        },\n\"159.00\",\n{\n            'v': 27337463,\n            'f': \"27337463\",\n        },\n\"Mobile, AL\",\n\"Entire homeapt\",\n{\n            'v': NaN,\n            'f': \"NaN\",\n        },\n\"Asheville\",\n\"North Carolina\"],\n [{\n            'v': 830,\n            'f': \"830\",\n        },\n\"98.00\",\n{\n            'v': 27338328,\n            'f': \"27338328\",\n        },\n\"Asheville, NC\",\n\"Entire homeapt\",\n{\n            'v': NaN,\n            'f': \"NaN\",\n        },\n\"Asheville\",\n\"North Carolina\"],\n [{\n            'v': 831,\n            'f': \"831\",\n        },\n\"61.00\",\n{\n            'v': 27340168,\n            'f': \"27340168\",\n        },\n\"Asheville, NC\",\n\"Private room\",\n{\n            'v': NaN,\n            'f': \"NaN\",\n        },\n\"Asheville\",\n\"North Carolina\"],\n [{\n            'v': 832,\n            'f': \"832\",\n        },\n\"80.00\",\n{\n            'v': 27461996,\n            'f': \"27461996\",\n        },\n\"Asheville, NC\",\n\"Entire homeapt\",\n{\n            'v': NaN,\n            'f': \"NaN\",\n        },\n\"Asheville\",\n\"North Carolina\"],\n [{\n            'v': 833,\n            'f': \"833\",\n        },\n\"107.00\",\n{\n            'v': 27466554,\n            'f': \"27466554\",\n        },\n\"Asheville, NC\",\n\"Entire homeapt\",\n{\n            'v': NaN,\n            'f': \"NaN\",\n        },\n\"Asheville\",\n\"North Carolina\"],\n [{\n            'v': 834,\n            'f': \"834\",\n        },\n\"255.00\",\n{\n            'v': 27486807,\n            'f': \"27486807\",\n        },\n\"Atlanta, GA\",\n\"Entire homeapt\",\n{\n            'v': NaN,\n            'f': \"NaN\",\n        },\n\"Asheville\",\n\"North Carolina\"],\n [{\n            'v': 835,\n            'f': \"835\",\n        },\n\"79.00\",\n{\n            'v': 27538204,\n            'f': \"27538204\",\n        },\n\"Asheville, NC\",\n\"Entire homeapt\",\n{\n            'v': NaN,\n            'f': \"NaN\",\n        },\n\"Asheville\",\n\"North Carolina\"],\n [{\n            'v': 836,\n            'f': \"836\",\n        },\n\"48.00\",\n{\n            'v': 27566298,\n            'f': \"27566298\",\n        },\n\"Asheville, NC\",\n\"Private room\",\n{\n            'v': NaN,\n            'f': \"NaN\",\n        },\n\"Asheville\",\n\"North Carolina\"],\n [{\n            'v': 837,\n            'f': \"837\",\n        },\n\"725.00\",\n{\n            'v': 27583238,\n            'f': \"27583238\",\n        },\n\"Wilmington, NC\",\n\"Entire homeapt\",\n{\n            'v': NaN,\n            'f': \"NaN\",\n        },\n\"Asheville\",\n\"North Carolina\"],\n [{\n            'v': 838,\n            'f': \"838\",\n        },\n\"125.00\",\n{\n            'v': 27645716,\n            'f': \"27645716\",\n        },\n\"Asheville, NC\",\n\"Private room\",\n{\n            'v': NaN,\n            'f': \"NaN\",\n        },\n\"Asheville\",\n\"North Carolina\"],\n [{\n            'v': 839,\n            'f': \"839\",\n        },\n\"179.00\",\n{\n            'v': 27689813,\n            'f': \"27689813\",\n        },\n\"Sarasota, FL\",\n\"Entire homeapt\",\n{\n            'v': NaN,\n            'f': \"NaN\",\n        },\n\"Asheville\",\n\"North Carolina\"],\n [{\n            'v': 840,\n            'f': \"840\",\n        },\n\"170.00\",\n{\n            'v': 27699328,\n            'f': \"27699328\",\n        },\n\"Raleigh, NC\",\n\"Entire homeapt\",\n{\n            'v': NaN,\n            'f': \"NaN\",\n        },\n\"Asheville\",\n\"North Carolina\"],\n [{\n            'v': 841,\n            'f': \"841\",\n        },\n\"79.00\",\n{\n            'v': 27759123,\n            'f': \"27759123\",\n        },\n\"Asheville, NC\",\n\"Entire homeapt\",\n{\n            'v': NaN,\n            'f': \"NaN\",\n        },\n\"Asheville\",\n\"North Carolina\"],\n [{\n            'v': 842,\n            'f': \"842\",\n        },\n\"47.00\",\n{\n            'v': 27853519,\n            'f': \"27853519\",\n        },\n\"Asheville, NC\",\n\"Private room\",\n{\n            'v': NaN,\n            'f': \"NaN\",\n        },\n\"Asheville\",\n\"North Carolina\"],\n [{\n            'v': 843,\n            'f': \"843\",\n        },\n\"60.00\",\n{\n            'v': 27903380,\n            'f': \"27903380\",\n        },\n\"Asheville, NC\",\n\"Entire homeapt\",\n{\n            'v': NaN,\n            'f': \"NaN\",\n        },\n\"Asheville\",\n\"North Carolina\"],\n [{\n            'v': 844,\n            'f': \"844\",\n        },\n\"160.00\",\n{\n            'v': 27931927,\n            'f': \"27931927\",\n        },\n\"Asheville, NC\",\n\"Entire homeapt\",\n{\n            'v': NaN,\n            'f': \"NaN\",\n        },\n\"Asheville\",\n\"North Carolina\"],\n [{\n            'v': 845,\n            'f': \"845\",\n        },\n\"75.00\",\n{\n            'v': 28001503,\n            'f': \"28001503\",\n        },\n\"Asheville, NC\",\n\"Entire homeapt\",\n{\n            'v': NaN,\n            'f': \"NaN\",\n        },\n\"Asheville\",\n\"North Carolina\"],\n [{\n            'v': 846,\n            'f': \"846\",\n        },\n\"182.00\",\n{\n            'v': 28042422,\n            'f': \"28042422\",\n        },\n\"Asheville, NC\",\n\"Entire homeapt\",\n{\n            'v': NaN,\n            'f': \"NaN\",\n        },\n\"Asheville\",\n\"North Carolina\"],\n [{\n            'v': 847,\n            'f': \"847\",\n        },\n\"84.00\",\n{\n            'v': 28098420,\n            'f': \"28098420\",\n        },\n\"Asheville, NC\",\n\"Entire homeapt\",\n{\n            'v': NaN,\n            'f': \"NaN\",\n        },\n\"Asheville\",\n\"North Carolina\"],\n [{\n            'v': 848,\n            'f': \"848\",\n        },\n\"138.00\",\n{\n            'v': 28133323,\n            'f': \"28133323\",\n        },\n\"Asheville, NC\",\n\"Entire homeapt\",\n{\n            'v': NaN,\n            'f': \"NaN\",\n        },\n\"Asheville\",\n\"North Carolina\"],\n [{\n            'v': 849,\n            'f': \"849\",\n        },\n\"56.00\",\n{\n            'v': 28142713,\n            'f': \"28142713\",\n        },\n\"Asheville, NC\",\n\"Private room\",\n{\n            'v': NaN,\n            'f': \"NaN\",\n        },\n\"Asheville\",\n\"North Carolina\"],\n [{\n            'v': 850,\n            'f': \"850\",\n        },\n\"269.00\",\n{\n            'v': 28149961,\n            'f': \"28149961\",\n        },\n\"United States\",\n\"Entire homeapt\",\n{\n            'v': NaN,\n            'f': \"NaN\",\n        },\n\"Asheville\",\n\"North Carolina\"],\n [{\n            'v': 851,\n            'f': \"851\",\n        },\n\"68.00\",\n{\n            'v': 28156491,\n            'f': \"28156491\",\n        },\n\"Asheville, NC\",\n\"Private room\",\n{\n            'v': NaN,\n            'f': \"NaN\",\n        },\n\"Asheville\",\n\"North Carolina\"],\n [{\n            'v': 852,\n            'f': \"852\",\n        },\n\"89.00\",\n{\n            'v': 28216632,\n            'f': \"28216632\",\n        },\n\"Asheville, NC\",\n\"Entire homeapt\",\n{\n            'v': NaN,\n            'f': \"NaN\",\n        },\n\"Asheville\",\n\"North Carolina\"],\n [{\n            'v': 853,\n            'f': \"853\",\n        },\n\"75.00\",\n{\n            'v': 28216747,\n            'f': \"28216747\",\n        },\n\"Asheville, NC\",\n\"Entire homeapt\",\n{\n            'v': NaN,\n            'f': \"NaN\",\n        },\n\"Asheville\",\n\"North Carolina\"],\n [{\n            'v': 854,\n            'f': \"854\",\n        },\n\"385.00\",\n{\n            'v': 28245965,\n            'f': \"28245965\",\n        },\nNaN,\n\"Entire homeapt\",\n{\n            'v': NaN,\n            'f': \"NaN\",\n        },\n\"Asheville\",\n\"North Carolina\"],\n [{\n            'v': 855,\n            'f': \"855\",\n        },\n\"69.00\",\n{\n            'v': 28286510,\n            'f': \"28286510\",\n        },\n\"Asheville, NC\",\n\"Entire homeapt\",\n{\n            'v': NaN,\n            'f': \"NaN\",\n        },\n\"Asheville\",\n\"North Carolina\"],\n [{\n            'v': 856,\n            'f': \"856\",\n        },\n\"150.00\",\n{\n            'v': 28335156,\n            'f': \"28335156\",\n        },\n\"Asheville, NC\",\n\"Entire homeapt\",\n{\n            'v': NaN,\n            'f': \"NaN\",\n        },\n\"Asheville\",\n\"North Carolina\"],\n [{\n            'v': 857,\n            'f': \"857\",\n        },\n\"495.00\",\n{\n            'v': 28389480,\n            'f': \"28389480\",\n        },\n\"Asheville, NC\",\n\"Entire homeapt\",\n{\n            'v': NaN,\n            'f': \"NaN\",\n        },\n\"Asheville\",\n\"North Carolina\"],\n [{\n            'v': 858,\n            'f': \"858\",\n        },\n\"126.00\",\n{\n            'v': 28426037,\n            'f': \"28426037\",\n        },\n\"New York, United States\",\n\"Entire homeapt\",\n{\n            'v': NaN,\n            'f': \"NaN\",\n        },\n\"Asheville\",\n\"North Carolina\"],\n [{\n            'v': 859,\n            'f': \"859\",\n        },\n\"230.00\",\n{\n            'v': 28438011,\n            'f': \"28438011\",\n        },\n\"Asheville, NC\",\n\"Entire homeapt\",\n{\n            'v': NaN,\n            'f': \"NaN\",\n        },\n\"Asheville\",\n\"North Carolina\"],\n [{\n            'v': 860,\n            'f': \"860\",\n        },\n\"59.00\",\n{\n            'v': 28466957,\n            'f': \"28466957\",\n        },\n\"Asheville, NC\",\n\"Entire homeapt\",\n{\n            'v': NaN,\n            'f': \"NaN\",\n        },\n\"Asheville\",\n\"North Carolina\"],\n [{\n            'v': 861,\n            'f': \"861\",\n        },\n\"135.00\",\n{\n            'v': 28544931,\n            'f': \"28544931\",\n        },\n\"Asheville, NC\",\n\"Entire homeapt\",\n{\n            'v': NaN,\n            'f': \"NaN\",\n        },\n\"Asheville\",\n\"North Carolina\"],\n [{\n            'v': 862,\n            'f': \"862\",\n        },\n\"146.00\",\n{\n            'v': 28566916,\n            'f': \"28566916\",\n        },\n\"Asheville, NC\",\n\"Entire homeapt\",\n{\n            'v': NaN,\n            'f': \"NaN\",\n        },\n\"Asheville\",\n\"North Carolina\"],\n [{\n            'v': 863,\n            'f': \"863\",\n        },\n\"252.00\",\n{\n            'v': 28583038,\n            'f': \"28583038\",\n        },\n\"Asheville, NC\",\n\"Entire homeapt\",\n{\n            'v': NaN,\n            'f': \"NaN\",\n        },\n\"Asheville\",\n\"North Carolina\"],\n [{\n            'v': 864,\n            'f': \"864\",\n        },\n\"89.00\",\n{\n            'v': 28584499,\n            'f': \"28584499\",\n        },\n\"Asheville, NC\",\n\"Entire homeapt\",\n{\n            'v': NaN,\n            'f': \"NaN\",\n        },\n\"Asheville\",\n\"North Carolina\"],\n [{\n            'v': 865,\n            'f': \"865\",\n        },\n\"40.00\",\n{\n            'v': 28607789,\n            'f': \"28607789\",\n        },\n\"Asheville, NC\",\n\"Entire homeapt\",\n{\n            'v': NaN,\n            'f': \"NaN\",\n        },\n\"Asheville\",\n\"North Carolina\"],\n [{\n            'v': 866,\n            'f': \"866\",\n        },\n\"191.00\",\n{\n            'v': 28608801,\n            'f': \"28608801\",\n        },\n\"Asheville, NC\",\n\"Entire homeapt\",\n{\n            'v': NaN,\n            'f': \"NaN\",\n        },\n\"Asheville\",\n\"North Carolina\"],\n [{\n            'v': 867,\n            'f': \"867\",\n        },\n\"79.00\",\n{\n            'v': 28610923,\n            'f': \"28610923\",\n        },\n\"Candler, NC\",\n\"Entire homeapt\",\n{\n            'v': NaN,\n            'f': \"NaN\",\n        },\n\"Asheville\",\n\"North Carolina\"],\n [{\n            'v': 868,\n            'f': \"868\",\n        },\n\"243.00\",\n{\n            'v': 28712523,\n            'f': \"28712523\",\n        },\n\"Asheville, NC\",\n\"Entire homeapt\",\n{\n            'v': NaN,\n            'f': \"NaN\",\n        },\n\"Asheville\",\n\"North Carolina\"],\n [{\n            'v': 869,\n            'f': \"869\",\n        },\n\"225.00\",\n{\n            'v': 28758757,\n            'f': \"28758757\",\n        },\n\"Woodfin, NC\",\n\"Entire homeapt\",\n{\n            'v': NaN,\n            'f': \"NaN\",\n        },\n\"Asheville\",\n\"North Carolina\"],\n [{\n            'v': 870,\n            'f': \"870\",\n        },\n\"85.00\",\n{\n            'v': 28777663,\n            'f': \"28777663\",\n        },\n\"Asheville, NC\",\n\"Entire homeapt\",\n{\n            'v': NaN,\n            'f': \"NaN\",\n        },\n\"Asheville\",\n\"North Carolina\"],\n [{\n            'v': 871,\n            'f': \"871\",\n        },\n\"269.00\",\n{\n            'v': 28838800,\n            'f': \"28838800\",\n        },\n\"Barnardsville, NC\",\n\"Entire homeapt\",\n{\n            'v': NaN,\n            'f': \"NaN\",\n        },\n\"Asheville\",\n\"North Carolina\"],\n [{\n            'v': 872,\n            'f': \"872\",\n        },\n\"290.00\",\n{\n            'v': 28843687,\n            'f': \"28843687\",\n        },\n\"Asheville, NC\",\n\"Entire homeapt\",\n{\n            'v': NaN,\n            'f': \"NaN\",\n        },\n\"Asheville\",\n\"North Carolina\"],\n [{\n            'v': 873,\n            'f': \"873\",\n        },\n\"262.00\",\n{\n            'v': 28865830,\n            'f': \"28865830\",\n        },\n\"United States\",\n\"Entire homeapt\",\n{\n            'v': NaN,\n            'f': \"NaN\",\n        },\n\"Asheville\",\n\"North Carolina\"],\n [{\n            'v': 874,\n            'f': \"874\",\n        },\n\"108.00\",\n{\n            'v': 28927010,\n            'f': \"28927010\",\n        },\n\"Asheville, NC\",\n\"Entire homeapt\",\n{\n            'v': NaN,\n            'f': \"NaN\",\n        },\n\"Asheville\",\n\"North Carolina\"],\n [{\n            'v': 875,\n            'f': \"875\",\n        },\n\"176.00\",\n{\n            'v': 28960407,\n            'f': \"28960407\",\n        },\n\"Asheville, NC\",\n\"Entire homeapt\",\n{\n            'v': NaN,\n            'f': \"NaN\",\n        },\n\"Asheville\",\n\"North Carolina\"],\n [{\n            'v': 876,\n            'f': \"876\",\n        },\n\"71.00\",\n{\n            'v': 28986868,\n            'f': \"28986868\",\n        },\n\"Asheville, NC\",\n\"Entire homeapt\",\n{\n            'v': NaN,\n            'f': \"NaN\",\n        },\n\"Asheville\",\n\"North Carolina\"],\n [{\n            'v': 877,\n            'f': \"877\",\n        },\n\"300.00\",\n{\n            'v': 29003338,\n            'f': \"29003338\",\n        },\n\"Asheville, NC\",\n\"Entire homeapt\",\n{\n            'v': NaN,\n            'f': \"NaN\",\n        },\n\"Asheville\",\n\"North Carolina\"],\n [{\n            'v': 878,\n            'f': \"878\",\n        },\n\"134.00\",\n{\n            'v': 29026930,\n            'f': \"29026930\",\n        },\n\"Asheville, NC\",\n\"Entire homeapt\",\n{\n            'v': NaN,\n            'f': \"NaN\",\n        },\n\"Asheville\",\n\"North Carolina\"],\n [{\n            'v': 879,\n            'f': \"879\",\n        },\n\"127.00\",\n{\n            'v': 29052301,\n            'f': \"29052301\",\n        },\n\"Asheville, NC\",\n\"Entire homeapt\",\n{\n            'v': NaN,\n            'f': \"NaN\",\n        },\n\"Asheville\",\n\"North Carolina\"],\n [{\n            'v': 880,\n            'f': \"880\",\n        },\n\"106.00\",\n{\n            'v': 29073142,\n            'f': \"29073142\",\n        },\n\"Asheville, NC\",\n\"Entire homeapt\",\n{\n            'v': NaN,\n            'f': \"NaN\",\n        },\n\"Asheville\",\n\"North Carolina\"],\n [{\n            'v': 881,\n            'f': \"881\",\n        },\n\"119.00\",\n{\n            'v': 29098489,\n            'f': \"29098489\",\n        },\n\"United States\",\n\"Entire homeapt\",\n{\n            'v': NaN,\n            'f': \"NaN\",\n        },\n\"Asheville\",\n\"North Carolina\"],\n [{\n            'v': 882,\n            'f': \"882\",\n        },\n\"119.00\",\n{\n            'v': 29125407,\n            'f': \"29125407\",\n        },\n\"Asheville, NC\",\n\"Entire homeapt\",\n{\n            'v': NaN,\n            'f': \"NaN\",\n        },\n\"Asheville\",\n\"North Carolina\"],\n [{\n            'v': 883,\n            'f': \"883\",\n        },\n\"100.00\",\n{\n            'v': 29180843,\n            'f': \"29180843\",\n        },\n\"North Carolina, United States\",\n\"Entire homeapt\",\n{\n            'v': NaN,\n            'f': \"NaN\",\n        },\n\"Asheville\",\n\"North Carolina\"],\n [{\n            'v': 884,\n            'f': \"884\",\n        },\n\"90.00\",\n{\n            'v': 29187033,\n            'f': \"29187033\",\n        },\n\"North Carolina, United States\",\n\"Entire homeapt\",\n{\n            'v': NaN,\n            'f': \"NaN\",\n        },\n\"Asheville\",\n\"North Carolina\"],\n [{\n            'v': 885,\n            'f': \"885\",\n        },\n\"99.00\",\n{\n            'v': 29204619,\n            'f': \"29204619\",\n        },\n\"Asheville, NC\",\n\"Entire homeapt\",\n{\n            'v': NaN,\n            'f': \"NaN\",\n        },\n\"Asheville\",\n\"North Carolina\"],\n [{\n            'v': 886,\n            'f': \"886\",\n        },\n\"72.00\",\n{\n            'v': 29208295,\n            'f': \"29208295\",\n        },\n\"Asheville, NC\",\n\"Private room\",\n{\n            'v': NaN,\n            'f': \"NaN\",\n        },\n\"Asheville\",\n\"North Carolina\"],\n [{\n            'v': 887,\n            'f': \"887\",\n        },\n\"100.00\",\n{\n            'v': 29228806,\n            'f': \"29228806\",\n        },\n\"Asheville, NC\",\n\"Entire homeapt\",\n{\n            'v': NaN,\n            'f': \"NaN\",\n        },\n\"Asheville\",\n\"North Carolina\"],\n [{\n            'v': 888,\n            'f': \"888\",\n        },\n\"379.00\",\n{\n            'v': 29301481,\n            'f': \"29301481\",\n        },\n\"Asheville, NC\",\n\"Entire homeapt\",\n{\n            'v': NaN,\n            'f': \"NaN\",\n        },\n\"Asheville\",\n\"North Carolina\"],\n [{\n            'v': 889,\n            'f': \"889\",\n        },\n\"227.00\",\n{\n            'v': 29358894,\n            'f': \"29358894\",\n        },\n\"Asheville, NC\",\n\"Entire homeapt\",\n{\n            'v': NaN,\n            'f': \"NaN\",\n        },\n\"Asheville\",\n\"North Carolina\"],\n [{\n            'v': 890,\n            'f': \"890\",\n        },\n\"64.00\",\n{\n            'v': 29482441,\n            'f': \"29482441\",\n        },\n\"Asheville, NC\",\n\"Entire homeapt\",\n{\n            'v': NaN,\n            'f': \"NaN\",\n        },\n\"Asheville\",\n\"North Carolina\"],\n [{\n            'v': 891,\n            'f': \"891\",\n        },\n\"88.00\",\n{\n            'v': 29488398,\n            'f': \"29488398\",\n        },\n\"Asheville, NC\",\n\"Entire homeapt\",\n{\n            'v': NaN,\n            'f': \"NaN\",\n        },\n\"Asheville\",\n\"North Carolina\"],\n [{\n            'v': 892,\n            'f': \"892\",\n        },\n\"130.00\",\n{\n            'v': 29495159,\n            'f': \"29495159\",\n        },\n\"Asheville, NC\",\n\"Entire homeapt\",\n{\n            'v': NaN,\n            'f': \"NaN\",\n        },\n\"Asheville\",\n\"North Carolina\"],\n [{\n            'v': 893,\n            'f': \"893\",\n        },\n\"66.00\",\n{\n            'v': 29634104,\n            'f': \"29634104\",\n        },\n\"Asheville, NC\",\n\"Entire homeapt\",\n{\n            'v': NaN,\n            'f': \"NaN\",\n        },\n\"Asheville\",\n\"North Carolina\"],\n [{\n            'v': 894,\n            'f': \"894\",\n        },\n\"97.00\",\n{\n            'v': 29657686,\n            'f': \"29657686\",\n        },\n\"Asheville, NC\",\n\"Entire homeapt\",\n{\n            'v': NaN,\n            'f': \"NaN\",\n        },\n\"Asheville\",\n\"North Carolina\"],\n [{\n            'v': 895,\n            'f': \"895\",\n        },\n\"154.00\",\n{\n            'v': 29659193,\n            'f': \"29659193\",\n        },\n\"Asheville, NC\",\n\"Entire homeapt\",\n{\n            'v': NaN,\n            'f': \"NaN\",\n        },\n\"Asheville\",\n\"North Carolina\"],\n [{\n            'v': 896,\n            'f': \"896\",\n        },\n\"220.00\",\n{\n            'v': 29674621,\n            'f': \"29674621\",\n        },\n\"Asheville, NC\",\n\"Entire homeapt\",\n{\n            'v': NaN,\n            'f': \"NaN\",\n        },\n\"Asheville\",\n\"North Carolina\"],\n [{\n            'v': 897,\n            'f': \"897\",\n        },\n\"69.00\",\n{\n            'v': 29678853,\n            'f': \"29678853\",\n        },\n\"Asheville, NC\",\n\"Entire homeapt\",\n{\n            'v': NaN,\n            'f': \"NaN\",\n        },\n\"Asheville\",\n\"North Carolina\"],\n [{\n            'v': 898,\n            'f': \"898\",\n        },\n\"85.00\",\n{\n            'v': 29680084,\n            'f': \"29680084\",\n        },\n\"Asheville, NC\",\n\"Private room\",\n{\n            'v': NaN,\n            'f': \"NaN\",\n        },\n\"Asheville\",\n\"North Carolina\"],\n [{\n            'v': 899,\n            'f': \"899\",\n        },\n\"645.00\",\n{\n            'v': 29732553,\n            'f': \"29732553\",\n        },\n\"Boston, MA\",\n\"Entire homeapt\",\n{\n            'v': NaN,\n            'f': \"NaN\",\n        },\n\"Asheville\",\n\"North Carolina\"],\n [{\n            'v': 900,\n            'f': \"900\",\n        },\n\"80.00\",\n{\n            'v': 29777058,\n            'f': \"29777058\",\n        },\n\"Asheville, NC\",\n\"Private room\",\n{\n            'v': NaN,\n            'f': \"NaN\",\n        },\n\"Asheville\",\n\"North Carolina\"],\n [{\n            'v': 901,\n            'f': \"901\",\n        },\n\"383.00\",\n{\n            'v': 29791163,\n            'f': \"29791163\",\n        },\n\"Asheville, NC\",\n\"Entire homeapt\",\n{\n            'v': NaN,\n            'f': \"NaN\",\n        },\n\"Asheville\",\n\"North Carolina\"],\n [{\n            'v': 902,\n            'f': \"902\",\n        },\n\"563.00\",\n{\n            'v': 29793507,\n            'f': \"29793507\",\n        },\n\"Asheville, NC\",\n\"Entire homeapt\",\n{\n            'v': NaN,\n            'f': \"NaN\",\n        },\n\"Asheville\",\n\"North Carolina\"],\n [{\n            'v': 903,\n            'f': \"903\",\n        },\n\"96.00\",\n{\n            'v': 29798879,\n            'f': \"29798879\",\n        },\n\"Asheville, NC\",\n\"Entire homeapt\",\n{\n            'v': NaN,\n            'f': \"NaN\",\n        },\n\"Asheville\",\n\"North Carolina\"],\n [{\n            'v': 904,\n            'f': \"904\",\n        },\n\"156.00\",\n{\n            'v': 29852630,\n            'f': \"29852630\",\n        },\n\"Asheville, NC\",\n\"Entire homeapt\",\n{\n            'v': NaN,\n            'f': \"NaN\",\n        },\n\"Asheville\",\n\"North Carolina\"],\n [{\n            'v': 905,\n            'f': \"905\",\n        },\n\"109.00\",\n{\n            'v': 29852695,\n            'f': \"29852695\",\n        },\n\"Asheville, NC\",\n\"Entire homeapt\",\n{\n            'v': NaN,\n            'f': \"NaN\",\n        },\n\"Asheville\",\n\"North Carolina\"],\n [{\n            'v': 906,\n            'f': \"906\",\n        },\n\"213.00\",\n{\n            'v': 29871451,\n            'f': \"29871451\",\n        },\nNaN,\n\"Entire homeapt\",\n{\n            'v': NaN,\n            'f': \"NaN\",\n        },\n\"Asheville\",\n\"North Carolina\"],\n [{\n            'v': 907,\n            'f': \"907\",\n        },\n\"336.00\",\n{\n            'v': 29885976,\n            'f': \"29885976\",\n        },\nNaN,\n\"Entire homeapt\",\n{\n            'v': NaN,\n            'f': \"NaN\",\n        },\n\"Asheville\",\n\"North Carolina\"],\n [{\n            'v': 908,\n            'f': \"908\",\n        },\n\"213.00\",\n{\n            'v': 29886393,\n            'f': \"29886393\",\n        },\nNaN,\n\"Entire homeapt\",\n{\n            'v': NaN,\n            'f': \"NaN\",\n        },\n\"Asheville\",\n\"North Carolina\"],\n [{\n            'v': 909,\n            'f': \"909\",\n        },\n\"193.00\",\n{\n            'v': 29895223,\n            'f': \"29895223\",\n        },\n\"Asheville, NC\",\n\"Entire homeapt\",\n{\n            'v': NaN,\n            'f': \"NaN\",\n        },\n\"Asheville\",\n\"North Carolina\"],\n [{\n            'v': 910,\n            'f': \"910\",\n        },\n\"99.00\",\n{\n            'v': 29902436,\n            'f': \"29902436\",\n        },\n\"Asheville, NC\",\n\"Entire homeapt\",\n{\n            'v': NaN,\n            'f': \"NaN\",\n        },\n\"Asheville\",\n\"North Carolina\"],\n [{\n            'v': 911,\n            'f': \"911\",\n        },\n\"109.00\",\n{\n            'v': 29928828,\n            'f': \"29928828\",\n        },\n\"Asheville, NC\",\n\"Entire homeapt\",\n{\n            'v': NaN,\n            'f': \"NaN\",\n        },\n\"Asheville\",\n\"North Carolina\"],\n [{\n            'v': 912,\n            'f': \"912\",\n        },\n\"79.00\",\n{\n            'v': 30020759,\n            'f': \"30020759\",\n        },\n\"Asheville, NC\",\n\"Entire homeapt\",\n{\n            'v': NaN,\n            'f': \"NaN\",\n        },\n\"Asheville\",\n\"North Carolina\"],\n [{\n            'v': 913,\n            'f': \"913\",\n        },\n\"250.00\",\n{\n            'v': 30037833,\n            'f': \"30037833\",\n        },\n\"Asheville, NC\",\n\"Entire homeapt\",\n{\n            'v': NaN,\n            'f': \"NaN\",\n        },\n\"Asheville\",\n\"North Carolina\"],\n [{\n            'v': 914,\n            'f': \"914\",\n        },\n\"120.00\",\n{\n            'v': 30043315,\n            'f': \"30043315\",\n        },\n\"Asheville, NC\",\n\"Entire homeapt\",\n{\n            'v': NaN,\n            'f': \"NaN\",\n        },\n\"Asheville\",\n\"North Carolina\"],\n [{\n            'v': 915,\n            'f': \"915\",\n        },\n\"106.00\",\n{\n            'v': 30050870,\n            'f': \"30050870\",\n        },\n\"Asheville, NC\",\n\"Entire homeapt\",\n{\n            'v': NaN,\n            'f': \"NaN\",\n        },\n\"Asheville\",\n\"North Carolina\"],\n [{\n            'v': 916,\n            'f': \"916\",\n        },\n\"321.00\",\n{\n            'v': 30067056,\n            'f': \"30067056\",\n        },\nNaN,\n\"Entire homeapt\",\n{\n            'v': NaN,\n            'f': \"NaN\",\n        },\n\"Asheville\",\n\"North Carolina\"],\n [{\n            'v': 917,\n            'f': \"917\",\n        },\n\"429.00\",\n{\n            'v': 30067870,\n            'f': \"30067870\",\n        },\n\"Asheville, NC\",\n\"Entire homeapt\",\n{\n            'v': NaN,\n            'f': \"NaN\",\n        },\n\"Asheville\",\n\"North Carolina\"],\n [{\n            'v': 918,\n            'f': \"918\",\n        },\n\"86.00\",\n{\n            'v': 30069015,\n            'f': \"30069015\",\n        },\n\"Asheville, NC\",\n\"Entire homeapt\",\n{\n            'v': NaN,\n            'f': \"NaN\",\n        },\n\"Asheville\",\n\"North Carolina\"],\n [{\n            'v': 919,\n            'f': \"919\",\n        },\n\"194.00\",\n{\n            'v': 30085585,\n            'f': \"30085585\",\n        },\n\"Asheville, NC\",\n\"Entire homeapt\",\n{\n            'v': NaN,\n            'f': \"NaN\",\n        },\n\"Asheville\",\n\"North Carolina\"],\n [{\n            'v': 920,\n            'f': \"920\",\n        },\n\"499.00\",\n{\n            'v': 30103018,\n            'f': \"30103018\",\n        },\nNaN,\n\"Entire homeapt\",\n{\n            'v': NaN,\n            'f': \"NaN\",\n        },\n\"Asheville\",\n\"North Carolina\"],\n [{\n            'v': 921,\n            'f': \"921\",\n        },\n\"95.00\",\n{\n            'v': 30126158,\n            'f': \"30126158\",\n        },\n\"Asheville, NC\",\n\"Entire homeapt\",\n{\n            'v': NaN,\n            'f': \"NaN\",\n        },\n\"Asheville\",\n\"North Carolina\"],\n [{\n            'v': 922,\n            'f': \"922\",\n        },\n\"145.00\",\n{\n            'v': 30174581,\n            'f': \"30174581\",\n        },\n\"Asheville, NC\",\n\"Entire homeapt\",\n{\n            'v': NaN,\n            'f': \"NaN\",\n        },\n\"Asheville\",\n\"North Carolina\"],\n [{\n            'v': 923,\n            'f': \"923\",\n        },\n\"55.00\",\n{\n            'v': 30183789,\n            'f': \"30183789\",\n        },\n\"Asheville, NC\",\n\"Private room\",\n{\n            'v': NaN,\n            'f': \"NaN\",\n        },\n\"Asheville\",\n\"North Carolina\"],\n [{\n            'v': 924,\n            'f': \"924\",\n        },\n\"185.00\",\n{\n            'v': 30200015,\n            'f': \"30200015\",\n        },\n\"Asheville, NC\",\n\"Entire homeapt\",\n{\n            'v': NaN,\n            'f': \"NaN\",\n        },\n\"Asheville\",\n\"North Carolina\"],\n [{\n            'v': 925,\n            'f': \"925\",\n        },\n\"1,157.00\",\n{\n            'v': 30232435,\n            'f': \"30232435\",\n        },\n\"Asheville, NC\",\n\"Entire homeapt\",\n{\n            'v': NaN,\n            'f': \"NaN\",\n        },\n\"Asheville\",\n\"North Carolina\"],\n [{\n            'v': 926,\n            'f': \"926\",\n        },\n\"104.00\",\n{\n            'v': 30247995,\n            'f': \"30247995\",\n        },\n\"Asheville, NC\",\n\"Entire homeapt\",\n{\n            'v': NaN,\n            'f': \"NaN\",\n        },\n\"Asheville\",\n\"North Carolina\"],\n [{\n            'v': 927,\n            'f': \"927\",\n        },\n\"86.00\",\n{\n            'v': 30336545,\n            'f': \"30336545\",\n        },\n\"Asheville, NC\",\n\"Private room\",\n{\n            'v': NaN,\n            'f': \"NaN\",\n        },\n\"Asheville\",\n\"North Carolina\"],\n [{\n            'v': 928,\n            'f': \"928\",\n        },\n\"77.00\",\n{\n            'v': 30376123,\n            'f': \"30376123\",\n        },\n\"Asheville, NC\",\n\"Entire homeapt\",\n{\n            'v': NaN,\n            'f': \"NaN\",\n        },\n\"Asheville\",\n\"North Carolina\"],\n [{\n            'v': 929,\n            'f': \"929\",\n        },\n\"155.00\",\n{\n            'v': 30467126,\n            'f': \"30467126\",\n        },\n\"Asheville, NC\",\n\"Entire homeapt\",\n{\n            'v': NaN,\n            'f': \"NaN\",\n        },\n\"Asheville\",\n\"North Carolina\"],\n [{\n            'v': 930,\n            'f': \"930\",\n        },\n\"119.00\",\n{\n            'v': 30509573,\n            'f': \"30509573\",\n        },\n\"Asheville, NC\",\n\"Entire homeapt\",\n{\n            'v': NaN,\n            'f': \"NaN\",\n        },\n\"Asheville\",\n\"North Carolina\"],\n [{\n            'v': 931,\n            'f': \"931\",\n        },\n\"120.00\",\n{\n            'v': 30528834,\n            'f': \"30528834\",\n        },\n\"Asheville, NC\",\n\"Entire homeapt\",\n{\n            'v': NaN,\n            'f': \"NaN\",\n        },\n\"Asheville\",\n\"North Carolina\"],\n [{\n            'v': 932,\n            'f': \"932\",\n        },\n\"271.00\",\n{\n            'v': 30530457,\n            'f': \"30530457\",\n        },\n\"Asheville, NC\",\n\"Entire homeapt\",\n{\n            'v': NaN,\n            'f': \"NaN\",\n        },\n\"Asheville\",\n\"North Carolina\"],\n [{\n            'v': 933,\n            'f': \"933\",\n        },\n\"95.00\",\n{\n            'v': 30533902,\n            'f': \"30533902\",\n        },\n\"Asheville, NC\",\n\"Entire homeapt\",\n{\n            'v': NaN,\n            'f': \"NaN\",\n        },\n\"Asheville\",\n\"North Carolina\"],\n [{\n            'v': 934,\n            'f': \"934\",\n        },\n\"106.00\",\n{\n            'v': 30558665,\n            'f': \"30558665\",\n        },\n\"Asheville, NC\",\n\"Private room\",\n{\n            'v': NaN,\n            'f': \"NaN\",\n        },\n\"Asheville\",\n\"North Carolina\"],\n [{\n            'v': 935,\n            'f': \"935\",\n        },\n\"289.00\",\n{\n            'v': 30565966,\n            'f': \"30565966\",\n        },\n\"Asheville, NC\",\n\"Entire homeapt\",\n{\n            'v': NaN,\n            'f': \"NaN\",\n        },\n\"Asheville\",\n\"North Carolina\"],\n [{\n            'v': 936,\n            'f': \"936\",\n        },\n\"70.00\",\n{\n            'v': 30654481,\n            'f': \"30654481\",\n        },\n\"Fletcher, NC\",\n\"Entire homeapt\",\n{\n            'v': NaN,\n            'f': \"NaN\",\n        },\n\"Asheville\",\n\"North Carolina\"],\n [{\n            'v': 937,\n            'f': \"937\",\n        },\n\"81.00\",\n{\n            'v': 30686620,\n            'f': \"30686620\",\n        },\n\"Asheville, NC\",\n\"Entire homeapt\",\n{\n            'v': NaN,\n            'f': \"NaN\",\n        },\n\"Asheville\",\n\"North Carolina\"],\n [{\n            'v': 938,\n            'f': \"938\",\n        },\n\"68.00\",\n{\n            'v': 30726583,\n            'f': \"30726583\",\n        },\n\"Arden, NC\",\n\"Entire homeapt\",\n{\n            'v': NaN,\n            'f': \"NaN\",\n        },\n\"Asheville\",\n\"North Carolina\"],\n [{\n            'v': 939,\n            'f': \"939\",\n        },\n\"1,450.00\",\n{\n            'v': 30766159,\n            'f': \"30766159\",\n        },\nNaN,\n\"Entire homeapt\",\n{\n            'v': NaN,\n            'f': \"NaN\",\n        },\n\"Asheville\",\n\"North Carolina\"],\n [{\n            'v': 940,\n            'f': \"940\",\n        },\n\"102.00\",\n{\n            'v': 30853857,\n            'f': \"30853857\",\n        },\n\"Asheville, NC\",\n\"Entire homeapt\",\n{\n            'v': NaN,\n            'f': \"NaN\",\n        },\n\"Asheville\",\n\"North Carolina\"],\n [{\n            'v': 941,\n            'f': \"941\",\n        },\n\"92.00\",\n{\n            'v': 30913262,\n            'f': \"30913262\",\n        },\n\"Asheville, NC\",\n\"Entire homeapt\",\n{\n            'v': NaN,\n            'f': \"NaN\",\n        },\n\"Asheville\",\n\"North Carolina\"],\n [{\n            'v': 942,\n            'f': \"942\",\n        },\n\"160.00\",\n{\n            'v': 30914894,\n            'f': \"30914894\",\n        },\n\"San Francisco, CA\",\n\"Entire homeapt\",\n{\n            'v': NaN,\n            'f': \"NaN\",\n        },\n\"Asheville\",\n\"North Carolina\"],\n [{\n            'v': 943,\n            'f': \"943\",\n        },\n\"188.00\",\n{\n            'v': 31018757,\n            'f': \"31018757\",\n        },\n\"Asheville, NC\",\n\"Entire homeapt\",\n{\n            'v': NaN,\n            'f': \"NaN\",\n        },\n\"Asheville\",\n\"North Carolina\"],\n [{\n            'v': 944,\n            'f': \"944\",\n        },\n\"76.00\",\n{\n            'v': 31071936,\n            'f': \"31071936\",\n        },\n\"Asheville, NC\",\n\"Entire homeapt\",\n{\n            'v': NaN,\n            'f': \"NaN\",\n        },\n\"Asheville\",\n\"North Carolina\"],\n [{\n            'v': 945,\n            'f': \"945\",\n        },\n\"232.00\",\n{\n            'v': 31087353,\n            'f': \"31087353\",\n        },\n\"Asheville, NC\",\n\"Entire homeapt\",\n{\n            'v': NaN,\n            'f': \"NaN\",\n        },\n\"Asheville\",\n\"North Carolina\"],\n [{\n            'v': 946,\n            'f': \"946\",\n        },\n\"86.00\",\n{\n            'v': 31089456,\n            'f': \"31089456\",\n        },\n\"Johnson City, TN\",\n\"Private room\",\n{\n            'v': NaN,\n            'f': \"NaN\",\n        },\n\"Asheville\",\n\"North Carolina\"],\n [{\n            'v': 947,\n            'f': \"947\",\n        },\n\"100.00\",\n{\n            'v': 31186872,\n            'f': \"31186872\",\n        },\n\"Asheville, NC\",\n\"Entire homeapt\",\n{\n            'v': NaN,\n            'f': \"NaN\",\n        },\n\"Asheville\",\n\"North Carolina\"],\n [{\n            'v': 948,\n            'f': \"948\",\n        },\n\"107.00\",\n{\n            'v': 31194218,\n            'f': \"31194218\",\n        },\n\"Asheville, NC\",\n\"Entire homeapt\",\n{\n            'v': NaN,\n            'f': \"NaN\",\n        },\n\"Asheville\",\n\"North Carolina\"],\n [{\n            'v': 949,\n            'f': \"949\",\n        },\n\"60.00\",\n{\n            'v': 31208516,\n            'f': \"31208516\",\n        },\n\"Asheville, NC\",\n\"Private room\",\n{\n            'v': NaN,\n            'f': \"NaN\",\n        },\n\"Asheville\",\n\"North Carolina\"],\n [{\n            'v': 950,\n            'f': \"950\",\n        },\n\"275.00\",\n{\n            'v': 31219623,\n            'f': \"31219623\",\n        },\n\"Asheville, NC\",\n\"Entire homeapt\",\n{\n            'v': NaN,\n            'f': \"NaN\",\n        },\n\"Asheville\",\n\"North Carolina\"],\n [{\n            'v': 951,\n            'f': \"951\",\n        },\n\"151.00\",\n{\n            'v': 31241544,\n            'f': \"31241544\",\n        },\n\"Asheville, NC\",\n\"Entire homeapt\",\n{\n            'v': NaN,\n            'f': \"NaN\",\n        },\n\"Asheville\",\n\"North Carolina\"],\n [{\n            'v': 952,\n            'f': \"952\",\n        },\n\"282.00\",\n{\n            'v': 31260007,\n            'f': \"31260007\",\n        },\n\"Asheville, NC\",\n\"Entire homeapt\",\n{\n            'v': NaN,\n            'f': \"NaN\",\n        },\n\"Asheville\",\n\"North Carolina\"],\n [{\n            'v': 953,\n            'f': \"953\",\n        },\n\"277.00\",\n{\n            'v': 31260089,\n            'f': \"31260089\",\n        },\n\"Asheville, NC\",\n\"Entire homeapt\",\n{\n            'v': NaN,\n            'f': \"NaN\",\n        },\n\"Asheville\",\n\"North Carolina\"],\n [{\n            'v': 954,\n            'f': \"954\",\n        },\n\"162.00\",\n{\n            'v': 31267687,\n            'f': \"31267687\",\n        },\n\"Asheville, NC\",\n\"Entire homeapt\",\n{\n            'v': NaN,\n            'f': \"NaN\",\n        },\n\"Asheville\",\n\"North Carolina\"],\n [{\n            'v': 955,\n            'f': \"955\",\n        },\n\"406.00\",\n{\n            'v': 31315518,\n            'f': \"31315518\",\n        },\n\"Asheville, NC\",\n\"Entire homeapt\",\n{\n            'v': NaN,\n            'f': \"NaN\",\n        },\n\"Asheville\",\n\"North Carolina\"],\n [{\n            'v': 956,\n            'f': \"956\",\n        },\n\"241.00\",\n{\n            'v': 31318558,\n            'f': \"31318558\",\n        },\n\"Asheville, NC\",\n\"Entire homeapt\",\n{\n            'v': NaN,\n            'f': \"NaN\",\n        },\n\"Asheville\",\n\"North Carolina\"],\n [{\n            'v': 957,\n            'f': \"957\",\n        },\n\"193.00\",\n{\n            'v': 31318559,\n            'f': \"31318559\",\n        },\n\"Asheville, NC\",\n\"Entire homeapt\",\n{\n            'v': NaN,\n            'f': \"NaN\",\n        },\n\"Asheville\",\n\"North Carolina\"],\n [{\n            'v': 958,\n            'f': \"958\",\n        },\n\"185.00\",\n{\n            'v': 31318560,\n            'f': \"31318560\",\n        },\n\"Asheville, NC\",\n\"Entire homeapt\",\n{\n            'v': NaN,\n            'f': \"NaN\",\n        },\n\"Asheville\",\n\"North Carolina\"],\n [{\n            'v': 959,\n            'f': \"959\",\n        },\n\"241.00\",\n{\n            'v': 31318561,\n            'f': \"31318561\",\n        },\n\"Asheville, NC\",\n\"Entire homeapt\",\n{\n            'v': NaN,\n            'f': \"NaN\",\n        },\n\"Asheville\",\n\"North Carolina\"],\n [{\n            'v': 960,\n            'f': \"960\",\n        },\n\"219.00\",\n{\n            'v': 31318562,\n            'f': \"31318562\",\n        },\n\"Asheville, NC\",\n\"Entire homeapt\",\n{\n            'v': NaN,\n            'f': \"NaN\",\n        },\n\"Asheville\",\n\"North Carolina\"],\n [{\n            'v': 961,\n            'f': \"961\",\n        },\n\"255.00\",\n{\n            'v': 31318564,\n            'f': \"31318564\",\n        },\n\"Asheville, NC\",\n\"Entire homeapt\",\n{\n            'v': NaN,\n            'f': \"NaN\",\n        },\n\"Asheville\",\n\"North Carolina\"],\n [{\n            'v': 962,\n            'f': \"962\",\n        },\n\"358.00\",\n{\n            'v': 31318566,\n            'f': \"31318566\",\n        },\n\"Asheville, NC\",\n\"Entire homeapt\",\n{\n            'v': NaN,\n            'f': \"NaN\",\n        },\n\"Asheville\",\n\"North Carolina\"],\n [{\n            'v': 963,\n            'f': \"963\",\n        },\n\"188.00\",\n{\n            'v': 31321220,\n            'f': \"31321220\",\n        },\n\"Asheville, NC\",\n\"Entire homeapt\",\n{\n            'v': NaN,\n            'f': \"NaN\",\n        },\n\"Asheville\",\n\"North Carolina\"],\n [{\n            'v': 964,\n            'f': \"964\",\n        },\n\"109.00\",\n{\n            'v': 31337044,\n            'f': \"31337044\",\n        },\n\"Asheville, NC\",\n\"Entire homeapt\",\n{\n            'v': NaN,\n            'f': \"NaN\",\n        },\n\"Asheville\",\n\"North Carolina\"],\n [{\n            'v': 965,\n            'f': \"965\",\n        },\n\"120.00\",\n{\n            'v': 31380319,\n            'f': \"31380319\",\n        },\n\"Charleston, SC\",\n\"Entire homeapt\",\n{\n            'v': NaN,\n            'f': \"NaN\",\n        },\n\"Asheville\",\n\"North Carolina\"],\n [{\n            'v': 966,\n            'f': \"966\",\n        },\n\"200.00\",\n{\n            'v': 31380330,\n            'f': \"31380330\",\n        },\n\"Asheville, NC\",\n\"Entire homeapt\",\n{\n            'v': NaN,\n            'f': \"NaN\",\n        },\n\"Asheville\",\n\"North Carolina\"],\n [{\n            'v': 967,\n            'f': \"967\",\n        },\n\"183.00\",\n{\n            'v': 31407515,\n            'f': \"31407515\",\n        },\n\"Asheville, NC\",\n\"Entire homeapt\",\n{\n            'v': NaN,\n            'f': \"NaN\",\n        },\n\"Asheville\",\n\"North Carolina\"],\n [{\n            'v': 968,\n            'f': \"968\",\n        },\n\"285.00\",\n{\n            'v': 31411427,\n            'f': \"31411427\",\n        },\n\"Asheville, NC\",\n\"Entire homeapt\",\n{\n            'v': NaN,\n            'f': \"NaN\",\n        },\n\"Asheville\",\n\"North Carolina\"],\n [{\n            'v': 969,\n            'f': \"969\",\n        },\n\"272.00\",\n{\n            'v': 31411568,\n            'f': \"31411568\",\n        },\n\"Asheville, NC\",\n\"Entire homeapt\",\n{\n            'v': NaN,\n            'f': \"NaN\",\n        },\n\"Asheville\",\n\"North Carolina\"],\n [{\n            'v': 970,\n            'f': \"970\",\n        },\n\"285.00\",\n{\n            'v': 31412553,\n            'f': \"31412553\",\n        },\n\"Asheville, NC\",\n\"Entire homeapt\",\n{\n            'v': NaN,\n            'f': \"NaN\",\n        },\n\"Asheville\",\n\"North Carolina\"],\n [{\n            'v': 971,\n            'f': \"971\",\n        },\n\"527.00\",\n{\n            'v': 31414815,\n            'f': \"31414815\",\n        },\n\"Charleston, SC\",\n\"Entire homeapt\",\n{\n            'v': NaN,\n            'f': \"NaN\",\n        },\n\"Asheville\",\n\"North Carolina\"],\n [{\n            'v': 972,\n            'f': \"972\",\n        },\n\"125.00\",\n{\n            'v': 31460257,\n            'f': \"31460257\",\n        },\n\"Asheville, NC\",\n\"Entire homeapt\",\n{\n            'v': NaN,\n            'f': \"NaN\",\n        },\n\"Asheville\",\n\"North Carolina\"],\n [{\n            'v': 973,\n            'f': \"973\",\n        },\n\"402.00\",\n{\n            'v': 31470914,\n            'f': \"31470914\",\n        },\nNaN,\n\"Entire homeapt\",\n{\n            'v': NaN,\n            'f': \"NaN\",\n        },\n\"Asheville\",\n\"North Carolina\"],\n [{\n            'v': 974,\n            'f': \"974\",\n        },\n\"71.00\",\n{\n            'v': 31493518,\n            'f': \"31493518\",\n        },\n\"Asheville, NC\",\n\"Entire homeapt\",\n{\n            'v': NaN,\n            'f': \"NaN\",\n        },\n\"Asheville\",\n\"North Carolina\"],\n [{\n            'v': 975,\n            'f': \"975\",\n        },\n\"99.00\",\n{\n            'v': 31511845,\n            'f': \"31511845\",\n        },\n\"Asheville, NC\",\n\"Private room\",\n{\n            'v': NaN,\n            'f': \"NaN\",\n        },\n\"Asheville\",\n\"North Carolina\"],\n [{\n            'v': 976,\n            'f': \"976\",\n        },\n\"88.00\",\n{\n            'v': 31516196,\n            'f': \"31516196\",\n        },\nNaN,\n\"Entire homeapt\",\n{\n            'v': NaN,\n            'f': \"NaN\",\n        },\n\"Asheville\",\n\"North Carolina\"],\n [{\n            'v': 977,\n            'f': \"977\",\n        },\n\"198.00\",\n{\n            'v': 31519951,\n            'f': \"31519951\",\n        },\n\"United States\",\n\"Entire homeapt\",\n{\n            'v': NaN,\n            'f': \"NaN\",\n        },\n\"Asheville\",\n\"North Carolina\"],\n [{\n            'v': 978,\n            'f': \"978\",\n        },\n\"383.00\",\n{\n            'v': 31565062,\n            'f': \"31565062\",\n        },\n\"Asheville, NC\",\n\"Entire homeapt\",\n{\n            'v': NaN,\n            'f': \"NaN\",\n        },\n\"Asheville\",\n\"North Carolina\"],\n [{\n            'v': 979,\n            'f': \"979\",\n        },\n\"125.00\",\n{\n            'v': 31598200,\n            'f': \"31598200\",\n        },\n\"Asheville, NC\",\n\"Entire homeapt\",\n{\n            'v': NaN,\n            'f': \"NaN\",\n        },\n\"Asheville\",\n\"North Carolina\"],\n [{\n            'v': 980,\n            'f': \"980\",\n        },\n\"140.00\",\n{\n            'v': 31608731,\n            'f': \"31608731\",\n        },\n\"Asheville, NC\",\n\"Entire homeapt\",\n{\n            'v': NaN,\n            'f': \"NaN\",\n        },\n\"Asheville\",\n\"North Carolina\"],\n [{\n            'v': 981,\n            'f': \"981\",\n        },\n\"388.00\",\n{\n            'v': 31612713,\n            'f': \"31612713\",\n        },\nNaN,\n\"Entire homeapt\",\n{\n            'v': NaN,\n            'f': \"NaN\",\n        },\n\"Asheville\",\n\"North Carolina\"],\n [{\n            'v': 982,\n            'f': \"982\",\n        },\n\"121.00\",\n{\n            'v': 31621623,\n            'f': \"31621623\",\n        },\n\"Asheville, NC\",\n\"Entire homeapt\",\n{\n            'v': NaN,\n            'f': \"NaN\",\n        },\n\"Asheville\",\n\"North Carolina\"],\n [{\n            'v': 983,\n            'f': \"983\",\n        },\n\"92.00\",\n{\n            'v': 31648019,\n            'f': \"31648019\",\n        },\nNaN,\n\"Entire homeapt\",\n{\n            'v': NaN,\n            'f': \"NaN\",\n        },\n\"Asheville\",\n\"North Carolina\"],\n [{\n            'v': 984,\n            'f': \"984\",\n        },\n\"126.00\",\n{\n            'v': 31681780,\n            'f': \"31681780\",\n        },\n\"Asheville, NC\",\n\"Entire homeapt\",\n{\n            'v': NaN,\n            'f': \"NaN\",\n        },\n\"Asheville\",\n\"North Carolina\"],\n [{\n            'v': 985,\n            'f': \"985\",\n        },\n\"258.00\",\n{\n            'v': 31681782,\n            'f': \"31681782\",\n        },\n\"Asheville, NC\",\n\"Entire homeapt\",\n{\n            'v': NaN,\n            'f': \"NaN\",\n        },\n\"Asheville\",\n\"North Carolina\"],\n [{\n            'v': 986,\n            'f': \"986\",\n        },\n\"294.00\",\n{\n            'v': 31681784,\n            'f': \"31681784\",\n        },\n\"Asheville, NC\",\n\"Entire homeapt\",\n{\n            'v': NaN,\n            'f': \"NaN\",\n        },\n\"Asheville\",\n\"North Carolina\"],\n [{\n            'v': 987,\n            'f': \"987\",\n        },\n\"150.00\",\n{\n            'v': 31682606,\n            'f': \"31682606\",\n        },\n\"Asheville, NC\",\n\"Private room\",\n{\n            'v': NaN,\n            'f': \"NaN\",\n        },\n\"Asheville\",\n\"North Carolina\"],\n [{\n            'v': 988,\n            'f': \"988\",\n        },\n\"106.00\",\n{\n            'v': 31693217,\n            'f': \"31693217\",\n        },\n\"Asheville, NC\",\n\"Entire homeapt\",\n{\n            'v': NaN,\n            'f': \"NaN\",\n        },\n\"Asheville\",\n\"North Carolina\"],\n [{\n            'v': 989,\n            'f': \"989\",\n        },\n\"88.00\",\n{\n            'v': 31834926,\n            'f': \"31834926\",\n        },\n\"Asheville, NC\",\n\"Entire homeapt\",\n{\n            'v': NaN,\n            'f': \"NaN\",\n        },\n\"Asheville\",\n\"North Carolina\"],\n [{\n            'v': 990,\n            'f': \"990\",\n        },\n\"115.00\",\n{\n            'v': 31835900,\n            'f': \"31835900\",\n        },\n\"Asheville, NC\",\n\"Entire homeapt\",\n{\n            'v': NaN,\n            'f': \"NaN\",\n        },\n\"Asheville\",\n\"North Carolina\"],\n [{\n            'v': 991,\n            'f': \"991\",\n        },\n\"82.00\",\n{\n            'v': 31902908,\n            'f': \"31902908\",\n        },\n\"Asheville, NC\",\n\"Entire homeapt\",\n{\n            'v': NaN,\n            'f': \"NaN\",\n        },\n\"Asheville\",\n\"North Carolina\"],\n [{\n            'v': 992,\n            'f': \"992\",\n        },\n\"136.00\",\n{\n            'v': 31906884,\n            'f': \"31906884\",\n        },\n\"Asheville, NC\",\n\"Private room\",\n{\n            'v': NaN,\n            'f': \"NaN\",\n        },\n\"Asheville\",\n\"North Carolina\"],\n [{\n            'v': 993,\n            'f': \"993\",\n        },\n\"189.00\",\n{\n            'v': 31922275,\n            'f': \"31922275\",\n        },\n\"Roswell, GA\",\n\"Entire homeapt\",\n{\n            'v': NaN,\n            'f': \"NaN\",\n        },\n\"Asheville\",\n\"North Carolina\"],\n [{\n            'v': 994,\n            'f': \"994\",\n        },\n\"79.00\",\n{\n            'v': 31986153,\n            'f': \"31986153\",\n        },\n\"Asheville, NC\",\n\"Entire homeapt\",\n{\n            'v': NaN,\n            'f': \"NaN\",\n        },\n\"Asheville\",\n\"North Carolina\"],\n [{\n            'v': 995,\n            'f': \"995\",\n        },\n\"178.00\",\n{\n            'v': 32046748,\n            'f': \"32046748\",\n        },\n\"United States\",\n\"Entire homeapt\",\n{\n            'v': NaN,\n            'f': \"NaN\",\n        },\n\"Asheville\",\n\"North Carolina\"],\n [{\n            'v': 996,\n            'f': \"996\",\n        },\n\"99.00\",\n{\n            'v': 32107182,\n            'f': \"32107182\",\n        },\n\"Asheville, NC\",\n\"Entire homeapt\",\n{\n            'v': NaN,\n            'f': \"NaN\",\n        },\n\"Asheville\",\n\"North Carolina\"],\n [{\n            'v': 997,\n            'f': \"997\",\n        },\n\"264.00\",\n{\n            'v': 32134137,\n            'f': \"32134137\",\n        },\n\"Asheville, NC\",\n\"Entire homeapt\",\n{\n            'v': NaN,\n            'f': \"NaN\",\n        },\n\"Asheville\",\n\"North Carolina\"],\n [{\n            'v': 998,\n            'f': \"998\",\n        },\n\"143.00\",\n{\n            'v': 32164395,\n            'f': \"32164395\",\n        },\n\"Asheville, NC\",\n\"Entire homeapt\",\n{\n            'v': NaN,\n            'f': \"NaN\",\n        },\n\"Asheville\",\n\"North Carolina\"],\n [{\n            'v': 999,\n            'f': \"999\",\n        },\n\"454.00\",\n{\n            'v': 32204669,\n            'f': \"32204669\",\n        },\n\"Fairview, NC\",\n\"Entire homeapt\",\n{\n            'v': NaN,\n            'f': \"NaN\",\n        },\n\"Asheville\",\n\"North Carolina\"]],\n        columns: [[\"number\", \"index\"], [\"string\", \"price\"], [\"number\", \"id\"], [\"string\", \"host_location\"], [\"string\", \"room_type\"], [\"number\", \"neighbourhood_cleansed\"], [\"string\", \"city\"], [\"string\", \"state\"]],\n        columnOptions: [{\"width\": \"1px\", \"className\": \"index_column\"}],\n        rowsPerPage: 25,\n        helpUrl: \"https://colab.research.google.com/notebooks/data_table.ipynb\",\n        suppressOutputScrolling: true,\n        minimumWidth: undefined,\n      });\n\n      function appendQuickchartButton(parentElement) {\n        let quickchartButtonContainerElement = document.createElement('div');\n        quickchartButtonContainerElement.innerHTML = `\n<div id=\"df-589659be-7d4d-471d-a040-c35cb39906f5\">\n  <button class=\"colab-df-quickchart\" onclick=\"quickchart('df-589659be-7d4d-471d-a040-c35cb39906f5')\"\n            title=\"Suggest charts\"\n            style=\"display:none;\">\n    \n<svg xmlns=\"http://www.w3.org/2000/svg\" height=\"24px\"viewBox=\"0 0 24 24\"\n     width=\"24px\">\n    <g>\n        <path d=\"M19 3H5c-1.1 0-2 .9-2 2v14c0 1.1.9 2 2 2h14c1.1 0 2-.9 2-2V5c0-1.1-.9-2-2-2zM9 17H7v-7h2v7zm4 0h-2V7h2v10zm4 0h-2v-4h2v4z\"/>\n    </g>\n</svg>\n  </button>\n  \n<style>\n  .colab-df-quickchart {\n      --bg-color: #E8F0FE;\n      --fill-color: #1967D2;\n      --hover-bg-color: #E2EBFA;\n      --hover-fill-color: #174EA6;\n      --disabled-fill-color: #AAA;\n      --disabled-bg-color: #DDD;\n  }\n\n  [theme=dark] .colab-df-quickchart {\n      --bg-color: #3B4455;\n      --fill-color: #D2E3FC;\n      --hover-bg-color: #434B5C;\n      --hover-fill-color: #FFFFFF;\n      --disabled-bg-color: #3B4455;\n      --disabled-fill-color: #666;\n  }\n\n  .colab-df-quickchart {\n    background-color: var(--bg-color);\n    border: none;\n    border-radius: 50%;\n    cursor: pointer;\n    display: none;\n    fill: var(--fill-color);\n    height: 32px;\n    padding: 0;\n    width: 32px;\n  }\n\n  .colab-df-quickchart:hover {\n    background-color: var(--hover-bg-color);\n    box-shadow: 0 1px 2px rgba(60, 64, 67, 0.3), 0 1px 3px 1px rgba(60, 64, 67, 0.15);\n    fill: var(--button-hover-fill-color);\n  }\n\n  .colab-df-quickchart-complete:disabled,\n  .colab-df-quickchart-complete:disabled:hover {\n    background-color: var(--disabled-bg-color);\n    fill: var(--disabled-fill-color);\n    box-shadow: none;\n  }\n\n  .colab-df-spinner {\n    border: 2px solid var(--fill-color);\n    border-color: transparent;\n    border-bottom-color: var(--fill-color);\n    animation:\n      spin 1s steps(1) infinite;\n  }\n\n  @keyframes spin {\n    0% {\n      border-color: transparent;\n      border-bottom-color: var(--fill-color);\n      border-left-color: var(--fill-color);\n    }\n    20% {\n      border-color: transparent;\n      border-left-color: var(--fill-color);\n      border-top-color: var(--fill-color);\n    }\n    30% {\n      border-color: transparent;\n      border-left-color: var(--fill-color);\n      border-top-color: var(--fill-color);\n      border-right-color: var(--fill-color);\n    }\n    40% {\n      border-color: transparent;\n      border-right-color: var(--fill-color);\n      border-top-color: var(--fill-color);\n    }\n    60% {\n      border-color: transparent;\n      border-right-color: var(--fill-color);\n    }\n    80% {\n      border-color: transparent;\n      border-right-color: var(--fill-color);\n      border-bottom-color: var(--fill-color);\n    }\n    90% {\n      border-color: transparent;\n      border-bottom-color: var(--fill-color);\n    }\n  }\n</style>\n\n  <script>\n    async function quickchart(key) {\n      const quickchartButtonEl =\n        document.querySelector('#' + key + ' button');\n      quickchartButtonEl.disabled = true;  // To prevent multiple clicks.\n      quickchartButtonEl.classList.add('colab-df-spinner');\n      try {\n        const charts = await google.colab.kernel.invokeFunction(\n            'suggestCharts', [key], {});\n      } catch (error) {\n        console.error('Error during call to suggestCharts:', error);\n      }\n      quickchartButtonEl.classList.remove('colab-df-spinner');\n      quickchartButtonEl.classList.add('colab-df-quickchart-complete');\n    }\n    (() => {\n      let quickchartButtonEl =\n        document.querySelector('#df-589659be-7d4d-471d-a040-c35cb39906f5 button');\n      quickchartButtonEl.style.display =\n        google.colab.kernel.accessAllowed ? 'block' : 'none';\n    })();\n  </script>\n</div>`;\n        parentElement.appendChild(quickchartButtonContainerElement);\n      }\n\n      appendQuickchartButton(table);\n    "
          },
          "metadata": {},
          "execution_count": 4
        }
      ],
      "source": [
        "df[['price', 'id', 'host_location', 'room_type', 'neighbourhood_cleansed', 'city', 'state']][0:1000]\n"
      ]
    },
    {
      "cell_type": "code",
      "source": [
        "df.info()"
      ],
      "metadata": {
        "colab": {
          "base_uri": "https://localhost:8080/"
        },
        "id": "GR8hdV-gb47N",
        "outputId": "f50a6fb4-f7f1-4618-a9d6-12896acf236f"
      },
      "execution_count": 15,
      "outputs": [
        {
          "output_type": "stream",
          "name": "stdout",
          "text": [
            "<class 'pandas.core.frame.DataFrame'>\n",
            "RangeIndex: 274958 entries, 0 to 274957\n",
            "Data columns (total 34 columns):\n",
            " #   Column                        Non-Null Count   Dtype  \n",
            "---  ------                        --------------   -----  \n",
            " 0   id                            274958 non-null  int64  \n",
            " 1   name                          274958 non-null  object \n",
            " 2   description                   272232 non-null  object \n",
            " 3   neighborhood_overview         167804 non-null  object \n",
            " 4   host_location                 214558 non-null  object \n",
            " 5   host_about                    164351 non-null  object \n",
            " 6   host_neighbourhood            217391 non-null  object \n",
            " 7   host_verifications            274890 non-null  object \n",
            " 8   host_has_profile_pic          274943 non-null  object \n",
            " 9   host_identity_verified        274943 non-null  object \n",
            " 10  neighbourhood                 167930 non-null  object \n",
            " 11  neighbourhood_cleansed        255907 non-null  object \n",
            " 12  neighbourhood_group_cleansed  128903 non-null  object \n",
            " 13  latitude                      274958 non-null  float64\n",
            " 14  longitude                     274958 non-null  float64\n",
            " 15  property_type                 274958 non-null  object \n",
            " 16  room_type                     274958 non-null  object \n",
            " 17  accommodates                  274958 non-null  int64  \n",
            " 18  bathrooms_text                274616 non-null  object \n",
            " 19  bedrooms                      205357 non-null  float64\n",
            " 20  beds                          272084 non-null  float64\n",
            " 21  amenities                     274594 non-null  object \n",
            " 22  price                         274958 non-null  object \n",
            " 23  minimum_nights                274958 non-null  int64  \n",
            " 24  maximum_nights                274958 non-null  int64  \n",
            " 25  has_availability              274958 non-null  object \n",
            " 26  availability_30               274958 non-null  int64  \n",
            " 27  availability_60               274958 non-null  int64  \n",
            " 28  availability_90               274958 non-null  int64  \n",
            " 29  availability_365              274958 non-null  int64  \n",
            " 30  license                       91762 non-null   object \n",
            " 31  instant_bookable              274958 non-null  object \n",
            " 32  city                          274958 non-null  object \n",
            " 33  state                         274958 non-null  object \n",
            "dtypes: float64(4), int64(8), object(22)\n",
            "memory usage: 71.3+ MB\n"
          ]
        }
      ]
    },
    {
      "cell_type": "markdown",
      "metadata": {
        "id": "DzBjHoxTESSV"
      },
      "source": [
        "# Double Check for Duplicates:\n",
        "- We did this in \"data_cleaning_ver04.ipynb\" -- but we'll double check"
      ]
    },
    {
      "cell_type": "code",
      "source": [
        "df.duplicated().any()"
      ],
      "metadata": {
        "id": "Vo4btWkr3xxb"
      },
      "execution_count": null,
      "outputs": []
    },
    {
      "cell_type": "code",
      "execution_count": null,
      "metadata": {
        "id": "Z5b0ojCt9z2T"
      },
      "outputs": [],
      "source": [
        "len(df)"
      ]
    },
    {
      "cell_type": "code",
      "execution_count": null,
      "metadata": {
        "id": "RFgxx1Vi-IHW"
      },
      "outputs": [],
      "source": [
        "df[['id']].nunique()"
      ]
    },
    {
      "cell_type": "code",
      "execution_count": null,
      "metadata": {
        "id": "cQz9Hdsqz_FH"
      },
      "outputs": [],
      "source": [
        "df.loc[df['city'] == 'Los Angeles'].sort_values(by = 'id',ascending=False).head(3)"
      ]
    },
    {
      "cell_type": "markdown",
      "source": [
        "# Data Cleaning:\n",
        "- Finding and fixing flaws in a dataset that could have a detrimental effect on a prediction model is known as data cleaning.\n",
        "- While there are many different kinds of errors that can occur in a dataset, some of the most basic ones are duplicate rows and columns lacking significant information.\n",
        "## In this section we will:\n",
        "1. Inspect Number of Unique values per column\n",
        "2. Columns With Very Few Values - Scrutinize\n",
        "3. Remove Columns with too many missing values\n",
        "3. Convert columns to appropriate datatype\n",
        "4. Code boolean columns as 0/1\n",
        "5. Split into numeric, object, and boolean lists\n",
        "\n"
      ],
      "metadata": {
        "id": "J6MKpOmWkL2V"
      }
    },
    {
      "cell_type": "markdown",
      "source": [
        "## Determine Which Columns Only Have One Value to remove\n",
        "- We can see from below that all columns have >= 2 values except `bathrooms` because all values are `NaN`"
      ],
      "metadata": {
        "id": "3hxSXen-n78p"
      }
    },
    {
      "cell_type": "code",
      "source": [
        "data_table.enable_dataframe_formatter()\n",
        "# Check all columns for those that have a single value\n",
        "df.nunique().sort_values(ascending=True)"
      ],
      "metadata": {
        "id": "NrqsLMSWlDQ7",
        "colab": {
          "base_uri": "https://localhost:8080/"
        },
        "outputId": "05a9b1bb-b76c-4913-ddba-71a987754bb7"
      },
      "execution_count": 9,
      "outputs": [
        {
          "output_type": "execute_result",
          "data": {
            "text/plain": [
              "bathrooms                            0\n",
              "instant_bookable                     2\n",
              "has_availability                     2\n",
              "host_identity_verified               2\n",
              "host_has_profile_pic                 2\n",
              "room_type                            4\n",
              "host_verifications                  10\n",
              "accommodates                        16\n",
              "state                               20\n",
              "bedrooms                            27\n",
              "availability_30                     31\n",
              "city                                32\n",
              "neighbourhood_group_cleansed        34\n",
              "beds                                43\n",
              "availability_60                     61\n",
              "bathrooms_text                      72\n",
              "availability_90                     91\n",
              "property_type                      140\n",
              "minimum_nights                     188\n",
              "availability_365                   366\n",
              "maximum_nights                     445\n",
              "neighbourhood                     1314\n",
              "neighbourhood_cleansed            1376\n",
              "price                             2603\n",
              "host_location                     4103\n",
              "host_neighbourhood                4645\n",
              "license                          59516\n",
              "host_about                       67518\n",
              "neighborhood_overview           121902\n",
              "name                            137083\n",
              "latitude                        199164\n",
              "longitude                       202259\n",
              "amenities                       241984\n",
              "description                     242663\n",
              "id                              274958\n",
              "dtype: int64"
            ]
          },
          "metadata": {},
          "execution_count": 9
        }
      ]
    },
    {
      "cell_type": "markdown",
      "source": [],
      "metadata": {
        "id": "7RzcFojwmPI7"
      }
    },
    {
      "cell_type": "code",
      "source": [
        "# Bathrooms is the only col with a single value, all NaN\n",
        "df[['bathrooms']].info()\n"
      ],
      "metadata": {
        "id": "wK4poueYl-AG",
        "colab": {
          "base_uri": "https://localhost:8080/"
        },
        "outputId": "878d479f-ab45-4cfa-9ec8-ba9c3d36c1cb"
      },
      "execution_count": 10,
      "outputs": [
        {
          "output_type": "stream",
          "name": "stdout",
          "text": [
            "<class 'pandas.core.frame.DataFrame'>\n",
            "RangeIndex: 274958 entries, 0 to 274957\n",
            "Data columns (total 1 columns):\n",
            " #   Column     Non-Null Count  Dtype  \n",
            "---  ------     --------------  -----  \n",
            " 0   bathrooms  0 non-null      float64\n",
            "dtypes: float64(1)\n",
            "memory usage: 2.1 MB\n"
          ]
        }
      ]
    },
    {
      "cell_type": "code",
      "source": [
        "# Drop bathrooms col:\n",
        "df = df.drop('bathrooms', axis=1)\n"
      ],
      "metadata": {
        "id": "bpRnhZfjoJin"
      },
      "execution_count": 11,
      "outputs": []
    },
    {
      "cell_type": "markdown",
      "source": [
        "## Columns With Very Few Values\n",
        "- Examine to identify boolean cols, and cols that most likely should be coded as categorical\n",
        "- We'll measure the relative number of values in each column"
      ],
      "metadata": {
        "id": "xxNPI1Jooyb9"
      }
    },
    {
      "cell_type": "markdown",
      "source": [
        "#### Relative Percentages of Unique Values:\n",
        "- We'll look at cols where the percentage is less .5%"
      ],
      "metadata": {
        "id": "TyLJSB0u44o2"
      }
    },
    {
      "cell_type": "code",
      "source": [
        "# Adaped from Machine Learning Mastery Blog: https://machinelearningmastery.com/basic-data-cleaning-for-machine-learning/\n",
        "for col in range(df.shape[1]):\n",
        "  nunique_vals = df.iloc[:,col].nunique()\n",
        "  relative = (float(nunique_vals) / df.shape[0]) * 100\n",
        "  if relative < .5:\n",
        "    print(f'\"{df.columns[col]}\" has {nunique_vals} unique values ({relative:.4f}%) -- datatype is: {df[df.columns[col]].dtypes}')\n",
        "\n",
        "#print(f'\"{df.columns[col]}\" has {nunique_vals} unique values ({relative:.4f}%) -- datatype is: {df[df.columns[col]].dtypes}')"
      ],
      "metadata": {
        "colab": {
          "base_uri": "https://localhost:8080/"
        },
        "id": "k796wb4no7SC",
        "outputId": "25881f46-ea0b-4d72-9d4d-9af1f2e0ab82"
      },
      "execution_count": 14,
      "outputs": [
        {
          "output_type": "stream",
          "name": "stdout",
          "text": [
            "\"host_verifications\" has 10 unique values (0.0036%) -- datatype is: object\n",
            "\"host_has_profile_pic\" has 2 unique values (0.0007%) -- datatype is: object\n",
            "\"host_identity_verified\" has 2 unique values (0.0007%) -- datatype is: object\n",
            "\"neighbourhood\" has 1314 unique values (0.4779%) -- datatype is: object\n",
            "\"neighbourhood_group_cleansed\" has 34 unique values (0.0124%) -- datatype is: object\n",
            "\"property_type\" has 140 unique values (0.0509%) -- datatype is: object\n",
            "\"room_type\" has 4 unique values (0.0015%) -- datatype is: object\n",
            "\"accommodates\" has 16 unique values (0.0058%) -- datatype is: int64\n",
            "\"bathrooms_text\" has 72 unique values (0.0262%) -- datatype is: object\n",
            "\"bedrooms\" has 27 unique values (0.0098%) -- datatype is: float64\n",
            "\"beds\" has 43 unique values (0.0156%) -- datatype is: float64\n",
            "\"minimum_nights\" has 188 unique values (0.0684%) -- datatype is: int64\n",
            "\"maximum_nights\" has 445 unique values (0.1618%) -- datatype is: int64\n",
            "\"has_availability\" has 2 unique values (0.0007%) -- datatype is: object\n",
            "\"availability_30\" has 31 unique values (0.0113%) -- datatype is: int64\n",
            "\"availability_60\" has 61 unique values (0.0222%) -- datatype is: int64\n",
            "\"availability_90\" has 91 unique values (0.0331%) -- datatype is: int64\n",
            "\"availability_365\" has 366 unique values (0.1331%) -- datatype is: int64\n",
            "\"instant_bookable\" has 2 unique values (0.0007%) -- datatype is: object\n",
            "\"city\" has 32 unique values (0.0116%) -- datatype is: object\n",
            "\"state\" has 20 unique values (0.0073%) -- datatype is: object\n"
          ]
        }
      ]
    },
    {
      "cell_type": "markdown",
      "source": [
        "### Use above list to identify categorical cols\n",
        "- The columns above that are numeric wouldn't be treated differently (wouldn't be coded as categorical or ordinal because they're continuous and one more unit of any of them isn't \"better\")\n",
        "- Categorical Columns that will need to be One-Hot-Encoded:\n",
        "  - city\n",
        "  - state\n",
        "  - room_type\n",
        "  - host verifications\n"
      ],
      "metadata": {
        "id": "0U0JijNIz7av"
      }
    },
    {
      "cell_type": "markdown",
      "source": [
        "# Eliminate redundant columns and those with too many missing values"
      ],
      "metadata": {
        "id": "kwZcgG9YC2TH"
      }
    },
    {
      "cell_type": "markdown",
      "source": [
        "## Look at the number of `NaN` values each column has"
      ],
      "metadata": {
        "id": "HGsc--H9D5ig"
      }
    },
    {
      "cell_type": "code",
      "source": [
        "DataFrame(df.isna().sum().sort_values(ascending=False))"
      ],
      "metadata": {
        "id": "Mk4yIxIUD95h",
        "outputId": "97944a0b-e220-49ce-a717-dc7fbcfc78fd",
        "colab": {
          "base_uri": "https://localhost:8080/",
          "height": 669
        }
      },
      "execution_count": 24,
      "outputs": [
        {
          "output_type": "execute_result",
          "data": {
            "text/plain": [
              "                                   0\n",
              "neighbourhood_group_cleansed  146055\n",
              "host_about                    110607\n",
              "...                              ...\n",
              "latitude                           0\n",
              "state                              0\n",
              "\n",
              "[34 rows x 1 columns]"
            ],
            "text/html": [
              "\n",
              "  <div id=\"df-584a9b2f-02af-42ba-afae-b170df1cee4b\" class=\"colab-df-container\">\n",
              "    <div>\n",
              "<style scoped>\n",
              "    .dataframe tbody tr th:only-of-type {\n",
              "        vertical-align: middle;\n",
              "    }\n",
              "\n",
              "    .dataframe tbody tr th {\n",
              "        vertical-align: top;\n",
              "    }\n",
              "\n",
              "    .dataframe thead th {\n",
              "        text-align: right;\n",
              "    }\n",
              "</style>\n",
              "<table border=\"1\" class=\"dataframe\">\n",
              "  <thead>\n",
              "    <tr style=\"text-align: right;\">\n",
              "      <th></th>\n",
              "      <th>0</th>\n",
              "    </tr>\n",
              "  </thead>\n",
              "  <tbody>\n",
              "    <tr>\n",
              "      <th>neighbourhood_group_cleansed</th>\n",
              "      <td>146055</td>\n",
              "    </tr>\n",
              "    <tr>\n",
              "      <th>host_about</th>\n",
              "      <td>110607</td>\n",
              "    </tr>\n",
              "    <tr>\n",
              "      <th>...</th>\n",
              "      <td>...</td>\n",
              "    </tr>\n",
              "    <tr>\n",
              "      <th>latitude</th>\n",
              "      <td>0</td>\n",
              "    </tr>\n",
              "    <tr>\n",
              "      <th>state</th>\n",
              "      <td>0</td>\n",
              "    </tr>\n",
              "  </tbody>\n",
              "</table>\n",
              "<p>34 rows × 1 columns</p>\n",
              "</div>\n",
              "    <div class=\"colab-df-buttons\">\n",
              "\n",
              "  <div class=\"colab-df-container\">\n",
              "    <button class=\"colab-df-convert\" onclick=\"convertToInteractive('df-584a9b2f-02af-42ba-afae-b170df1cee4b')\"\n",
              "            title=\"Convert this dataframe to an interactive table.\"\n",
              "            style=\"display:none;\">\n",
              "\n",
              "  <svg xmlns=\"http://www.w3.org/2000/svg\" height=\"24px\" viewBox=\"0 -960 960 960\">\n",
              "    <path d=\"M120-120v-720h720v720H120Zm60-500h600v-160H180v160Zm220 220h160v-160H400v160Zm0 220h160v-160H400v160ZM180-400h160v-160H180v160Zm440 0h160v-160H620v160ZM180-180h160v-160H180v160Zm440 0h160v-160H620v160Z\"/>\n",
              "  </svg>\n",
              "    </button>\n",
              "\n",
              "  <style>\n",
              "    .colab-df-container {\n",
              "      display:flex;\n",
              "      gap: 12px;\n",
              "    }\n",
              "\n",
              "    .colab-df-convert {\n",
              "      background-color: #E8F0FE;\n",
              "      border: none;\n",
              "      border-radius: 50%;\n",
              "      cursor: pointer;\n",
              "      display: none;\n",
              "      fill: #1967D2;\n",
              "      height: 32px;\n",
              "      padding: 0 0 0 0;\n",
              "      width: 32px;\n",
              "    }\n",
              "\n",
              "    .colab-df-convert:hover {\n",
              "      background-color: #E2EBFA;\n",
              "      box-shadow: 0px 1px 2px rgba(60, 64, 67, 0.3), 0px 1px 3px 1px rgba(60, 64, 67, 0.15);\n",
              "      fill: #174EA6;\n",
              "    }\n",
              "\n",
              "    .colab-df-buttons div {\n",
              "      margin-bottom: 4px;\n",
              "    }\n",
              "\n",
              "    [theme=dark] .colab-df-convert {\n",
              "      background-color: #3B4455;\n",
              "      fill: #D2E3FC;\n",
              "    }\n",
              "\n",
              "    [theme=dark] .colab-df-convert:hover {\n",
              "      background-color: #434B5C;\n",
              "      box-shadow: 0px 1px 3px 1px rgba(0, 0, 0, 0.15);\n",
              "      filter: drop-shadow(0px 1px 2px rgba(0, 0, 0, 0.3));\n",
              "      fill: #FFFFFF;\n",
              "    }\n",
              "  </style>\n",
              "\n",
              "    <script>\n",
              "      const buttonEl =\n",
              "        document.querySelector('#df-584a9b2f-02af-42ba-afae-b170df1cee4b button.colab-df-convert');\n",
              "      buttonEl.style.display =\n",
              "        google.colab.kernel.accessAllowed ? 'block' : 'none';\n",
              "\n",
              "      async function convertToInteractive(key) {\n",
              "        const element = document.querySelector('#df-584a9b2f-02af-42ba-afae-b170df1cee4b');\n",
              "        const dataTable =\n",
              "          await google.colab.kernel.invokeFunction('convertToInteractive',\n",
              "                                                    [key], {});\n",
              "        if (!dataTable) return;\n",
              "\n",
              "        const docLinkHtml = 'Like what you see? Visit the ' +\n",
              "          '<a target=\"_blank\" href=https://colab.research.google.com/notebooks/data_table.ipynb>data table notebook</a>'\n",
              "          + ' to learn more about interactive tables.';\n",
              "        element.innerHTML = '';\n",
              "        dataTable['output_type'] = 'display_data';\n",
              "        await google.colab.output.renderOutput(dataTable, element);\n",
              "        const docLink = document.createElement('div');\n",
              "        docLink.innerHTML = docLinkHtml;\n",
              "        element.appendChild(docLink);\n",
              "      }\n",
              "    </script>\n",
              "  </div>\n",
              "\n",
              "\n",
              "<div id=\"df-5f5dc445-50f4-42fc-84d7-37e55270d76c\">\n",
              "  <button class=\"colab-df-quickchart\" onclick=\"quickchart('df-5f5dc445-50f4-42fc-84d7-37e55270d76c')\"\n",
              "            title=\"Suggest charts\"\n",
              "            style=\"display:none;\">\n",
              "\n",
              "<svg xmlns=\"http://www.w3.org/2000/svg\" height=\"24px\"viewBox=\"0 0 24 24\"\n",
              "     width=\"24px\">\n",
              "    <g>\n",
              "        <path d=\"M19 3H5c-1.1 0-2 .9-2 2v14c0 1.1.9 2 2 2h14c1.1 0 2-.9 2-2V5c0-1.1-.9-2-2-2zM9 17H7v-7h2v7zm4 0h-2V7h2v10zm4 0h-2v-4h2v4z\"/>\n",
              "    </g>\n",
              "</svg>\n",
              "  </button>\n",
              "\n",
              "<style>\n",
              "  .colab-df-quickchart {\n",
              "      --bg-color: #E8F0FE;\n",
              "      --fill-color: #1967D2;\n",
              "      --hover-bg-color: #E2EBFA;\n",
              "      --hover-fill-color: #174EA6;\n",
              "      --disabled-fill-color: #AAA;\n",
              "      --disabled-bg-color: #DDD;\n",
              "  }\n",
              "\n",
              "  [theme=dark] .colab-df-quickchart {\n",
              "      --bg-color: #3B4455;\n",
              "      --fill-color: #D2E3FC;\n",
              "      --hover-bg-color: #434B5C;\n",
              "      --hover-fill-color: #FFFFFF;\n",
              "      --disabled-bg-color: #3B4455;\n",
              "      --disabled-fill-color: #666;\n",
              "  }\n",
              "\n",
              "  .colab-df-quickchart {\n",
              "    background-color: var(--bg-color);\n",
              "    border: none;\n",
              "    border-radius: 50%;\n",
              "    cursor: pointer;\n",
              "    display: none;\n",
              "    fill: var(--fill-color);\n",
              "    height: 32px;\n",
              "    padding: 0;\n",
              "    width: 32px;\n",
              "  }\n",
              "\n",
              "  .colab-df-quickchart:hover {\n",
              "    background-color: var(--hover-bg-color);\n",
              "    box-shadow: 0 1px 2px rgba(60, 64, 67, 0.3), 0 1px 3px 1px rgba(60, 64, 67, 0.15);\n",
              "    fill: var(--button-hover-fill-color);\n",
              "  }\n",
              "\n",
              "  .colab-df-quickchart-complete:disabled,\n",
              "  .colab-df-quickchart-complete:disabled:hover {\n",
              "    background-color: var(--disabled-bg-color);\n",
              "    fill: var(--disabled-fill-color);\n",
              "    box-shadow: none;\n",
              "  }\n",
              "\n",
              "  .colab-df-spinner {\n",
              "    border: 2px solid var(--fill-color);\n",
              "    border-color: transparent;\n",
              "    border-bottom-color: var(--fill-color);\n",
              "    animation:\n",
              "      spin 1s steps(1) infinite;\n",
              "  }\n",
              "\n",
              "  @keyframes spin {\n",
              "    0% {\n",
              "      border-color: transparent;\n",
              "      border-bottom-color: var(--fill-color);\n",
              "      border-left-color: var(--fill-color);\n",
              "    }\n",
              "    20% {\n",
              "      border-color: transparent;\n",
              "      border-left-color: var(--fill-color);\n",
              "      border-top-color: var(--fill-color);\n",
              "    }\n",
              "    30% {\n",
              "      border-color: transparent;\n",
              "      border-left-color: var(--fill-color);\n",
              "      border-top-color: var(--fill-color);\n",
              "      border-right-color: var(--fill-color);\n",
              "    }\n",
              "    40% {\n",
              "      border-color: transparent;\n",
              "      border-right-color: var(--fill-color);\n",
              "      border-top-color: var(--fill-color);\n",
              "    }\n",
              "    60% {\n",
              "      border-color: transparent;\n",
              "      border-right-color: var(--fill-color);\n",
              "    }\n",
              "    80% {\n",
              "      border-color: transparent;\n",
              "      border-right-color: var(--fill-color);\n",
              "      border-bottom-color: var(--fill-color);\n",
              "    }\n",
              "    90% {\n",
              "      border-color: transparent;\n",
              "      border-bottom-color: var(--fill-color);\n",
              "    }\n",
              "  }\n",
              "</style>\n",
              "\n",
              "  <script>\n",
              "    async function quickchart(key) {\n",
              "      const quickchartButtonEl =\n",
              "        document.querySelector('#' + key + ' button');\n",
              "      quickchartButtonEl.disabled = true;  // To prevent multiple clicks.\n",
              "      quickchartButtonEl.classList.add('colab-df-spinner');\n",
              "      try {\n",
              "        const charts = await google.colab.kernel.invokeFunction(\n",
              "            'suggestCharts', [key], {});\n",
              "      } catch (error) {\n",
              "        console.error('Error during call to suggestCharts:', error);\n",
              "      }\n",
              "      quickchartButtonEl.classList.remove('colab-df-spinner');\n",
              "      quickchartButtonEl.classList.add('colab-df-quickchart-complete');\n",
              "    }\n",
              "    (() => {\n",
              "      let quickchartButtonEl =\n",
              "        document.querySelector('#df-5f5dc445-50f4-42fc-84d7-37e55270d76c button');\n",
              "      quickchartButtonEl.style.display =\n",
              "        google.colab.kernel.accessAllowed ? 'block' : 'none';\n",
              "    })();\n",
              "  </script>\n",
              "</div>\n",
              "\n",
              "    </div>\n",
              "  </div>\n"
            ],
            "application/vnd.google.colaboratory.module+javascript": "\n      import \"https://ssl.gstatic.com/colaboratory/data_table/881c4a0d49046431/data_table.js\";\n\n      const table = window.createDataTable({\n        data: [[\"neighbourhood_group_cleansed\",\n{\n            'v': 146055,\n            'f': \"146055\",\n        }],\n [\"host_about\",\n{\n            'v': 110607,\n            'f': \"110607\",\n        }],\n [\"neighborhood_overview\",\n{\n            'v': 107154,\n            'f': \"107154\",\n        }],\n [\"neighbourhood\",\n{\n            'v': 107028,\n            'f': \"107028\",\n        }],\n [\"bedrooms\",\n{\n            'v': 69601,\n            'f': \"69601\",\n        }],\n [\"host_location\",\n{\n            'v': 60400,\n            'f': \"60400\",\n        }],\n [\"host_neighbourhood\",\n{\n            'v': 57567,\n            'f': \"57567\",\n        }],\n [\"neighbourhood_cleansed\",\n{\n            'v': 19051,\n            'f': \"19051\",\n        }],\n [\"beds\",\n{\n            'v': 2874,\n            'f': \"2874\",\n        }],\n [\"description\",\n{\n            'v': 2726,\n            'f': \"2726\",\n        }],\n [\"amenities\",\n{\n            'v': 364,\n            'f': \"364\",\n        }],\n [\"bathrooms_text\",\n{\n            'v': 342,\n            'f': \"342\",\n        }],\n [\"host_verifications\",\n{\n            'v': 68,\n            'f': \"68\",\n        }],\n [\"host_identity_verified\",\n{\n            'v': 15,\n            'f': \"15\",\n        }],\n [\"host_has_profile_pic\",\n{\n            'v': 15,\n            'f': \"15\",\n        }],\n [\"availability_60\",\n{\n            'v': 0,\n            'f': \"0\",\n        }],\n [\"availability_90\",\n{\n            'v': 0,\n            'f': \"0\",\n        }],\n [\"id\",\n{\n            'v': 0,\n            'f': \"0\",\n        }],\n [\"availability_365\",\n{\n            'v': 0,\n            'f': \"0\",\n        }],\n [\"license\",\n{\n            'v': 0,\n            'f': \"0\",\n        }],\n [\"instant_bookable\",\n{\n            'v': 0,\n            'f': \"0\",\n        }],\n [\"city\",\n{\n            'v': 0,\n            'f': \"0\",\n        }],\n [\"has_availability\",\n{\n            'v': 0,\n            'f': \"0\",\n        }],\n [\"availability_30\",\n{\n            'v': 0,\n            'f': \"0\",\n        }],\n [\"accommodates\",\n{\n            'v': 0,\n            'f': \"0\",\n        }],\n [\"maximum_nights\",\n{\n            'v': 0,\n            'f': \"0\",\n        }],\n [\"minimum_nights\",\n{\n            'v': 0,\n            'f': \"0\",\n        }],\n [\"price\",\n{\n            'v': 0,\n            'f': \"0\",\n        }],\n [\"name\",\n{\n            'v': 0,\n            'f': \"0\",\n        }],\n [\"room_type\",\n{\n            'v': 0,\n            'f': \"0\",\n        }],\n [\"property_type\",\n{\n            'v': 0,\n            'f': \"0\",\n        }],\n [\"longitude\",\n{\n            'v': 0,\n            'f': \"0\",\n        }],\n [\"latitude\",\n{\n            'v': 0,\n            'f': \"0\",\n        }],\n [\"state\",\n{\n            'v': 0,\n            'f': \"0\",\n        }]],\n        columns: [[\"string\", \"index\"], [\"number\", \"0\"]],\n        columnOptions: [{\"width\": \"1px\", \"className\": \"index_column\"}],\n        rowsPerPage: 25,\n        helpUrl: \"https://colab.research.google.com/notebooks/data_table.ipynb\",\n        suppressOutputScrolling: true,\n        minimumWidth: undefined,\n      });\n\n      function appendQuickchartButton(parentElement) {\n        let quickchartButtonContainerElement = document.createElement('div');\n        quickchartButtonContainerElement.innerHTML = `\n<div id=\"df-7ea80984-2afd-45c7-9688-105dec9a49e0\">\n  <button class=\"colab-df-quickchart\" onclick=\"quickchart('df-7ea80984-2afd-45c7-9688-105dec9a49e0')\"\n            title=\"Suggest charts\"\n            style=\"display:none;\">\n    \n<svg xmlns=\"http://www.w3.org/2000/svg\" height=\"24px\"viewBox=\"0 0 24 24\"\n     width=\"24px\">\n    <g>\n        <path d=\"M19 3H5c-1.1 0-2 .9-2 2v14c0 1.1.9 2 2 2h14c1.1 0 2-.9 2-2V5c0-1.1-.9-2-2-2zM9 17H7v-7h2v7zm4 0h-2V7h2v10zm4 0h-2v-4h2v4z\"/>\n    </g>\n</svg>\n  </button>\n  \n<style>\n  .colab-df-quickchart {\n      --bg-color: #E8F0FE;\n      --fill-color: #1967D2;\n      --hover-bg-color: #E2EBFA;\n      --hover-fill-color: #174EA6;\n      --disabled-fill-color: #AAA;\n      --disabled-bg-color: #DDD;\n  }\n\n  [theme=dark] .colab-df-quickchart {\n      --bg-color: #3B4455;\n      --fill-color: #D2E3FC;\n      --hover-bg-color: #434B5C;\n      --hover-fill-color: #FFFFFF;\n      --disabled-bg-color: #3B4455;\n      --disabled-fill-color: #666;\n  }\n\n  .colab-df-quickchart {\n    background-color: var(--bg-color);\n    border: none;\n    border-radius: 50%;\n    cursor: pointer;\n    display: none;\n    fill: var(--fill-color);\n    height: 32px;\n    padding: 0;\n    width: 32px;\n  }\n\n  .colab-df-quickchart:hover {\n    background-color: var(--hover-bg-color);\n    box-shadow: 0 1px 2px rgba(60, 64, 67, 0.3), 0 1px 3px 1px rgba(60, 64, 67, 0.15);\n    fill: var(--button-hover-fill-color);\n  }\n\n  .colab-df-quickchart-complete:disabled,\n  .colab-df-quickchart-complete:disabled:hover {\n    background-color: var(--disabled-bg-color);\n    fill: var(--disabled-fill-color);\n    box-shadow: none;\n  }\n\n  .colab-df-spinner {\n    border: 2px solid var(--fill-color);\n    border-color: transparent;\n    border-bottom-color: var(--fill-color);\n    animation:\n      spin 1s steps(1) infinite;\n  }\n\n  @keyframes spin {\n    0% {\n      border-color: transparent;\n      border-bottom-color: var(--fill-color);\n      border-left-color: var(--fill-color);\n    }\n    20% {\n      border-color: transparent;\n      border-left-color: var(--fill-color);\n      border-top-color: var(--fill-color);\n    }\n    30% {\n      border-color: transparent;\n      border-left-color: var(--fill-color);\n      border-top-color: var(--fill-color);\n      border-right-color: var(--fill-color);\n    }\n    40% {\n      border-color: transparent;\n      border-right-color: var(--fill-color);\n      border-top-color: var(--fill-color);\n    }\n    60% {\n      border-color: transparent;\n      border-right-color: var(--fill-color);\n    }\n    80% {\n      border-color: transparent;\n      border-right-color: var(--fill-color);\n      border-bottom-color: var(--fill-color);\n    }\n    90% {\n      border-color: transparent;\n      border-bottom-color: var(--fill-color);\n    }\n  }\n</style>\n\n  <script>\n    async function quickchart(key) {\n      const quickchartButtonEl =\n        document.querySelector('#' + key + ' button');\n      quickchartButtonEl.disabled = true;  // To prevent multiple clicks.\n      quickchartButtonEl.classList.add('colab-df-spinner');\n      try {\n        const charts = await google.colab.kernel.invokeFunction(\n            'suggestCharts', [key], {});\n      } catch (error) {\n        console.error('Error during call to suggestCharts:', error);\n      }\n      quickchartButtonEl.classList.remove('colab-df-spinner');\n      quickchartButtonEl.classList.add('colab-df-quickchart-complete');\n    }\n    (() => {\n      let quickchartButtonEl =\n        document.querySelector('#df-7ea80984-2afd-45c7-9688-105dec9a49e0 button');\n      quickchartButtonEl.style.display =\n        google.colab.kernel.accessAllowed ? 'block' : 'none';\n    })();\n  </script>\n</div>`;\n        parentElement.appendChild(quickchartButtonContainerElement);\n      }\n\n      appendQuickchartButton(table);\n    "
          },
          "metadata": {},
          "execution_count": 24
        }
      ]
    },
    {
      "cell_type": "markdown",
      "source": [
        "## Examine the Neighborhood and Host Location Cols with lots of missing values:\n",
        "- Here are categorical columns describing the neighborhood and location of the listing and the host:\n",
        "  - `'neighbourhood', 'neighbourhood_cleansed', 'neighbourhood_group_cleansed','host_location', 'host_neighbourhood'`\n",
        "- The Neighbourhood columns look like they may contain redundant data because we already have city and state.\n",
        "- We'll sample a couple rows for each unique combo of city/state to see the variability in neighbourhood **values**"
      ],
      "metadata": {
        "id": "14uZ6vfld7aH"
      }
    },
    {
      "cell_type": "code",
      "source": [
        "# The neighborhood columns have very large num of Nulls, so we can safely drop\n",
        "df[['neighbourhood', 'neighbourhood_cleansed', 'neighbourhood_group_cleansed','host_location', 'host_neighbourhood']].isna().sum().sort_values(ascending=False)"
      ],
      "metadata": {
        "id": "_HbQTOs1qMlo",
        "outputId": "d633c837-5b0c-42fb-aaa6-eb9751ef56c8",
        "colab": {
          "base_uri": "https://localhost:8080/"
        }
      },
      "execution_count": 25,
      "outputs": [
        {
          "output_type": "execute_result",
          "data": {
            "text/plain": [
              "neighbourhood_group_cleansed    146055\n",
              "neighbourhood                   107028\n",
              "host_location                    60400\n",
              "host_neighbourhood               57567\n",
              "neighbourhood_cleansed           19051\n",
              "dtype: int64"
            ]
          },
          "metadata": {},
          "execution_count": 25
        }
      ]
    },
    {
      "cell_type": "code",
      "source": [
        "### Toggle this to see full sample dataset or excerpt:\n",
        "#pd.set_option('display.max_rows', None)\n",
        "pd.set_option('display.max_rows', 5)"
      ],
      "metadata": {
        "id": "12AzwiBokXn4"
      },
      "execution_count": 26,
      "outputs": []
    },
    {
      "cell_type": "code",
      "source": [
        "# Create dataframe of random samples of rows for each unique value in city column\n",
        "# Adapted from: https://stackoverflow.com/questions/38390242/sampling-one-record-per-unique-value-pandas-python\n",
        "\n",
        "sample_neigh_df = df[['neighbourhood', 'neighbourhood_cleansed', 'neighbourhood_group_cleansed','host_location','host_neighbourhood', 'city', 'state']].groupby('city').apply(lambda obj_df: obj_df.sample(10, random_state=42))\n",
        "sample_neigh_df\n",
        "\n",
        "\n",
        "### We can drop neighbourhood:\n",
        "# Neighbourhood is either city/state/country, or it's neighborhood/state/country.\n",
        "# In the case that one of the datasets was an entire county or MSA, this column could be the specific city within that county or MSA\n",
        "\n",
        "### We can drop neighbourhood_cleansed:\n",
        "# There isn't any consistency in the definition of this\n",
        "# -- sometimes it's just directional (North, South)\n",
        "# or a collection of neighborhoods in a list (Cleveland Park, Woodley Park, Massachusetts Avenue Heights)\n",
        "# Or by supervisor district: \"Ward E councilmember James Solomon\"\n",
        "# For Hawaii it specifies a neighborhood on any island: \"Kapaa-Wailua\" (which is on Kauai)\n",
        "\n",
        "### We can drop neighbourhood_group_cleansed:\n",
        "# This is mostly NaN values\n",
        "\n",
        "### host_location and host_neighborhood:\n",
        "# Drop these because they both have a ton of Nulls, the neighbohood isn't a standard way to compare places,\n",
        "# and because this would probably only be meaningful if we had the distance that the host is from their listing\n",
        "# -- which is not within scope of this project"
      ],
      "metadata": {
        "id": "KHH9xVRgeMlI",
        "outputId": "4436e720-dc13-4ca1-ebbd-7bc4832818f8",
        "colab": {
          "base_uri": "https://localhost:8080/",
          "height": 374
        }
      },
      "execution_count": 27,
      "outputs": [
        {
          "output_type": "execute_result",
          "data": {
            "text/plain": [
              "                                               neighbourhood  \\\n",
              "city                                                           \n",
              "Asheville       2211                                     NaN   \n",
              "                670     Arden, North Carolina, United States   \n",
              "...                                                      ...   \n",
              "Washington D.C. 163595                                   NaN   \n",
              "                159366                                   NaN   \n",
              "\n",
              "                                                   neighbourhood_cleansed  \\\n",
              "city                                                                        \n",
              "Asheville       2211                                                  NaN   \n",
              "                670                                                   NaN   \n",
              "...                                                                   ...   \n",
              "Washington D.C. 163595          Union Station, Stanton Park, Kingman Park   \n",
              "                159366  Cleveland Park, Woodley Park, Massachusetts Av...   \n",
              "\n",
              "                       neighbourhood_group_cleansed           host_location  \\\n",
              "city                                                                          \n",
              "Asheville       2211                            NaN           Asheville, NC   \n",
              "                670                             NaN               Arden, NC   \n",
              "...                                             ...                     ...   \n",
              "Washington D.C. 163595                          NaN                     NaN   \n",
              "                159366                          NaN  London, United Kingdom   \n",
              "\n",
              "                          host_neighbourhood             city  \\\n",
              "city                                                            \n",
              "Asheville       2211                     NaN        Asheville   \n",
              "                670                      NaN        Asheville   \n",
              "...                                      ...              ...   \n",
              "Washington D.C. 163595  Northeast Washington  Washington D.C.   \n",
              "                159366          Woodley Park  Washington D.C.   \n",
              "\n",
              "                                       state  \n",
              "city                                          \n",
              "Asheville       2211          North Carolina  \n",
              "                670           North Carolina  \n",
              "...                                      ...  \n",
              "Washington D.C. 163595  District of Columbia  \n",
              "                159366  District of Columbia  \n",
              "\n",
              "[320 rows x 7 columns]"
            ],
            "text/html": [
              "\n",
              "  <div id=\"df-5afef881-6568-4de6-9222-287a1ce22bff\" class=\"colab-df-container\">\n",
              "    <div>\n",
              "<style scoped>\n",
              "    .dataframe tbody tr th:only-of-type {\n",
              "        vertical-align: middle;\n",
              "    }\n",
              "\n",
              "    .dataframe tbody tr th {\n",
              "        vertical-align: top;\n",
              "    }\n",
              "\n",
              "    .dataframe thead th {\n",
              "        text-align: right;\n",
              "    }\n",
              "</style>\n",
              "<table border=\"1\" class=\"dataframe\">\n",
              "  <thead>\n",
              "    <tr style=\"text-align: right;\">\n",
              "      <th></th>\n",
              "      <th></th>\n",
              "      <th>neighbourhood</th>\n",
              "      <th>neighbourhood_cleansed</th>\n",
              "      <th>neighbourhood_group_cleansed</th>\n",
              "      <th>host_location</th>\n",
              "      <th>host_neighbourhood</th>\n",
              "      <th>city</th>\n",
              "      <th>state</th>\n",
              "    </tr>\n",
              "    <tr>\n",
              "      <th>city</th>\n",
              "      <th></th>\n",
              "      <th></th>\n",
              "      <th></th>\n",
              "      <th></th>\n",
              "      <th></th>\n",
              "      <th></th>\n",
              "      <th></th>\n",
              "      <th></th>\n",
              "    </tr>\n",
              "  </thead>\n",
              "  <tbody>\n",
              "    <tr>\n",
              "      <th rowspan=\"2\" valign=\"top\">Asheville</th>\n",
              "      <th>2211</th>\n",
              "      <td>NaN</td>\n",
              "      <td>NaN</td>\n",
              "      <td>NaN</td>\n",
              "      <td>Asheville, NC</td>\n",
              "      <td>NaN</td>\n",
              "      <td>Asheville</td>\n",
              "      <td>North Carolina</td>\n",
              "    </tr>\n",
              "    <tr>\n",
              "      <th>670</th>\n",
              "      <td>Arden, North Carolina, United States</td>\n",
              "      <td>NaN</td>\n",
              "      <td>NaN</td>\n",
              "      <td>Arden, NC</td>\n",
              "      <td>NaN</td>\n",
              "      <td>Asheville</td>\n",
              "      <td>North Carolina</td>\n",
              "    </tr>\n",
              "    <tr>\n",
              "      <th>...</th>\n",
              "      <th>...</th>\n",
              "      <td>...</td>\n",
              "      <td>...</td>\n",
              "      <td>...</td>\n",
              "      <td>...</td>\n",
              "      <td>...</td>\n",
              "      <td>...</td>\n",
              "      <td>...</td>\n",
              "    </tr>\n",
              "    <tr>\n",
              "      <th rowspan=\"2\" valign=\"top\">Washington D.C.</th>\n",
              "      <th>163595</th>\n",
              "      <td>NaN</td>\n",
              "      <td>Union Station, Stanton Park, Kingman Park</td>\n",
              "      <td>NaN</td>\n",
              "      <td>NaN</td>\n",
              "      <td>Northeast Washington</td>\n",
              "      <td>Washington D.C.</td>\n",
              "      <td>District of Columbia</td>\n",
              "    </tr>\n",
              "    <tr>\n",
              "      <th>159366</th>\n",
              "      <td>NaN</td>\n",
              "      <td>Cleveland Park, Woodley Park, Massachusetts Av...</td>\n",
              "      <td>NaN</td>\n",
              "      <td>London, United Kingdom</td>\n",
              "      <td>Woodley Park</td>\n",
              "      <td>Washington D.C.</td>\n",
              "      <td>District of Columbia</td>\n",
              "    </tr>\n",
              "  </tbody>\n",
              "</table>\n",
              "<p>320 rows × 7 columns</p>\n",
              "</div>\n",
              "    <div class=\"colab-df-buttons\">\n",
              "\n",
              "  <div class=\"colab-df-container\">\n",
              "    <button class=\"colab-df-convert\" onclick=\"convertToInteractive('df-5afef881-6568-4de6-9222-287a1ce22bff')\"\n",
              "            title=\"Convert this dataframe to an interactive table.\"\n",
              "            style=\"display:none;\">\n",
              "\n",
              "  <svg xmlns=\"http://www.w3.org/2000/svg\" height=\"24px\" viewBox=\"0 -960 960 960\">\n",
              "    <path d=\"M120-120v-720h720v720H120Zm60-500h600v-160H180v160Zm220 220h160v-160H400v160Zm0 220h160v-160H400v160ZM180-400h160v-160H180v160Zm440 0h160v-160H620v160ZM180-180h160v-160H180v160Zm440 0h160v-160H620v160Z\"/>\n",
              "  </svg>\n",
              "    </button>\n",
              "\n",
              "  <style>\n",
              "    .colab-df-container {\n",
              "      display:flex;\n",
              "      gap: 12px;\n",
              "    }\n",
              "\n",
              "    .colab-df-convert {\n",
              "      background-color: #E8F0FE;\n",
              "      border: none;\n",
              "      border-radius: 50%;\n",
              "      cursor: pointer;\n",
              "      display: none;\n",
              "      fill: #1967D2;\n",
              "      height: 32px;\n",
              "      padding: 0 0 0 0;\n",
              "      width: 32px;\n",
              "    }\n",
              "\n",
              "    .colab-df-convert:hover {\n",
              "      background-color: #E2EBFA;\n",
              "      box-shadow: 0px 1px 2px rgba(60, 64, 67, 0.3), 0px 1px 3px 1px rgba(60, 64, 67, 0.15);\n",
              "      fill: #174EA6;\n",
              "    }\n",
              "\n",
              "    .colab-df-buttons div {\n",
              "      margin-bottom: 4px;\n",
              "    }\n",
              "\n",
              "    [theme=dark] .colab-df-convert {\n",
              "      background-color: #3B4455;\n",
              "      fill: #D2E3FC;\n",
              "    }\n",
              "\n",
              "    [theme=dark] .colab-df-convert:hover {\n",
              "      background-color: #434B5C;\n",
              "      box-shadow: 0px 1px 3px 1px rgba(0, 0, 0, 0.15);\n",
              "      filter: drop-shadow(0px 1px 2px rgba(0, 0, 0, 0.3));\n",
              "      fill: #FFFFFF;\n",
              "    }\n",
              "  </style>\n",
              "\n",
              "    <script>\n",
              "      const buttonEl =\n",
              "        document.querySelector('#df-5afef881-6568-4de6-9222-287a1ce22bff button.colab-df-convert');\n",
              "      buttonEl.style.display =\n",
              "        google.colab.kernel.accessAllowed ? 'block' : 'none';\n",
              "\n",
              "      async function convertToInteractive(key) {\n",
              "        const element = document.querySelector('#df-5afef881-6568-4de6-9222-287a1ce22bff');\n",
              "        const dataTable =\n",
              "          await google.colab.kernel.invokeFunction('convertToInteractive',\n",
              "                                                    [key], {});\n",
              "        if (!dataTable) return;\n",
              "\n",
              "        const docLinkHtml = 'Like what you see? Visit the ' +\n",
              "          '<a target=\"_blank\" href=https://colab.research.google.com/notebooks/data_table.ipynb>data table notebook</a>'\n",
              "          + ' to learn more about interactive tables.';\n",
              "        element.innerHTML = '';\n",
              "        dataTable['output_type'] = 'display_data';\n",
              "        await google.colab.output.renderOutput(dataTable, element);\n",
              "        const docLink = document.createElement('div');\n",
              "        docLink.innerHTML = docLinkHtml;\n",
              "        element.appendChild(docLink);\n",
              "      }\n",
              "    </script>\n",
              "  </div>\n",
              "\n",
              "\n",
              "<div id=\"df-05d7a8e7-8a3b-43f1-b1dd-82a5c6141d03\">\n",
              "  <button class=\"colab-df-quickchart\" onclick=\"quickchart('df-05d7a8e7-8a3b-43f1-b1dd-82a5c6141d03')\"\n",
              "            title=\"Suggest charts\"\n",
              "            style=\"display:none;\">\n",
              "\n",
              "<svg xmlns=\"http://www.w3.org/2000/svg\" height=\"24px\"viewBox=\"0 0 24 24\"\n",
              "     width=\"24px\">\n",
              "    <g>\n",
              "        <path d=\"M19 3H5c-1.1 0-2 .9-2 2v14c0 1.1.9 2 2 2h14c1.1 0 2-.9 2-2V5c0-1.1-.9-2-2-2zM9 17H7v-7h2v7zm4 0h-2V7h2v10zm4 0h-2v-4h2v4z\"/>\n",
              "    </g>\n",
              "</svg>\n",
              "  </button>\n",
              "\n",
              "<style>\n",
              "  .colab-df-quickchart {\n",
              "      --bg-color: #E8F0FE;\n",
              "      --fill-color: #1967D2;\n",
              "      --hover-bg-color: #E2EBFA;\n",
              "      --hover-fill-color: #174EA6;\n",
              "      --disabled-fill-color: #AAA;\n",
              "      --disabled-bg-color: #DDD;\n",
              "  }\n",
              "\n",
              "  [theme=dark] .colab-df-quickchart {\n",
              "      --bg-color: #3B4455;\n",
              "      --fill-color: #D2E3FC;\n",
              "      --hover-bg-color: #434B5C;\n",
              "      --hover-fill-color: #FFFFFF;\n",
              "      --disabled-bg-color: #3B4455;\n",
              "      --disabled-fill-color: #666;\n",
              "  }\n",
              "\n",
              "  .colab-df-quickchart {\n",
              "    background-color: var(--bg-color);\n",
              "    border: none;\n",
              "    border-radius: 50%;\n",
              "    cursor: pointer;\n",
              "    display: none;\n",
              "    fill: var(--fill-color);\n",
              "    height: 32px;\n",
              "    padding: 0;\n",
              "    width: 32px;\n",
              "  }\n",
              "\n",
              "  .colab-df-quickchart:hover {\n",
              "    background-color: var(--hover-bg-color);\n",
              "    box-shadow: 0 1px 2px rgba(60, 64, 67, 0.3), 0 1px 3px 1px rgba(60, 64, 67, 0.15);\n",
              "    fill: var(--button-hover-fill-color);\n",
              "  }\n",
              "\n",
              "  .colab-df-quickchart-complete:disabled,\n",
              "  .colab-df-quickchart-complete:disabled:hover {\n",
              "    background-color: var(--disabled-bg-color);\n",
              "    fill: var(--disabled-fill-color);\n",
              "    box-shadow: none;\n",
              "  }\n",
              "\n",
              "  .colab-df-spinner {\n",
              "    border: 2px solid var(--fill-color);\n",
              "    border-color: transparent;\n",
              "    border-bottom-color: var(--fill-color);\n",
              "    animation:\n",
              "      spin 1s steps(1) infinite;\n",
              "  }\n",
              "\n",
              "  @keyframes spin {\n",
              "    0% {\n",
              "      border-color: transparent;\n",
              "      border-bottom-color: var(--fill-color);\n",
              "      border-left-color: var(--fill-color);\n",
              "    }\n",
              "    20% {\n",
              "      border-color: transparent;\n",
              "      border-left-color: var(--fill-color);\n",
              "      border-top-color: var(--fill-color);\n",
              "    }\n",
              "    30% {\n",
              "      border-color: transparent;\n",
              "      border-left-color: var(--fill-color);\n",
              "      border-top-color: var(--fill-color);\n",
              "      border-right-color: var(--fill-color);\n",
              "    }\n",
              "    40% {\n",
              "      border-color: transparent;\n",
              "      border-right-color: var(--fill-color);\n",
              "      border-top-color: var(--fill-color);\n",
              "    }\n",
              "    60% {\n",
              "      border-color: transparent;\n",
              "      border-right-color: var(--fill-color);\n",
              "    }\n",
              "    80% {\n",
              "      border-color: transparent;\n",
              "      border-right-color: var(--fill-color);\n",
              "      border-bottom-color: var(--fill-color);\n",
              "    }\n",
              "    90% {\n",
              "      border-color: transparent;\n",
              "      border-bottom-color: var(--fill-color);\n",
              "    }\n",
              "  }\n",
              "</style>\n",
              "\n",
              "  <script>\n",
              "    async function quickchart(key) {\n",
              "      const quickchartButtonEl =\n",
              "        document.querySelector('#' + key + ' button');\n",
              "      quickchartButtonEl.disabled = true;  // To prevent multiple clicks.\n",
              "      quickchartButtonEl.classList.add('colab-df-spinner');\n",
              "      try {\n",
              "        const charts = await google.colab.kernel.invokeFunction(\n",
              "            'suggestCharts', [key], {});\n",
              "      } catch (error) {\n",
              "        console.error('Error during call to suggestCharts:', error);\n",
              "      }\n",
              "      quickchartButtonEl.classList.remove('colab-df-spinner');\n",
              "      quickchartButtonEl.classList.add('colab-df-quickchart-complete');\n",
              "    }\n",
              "    (() => {\n",
              "      let quickchartButtonEl =\n",
              "        document.querySelector('#df-05d7a8e7-8a3b-43f1-b1dd-82a5c6141d03 button');\n",
              "      quickchartButtonEl.style.display =\n",
              "        google.colab.kernel.accessAllowed ? 'block' : 'none';\n",
              "    })();\n",
              "  </script>\n",
              "</div>\n",
              "\n",
              "  <div id=\"id_6bf0b5e4-47cf-4d43-b1f0-cf10017d7389\">\n",
              "    <style>\n",
              "      .colab-df-generate {\n",
              "        background-color: #E8F0FE;\n",
              "        border: none;\n",
              "        border-radius: 50%;\n",
              "        cursor: pointer;\n",
              "        display: none;\n",
              "        fill: #1967D2;\n",
              "        height: 32px;\n",
              "        padding: 0 0 0 0;\n",
              "        width: 32px;\n",
              "      }\n",
              "\n",
              "      .colab-df-generate:hover {\n",
              "        background-color: #E2EBFA;\n",
              "        box-shadow: 0px 1px 2px rgba(60, 64, 67, 0.3), 0px 1px 3px 1px rgba(60, 64, 67, 0.15);\n",
              "        fill: #174EA6;\n",
              "      }\n",
              "\n",
              "      [theme=dark] .colab-df-generate {\n",
              "        background-color: #3B4455;\n",
              "        fill: #D2E3FC;\n",
              "      }\n",
              "\n",
              "      [theme=dark] .colab-df-generate:hover {\n",
              "        background-color: #434B5C;\n",
              "        box-shadow: 0px 1px 3px 1px rgba(0, 0, 0, 0.15);\n",
              "        filter: drop-shadow(0px 1px 2px rgba(0, 0, 0, 0.3));\n",
              "        fill: #FFFFFF;\n",
              "      }\n",
              "    </style>\n",
              "    <button class=\"colab-df-generate\" onclick=\"generateWithVariable('sample_neigh_df')\"\n",
              "            title=\"Generate code using this dataframe.\"\n",
              "            style=\"display:none;\">\n",
              "\n",
              "  <svg xmlns=\"http://www.w3.org/2000/svg\" height=\"24px\"viewBox=\"0 0 24 24\"\n",
              "       width=\"24px\">\n",
              "    <path d=\"M7,19H8.4L18.45,9,17,7.55,7,17.6ZM5,21V16.75L18.45,3.32a2,2,0,0,1,2.83,0l1.4,1.43a1.91,1.91,0,0,1,.58,1.4,1.91,1.91,0,0,1-.58,1.4L9.25,21ZM18.45,9,17,7.55Zm-12,3A5.31,5.31,0,0,0,4.9,8.1,5.31,5.31,0,0,0,1,6.5,5.31,5.31,0,0,0,4.9,4.9,5.31,5.31,0,0,0,6.5,1,5.31,5.31,0,0,0,8.1,4.9,5.31,5.31,0,0,0,12,6.5,5.46,5.46,0,0,0,6.5,12Z\"/>\n",
              "  </svg>\n",
              "    </button>\n",
              "    <script>\n",
              "      (() => {\n",
              "      const buttonEl =\n",
              "        document.querySelector('#id_6bf0b5e4-47cf-4d43-b1f0-cf10017d7389 button.colab-df-generate');\n",
              "      buttonEl.style.display =\n",
              "        google.colab.kernel.accessAllowed ? 'block' : 'none';\n",
              "\n",
              "      buttonEl.onclick = () => {\n",
              "        google.colab.notebook.generateWithVariable('sample_neigh_df');\n",
              "      }\n",
              "      })();\n",
              "    </script>\n",
              "  </div>\n",
              "\n",
              "    </div>\n",
              "  </div>\n"
            ]
          },
          "metadata": {},
          "execution_count": 27
        }
      ]
    },
    {
      "cell_type": "code",
      "source": [
        "# Drop listing neighbourhood columns:\n",
        "df.drop(columns=['neighbourhood', 'neighbourhood_cleansed', 'neighbourhood_group_cleansed', 'host_location', 'host_neighbourhood'], inplace=True)\n"
      ],
      "metadata": {
        "id": "J_4sRtUnq-xp"
      },
      "execution_count": 28,
      "outputs": []
    },
    {
      "cell_type": "code",
      "source": [
        "df.info()"
      ],
      "metadata": {
        "id": "uBkDIDXeHrc7",
        "outputId": "778ef420-ee9e-4365-e9fd-95f3e31d8580",
        "colab": {
          "base_uri": "https://localhost:8080/"
        }
      },
      "execution_count": 30,
      "outputs": [
        {
          "output_type": "stream",
          "name": "stdout",
          "text": [
            "<class 'pandas.core.frame.DataFrame'>\n",
            "RangeIndex: 274958 entries, 0 to 274957\n",
            "Data columns (total 29 columns):\n",
            " #   Column                  Non-Null Count   Dtype  \n",
            "---  ------                  --------------   -----  \n",
            " 0   id                      274958 non-null  int64  \n",
            " 1   name                    274958 non-null  object \n",
            " 2   description             272232 non-null  object \n",
            " 3   neighborhood_overview   167804 non-null  object \n",
            " 4   host_about              164351 non-null  object \n",
            " 5   host_verifications      274890 non-null  object \n",
            " 6   host_has_profile_pic    274943 non-null  object \n",
            " 7   host_identity_verified  274943 non-null  object \n",
            " 8   latitude                274958 non-null  float64\n",
            " 9   longitude               274958 non-null  float64\n",
            " 10  property_type           274958 non-null  object \n",
            " 11  room_type               274958 non-null  object \n",
            " 12  accommodates            274958 non-null  int64  \n",
            " 13  bathrooms_text          274616 non-null  object \n",
            " 14  bedrooms                205357 non-null  float64\n",
            " 15  beds                    272084 non-null  float64\n",
            " 16  amenities               274594 non-null  object \n",
            " 17  price                   274958 non-null  object \n",
            " 18  minimum_nights          274958 non-null  int64  \n",
            " 19  maximum_nights          274958 non-null  int64  \n",
            " 20  has_availability        274958 non-null  object \n",
            " 21  availability_30         274958 non-null  int64  \n",
            " 22  availability_60         274958 non-null  int64  \n",
            " 23  availability_90         274958 non-null  int64  \n",
            " 24  availability_365        274958 non-null  int64  \n",
            " 25  license                 274958 non-null  int64  \n",
            " 26  instant_bookable        274958 non-null  object \n",
            " 27  city                    274958 non-null  object \n",
            " 28  state                   274958 non-null  object \n",
            "dtypes: float64(4), int64(9), object(16)\n",
            "memory usage: 60.8+ MB\n"
          ]
        }
      ]
    },
    {
      "cell_type": "code",
      "source": [
        "data_table.enable_dataframe_formatter()\n",
        "df.head(100)"
      ],
      "metadata": {
        "id": "cECkX32pHgMl",
        "outputId": "a7cacdf9-a1a5-41a5-ecd4-88fb0ea132dc",
        "colab": {
          "base_uri": "https://localhost:8080/",
          "height": 621
        }
      },
      "execution_count": 32,
      "outputs": [
        {
          "output_type": "stream",
          "name": "stdout",
          "text": [
            "Warning: Total number of columns (29) exceeds max_columns (20). Falling back to pandas display.\n"
          ]
        },
        {
          "output_type": "execute_result",
          "data": {
            "text/plain": [
              "         id                                               name  \\\n",
              "0   3314819  Home in Asheville  4.75  1 bedroom  1 bed  1 p...   \n",
              "1    108061  Rental unit in Asheville  4.51  1 bedroom  1 b...   \n",
              "..      ...                                                ...   \n",
              "98  4124504  Guest suite in Asheville  4.89  2 bedrooms  2 ...   \n",
              "99  4129119  Home in Asheville  4.93  1 bedroom  1 bed  1 p...   \n",
              "\n",
              "                                          description  \\\n",
              "0   Dont pay ridiculously high cleaning fees elsew...   \n",
              "1   Walk to town in ten minutes Monthly rental inc...   \n",
              "..                                                ...   \n",
              "98  Our home is located in the historic Kenilworth...   \n",
              "99  Spacious bedroom and clean, private bath in a ...   \n",
              "\n",
              "                                neighborhood_overview  \\\n",
              "0   South slope of Brown Mountain overlooking sout...   \n",
              "1   I love my neighborhood Its friendly, easy-goin...   \n",
              "..                                                ...   \n",
              "98                Very close to Biltmore and downtown   \n",
              "99  Norwood Park is a wonderful historic neighborh...   \n",
              "\n",
              "                                           host_about host_verifications  \\\n",
              "0   Hello My husband and I are looking forward to ...       email, phone   \n",
              "1   I am a long time resident of Asheville and am ...       email, phone   \n",
              "..                                                ...                ...   \n",
              "98  We are a family with small children that love ...       email, phone   \n",
              "99  I am a lover of the outdoors. Im an artist, an...       email, phone   \n",
              "\n",
              "   host_has_profile_pic host_identity_verified  latitude  longitude  ...  \\\n",
              "0                     t                      t  35.49233  -82.51495  ...   \n",
              "1                     t                      t  35.60562  -82.55512  ...   \n",
              "..                  ...                    ...       ...        ...  ...   \n",
              "98                    t                      t  35.57522  -82.53793  ...   \n",
              "99                    t                      f  35.61726  -82.55533  ...   \n",
              "\n",
              "   maximum_nights has_availability  availability_30 availability_60  \\\n",
              "0               7                t               17              39   \n",
              "1             365                t                0               2   \n",
              "..            ...              ...              ...             ...   \n",
              "98           1125                t                0               0   \n",
              "99             10                t                0               0   \n",
              "\n",
              "    availability_90  availability_365 license instant_bookable       city  \\\n",
              "0                66                66       0                f  Asheville   \n",
              "1                32               203       0                f  Asheville   \n",
              "..              ...               ...     ...              ...        ...   \n",
              "98                0                 0       0                f  Asheville   \n",
              "99                0                 0       0                f  Asheville   \n",
              "\n",
              "             state  \n",
              "0   North Carolina  \n",
              "1   North Carolina  \n",
              "..             ...  \n",
              "98  North Carolina  \n",
              "99  North Carolina  \n",
              "\n",
              "[100 rows x 29 columns]"
            ],
            "text/html": [
              "\n",
              "  <div id=\"df-154a4ca2-f98f-4ce5-b15e-7a8d35b5e33f\" class=\"colab-df-container\">\n",
              "    <div>\n",
              "<style scoped>\n",
              "    .dataframe tbody tr th:only-of-type {\n",
              "        vertical-align: middle;\n",
              "    }\n",
              "\n",
              "    .dataframe tbody tr th {\n",
              "        vertical-align: top;\n",
              "    }\n",
              "\n",
              "    .dataframe thead th {\n",
              "        text-align: right;\n",
              "    }\n",
              "</style>\n",
              "<table border=\"1\" class=\"dataframe\">\n",
              "  <thead>\n",
              "    <tr style=\"text-align: right;\">\n",
              "      <th></th>\n",
              "      <th>id</th>\n",
              "      <th>name</th>\n",
              "      <th>description</th>\n",
              "      <th>neighborhood_overview</th>\n",
              "      <th>host_about</th>\n",
              "      <th>host_verifications</th>\n",
              "      <th>host_has_profile_pic</th>\n",
              "      <th>host_identity_verified</th>\n",
              "      <th>latitude</th>\n",
              "      <th>longitude</th>\n",
              "      <th>...</th>\n",
              "      <th>maximum_nights</th>\n",
              "      <th>has_availability</th>\n",
              "      <th>availability_30</th>\n",
              "      <th>availability_60</th>\n",
              "      <th>availability_90</th>\n",
              "      <th>availability_365</th>\n",
              "      <th>license</th>\n",
              "      <th>instant_bookable</th>\n",
              "      <th>city</th>\n",
              "      <th>state</th>\n",
              "    </tr>\n",
              "  </thead>\n",
              "  <tbody>\n",
              "    <tr>\n",
              "      <th>0</th>\n",
              "      <td>3314819</td>\n",
              "      <td>Home in Asheville  4.75  1 bedroom  1 bed  1 p...</td>\n",
              "      <td>Dont pay ridiculously high cleaning fees elsew...</td>\n",
              "      <td>South slope of Brown Mountain overlooking sout...</td>\n",
              "      <td>Hello My husband and I are looking forward to ...</td>\n",
              "      <td>email, phone</td>\n",
              "      <td>t</td>\n",
              "      <td>t</td>\n",
              "      <td>35.49233</td>\n",
              "      <td>-82.51495</td>\n",
              "      <td>...</td>\n",
              "      <td>7</td>\n",
              "      <td>t</td>\n",
              "      <td>17</td>\n",
              "      <td>39</td>\n",
              "      <td>66</td>\n",
              "      <td>66</td>\n",
              "      <td>0</td>\n",
              "      <td>f</td>\n",
              "      <td>Asheville</td>\n",
              "      <td>North Carolina</td>\n",
              "    </tr>\n",
              "    <tr>\n",
              "      <th>1</th>\n",
              "      <td>108061</td>\n",
              "      <td>Rental unit in Asheville  4.51  1 bedroom  1 b...</td>\n",
              "      <td>Walk to town in ten minutes Monthly rental inc...</td>\n",
              "      <td>I love my neighborhood Its friendly, easy-goin...</td>\n",
              "      <td>I am a long time resident of Asheville and am ...</td>\n",
              "      <td>email, phone</td>\n",
              "      <td>t</td>\n",
              "      <td>t</td>\n",
              "      <td>35.60562</td>\n",
              "      <td>-82.55512</td>\n",
              "      <td>...</td>\n",
              "      <td>365</td>\n",
              "      <td>t</td>\n",
              "      <td>0</td>\n",
              "      <td>2</td>\n",
              "      <td>32</td>\n",
              "      <td>203</td>\n",
              "      <td>0</td>\n",
              "      <td>f</td>\n",
              "      <td>Asheville</td>\n",
              "      <td>North Carolina</td>\n",
              "    </tr>\n",
              "    <tr>\n",
              "      <th>...</th>\n",
              "      <td>...</td>\n",
              "      <td>...</td>\n",
              "      <td>...</td>\n",
              "      <td>...</td>\n",
              "      <td>...</td>\n",
              "      <td>...</td>\n",
              "      <td>...</td>\n",
              "      <td>...</td>\n",
              "      <td>...</td>\n",
              "      <td>...</td>\n",
              "      <td>...</td>\n",
              "      <td>...</td>\n",
              "      <td>...</td>\n",
              "      <td>...</td>\n",
              "      <td>...</td>\n",
              "      <td>...</td>\n",
              "      <td>...</td>\n",
              "      <td>...</td>\n",
              "      <td>...</td>\n",
              "      <td>...</td>\n",
              "      <td>...</td>\n",
              "    </tr>\n",
              "    <tr>\n",
              "      <th>98</th>\n",
              "      <td>4124504</td>\n",
              "      <td>Guest suite in Asheville  4.89  2 bedrooms  2 ...</td>\n",
              "      <td>Our home is located in the historic Kenilworth...</td>\n",
              "      <td>Very close to Biltmore and downtown</td>\n",
              "      <td>We are a family with small children that love ...</td>\n",
              "      <td>email, phone</td>\n",
              "      <td>t</td>\n",
              "      <td>t</td>\n",
              "      <td>35.57522</td>\n",
              "      <td>-82.53793</td>\n",
              "      <td>...</td>\n",
              "      <td>1125</td>\n",
              "      <td>t</td>\n",
              "      <td>0</td>\n",
              "      <td>0</td>\n",
              "      <td>0</td>\n",
              "      <td>0</td>\n",
              "      <td>0</td>\n",
              "      <td>f</td>\n",
              "      <td>Asheville</td>\n",
              "      <td>North Carolina</td>\n",
              "    </tr>\n",
              "    <tr>\n",
              "      <th>99</th>\n",
              "      <td>4129119</td>\n",
              "      <td>Home in Asheville  4.93  1 bedroom  1 bed  1 p...</td>\n",
              "      <td>Spacious bedroom and clean, private bath in a ...</td>\n",
              "      <td>Norwood Park is a wonderful historic neighborh...</td>\n",
              "      <td>I am a lover of the outdoors. Im an artist, an...</td>\n",
              "      <td>email, phone</td>\n",
              "      <td>t</td>\n",
              "      <td>f</td>\n",
              "      <td>35.61726</td>\n",
              "      <td>-82.55533</td>\n",
              "      <td>...</td>\n",
              "      <td>10</td>\n",
              "      <td>t</td>\n",
              "      <td>0</td>\n",
              "      <td>0</td>\n",
              "      <td>0</td>\n",
              "      <td>0</td>\n",
              "      <td>0</td>\n",
              "      <td>f</td>\n",
              "      <td>Asheville</td>\n",
              "      <td>North Carolina</td>\n",
              "    </tr>\n",
              "  </tbody>\n",
              "</table>\n",
              "<p>100 rows × 29 columns</p>\n",
              "</div>\n",
              "    <div class=\"colab-df-buttons\">\n",
              "\n",
              "  <div class=\"colab-df-container\">\n",
              "    <button class=\"colab-df-convert\" onclick=\"convertToInteractive('df-154a4ca2-f98f-4ce5-b15e-7a8d35b5e33f')\"\n",
              "            title=\"Convert this dataframe to an interactive table.\"\n",
              "            style=\"display:none;\">\n",
              "\n",
              "  <svg xmlns=\"http://www.w3.org/2000/svg\" height=\"24px\" viewBox=\"0 -960 960 960\">\n",
              "    <path d=\"M120-120v-720h720v720H120Zm60-500h600v-160H180v160Zm220 220h160v-160H400v160Zm0 220h160v-160H400v160ZM180-400h160v-160H180v160Zm440 0h160v-160H620v160ZM180-180h160v-160H180v160Zm440 0h160v-160H620v160Z\"/>\n",
              "  </svg>\n",
              "    </button>\n",
              "\n",
              "  <style>\n",
              "    .colab-df-container {\n",
              "      display:flex;\n",
              "      gap: 12px;\n",
              "    }\n",
              "\n",
              "    .colab-df-convert {\n",
              "      background-color: #E8F0FE;\n",
              "      border: none;\n",
              "      border-radius: 50%;\n",
              "      cursor: pointer;\n",
              "      display: none;\n",
              "      fill: #1967D2;\n",
              "      height: 32px;\n",
              "      padding: 0 0 0 0;\n",
              "      width: 32px;\n",
              "    }\n",
              "\n",
              "    .colab-df-convert:hover {\n",
              "      background-color: #E2EBFA;\n",
              "      box-shadow: 0px 1px 2px rgba(60, 64, 67, 0.3), 0px 1px 3px 1px rgba(60, 64, 67, 0.15);\n",
              "      fill: #174EA6;\n",
              "    }\n",
              "\n",
              "    .colab-df-buttons div {\n",
              "      margin-bottom: 4px;\n",
              "    }\n",
              "\n",
              "    [theme=dark] .colab-df-convert {\n",
              "      background-color: #3B4455;\n",
              "      fill: #D2E3FC;\n",
              "    }\n",
              "\n",
              "    [theme=dark] .colab-df-convert:hover {\n",
              "      background-color: #434B5C;\n",
              "      box-shadow: 0px 1px 3px 1px rgba(0, 0, 0, 0.15);\n",
              "      filter: drop-shadow(0px 1px 2px rgba(0, 0, 0, 0.3));\n",
              "      fill: #FFFFFF;\n",
              "    }\n",
              "  </style>\n",
              "\n",
              "    <script>\n",
              "      const buttonEl =\n",
              "        document.querySelector('#df-154a4ca2-f98f-4ce5-b15e-7a8d35b5e33f button.colab-df-convert');\n",
              "      buttonEl.style.display =\n",
              "        google.colab.kernel.accessAllowed ? 'block' : 'none';\n",
              "\n",
              "      async function convertToInteractive(key) {\n",
              "        const element = document.querySelector('#df-154a4ca2-f98f-4ce5-b15e-7a8d35b5e33f');\n",
              "        const dataTable =\n",
              "          await google.colab.kernel.invokeFunction('convertToInteractive',\n",
              "                                                    [key], {});\n",
              "        if (!dataTable) return;\n",
              "\n",
              "        const docLinkHtml = 'Like what you see? Visit the ' +\n",
              "          '<a target=\"_blank\" href=https://colab.research.google.com/notebooks/data_table.ipynb>data table notebook</a>'\n",
              "          + ' to learn more about interactive tables.';\n",
              "        element.innerHTML = '';\n",
              "        dataTable['output_type'] = 'display_data';\n",
              "        await google.colab.output.renderOutput(dataTable, element);\n",
              "        const docLink = document.createElement('div');\n",
              "        docLink.innerHTML = docLinkHtml;\n",
              "        element.appendChild(docLink);\n",
              "      }\n",
              "    </script>\n",
              "  </div>\n",
              "\n",
              "\n",
              "<div id=\"df-3a19fe1b-8b5d-4817-b027-350ac68b8fdc\">\n",
              "  <button class=\"colab-df-quickchart\" onclick=\"quickchart('df-3a19fe1b-8b5d-4817-b027-350ac68b8fdc')\"\n",
              "            title=\"Suggest charts\"\n",
              "            style=\"display:none;\">\n",
              "\n",
              "<svg xmlns=\"http://www.w3.org/2000/svg\" height=\"24px\"viewBox=\"0 0 24 24\"\n",
              "     width=\"24px\">\n",
              "    <g>\n",
              "        <path d=\"M19 3H5c-1.1 0-2 .9-2 2v14c0 1.1.9 2 2 2h14c1.1 0 2-.9 2-2V5c0-1.1-.9-2-2-2zM9 17H7v-7h2v7zm4 0h-2V7h2v10zm4 0h-2v-4h2v4z\"/>\n",
              "    </g>\n",
              "</svg>\n",
              "  </button>\n",
              "\n",
              "<style>\n",
              "  .colab-df-quickchart {\n",
              "      --bg-color: #E8F0FE;\n",
              "      --fill-color: #1967D2;\n",
              "      --hover-bg-color: #E2EBFA;\n",
              "      --hover-fill-color: #174EA6;\n",
              "      --disabled-fill-color: #AAA;\n",
              "      --disabled-bg-color: #DDD;\n",
              "  }\n",
              "\n",
              "  [theme=dark] .colab-df-quickchart {\n",
              "      --bg-color: #3B4455;\n",
              "      --fill-color: #D2E3FC;\n",
              "      --hover-bg-color: #434B5C;\n",
              "      --hover-fill-color: #FFFFFF;\n",
              "      --disabled-bg-color: #3B4455;\n",
              "      --disabled-fill-color: #666;\n",
              "  }\n",
              "\n",
              "  .colab-df-quickchart {\n",
              "    background-color: var(--bg-color);\n",
              "    border: none;\n",
              "    border-radius: 50%;\n",
              "    cursor: pointer;\n",
              "    display: none;\n",
              "    fill: var(--fill-color);\n",
              "    height: 32px;\n",
              "    padding: 0;\n",
              "    width: 32px;\n",
              "  }\n",
              "\n",
              "  .colab-df-quickchart:hover {\n",
              "    background-color: var(--hover-bg-color);\n",
              "    box-shadow: 0 1px 2px rgba(60, 64, 67, 0.3), 0 1px 3px 1px rgba(60, 64, 67, 0.15);\n",
              "    fill: var(--button-hover-fill-color);\n",
              "  }\n",
              "\n",
              "  .colab-df-quickchart-complete:disabled,\n",
              "  .colab-df-quickchart-complete:disabled:hover {\n",
              "    background-color: var(--disabled-bg-color);\n",
              "    fill: var(--disabled-fill-color);\n",
              "    box-shadow: none;\n",
              "  }\n",
              "\n",
              "  .colab-df-spinner {\n",
              "    border: 2px solid var(--fill-color);\n",
              "    border-color: transparent;\n",
              "    border-bottom-color: var(--fill-color);\n",
              "    animation:\n",
              "      spin 1s steps(1) infinite;\n",
              "  }\n",
              "\n",
              "  @keyframes spin {\n",
              "    0% {\n",
              "      border-color: transparent;\n",
              "      border-bottom-color: var(--fill-color);\n",
              "      border-left-color: var(--fill-color);\n",
              "    }\n",
              "    20% {\n",
              "      border-color: transparent;\n",
              "      border-left-color: var(--fill-color);\n",
              "      border-top-color: var(--fill-color);\n",
              "    }\n",
              "    30% {\n",
              "      border-color: transparent;\n",
              "      border-left-color: var(--fill-color);\n",
              "      border-top-color: var(--fill-color);\n",
              "      border-right-color: var(--fill-color);\n",
              "    }\n",
              "    40% {\n",
              "      border-color: transparent;\n",
              "      border-right-color: var(--fill-color);\n",
              "      border-top-color: var(--fill-color);\n",
              "    }\n",
              "    60% {\n",
              "      border-color: transparent;\n",
              "      border-right-color: var(--fill-color);\n",
              "    }\n",
              "    80% {\n",
              "      border-color: transparent;\n",
              "      border-right-color: var(--fill-color);\n",
              "      border-bottom-color: var(--fill-color);\n",
              "    }\n",
              "    90% {\n",
              "      border-color: transparent;\n",
              "      border-bottom-color: var(--fill-color);\n",
              "    }\n",
              "  }\n",
              "</style>\n",
              "\n",
              "  <script>\n",
              "    async function quickchart(key) {\n",
              "      const quickchartButtonEl =\n",
              "        document.querySelector('#' + key + ' button');\n",
              "      quickchartButtonEl.disabled = true;  // To prevent multiple clicks.\n",
              "      quickchartButtonEl.classList.add('colab-df-spinner');\n",
              "      try {\n",
              "        const charts = await google.colab.kernel.invokeFunction(\n",
              "            'suggestCharts', [key], {});\n",
              "      } catch (error) {\n",
              "        console.error('Error during call to suggestCharts:', error);\n",
              "      }\n",
              "      quickchartButtonEl.classList.remove('colab-df-spinner');\n",
              "      quickchartButtonEl.classList.add('colab-df-quickchart-complete');\n",
              "    }\n",
              "    (() => {\n",
              "      let quickchartButtonEl =\n",
              "        document.querySelector('#df-3a19fe1b-8b5d-4817-b027-350ac68b8fdc button');\n",
              "      quickchartButtonEl.style.display =\n",
              "        google.colab.kernel.accessAllowed ? 'block' : 'none';\n",
              "    })();\n",
              "  </script>\n",
              "</div>\n",
              "\n",
              "    </div>\n",
              "  </div>\n"
            ]
          },
          "metadata": {},
          "execution_count": 32
        }
      ]
    },
    {
      "cell_type": "markdown",
      "source": [
        "## Boolean Types - convert and clean"
      ],
      "metadata": {
        "id": "cbzMMGr6t_8k"
      }
    },
    {
      "cell_type": "markdown",
      "source": [
        "### Convert `license` column to boolean:\n",
        "- We will assume if there is text in the license column, it means there is a license, otherwise NULL"
      ],
      "metadata": {
        "id": "-8NnehEzCLy3"
      }
    },
    {
      "cell_type": "code",
      "source": [
        "license_not_null_df = df[['license']].isnull().sort_values(by='license', ascending=True)"
      ],
      "metadata": {
        "id": "gnzc6EWQsXxR"
      },
      "execution_count": 16,
      "outputs": []
    },
    {
      "cell_type": "code",
      "source": [
        "license_not_null_df.value_counts()"
      ],
      "metadata": {
        "id": "qCAjRmcBClu0",
        "outputId": "af504ad6-091b-412f-dffc-a570eea25095",
        "colab": {
          "base_uri": "https://localhost:8080/"
        }
      },
      "execution_count": 17,
      "outputs": [
        {
          "output_type": "execute_result",
          "data": {
            "text/plain": [
              "license\n",
              "True       183196\n",
              "False       91762\n",
              "dtype: int64"
            ]
          },
          "metadata": {},
          "execution_count": 17
        }
      ]
    },
    {
      "cell_type": "code",
      "source": [
        "df['license'] = (df['license'].notnull()).astype('int')"
      ],
      "metadata": {
        "id": "-AfwreWfDymi"
      },
      "execution_count": 18,
      "outputs": []
    },
    {
      "cell_type": "code",
      "source": [
        "df['license'].value_counts()"
      ],
      "metadata": {
        "id": "6GLc3xk2EBRo",
        "outputId": "b4b5e324-3f23-4660-b82c-3c8b4abd79cc",
        "colab": {
          "base_uri": "https://localhost:8080/"
        }
      },
      "execution_count": 19,
      "outputs": [
        {
          "output_type": "execute_result",
          "data": {
            "text/plain": [
              "0    183196\n",
              "1     91762\n",
              "Name: license, dtype: int64"
            ]
          },
          "metadata": {},
          "execution_count": 19
        }
      ]
    },
    {
      "cell_type": "markdown",
      "source": [
        "### Columns with 2 values are boolean"
      ],
      "metadata": {
        "id": "rj7cFd7nv7kK"
      }
    },
    {
      "cell_type": "code",
      "source": [
        "# Store Boolean Columns in List:\n",
        "boolean_cols = []\n",
        "for col in range(df.shape[1]):\n",
        "  nunique_vals = df.iloc[:,col].nunique()\n",
        "  relative = (float(nunique_vals) / df.shape[0]) * 100\n",
        "  if nunique_vals == 2:\n",
        "    boolean_cols.append(df.columns[col])\n",
        "    print(f'\"{df.columns[col]}\" has {nunique_vals} unique values ({relative:.4f}%)')\n",
        "print()\n",
        "print(boolean_cols)"
      ],
      "metadata": {
        "id": "bHTvNXmFs-WZ"
      },
      "execution_count": null,
      "outputs": []
    },
    {
      "cell_type": "markdown",
      "source": [
        "### Identify cols to encode as Categorical by removing numeric and boolean:"
      ],
      "metadata": {
        "id": "DFdGgyI_5C1c"
      }
    },
    {
      "cell_type": "code",
      "source": [
        "# Look at cols having percentage < .5, datatype is object, and NOT a boolean col:\n",
        "categorical_cols = []\n",
        "for col in range(df.shape[1]):\n",
        "  nunique_vals = df.iloc[:,col].nunique()\n",
        "  relative = (float(nunique_vals) / df.shape[0]) * 100\n",
        "  if relative < .5 and df[df.columns[col]].dtypes == 'object' and df.columns[col] not in boolean_cols:\n",
        "    categorical_cols.append(df.columns[col])\n",
        "    print(f'\"{df.columns[col]}\" has {nunique_vals} unique values ({relative:.4f}%) -- datatype is: {df[df.columns[col]].dtypes}')\n",
        "print()\n",
        "for col in categorical_cols:\n",
        "  print(col)"
      ],
      "metadata": {
        "id": "SgdWfNJE1hSh"
      },
      "execution_count": null,
      "outputs": []
    },
    {
      "cell_type": "markdown",
      "source": [
        "#### Likely Encode as Categorical:\n",
        "- host_verifications\n",
        "- neighbourhood\n",
        "- neighbourhood_group_cleansed\n",
        "- property_type\n",
        "- room_type\n",
        "- bathrooms_text\n",
        "- city\n",
        "- state\n",
        "\n",
        "#### Other Considerations:\n",
        "- neighbourhood has over 1,000 values and may lead to overfitting if we code as categorical"
      ],
      "metadata": {
        "id": "QAH44-MaxSwO"
      }
    },
    {
      "cell_type": "markdown",
      "source": [
        "### Recall our list values holding our boolean cols and cols we may ordinal encode -- we'll use these later in our pipeline."
      ],
      "metadata": {
        "id": "Ki6rUMXI3lUS"
      }
    },
    {
      "cell_type": "code",
      "source": [
        "print(boolean_cols)\n",
        "print(categorical_cols)"
      ],
      "metadata": {
        "id": "C91kD_shw_qs"
      },
      "execution_count": null,
      "outputs": []
    },
    {
      "cell_type": "code",
      "source": [
        "bool_df = df[boolean_cols]\n",
        "cat_low_nunique_df = df[categorical_cols]"
      ],
      "metadata": {
        "id": "ywVe4zIqZbA7"
      },
      "execution_count": null,
      "outputs": []
    },
    {
      "cell_type": "code",
      "source": [
        "bool_df.head(3)"
      ],
      "metadata": {
        "id": "tn1KHyRcZgd7"
      },
      "execution_count": null,
      "outputs": []
    },
    {
      "cell_type": "markdown",
      "source": [
        "### Boolean fields that have `NaN` values:\n",
        "- `host_has_profile_pic`\n",
        "- `host_identity_verified`"
      ],
      "metadata": {
        "id": "I7pz8Ddba06t"
      }
    },
    {
      "cell_type": "code",
      "source": [
        "bool_df.info()"
      ],
      "metadata": {
        "id": "TWl2BP2eagxl"
      },
      "execution_count": null,
      "outputs": []
    },
    {
      "cell_type": "markdown",
      "source": [
        "### Inspect the categorical variables with low unique value counts:"
      ],
      "metadata": {
        "id": "HQbz2cOsbIPC"
      }
    },
    {
      "cell_type": "code",
      "source": [
        "cat_low_nunique_df.head(3)"
      ],
      "metadata": {
        "id": "bIvsJ2yqZuUs"
      },
      "execution_count": null,
      "outputs": []
    },
    {
      "cell_type": "markdown",
      "source": [
        "## Split into numeric and text data to further clean/munge"
      ],
      "metadata": {
        "id": "6LMDQOeDW5sm"
      }
    },
    {
      "cell_type": "markdown",
      "source": [
        "### Non-Numeric cols minus Boolean Cols:"
      ],
      "metadata": {
        "id": "ykG-ih_-bnIx"
      }
    },
    {
      "cell_type": "code",
      "source": [
        "%unload_ext google.colab.data_table"
      ],
      "metadata": {
        "id": "uCwmgqtBdOUT"
      },
      "execution_count": null,
      "outputs": []
    },
    {
      "cell_type": "code",
      "source": [
        "# Create list of non-numeric cols minus the boolean columns:\n",
        "obj_cols = []\n",
        "for col in range(df.shape[1]):\n",
        "  if df[df.columns[col]].dtypes == 'object' and df.columns[col] not in boolean_cols:\n",
        "    obj_cols.append(df.columns[col])\n",
        "print()\n",
        "for col in obj_cols:\n",
        "  print(col)\n",
        "obj_df = df[obj_cols]\n",
        "print()\n",
        "data_table.disable_dataframe_formatter()\n",
        "obj_df.iloc[0:5,:]"
      ],
      "metadata": {
        "id": "BnWM7Pe0X1yo"
      },
      "execution_count": null,
      "outputs": []
    },
    {
      "cell_type": "code",
      "source": [
        "# Create list of non-numeric cols minus the boolean columns:\n",
        "obj_cols_2 = []\n",
        "for col in range(df.shape[1]):\n",
        "  if df[df.columns[col]].dtypes == 'object' and df.columns[col] not in boolean_cols:\n",
        "    obj_cols_2.append(df.columns[col])\n",
        "print()\n",
        "for col in obj_cols_2:\n",
        "  print(col)\n",
        "obj_df_2 = df[obj_cols_2]\n",
        "print()\n",
        "data_table.disable_dataframe_formatter()\n",
        "obj_df_2.iloc[0:10,:].head()\n"
      ],
      "metadata": {
        "id": "VloYblFYrRnF"
      },
      "execution_count": null,
      "outputs": []
    },
    {
      "cell_type": "markdown",
      "source": [
        "## Numeric Columns:"
      ],
      "metadata": {
        "id": "rkzTM574FSm7"
      }
    },
    {
      "cell_type": "code",
      "source": [],
      "metadata": {
        "id": "-QtkLc6SkaJb"
      },
      "execution_count": null,
      "outputs": []
    },
    {
      "cell_type": "markdown",
      "source": [
        "# Make our target (`price`) numeric:"
      ],
      "metadata": {
        "id": "MH6jIhj5Gomm"
      }
    },
    {
      "cell_type": "code",
      "source": [
        "#df['price'] = df['price'].str.replace('$', '')\n",
        "df['price'] = df['price'].str.replace(',', '')\n",
        "df['price'] = df['price'].astype(float)"
      ],
      "metadata": {
        "id": "Wa6UznLaGtyQ"
      },
      "execution_count": null,
      "outputs": []
    },
    {
      "cell_type": "code",
      "source": [
        "# Create list of numeric cols:\n",
        "num_cols = []\n",
        "for col in range(df.shape[1]):\n",
        "  if df[df.columns[col]].dtypes != 'object' and df.columns[col] not in boolean_cols:\n",
        "    num_cols.append(df.columns[col])\n",
        "print()\n",
        "for col in num_cols:\n",
        "  print(col)\n",
        "num_df = df[num_cols]\n",
        "print()\n",
        "data_table.disable_dataframe_formatter()\n",
        "num_df.iloc[0:10,:].head()"
      ],
      "metadata": {
        "id": "41CVfNtyFVRM"
      },
      "execution_count": null,
      "outputs": []
    },
    {
      "cell_type": "markdown",
      "source": [
        "# NULLS and Outliers (We'll use Pipeline to impute)\n",
        "- Numeric cols with NULLs are bedrooms, beds,"
      ],
      "metadata": {
        "id": "fA-cdlgF1N-s"
      }
    },
    {
      "cell_type": "code",
      "source": [
        "num_df.info()"
      ],
      "metadata": {
        "id": "B3ZTQuwh1RsP"
      },
      "execution_count": null,
      "outputs": []
    },
    {
      "cell_type": "code",
      "source": [
        "data_table.enable_dataframe_formatter()\n",
        "from pandas.core.frame import DataFrame\n",
        "DataFrame(df.bedrooms.value_counts()).sort_index()"
      ],
      "metadata": {
        "id": "Pvymdnha1Mjl",
        "outputId": "70554345-dd2f-4769-8583-d0e5d05d91b7",
        "colab": {
          "base_uri": "https://localhost:8080/",
          "height": 669
        }
      },
      "execution_count": 7,
      "outputs": [
        {
          "output_type": "execute_result",
          "data": {
            "text/plain": [
              "      bedrooms\n",
              "1.0      88301\n",
              "2.0      59690\n",
              "3.0      33143\n",
              "4.0      15687\n",
              "5.0       5151\n",
              "6.0       1926\n",
              "7.0        600\n",
              "8.0        453\n",
              "9.0        160\n",
              "10.0        93\n",
              "11.0        30\n",
              "12.0        39\n",
              "13.0        17\n",
              "14.0        11\n",
              "15.0        12\n",
              "16.0        19\n",
              "17.0         1\n",
              "18.0         6\n",
              "19.0         3\n",
              "20.0         4\n",
              "21.0         1\n",
              "23.0         3\n",
              "24.0         2\n",
              "25.0         1\n",
              "26.0         1\n",
              "32.0         1\n",
              "50.0         2"
            ],
            "text/html": [
              "\n",
              "  <div id=\"df-21f81e81-c381-4f37-9c95-8d95fe2f09c6\" class=\"colab-df-container\">\n",
              "    <div>\n",
              "<style scoped>\n",
              "    .dataframe tbody tr th:only-of-type {\n",
              "        vertical-align: middle;\n",
              "    }\n",
              "\n",
              "    .dataframe tbody tr th {\n",
              "        vertical-align: top;\n",
              "    }\n",
              "\n",
              "    .dataframe thead th {\n",
              "        text-align: right;\n",
              "    }\n",
              "</style>\n",
              "<table border=\"1\" class=\"dataframe\">\n",
              "  <thead>\n",
              "    <tr style=\"text-align: right;\">\n",
              "      <th></th>\n",
              "      <th>bedrooms</th>\n",
              "    </tr>\n",
              "  </thead>\n",
              "  <tbody>\n",
              "    <tr>\n",
              "      <th>1.0</th>\n",
              "      <td>88301</td>\n",
              "    </tr>\n",
              "    <tr>\n",
              "      <th>2.0</th>\n",
              "      <td>59690</td>\n",
              "    </tr>\n",
              "    <tr>\n",
              "      <th>3.0</th>\n",
              "      <td>33143</td>\n",
              "    </tr>\n",
              "    <tr>\n",
              "      <th>4.0</th>\n",
              "      <td>15687</td>\n",
              "    </tr>\n",
              "    <tr>\n",
              "      <th>5.0</th>\n",
              "      <td>5151</td>\n",
              "    </tr>\n",
              "    <tr>\n",
              "      <th>6.0</th>\n",
              "      <td>1926</td>\n",
              "    </tr>\n",
              "    <tr>\n",
              "      <th>7.0</th>\n",
              "      <td>600</td>\n",
              "    </tr>\n",
              "    <tr>\n",
              "      <th>8.0</th>\n",
              "      <td>453</td>\n",
              "    </tr>\n",
              "    <tr>\n",
              "      <th>9.0</th>\n",
              "      <td>160</td>\n",
              "    </tr>\n",
              "    <tr>\n",
              "      <th>10.0</th>\n",
              "      <td>93</td>\n",
              "    </tr>\n",
              "    <tr>\n",
              "      <th>11.0</th>\n",
              "      <td>30</td>\n",
              "    </tr>\n",
              "    <tr>\n",
              "      <th>12.0</th>\n",
              "      <td>39</td>\n",
              "    </tr>\n",
              "    <tr>\n",
              "      <th>13.0</th>\n",
              "      <td>17</td>\n",
              "    </tr>\n",
              "    <tr>\n",
              "      <th>14.0</th>\n",
              "      <td>11</td>\n",
              "    </tr>\n",
              "    <tr>\n",
              "      <th>15.0</th>\n",
              "      <td>12</td>\n",
              "    </tr>\n",
              "    <tr>\n",
              "      <th>16.0</th>\n",
              "      <td>19</td>\n",
              "    </tr>\n",
              "    <tr>\n",
              "      <th>17.0</th>\n",
              "      <td>1</td>\n",
              "    </tr>\n",
              "    <tr>\n",
              "      <th>18.0</th>\n",
              "      <td>6</td>\n",
              "    </tr>\n",
              "    <tr>\n",
              "      <th>19.0</th>\n",
              "      <td>3</td>\n",
              "    </tr>\n",
              "    <tr>\n",
              "      <th>20.0</th>\n",
              "      <td>4</td>\n",
              "    </tr>\n",
              "    <tr>\n",
              "      <th>21.0</th>\n",
              "      <td>1</td>\n",
              "    </tr>\n",
              "    <tr>\n",
              "      <th>23.0</th>\n",
              "      <td>3</td>\n",
              "    </tr>\n",
              "    <tr>\n",
              "      <th>24.0</th>\n",
              "      <td>2</td>\n",
              "    </tr>\n",
              "    <tr>\n",
              "      <th>25.0</th>\n",
              "      <td>1</td>\n",
              "    </tr>\n",
              "    <tr>\n",
              "      <th>26.0</th>\n",
              "      <td>1</td>\n",
              "    </tr>\n",
              "    <tr>\n",
              "      <th>32.0</th>\n",
              "      <td>1</td>\n",
              "    </tr>\n",
              "    <tr>\n",
              "      <th>50.0</th>\n",
              "      <td>2</td>\n",
              "    </tr>\n",
              "  </tbody>\n",
              "</table>\n",
              "</div>\n",
              "    <div class=\"colab-df-buttons\">\n",
              "\n",
              "  <div class=\"colab-df-container\">\n",
              "    <button class=\"colab-df-convert\" onclick=\"convertToInteractive('df-21f81e81-c381-4f37-9c95-8d95fe2f09c6')\"\n",
              "            title=\"Convert this dataframe to an interactive table.\"\n",
              "            style=\"display:none;\">\n",
              "\n",
              "  <svg xmlns=\"http://www.w3.org/2000/svg\" height=\"24px\" viewBox=\"0 -960 960 960\">\n",
              "    <path d=\"M120-120v-720h720v720H120Zm60-500h600v-160H180v160Zm220 220h160v-160H400v160Zm0 220h160v-160H400v160ZM180-400h160v-160H180v160Zm440 0h160v-160H620v160ZM180-180h160v-160H180v160Zm440 0h160v-160H620v160Z\"/>\n",
              "  </svg>\n",
              "    </button>\n",
              "\n",
              "  <style>\n",
              "    .colab-df-container {\n",
              "      display:flex;\n",
              "      gap: 12px;\n",
              "    }\n",
              "\n",
              "    .colab-df-convert {\n",
              "      background-color: #E8F0FE;\n",
              "      border: none;\n",
              "      border-radius: 50%;\n",
              "      cursor: pointer;\n",
              "      display: none;\n",
              "      fill: #1967D2;\n",
              "      height: 32px;\n",
              "      padding: 0 0 0 0;\n",
              "      width: 32px;\n",
              "    }\n",
              "\n",
              "    .colab-df-convert:hover {\n",
              "      background-color: #E2EBFA;\n",
              "      box-shadow: 0px 1px 2px rgba(60, 64, 67, 0.3), 0px 1px 3px 1px rgba(60, 64, 67, 0.15);\n",
              "      fill: #174EA6;\n",
              "    }\n",
              "\n",
              "    .colab-df-buttons div {\n",
              "      margin-bottom: 4px;\n",
              "    }\n",
              "\n",
              "    [theme=dark] .colab-df-convert {\n",
              "      background-color: #3B4455;\n",
              "      fill: #D2E3FC;\n",
              "    }\n",
              "\n",
              "    [theme=dark] .colab-df-convert:hover {\n",
              "      background-color: #434B5C;\n",
              "      box-shadow: 0px 1px 3px 1px rgba(0, 0, 0, 0.15);\n",
              "      filter: drop-shadow(0px 1px 2px rgba(0, 0, 0, 0.3));\n",
              "      fill: #FFFFFF;\n",
              "    }\n",
              "  </style>\n",
              "\n",
              "    <script>\n",
              "      const buttonEl =\n",
              "        document.querySelector('#df-21f81e81-c381-4f37-9c95-8d95fe2f09c6 button.colab-df-convert');\n",
              "      buttonEl.style.display =\n",
              "        google.colab.kernel.accessAllowed ? 'block' : 'none';\n",
              "\n",
              "      async function convertToInteractive(key) {\n",
              "        const element = document.querySelector('#df-21f81e81-c381-4f37-9c95-8d95fe2f09c6');\n",
              "        const dataTable =\n",
              "          await google.colab.kernel.invokeFunction('convertToInteractive',\n",
              "                                                    [key], {});\n",
              "        if (!dataTable) return;\n",
              "\n",
              "        const docLinkHtml = 'Like what you see? Visit the ' +\n",
              "          '<a target=\"_blank\" href=https://colab.research.google.com/notebooks/data_table.ipynb>data table notebook</a>'\n",
              "          + ' to learn more about interactive tables.';\n",
              "        element.innerHTML = '';\n",
              "        dataTable['output_type'] = 'display_data';\n",
              "        await google.colab.output.renderOutput(dataTable, element);\n",
              "        const docLink = document.createElement('div');\n",
              "        docLink.innerHTML = docLinkHtml;\n",
              "        element.appendChild(docLink);\n",
              "      }\n",
              "    </script>\n",
              "  </div>\n",
              "\n",
              "\n",
              "<div id=\"df-95f9f84f-a2d4-4443-a485-84b9d996c514\">\n",
              "  <button class=\"colab-df-quickchart\" onclick=\"quickchart('df-95f9f84f-a2d4-4443-a485-84b9d996c514')\"\n",
              "            title=\"Suggest charts\"\n",
              "            style=\"display:none;\">\n",
              "\n",
              "<svg xmlns=\"http://www.w3.org/2000/svg\" height=\"24px\"viewBox=\"0 0 24 24\"\n",
              "     width=\"24px\">\n",
              "    <g>\n",
              "        <path d=\"M19 3H5c-1.1 0-2 .9-2 2v14c0 1.1.9 2 2 2h14c1.1 0 2-.9 2-2V5c0-1.1-.9-2-2-2zM9 17H7v-7h2v7zm4 0h-2V7h2v10zm4 0h-2v-4h2v4z\"/>\n",
              "    </g>\n",
              "</svg>\n",
              "  </button>\n",
              "\n",
              "<style>\n",
              "  .colab-df-quickchart {\n",
              "      --bg-color: #E8F0FE;\n",
              "      --fill-color: #1967D2;\n",
              "      --hover-bg-color: #E2EBFA;\n",
              "      --hover-fill-color: #174EA6;\n",
              "      --disabled-fill-color: #AAA;\n",
              "      --disabled-bg-color: #DDD;\n",
              "  }\n",
              "\n",
              "  [theme=dark] .colab-df-quickchart {\n",
              "      --bg-color: #3B4455;\n",
              "      --fill-color: #D2E3FC;\n",
              "      --hover-bg-color: #434B5C;\n",
              "      --hover-fill-color: #FFFFFF;\n",
              "      --disabled-bg-color: #3B4455;\n",
              "      --disabled-fill-color: #666;\n",
              "  }\n",
              "\n",
              "  .colab-df-quickchart {\n",
              "    background-color: var(--bg-color);\n",
              "    border: none;\n",
              "    border-radius: 50%;\n",
              "    cursor: pointer;\n",
              "    display: none;\n",
              "    fill: var(--fill-color);\n",
              "    height: 32px;\n",
              "    padding: 0;\n",
              "    width: 32px;\n",
              "  }\n",
              "\n",
              "  .colab-df-quickchart:hover {\n",
              "    background-color: var(--hover-bg-color);\n",
              "    box-shadow: 0 1px 2px rgba(60, 64, 67, 0.3), 0 1px 3px 1px rgba(60, 64, 67, 0.15);\n",
              "    fill: var(--button-hover-fill-color);\n",
              "  }\n",
              "\n",
              "  .colab-df-quickchart-complete:disabled,\n",
              "  .colab-df-quickchart-complete:disabled:hover {\n",
              "    background-color: var(--disabled-bg-color);\n",
              "    fill: var(--disabled-fill-color);\n",
              "    box-shadow: none;\n",
              "  }\n",
              "\n",
              "  .colab-df-spinner {\n",
              "    border: 2px solid var(--fill-color);\n",
              "    border-color: transparent;\n",
              "    border-bottom-color: var(--fill-color);\n",
              "    animation:\n",
              "      spin 1s steps(1) infinite;\n",
              "  }\n",
              "\n",
              "  @keyframes spin {\n",
              "    0% {\n",
              "      border-color: transparent;\n",
              "      border-bottom-color: var(--fill-color);\n",
              "      border-left-color: var(--fill-color);\n",
              "    }\n",
              "    20% {\n",
              "      border-color: transparent;\n",
              "      border-left-color: var(--fill-color);\n",
              "      border-top-color: var(--fill-color);\n",
              "    }\n",
              "    30% {\n",
              "      border-color: transparent;\n",
              "      border-left-color: var(--fill-color);\n",
              "      border-top-color: var(--fill-color);\n",
              "      border-right-color: var(--fill-color);\n",
              "    }\n",
              "    40% {\n",
              "      border-color: transparent;\n",
              "      border-right-color: var(--fill-color);\n",
              "      border-top-color: var(--fill-color);\n",
              "    }\n",
              "    60% {\n",
              "      border-color: transparent;\n",
              "      border-right-color: var(--fill-color);\n",
              "    }\n",
              "    80% {\n",
              "      border-color: transparent;\n",
              "      border-right-color: var(--fill-color);\n",
              "      border-bottom-color: var(--fill-color);\n",
              "    }\n",
              "    90% {\n",
              "      border-color: transparent;\n",
              "      border-bottom-color: var(--fill-color);\n",
              "    }\n",
              "  }\n",
              "</style>\n",
              "\n",
              "  <script>\n",
              "    async function quickchart(key) {\n",
              "      const quickchartButtonEl =\n",
              "        document.querySelector('#' + key + ' button');\n",
              "      quickchartButtonEl.disabled = true;  // To prevent multiple clicks.\n",
              "      quickchartButtonEl.classList.add('colab-df-spinner');\n",
              "      try {\n",
              "        const charts = await google.colab.kernel.invokeFunction(\n",
              "            'suggestCharts', [key], {});\n",
              "      } catch (error) {\n",
              "        console.error('Error during call to suggestCharts:', error);\n",
              "      }\n",
              "      quickchartButtonEl.classList.remove('colab-df-spinner');\n",
              "      quickchartButtonEl.classList.add('colab-df-quickchart-complete');\n",
              "    }\n",
              "    (() => {\n",
              "      let quickchartButtonEl =\n",
              "        document.querySelector('#df-95f9f84f-a2d4-4443-a485-84b9d996c514 button');\n",
              "      quickchartButtonEl.style.display =\n",
              "        google.colab.kernel.accessAllowed ? 'block' : 'none';\n",
              "    })();\n",
              "  </script>\n",
              "</div>\n",
              "\n",
              "    </div>\n",
              "  </div>\n"
            ],
            "application/vnd.google.colaboratory.module+javascript": "\n      import \"https://ssl.gstatic.com/colaboratory/data_table/881c4a0d49046431/data_table.js\";\n\n      const table = window.createDataTable({\n        data: [[{\n            'v': 1.0,\n            'f': \"1.0\",\n        },\n{\n            'v': 88301,\n            'f': \"88301\",\n        }],\n [{\n            'v': 2.0,\n            'f': \"2.0\",\n        },\n{\n            'v': 59690,\n            'f': \"59690\",\n        }],\n [{\n            'v': 3.0,\n            'f': \"3.0\",\n        },\n{\n            'v': 33143,\n            'f': \"33143\",\n        }],\n [{\n            'v': 4.0,\n            'f': \"4.0\",\n        },\n{\n            'v': 15687,\n            'f': \"15687\",\n        }],\n [{\n            'v': 5.0,\n            'f': \"5.0\",\n        },\n{\n            'v': 5151,\n            'f': \"5151\",\n        }],\n [{\n            'v': 6.0,\n            'f': \"6.0\",\n        },\n{\n            'v': 1926,\n            'f': \"1926\",\n        }],\n [{\n            'v': 7.0,\n            'f': \"7.0\",\n        },\n{\n            'v': 600,\n            'f': \"600\",\n        }],\n [{\n            'v': 8.0,\n            'f': \"8.0\",\n        },\n{\n            'v': 453,\n            'f': \"453\",\n        }],\n [{\n            'v': 9.0,\n            'f': \"9.0\",\n        },\n{\n            'v': 160,\n            'f': \"160\",\n        }],\n [{\n            'v': 10.0,\n            'f': \"10.0\",\n        },\n{\n            'v': 93,\n            'f': \"93\",\n        }],\n [{\n            'v': 11.0,\n            'f': \"11.0\",\n        },\n{\n            'v': 30,\n            'f': \"30\",\n        }],\n [{\n            'v': 12.0,\n            'f': \"12.0\",\n        },\n{\n            'v': 39,\n            'f': \"39\",\n        }],\n [{\n            'v': 13.0,\n            'f': \"13.0\",\n        },\n{\n            'v': 17,\n            'f': \"17\",\n        }],\n [{\n            'v': 14.0,\n            'f': \"14.0\",\n        },\n{\n            'v': 11,\n            'f': \"11\",\n        }],\n [{\n            'v': 15.0,\n            'f': \"15.0\",\n        },\n{\n            'v': 12,\n            'f': \"12\",\n        }],\n [{\n            'v': 16.0,\n            'f': \"16.0\",\n        },\n{\n            'v': 19,\n            'f': \"19\",\n        }],\n [{\n            'v': 17.0,\n            'f': \"17.0\",\n        },\n{\n            'v': 1,\n            'f': \"1\",\n        }],\n [{\n            'v': 18.0,\n            'f': \"18.0\",\n        },\n{\n            'v': 6,\n            'f': \"6\",\n        }],\n [{\n            'v': 19.0,\n            'f': \"19.0\",\n        },\n{\n            'v': 3,\n            'f': \"3\",\n        }],\n [{\n            'v': 20.0,\n            'f': \"20.0\",\n        },\n{\n            'v': 4,\n            'f': \"4\",\n        }],\n [{\n            'v': 21.0,\n            'f': \"21.0\",\n        },\n{\n            'v': 1,\n            'f': \"1\",\n        }],\n [{\n            'v': 23.0,\n            'f': \"23.0\",\n        },\n{\n            'v': 3,\n            'f': \"3\",\n        }],\n [{\n            'v': 24.0,\n            'f': \"24.0\",\n        },\n{\n            'v': 2,\n            'f': \"2\",\n        }],\n [{\n            'v': 25.0,\n            'f': \"25.0\",\n        },\n{\n            'v': 1,\n            'f': \"1\",\n        }],\n [{\n            'v': 26.0,\n            'f': \"26.0\",\n        },\n{\n            'v': 1,\n            'f': \"1\",\n        }],\n [{\n            'v': 32.0,\n            'f': \"32.0\",\n        },\n{\n            'v': 1,\n            'f': \"1\",\n        }],\n [{\n            'v': 50.0,\n            'f': \"50.0\",\n        },\n{\n            'v': 2,\n            'f': \"2\",\n        }]],\n        columns: [[\"number\", \"index\"], [\"number\", \"bedrooms\"]],\n        columnOptions: [{\"width\": \"1px\", \"className\": \"index_column\"}],\n        rowsPerPage: 25,\n        helpUrl: \"https://colab.research.google.com/notebooks/data_table.ipynb\",\n        suppressOutputScrolling: true,\n        minimumWidth: undefined,\n      });\n\n      function appendQuickchartButton(parentElement) {\n        let quickchartButtonContainerElement = document.createElement('div');\n        quickchartButtonContainerElement.innerHTML = `\n<div id=\"df-d63d2a8b-89ca-4644-8441-b5478a875476\">\n  <button class=\"colab-df-quickchart\" onclick=\"quickchart('df-d63d2a8b-89ca-4644-8441-b5478a875476')\"\n            title=\"Suggest charts\"\n            style=\"display:none;\">\n    \n<svg xmlns=\"http://www.w3.org/2000/svg\" height=\"24px\"viewBox=\"0 0 24 24\"\n     width=\"24px\">\n    <g>\n        <path d=\"M19 3H5c-1.1 0-2 .9-2 2v14c0 1.1.9 2 2 2h14c1.1 0 2-.9 2-2V5c0-1.1-.9-2-2-2zM9 17H7v-7h2v7zm4 0h-2V7h2v10zm4 0h-2v-4h2v4z\"/>\n    </g>\n</svg>\n  </button>\n  \n<style>\n  .colab-df-quickchart {\n      --bg-color: #E8F0FE;\n      --fill-color: #1967D2;\n      --hover-bg-color: #E2EBFA;\n      --hover-fill-color: #174EA6;\n      --disabled-fill-color: #AAA;\n      --disabled-bg-color: #DDD;\n  }\n\n  [theme=dark] .colab-df-quickchart {\n      --bg-color: #3B4455;\n      --fill-color: #D2E3FC;\n      --hover-bg-color: #434B5C;\n      --hover-fill-color: #FFFFFF;\n      --disabled-bg-color: #3B4455;\n      --disabled-fill-color: #666;\n  }\n\n  .colab-df-quickchart {\n    background-color: var(--bg-color);\n    border: none;\n    border-radius: 50%;\n    cursor: pointer;\n    display: none;\n    fill: var(--fill-color);\n    height: 32px;\n    padding: 0;\n    width: 32px;\n  }\n\n  .colab-df-quickchart:hover {\n    background-color: var(--hover-bg-color);\n    box-shadow: 0 1px 2px rgba(60, 64, 67, 0.3), 0 1px 3px 1px rgba(60, 64, 67, 0.15);\n    fill: var(--button-hover-fill-color);\n  }\n\n  .colab-df-quickchart-complete:disabled,\n  .colab-df-quickchart-complete:disabled:hover {\n    background-color: var(--disabled-bg-color);\n    fill: var(--disabled-fill-color);\n    box-shadow: none;\n  }\n\n  .colab-df-spinner {\n    border: 2px solid var(--fill-color);\n    border-color: transparent;\n    border-bottom-color: var(--fill-color);\n    animation:\n      spin 1s steps(1) infinite;\n  }\n\n  @keyframes spin {\n    0% {\n      border-color: transparent;\n      border-bottom-color: var(--fill-color);\n      border-left-color: var(--fill-color);\n    }\n    20% {\n      border-color: transparent;\n      border-left-color: var(--fill-color);\n      border-top-color: var(--fill-color);\n    }\n    30% {\n      border-color: transparent;\n      border-left-color: var(--fill-color);\n      border-top-color: var(--fill-color);\n      border-right-color: var(--fill-color);\n    }\n    40% {\n      border-color: transparent;\n      border-right-color: var(--fill-color);\n      border-top-color: var(--fill-color);\n    }\n    60% {\n      border-color: transparent;\n      border-right-color: var(--fill-color);\n    }\n    80% {\n      border-color: transparent;\n      border-right-color: var(--fill-color);\n      border-bottom-color: var(--fill-color);\n    }\n    90% {\n      border-color: transparent;\n      border-bottom-color: var(--fill-color);\n    }\n  }\n</style>\n\n  <script>\n    async function quickchart(key) {\n      const quickchartButtonEl =\n        document.querySelector('#' + key + ' button');\n      quickchartButtonEl.disabled = true;  // To prevent multiple clicks.\n      quickchartButtonEl.classList.add('colab-df-spinner');\n      try {\n        const charts = await google.colab.kernel.invokeFunction(\n            'suggestCharts', [key], {});\n      } catch (error) {\n        console.error('Error during call to suggestCharts:', error);\n      }\n      quickchartButtonEl.classList.remove('colab-df-spinner');\n      quickchartButtonEl.classList.add('colab-df-quickchart-complete');\n    }\n    (() => {\n      let quickchartButtonEl =\n        document.querySelector('#df-d63d2a8b-89ca-4644-8441-b5478a875476 button');\n      quickchartButtonEl.style.display =\n        google.colab.kernel.accessAllowed ? 'block' : 'none';\n    })();\n  </script>\n</div>`;\n        parentElement.appendChild(quickchartButtonContainerElement);\n      }\n\n      appendQuickchartButton(table);\n    "
          },
          "metadata": {},
          "execution_count": 7
        }
      ]
    },
    {
      "cell_type": "code",
      "source": [
        "\n",
        "DataFrame(df.beds.value_counts()).sort_index()"
      ],
      "metadata": {
        "id": "muk634Y_12nl"
      },
      "execution_count": null,
      "outputs": []
    },
    {
      "cell_type": "code",
      "source": [
        "## Remove Outlier that has 132 beds"
      ],
      "metadata": {
        "id": "4U1krt0I2klh"
      },
      "execution_count": null,
      "outputs": []
    },
    {
      "cell_type": "markdown",
      "source": [
        "### Create second version of obj_col_df:"
      ],
      "metadata": {
        "id": "8jKcBsOirNrI"
      }
    },
    {
      "cell_type": "markdown",
      "source": [
        "- Cut down `amenities` according to article\n",
        "- Slice numbers from `bathroom_text`\n",
        "- One-Hot Encode:\n",
        "  - `host_verifications`\n",
        "  - `property_type`\n",
        "  - `room_type`\n",
        "  - `amenities`\n",
        "  - `city`\n",
        "  - `state`"
      ],
      "metadata": {
        "id": "QnNO9yGod7VC"
      }
    },
    {
      "cell_type": "code",
      "source": [
        "boolean_cols"
      ],
      "metadata": {
        "id": "w080Jkm2wtHx"
      },
      "execution_count": null,
      "outputs": []
    },
    {
      "cell_type": "markdown",
      "source": [
        "# Pickle Cleaned Data:\n"
      ],
      "metadata": {
        "id": "_68zM57FclfA"
      }
    },
    {
      "cell_type": "code",
      "source": [
        "# df.to_pickle('clean_data.pkl')\n",
        "\n",
        "# df = pd.read_pickle(\"/content/drive/MyDrive/capstone_data/clean_data.pkl\")"
      ],
      "metadata": {
        "id": "Yc8rZsarcvgi"
      },
      "execution_count": null,
      "outputs": []
    },
    {
      "cell_type": "markdown",
      "source": [
        "# ROUGH baseline model"
      ],
      "metadata": {
        "id": "sexXzJh-bhWx"
      }
    },
    {
      "cell_type": "code",
      "source": [
        "df.info()"
      ],
      "metadata": {
        "id": "lSe2RDEHaf_M"
      },
      "execution_count": null,
      "outputs": []
    },
    {
      "cell_type": "code",
      "source": [
        "latitude                      274958 non-null  float64\n",
        "longitude                     274958 non-null  float64\n",
        "accommodates\n",
        "minimum_nights                274958 non-null  int64\n",
        "maximum_nights                274958 non-null  int64\n",
        "\n"
      ],
      "metadata": {
        "id": "7e1cXuMLbJEt"
      },
      "execution_count": null,
      "outputs": []
    },
    {
      "cell_type": "code",
      "source": [
        "shitty_first_cols = ['latitude', 'longitude', 'accommodates', 'minimum_nights', 'maximum_nights']\n",
        "X = df[shitty_first_cols]"
      ],
      "metadata": {
        "id": "aohfc8Eube3k"
      },
      "execution_count": null,
      "outputs": []
    },
    {
      "cell_type": "code",
      "source": [
        "df['price']"
      ],
      "metadata": {
        "id": "ZSq5SW8Ea27T"
      },
      "execution_count": null,
      "outputs": []
    },
    {
      "cell_type": "code",
      "source": [
        "y = df.price"
      ],
      "metadata": {
        "id": "OneM318Halmr"
      },
      "execution_count": null,
      "outputs": []
    },
    {
      "cell_type": "code",
      "source": [
        "shit_model = linear_model.LinearRegression()\n",
        "shit_model.fit(X, y)"
      ],
      "metadata": {
        "id": "bJQe2TsMa7MN"
      },
      "execution_count": null,
      "outputs": []
    },
    {
      "cell_type": "code",
      "source": [
        "print(shit_model.intercept_, shit_model.coef_, shit_model.score(X, y))"
      ],
      "metadata": {
        "id": "tIvbyWn6cuJp"
      },
      "execution_count": null,
      "outputs": []
    },
    {
      "cell_type": "markdown",
      "source": [
        "## Model R-squared value is 3.33%"
      ],
      "metadata": {
        "id": "vS7JHIaWc8Xy"
      }
    },
    {
      "cell_type": "code",
      "source": [],
      "metadata": {
        "id": "SvByC-eJc7yS"
      },
      "execution_count": null,
      "outputs": []
    },
    {
      "cell_type": "markdown",
      "source": [],
      "metadata": {
        "id": "9AhvCeCqd7RQ"
      }
    },
    {
      "cell_type": "markdown",
      "source": [],
      "metadata": {
        "id": "93K_MPjhd7Ni"
      }
    },
    {
      "cell_type": "markdown",
      "source": [],
      "metadata": {
        "id": "ejjf0Lqxd7Jo"
      }
    },
    {
      "cell_type": "markdown",
      "source": [],
      "metadata": {
        "id": "yNvi_cAtd7Gr"
      }
    },
    {
      "cell_type": "markdown",
      "source": [],
      "metadata": {
        "id": "fMepns8Rd7Da"
      }
    },
    {
      "cell_type": "markdown",
      "source": [],
      "metadata": {
        "id": "GNzMvcwWd6_p"
      }
    },
    {
      "cell_type": "markdown",
      "source": [],
      "metadata": {
        "id": "2XsJl6Mjd61p"
      }
    },
    {
      "cell_type": "markdown",
      "source": [],
      "metadata": {
        "id": "WzVjbz8Ed6pC"
      }
    },
    {
      "cell_type": "code",
      "source": [],
      "metadata": {
        "id": "G3w6iUI4YP_5"
      },
      "execution_count": null,
      "outputs": []
    },
    {
      "cell_type": "code",
      "source": [],
      "metadata": {
        "id": "LhskvydPYnG7"
      },
      "execution_count": null,
      "outputs": []
    }
  ],
  "metadata": {
    "colab": {
      "provenance": [],
      "toc_visible": true,
      "include_colab_link": true
    },
    "kernelspec": {
      "display_name": "Python 3",
      "name": "python3"
    },
    "language_info": {
      "codemirror_mode": {
        "name": "ipython",
        "version": 3
      },
      "file_extension": ".py",
      "mimetype": "text/x-python",
      "name": "python",
      "nbconvert_exporter": "python",
      "pygments_lexer": "ipython3",
      "version": "3.8.5"
    }
  },
  "nbformat": 4,
  "nbformat_minor": 0
}