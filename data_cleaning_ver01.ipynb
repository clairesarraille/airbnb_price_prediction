{
  "cells": [
    {
      "cell_type": "markdown",
      "metadata": {
        "colab_type": "text",
        "id": "view-in-github"
      },
      "source": [
        "<a href=\"https://colab.research.google.com/github/clairesarraille/airbnb_price_prediction/blob/main/dev_01.ipynb\" target=\"_parent\"><img src=\"https://colab.research.google.com/assets/colab-badge.svg\" alt=\"Open In Colab\"/></a>"
      ]
    },
    {
      "cell_type": "code",
      "execution_count": null,
      "metadata": {
        "id": "WJ9-VkbksIpH"
      },
      "outputs": [],
      "source": [
        "\n",
        "\n",
        "# Core Packages:\n",
        "import pandas as pd\n",
        "\n",
        "\"\"\"\n",
        "# Visualize Missing Data:\n",
        "import missingno as msno\n",
        "%matplotlib inline\n",
        "msno.matrix(collisions.sample(250))\n",
        "\"\"\"\n",
        "\n",
        "\"\"\"\n",
        "# Google Colab:\n",
        "from google.colab import data_table\n",
        "data_table.enable_dataframe_formatter()\n",
        "\"\"\"\n"
      ]
    },
    {
      "cell_type": "code",
      "execution_count": null,
      "metadata": {
        "colab": {
          "base_uri": "https://localhost:8080/",
          "height": 2033
        },
        "id": "_iKrS382sUow",
        "outputId": "ab9605e4-bd8c-4a3a-8733-369484a3a2f6"
      },
      "outputs": [],
      "source": [
        "#data_table.DataTable(df[['amenities', 'description']], include_index=False, num_rows_per_page=10)"
      ]
    },
    {
      "cell_type": "code",
      "execution_count": null,
      "metadata": {},
      "outputs": [],
      "source": [
        "# Import Pickled Data:\n",
        "all_airbnb_data_path = '/Users/claire/git/flatiron/capstone/airbnb_price_prediction/pickles/all_airbnb_data.pkl'\n",
        "all_airbnb_data = pd.read_pickle(all_airbnb_data_path)  \n",
        "all_airbnb_data.head(2)"
      ]
    },
    {
      "cell_type": "code",
      "execution_count": null,
      "metadata": {},
      "outputs": [],
      "source": [
        "# Make sure id column didn't revert to scientific notation for Los Angeles (this was a concern b/c file had macros)\n",
        "all_airbnb_data.loc[all_airbnb_data['city'] == 'Los-Angeles'].sort_values(by = 'id',ascending=False).head(3)"
      ]
    },
    {
      "cell_type": "code",
      "execution_count": null,
      "metadata": {},
      "outputs": [],
      "source": [
        "# Make sure id column didn't revert to scientific notation for Los Angeles (this was a concern b/c file had macros)\n",
        "all_airbnb_data.loc[all_airbnb_data['city'] == 'Pacific-Grove'].sort_values(by = 'id',ascending=False).head(3)"
      ]
    },
    {
      "cell_type": "markdown",
      "metadata": {},
      "source": [
        "## Check that all city names came in:"
      ]
    },
    {
      "cell_type": "code",
      "execution_count": null,
      "metadata": {},
      "outputs": [],
      "source": [
        "print(f\"Unique number of citites in this dataset: {len(all_airbnb_data['city'].unique())}\")\n",
        "print()\n",
        "for city in all_airbnb_data['city'].unique():\n",
        "    print(city)\n"
      ]
    },
    {
      "cell_type": "markdown",
      "metadata": {},
      "source": [
        "## Remove columns that don't add predictive value, or are irrelevant because brand-new listings created by first-time listers will be NULL when entered into model:\n",
        "- See \"data_understanding.ipynb\" for justifications to drop cols"
      ]
    },
    {
      "cell_type": "code",
      "execution_count": null,
      "metadata": {},
      "outputs": [],
      "source": [
        "### Columns To Keep:\n",
        "col_list = ['id', 'name', 'description', 'neighborhood_overview', 'host_location', 'host_about', 'host_neighbourhood', 'host_verifications', 'host_has_profile_pic', 'host_identity_verified', 'neighbourhood', 'neighbourhood_cleansed', 'neighbourhood_group_cleansed', 'latitude', 'longitude', 'property_type', 'room_type', 'accommodates', 'bathrooms', 'bathrooms_text', 'bedrooms', 'beds', 'amenities', 'price', 'minimum_nights', 'maximum_nights', 'has_availability', 'availability_30', 'availability_60', 'availability_90', 'availability_365', 'license', 'instant_bookable']"
      ]
    },
    {
      "cell_type": "code",
      "execution_count": null,
      "metadata": {},
      "outputs": [],
      "source": [
        "df_excerpt = all_airbnb_data[col_list]"
      ]
    },
    {
      "cell_type": "code",
      "execution_count": null,
      "metadata": {},
      "outputs": [],
      "source": [
        "df_excerpt.head(3)"
      ]
    },
    {
      "cell_type": "code",
      "execution_count": null,
      "metadata": {},
      "outputs": [],
      "source": []
    }
  ],
  "metadata": {
    "colab": {
      "include_colab_link": true,
      "provenance": []
    },
    "kernelspec": {
      "display_name": "Python 3",
      "name": "python3"
    },
    "language_info": {
      "codemirror_mode": {
        "name": "ipython",
        "version": 3
      },
      "file_extension": ".py",
      "mimetype": "text/x-python",
      "name": "python",
      "nbconvert_exporter": "python",
      "pygments_lexer": "ipython3",
      "version": "3.8.5"
    }
  },
  "nbformat": 4,
  "nbformat_minor": 0
}
